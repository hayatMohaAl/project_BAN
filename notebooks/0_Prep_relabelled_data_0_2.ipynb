{
 "cells": [
  {
   "cell_type": "markdown",
   "id": "5c6c0474",
   "metadata": {},
   "source": [
    "# Libraries"
   ]
  },
  {
   "cell_type": "code",
   "execution_count": null,
   "id": "3c409baf",
   "metadata": {
    "ExecuteTime": {
     "end_time": "2022-01-11T20:04:53.305026Z",
     "start_time": "2022-01-11T20:04:52.975322Z"
    }
   },
   "outputs": [],
   "source": [
    "import pandas as pd\n",
    "import numpy  as np\n",
    "import string \n",
    "import re\n",
    "\n",
    "import pickle\n",
    "import warnings\n",
    "warnings.filterwarnings('ignore')\n",
    "\n",
    "print('Done')\n",
    "\n"
   ]
  },
  {
   "cell_type": "markdown",
   "id": "3083fc22",
   "metadata": {},
   "source": [
    "# Help functions"
   ]
  },
  {
   "cell_type": "markdown",
   "id": "22bcf7af",
   "metadata": {},
   "source": [
    "## Optimize dataframe size"
   ]
  },
  {
   "cell_type": "code",
   "execution_count": 2,
   "id": "e5b1ce3a",
   "metadata": {
    "ExecuteTime": {
     "end_time": "2022-01-11T20:04:53.311809Z",
     "start_time": "2022-01-11T20:04:53.307730Z"
    }
   },
   "outputs": [],
   "source": [
    "def df_optimized(df, verbose=True, **kwargs):\n",
    "    \"\"\"\n",
    "    Reduces size of dataframe by downcasting numerical columns\n",
    "    :param df: input dataframe\n",
    "    :param verbose: print size reduction if set to True\n",
    "    :param kwargs:\n",
    "    :return:\n",
    "    \"\"\"\n",
    "    in_size = df.memory_usage(index=True).sum()\n",
    "    for type in [\"float\", \"integer\"]:\n",
    "        l_cols = list(df.select_dtypes(include=type))\n",
    "        for col in l_cols:\n",
    "            df[col] = pd.to_numeric(df[col], downcast=type)\n",
    "            if type == \"float\":\n",
    "                df[col] = pd.to_numeric(df[col], downcast=\"integer\")\n",
    "    out_size = df.memory_usage(index=True).sum()\n",
    "    ratio = (1 - round(out_size / in_size, 2)) * 100\n",
    "    GB = out_size / 1000000000\n",
    "    if verbose:\n",
    "        print(\"optimized size by {} % | {} GB\".format(ratio, GB))\n",
    "    return df\n"
   ]
  },
  {
   "cell_type": "markdown",
   "id": "e7628b17",
   "metadata": {},
   "source": [
    "## Over and undersample "
   ]
  },
  {
   "cell_type": "code",
   "execution_count": 3,
   "id": "55d5554f",
   "metadata": {
    "ExecuteTime": {
     "end_time": "2022-01-11T20:04:54.968203Z",
     "start_time": "2022-01-11T20:04:54.963172Z"
    }
   },
   "outputs": [],
   "source": [
    "# def sample_rows(df, undersample = True, oversample = False, proportion0_1= 0.5, N = 100000):\n",
    "#     n_ \n",
    "#     n_0 = N/\n",
    "#     if undersample == True:\n",
    "        \n",
    "#     return"
   ]
  },
  {
   "cell_type": "markdown",
   "id": "e037f602",
   "metadata": {},
   "source": [
    "## Clean and tokenize data"
   ]
  },
  {
   "cell_type": "code",
   "execution_count": 4,
   "id": "8d4d13e9",
   "metadata": {
    "ExecuteTime": {
     "end_time": "2022-01-11T20:04:56.148678Z",
     "start_time": "2022-01-11T20:04:56.134779Z"
    }
   },
   "outputs": [],
   "source": [
    "def clean_data(data, remove_special_char_2lower_case = True):\n",
    "    \n",
    "    #Removing URLs with a regular expression\n",
    "    url_pattern = re.compile(r'https?://\\S+|www\\.\\S+')\n",
    "    data = url_pattern.sub(r'', data)\n",
    "\n",
    "    # Remove Emails\n",
    "    data = re.sub('\\S*@\\S*\\s?', '', data)\n",
    "   \n",
    "    # tokenize + remove scpecial characters + set to lower case\n",
    "    if remove_special_char_2lower_case == True:\n",
    "        data = text_to_word_sequence(data) \n",
    "    else :\n",
    "    # tokenize \n",
    "        data = data.split() \n",
    "    \n",
    "    \n",
    "    # Remove stopwords\n",
    "    stop_words = set(stopwords.words('english')) \n",
    "    data = [w for w in data if not w in stop_words]         \n",
    "    \n",
    "    # Remove digits\n",
    "    data = ' '.join(word for word in data if not word.isdigit())\n",
    "    \n",
    "    \n",
    "    return text_to_word_sequence(data)\n",
    "\n",
    "def apply_data_cleaning(X, text, drop_text = False, remove_special_char_2lower_case = True):\n",
    "    ln = X.shape[0]\n",
    "    sentences = []\n",
    "    for i in range(ln):\n",
    "        tmp = X.iloc[i][f'{text}']\n",
    "        tmp_clean = clean_data(tmp,remove_special_char_2lower_case = f\"{remove_special_char_2lower_case}\")\n",
    "        sentences.append(tmp_clean)\n",
    "    X[\"sentences\"] = sentences\n",
    "    if drop_text == True:\n",
    "        X.drop(columns = f'{text}', inplace = True)\n",
    "    return X"
   ]
  },
  {
   "cell_type": "markdown",
   "id": "d6741c06",
   "metadata": {},
   "source": [
    "## Convert text to matrix"
   ]
  },
  {
   "cell_type": "code",
   "execution_count": 5,
   "id": "6cde8f1d",
   "metadata": {
    "ExecuteTime": {
     "end_time": "2022-01-11T20:04:57.406456Z",
     "start_time": "2022-01-11T20:04:57.403349Z"
    }
   },
   "outputs": [],
   "source": [
    "# Function to convert a sentence (list of words) into a matrix representing the words in the embedding space\n",
    "def embed_sentence_with_TF(word2vec, sentence):\n",
    "    embedded_sentence = []\n",
    "    for word in sentence:\n",
    "        if word in word2vec:\n",
    "            embedded_sentence.append(word2vec[word])\n",
    "        \n",
    "    return np.array(embedded_sentence)\n",
    "\n",
    "# Function that converts a list of sentences into a list of matrices\n",
    "def embedding(word2vec, sentences):\n",
    "    embed = []\n",
    "    \n",
    "    for sentence in sentences:\n",
    "        embedded_sentence = embed_sentence_with_TF(word2vec, sentence)\n",
    "        embed.append(embedded_sentence)\n",
    "        \n",
    "    return embed"
   ]
  },
  {
   "cell_type": "markdown",
   "id": "94884cdf",
   "metadata": {},
   "source": [
    "## Add numeric features to tensor"
   ]
  },
  {
   "cell_type": "code",
   "execution_count": 6,
   "id": "c3645692",
   "metadata": {
    "ExecuteTime": {
     "end_time": "2022-01-11T20:04:57.820262Z",
     "start_time": "2022-01-11T20:04:57.814994Z"
    }
   },
   "outputs": [],
   "source": [
    "def append_features_to_tensor(X_text, X_feature, _max ): #X_train_pad_2.max()\n",
    "\n",
    "    tmp = np.empty(shape=(X_text.shape[0],X_text.shape[1]+2, X_text.shape[2] ))\n",
    "    tmp[:,0:X_text.shape[1],:] = X_text\n",
    "\n",
    "    first_indices = X_text.shape[0] ## # of twitts \n",
    "    tmp_punct =  np.zeros(shape = (1,X_text.shape[2]))\n",
    "    tmp_cap = np.zeros(shape = (1,X_text.shape[2]))\n",
    "\n",
    "    for i in range(first_indices):\n",
    "        if X_feature.iloc[i,0] == 1:\n",
    "            tmp_punct =  tmp_punct*(_max+0.5)\n",
    "\n",
    "        if X_feature.iloc[i,1] == 1:\n",
    "            tmp_cap = tmp_cap*(_max+1)   \n",
    "\n",
    "        tmp[i,200,:] = tmp_punct\n",
    "        tmp[i,201,:] = tmp_cap\n",
    "\n",
    "    \n",
    "    return tmp"
   ]
  },
  {
   "cell_type": "markdown",
   "id": "8d36dfb3",
   "metadata": {},
   "source": [
    "## Plot learning curve \n",
    "! no need to package"
   ]
  },
  {
   "cell_type": "code",
   "execution_count": 7,
   "id": "1c638902",
   "metadata": {
    "ExecuteTime": {
     "end_time": "2022-01-11T20:04:58.730304Z",
     "start_time": "2022-01-11T20:04:58.725432Z"
    }
   },
   "outputs": [],
   "source": [
    "def plot_loss_score(history, title=None):\n",
    "    fig, ax = plt.subplots(1,2, figsize=(20,7))\n",
    "    \n",
    "    # --- LOSS --- \n",
    "    \n",
    "    ax[0].plot(history.history['loss'])\n",
    "    ax[0].plot(history.history['val_loss'])\n",
    "    ax[0].set_title('Model loss')\n",
    "    ax[0].set_ylabel('Loss')\n",
    "    ax[0].set_xlabel('Epoch')\n",
    "    ax[0].set_ylim((0,3))\n",
    "    ax[0].legend(['Train', 'Test'], loc='best')\n",
    "    ax[0].grid(axis=\"x\",linewidth=0.5)\n",
    "    ax[0].grid(axis=\"y\",linewidth=0.5)\n",
    "    \n",
    "    # --- ACCURACY\n",
    "    \n",
    "    ax[1].plot(history.history['recall'])\n",
    "    ax[1].plot(history.history['val_recall'])\n",
    "    ax[1].set_title('Model Recall')\n",
    "    ax[1].set_ylabel('recall')\n",
    "    ax[1].set_xlabel('Epoch')\n",
    "    ax[1].legend(['Train', 'Test'], loc='best')\n",
    "    ax[1].set_ylim((0,1))\n",
    "    ax[1].grid(axis=\"x\",linewidth=0.5)\n",
    "    ax[1].grid(axis=\"y\",linewidth=0.5)\n",
    "    \n",
    "    if title:\n",
    "        fig.suptitle(title)"
   ]
  },
  {
   "cell_type": "markdown",
   "id": "2e2ef2d7",
   "metadata": {},
   "source": [
    "# Data load and prep"
   ]
  },
  {
   "cell_type": "markdown",
   "id": "7f41393d",
   "metadata": {},
   "source": [
    "## Load datasets"
   ]
  },
  {
   "cell_type": "code",
   "execution_count": 8,
   "id": "e32c934c",
   "metadata": {
    "ExecuteTime": {
     "end_time": "2022-01-11T20:05:09.812262Z",
     "start_time": "2022-01-11T20:05:07.517199Z"
    }
   },
   "outputs": [
    {
     "name": "stdout",
     "output_type": "stream",
     "text": [
      "optimized size by 43.99999999999999 % | 0.007264694 GB\n"
     ]
    },
    {
     "data": {
      "text/html": [
       "<div>\n",
       "<style scoped>\n",
       "    .dataframe tbody tr th:only-of-type {\n",
       "        vertical-align: middle;\n",
       "    }\n",
       "\n",
       "    .dataframe tbody tr th {\n",
       "        vertical-align: top;\n",
       "    }\n",
       "\n",
       "    .dataframe thead th {\n",
       "        text-align: right;\n",
       "    }\n",
       "</style>\n",
       "<table border=\"1\" class=\"dataframe\">\n",
       "  <thead>\n",
       "    <tr style=\"text-align: right;\">\n",
       "      <th></th>\n",
       "      <th>text</th>\n",
       "      <th>category</th>\n",
       "    </tr>\n",
       "  </thead>\n",
       "  <tbody>\n",
       "    <tr>\n",
       "      <th>0</th>\n",
       "      <td>Entitled, obnoxious, defensive, lying weasel. This thing is to make decisions that may affect my life? He is a women hater.</td>\n",
       "      <td>0</td>\n",
       "    </tr>\n",
       "    <tr>\n",
       "      <th>1</th>\n",
       "      <td>Thank you  and  for what you did for the women and survivors this week.  \\n</td>\n",
       "      <td>0</td>\n",
       "    </tr>\n",
       "    <tr>\n",
       "      <th>2</th>\n",
       "      <td>Knitting (s) &amp;amp; getting ready for January 19, 2019.</td>\n",
       "      <td>0</td>\n",
       "    </tr>\n",
       "    <tr>\n",
       "      <th>3</th>\n",
       "      <td>Yep just like triffeling women weaponized their poon!! Wonder if Kamala Harris ever extorted Willy Brown after throwing the poon on him, oh yeh, that how she got her first job me too is a JOKE!</td>\n",
       "      <td>1</td>\n",
       "    </tr>\n",
       "    <tr>\n",
       "      <th>4</th>\n",
       "      <td>No, the President wants to end  movement posing  as the  movement.</td>\n",
       "      <td>0</td>\n",
       "    </tr>\n",
       "  </tbody>\n",
       "</table>\n",
       "</div>"
      ],
      "text/plain": [
       "                                                                                                                                                                                                 text  \\\n",
       "0                                                                      Entitled, obnoxious, defensive, lying weasel. This thing is to make decisions that may affect my life? He is a women hater.      \n",
       "1                                                                                                                         Thank you  and  for what you did for the women and survivors this week.  \\n   \n",
       "2                                                                                                                                         Knitting (s) &amp; getting ready for January 19, 2019.        \n",
       "3  Yep just like triffeling women weaponized their poon!! Wonder if Kamala Harris ever extorted Willy Brown after throwing the poon on him, oh yeh, that how she got her first job me too is a JOKE!    \n",
       "4                                                                                                                                  No, the President wants to end  movement posing  as the  movement.   \n",
       "\n",
       "   category  \n",
       "0         0  \n",
       "1         0  \n",
       "2         0  \n",
       "3         1  \n",
       "4         0  "
      ]
     },
     "execution_count": 8,
     "metadata": {},
     "output_type": "execute_result"
    }
   ],
   "source": [
    "# load raw data\n",
    "pd.set_option('max_colwidth', None) \n",
    "df = pd.read_csv(\"~/Downloads/banData/MeTooHate.csv\")[[\"text\", \"category\"]]\n",
    "df = df_optimized(df, verbose=True)\n",
    "df.head()"
   ]
  },
  {
   "cell_type": "code",
   "execution_count": 9,
   "id": "df96cf3e",
   "metadata": {
    "ExecuteTime": {
     "end_time": "2022-01-11T20:05:09.887621Z",
     "start_time": "2022-01-11T20:05:09.813382Z"
    }
   },
   "outputs": [
    {
     "name": "stdout",
     "output_type": "stream",
     "text": [
      "optimized size by 0.0 % | 0.007264694 GB\n"
     ]
    },
    {
     "data": {
      "text/html": [
       "<div>\n",
       "<style scoped>\n",
       "    .dataframe tbody tr th:only-of-type {\n",
       "        vertical-align: middle;\n",
       "    }\n",
       "\n",
       "    .dataframe tbody tr th {\n",
       "        vertical-align: top;\n",
       "    }\n",
       "\n",
       "    .dataframe thead th {\n",
       "        text-align: right;\n",
       "    }\n",
       "</style>\n",
       "<table border=\"1\" class=\"dataframe\">\n",
       "  <thead>\n",
       "    <tr style=\"text-align: right;\">\n",
       "      <th></th>\n",
       "      <th>text</th>\n",
       "      <th>category</th>\n",
       "      <th>scoring_ponctuation</th>\n",
       "      <th>scoring_capital_word</th>\n",
       "      <th>scoring</th>\n",
       "      <th>relabelling</th>\n",
       "    </tr>\n",
       "  </thead>\n",
       "  <tbody>\n",
       "    <tr>\n",
       "      <th>3</th>\n",
       "      <td>Yep just like triffeling women weaponized their poon!! Wonder if Kamala Harris ever extorted Willy Brown after throwing the poon on him, oh yeh, that how she got her first job me too is a JOKE!</td>\n",
       "      <td>1</td>\n",
       "      <td>0</td>\n",
       "      <td>3</td>\n",
       "      <td>3</td>\n",
       "      <td>1</td>\n",
       "    </tr>\n",
       "    <tr>\n",
       "      <th>7</th>\n",
       "      <td>Save it for Fox Fake News—watched by racists, bigots &amp;amp; other women-hating sexists like yourself. GOP is the party of Putin &amp;amp; the party of Hate—besides women, GOP hates all POC, immigrants, and all ppl not straight. You’re the party of the entitled lying whiny white men.</td>\n",
       "      <td>1</td>\n",
       "      <td>0</td>\n",
       "      <td>9</td>\n",
       "      <td>9</td>\n",
       "      <td>1</td>\n",
       "    </tr>\n",
       "    <tr>\n",
       "      <th>49</th>\n",
       "      <td>As a white male in this  era I'm just scared that if I decide to rape or sexually assault a woman, it can be used against me years later. How am I supposed to ask a girl out?!</td>\n",
       "      <td>1</td>\n",
       "      <td>0</td>\n",
       "      <td>6</td>\n",
       "      <td>6</td>\n",
       "      <td>1</td>\n",
       "    </tr>\n",
       "    <tr>\n",
       "      <th>57</th>\n",
       "      <td>I heard that  received some Shush/Slush money to settle rape charges by her aide who said she just could not remember where or when. . .</td>\n",
       "      <td>1</td>\n",
       "      <td>0</td>\n",
       "      <td>3</td>\n",
       "      <td>3</td>\n",
       "      <td>1</td>\n",
       "    </tr>\n",
       "    <tr>\n",
       "      <th>60</th>\n",
       "      <td>If she hasn't, it's because of people like you shaming her! How dare you tell her how she is or should be feeling! That is why I HATE  the  movement. Along with all of the other movements! You rape these people to further a political objective! You are despicable!</td>\n",
       "      <td>1</td>\n",
       "      <td>0</td>\n",
       "      <td>6</td>\n",
       "      <td>6</td>\n",
       "      <td>1</td>\n",
       "    </tr>\n",
       "  </tbody>\n",
       "</table>\n",
       "</div>"
      ],
      "text/plain": [
       "                                                                                                                                                                                                                                                                                      text  \\\n",
       "3                                                                                       Yep just like triffeling women weaponized their poon!! Wonder if Kamala Harris ever extorted Willy Brown after throwing the poon on him, oh yeh, that how she got her first job me too is a JOKE!    \n",
       "7   Save it for Fox Fake News—watched by racists, bigots &amp; other women-hating sexists like yourself. GOP is the party of Putin &amp; the party of Hate—besides women, GOP hates all POC, immigrants, and all ppl not straight. You’re the party of the entitled lying whiny white men.   \n",
       "49                                                                                                         As a white male in this  era I'm just scared that if I decide to rape or sexually assault a woman, it can be used against me years later. How am I supposed to ask a girl out?!   \n",
       "57                                                                                                                                                I heard that  received some Shush/Slush money to settle rape charges by her aide who said she just could not remember where or when. . .   \n",
       "60                If she hasn't, it's because of people like you shaming her! How dare you tell her how she is or should be feeling! That is why I HATE  the  movement. Along with all of the other movements! You rape these people to further a political objective! You are despicable!   \n",
       "\n",
       "    category  scoring_ponctuation  scoring_capital_word  scoring  relabelling  \n",
       "3          1                    0                     3        3            1  \n",
       "7          1                    0                     9        9            1  \n",
       "49         1                    0                     6        6            1  \n",
       "57         1                    0                     3        3            1  \n",
       "60         1                    0                     6        6            1  "
      ]
     },
     "execution_count": 9,
     "metadata": {},
     "output_type": "execute_result"
    }
   ],
   "source": [
    "# load re-labeled data\n",
    "with open('../raw_data/filter_df', 'rb') as handle:\n",
    "    filter_df = pickle.load(handle)\n",
    "filter = df_optimized(df, verbose=True)\n",
    "filter_df.head()"
   ]
  },
  {
   "cell_type": "markdown",
   "id": "591214f6",
   "metadata": {},
   "source": [
    "## Prep label 2"
   ]
  },
  {
   "cell_type": "code",
   "execution_count": 10,
   "id": "ed5dfd2f",
   "metadata": {
    "ExecuteTime": {
     "end_time": "2022-01-11T20:05:16.101521Z",
     "start_time": "2022-01-11T20:05:16.041173Z"
    }
   },
   "outputs": [
    {
     "data": {
      "text/html": [
       "<div>\n",
       "<style scoped>\n",
       "    .dataframe tbody tr th:only-of-type {\n",
       "        vertical-align: middle;\n",
       "    }\n",
       "\n",
       "    .dataframe tbody tr th {\n",
       "        vertical-align: top;\n",
       "    }\n",
       "\n",
       "    .dataframe thead th {\n",
       "        text-align: right;\n",
       "    }\n",
       "</style>\n",
       "<table border=\"1\" class=\"dataframe\">\n",
       "  <thead>\n",
       "    <tr style=\"text-align: right;\">\n",
       "      <th></th>\n",
       "      <th>text</th>\n",
       "      <th>label</th>\n",
       "      <th>score_punctuation</th>\n",
       "      <th>score_capital_word</th>\n",
       "    </tr>\n",
       "  </thead>\n",
       "  <tbody>\n",
       "    <tr>\n",
       "      <th>78</th>\n",
       "      <td>Trust me...Not like I did. I'm 61 &amp;amp; to this day I cringe at some of the shit I did. I never sexually assaulted anyone. But, I did things that were flat out wrong under . If I ran into any ladies from 40 years ago, I'd take a knee to apologize. Kavanaugh needs to do same.</td>\n",
       "      <td>2</td>\n",
       "      <td>0</td>\n",
       "      <td>1</td>\n",
       "    </tr>\n",
       "    <tr>\n",
       "      <th>200</th>\n",
       "      <td>BELIEVE HER!!!!!!!!!!!!!!!!!!!!!!!!!!!!  !!!!!!!!!!!!!!!! BELIEVE BELIEVE BELIEVE!!!!!!!!  \\n\\nYou fucking hypocrite loser</td>\n",
       "      <td>2</td>\n",
       "      <td>1</td>\n",
       "      <td>1</td>\n",
       "    </tr>\n",
       "    <tr>\n",
       "      <th>233</th>\n",
       "      <td>I used to dream of marrying a nice man and living happily ever after, like the romance books.\\nNow I dream of having a fantastic job, a lovely home and children. I don’t need a spouse to make me happy, I can learn how to do it on my own.\\n\\nThat’s what my own  events have done</td>\n",
       "      <td>2</td>\n",
       "      <td>0</td>\n",
       "      <td>1</td>\n",
       "    </tr>\n",
       "    <tr>\n",
       "      <th>340</th>\n",
       "      <td>IT’S AS IF  ISN’T REALLY ABOUT FAIRNESS AND EQUALITY AT ALL: “If your friend says she wants to cut off every dick in a five mile radius, let her!”\\n\\n</td>\n",
       "      <td>2</td>\n",
       "      <td>0</td>\n",
       "      <td>1</td>\n",
       "    </tr>\n",
       "    <tr>\n",
       "      <th>538</th>\n",
       "      <td>Partial checklist for women before leaving the house:\\n1. dress 2 tight?\\n2. breasts 2 big/2 obvious?\\n3. ass 2 curvy?\\n4. skirt 2 short/2 sexy?\\n5. hair 2 seductive?\\n6. make-up 2 sexy?\\n7. Will I b harassed?\\n8. Are you ready, Girl?\\nMen:\\n1. Did I pee?\\n</td>\n",
       "      <td>2</td>\n",
       "      <td>0</td>\n",
       "      <td>1</td>\n",
       "    </tr>\n",
       "  </tbody>\n",
       "</table>\n",
       "</div>"
      ],
      "text/plain": [
       "                                                                                                                                                                                                                                                                                      text  \\\n",
       "78     Trust me...Not like I did. I'm 61 &amp; to this day I cringe at some of the shit I did. I never sexually assaulted anyone. But, I did things that were flat out wrong under . If I ran into any ladies from 40 years ago, I'd take a knee to apologize. Kavanaugh needs to do same.   \n",
       "200                                                                                                                                                            BELIEVE HER!!!!!!!!!!!!!!!!!!!!!!!!!!!!  !!!!!!!!!!!!!!!! BELIEVE BELIEVE BELIEVE!!!!!!!!  \\n\\nYou fucking hypocrite loser    \n",
       "233  I used to dream of marrying a nice man and living happily ever after, like the romance books.\\nNow I dream of having a fantastic job, a lovely home and children. I don’t need a spouse to make me happy, I can learn how to do it on my own.\\n\\nThat’s what my own  events have done   \n",
       "340                                                                                                                                 IT’S AS IF  ISN’T REALLY ABOUT FAIRNESS AND EQUALITY AT ALL: “If your friend says she wants to cut off every dick in a five mile radius, let her!”\\n\\n   \n",
       "538                     Partial checklist for women before leaving the house:\\n1. dress 2 tight?\\n2. breasts 2 big/2 obvious?\\n3. ass 2 curvy?\\n4. skirt 2 short/2 sexy?\\n5. hair 2 seductive?\\n6. make-up 2 sexy?\\n7. Will I b harassed?\\n8. Are you ready, Girl?\\nMen:\\n1. Did I pee?\\n    \n",
       "\n",
       "     label  score_punctuation  score_capital_word  \n",
       "78       2                  0                   1  \n",
       "200      2                  1                   1  \n",
       "233      2                  0                   1  \n",
       "340      2                  0                   1  \n",
       "538      2                  0                   1  "
      ]
     },
     "execution_count": 10,
     "metadata": {},
     "output_type": "execute_result"
    }
   ],
   "source": [
    "# Prep df2 -data with new label 2\n",
    "df2 = filter_df[filter_df[\"relabelling\"]==2]\n",
    "df2[\"label\"] = df2[\"relabelling\"]\n",
    "score_punctuation = [score if score==0 else 1 for score in df2[\"scoring_ponctuation\"]]\n",
    "score_capital_word = [score if score==0 else 1 for score in df2[\"scoring_capital_word\"]]\n",
    "df2[\"score_punctuation\"] = score_punctuation\n",
    "df2[\"score_capital_word\"] = score_capital_word\n",
    "df2.drop(columns = [\"category\",\"scoring_ponctuation\",\"scoring_capital_word\",\"scoring\",\"relabelling\"], inplace = True)\n",
    "\n",
    "df2.columns == [\"text\",\"label\",\"score_punctuation\",\"score_capital_word\"]\n",
    "df2.head()"
   ]
  },
  {
   "cell_type": "markdown",
   "id": "41d44ff6",
   "metadata": {},
   "source": [
    "## Prep label 0"
   ]
  },
  {
   "cell_type": "code",
   "execution_count": 11,
   "id": "9a0dcd39",
   "metadata": {
    "ExecuteTime": {
     "end_time": "2022-01-11T20:05:18.210313Z",
     "start_time": "2022-01-11T20:05:18.012325Z"
    }
   },
   "outputs": [
    {
     "name": "stdout",
     "output_type": "stream",
     "text": [
      "(711840, 4)\n"
     ]
    },
    {
     "data": {
      "text/html": [
       "<div>\n",
       "<style scoped>\n",
       "    .dataframe tbody tr th:only-of-type {\n",
       "        vertical-align: middle;\n",
       "    }\n",
       "\n",
       "    .dataframe tbody tr th {\n",
       "        vertical-align: top;\n",
       "    }\n",
       "\n",
       "    .dataframe thead th {\n",
       "        text-align: right;\n",
       "    }\n",
       "</style>\n",
       "<table border=\"1\" class=\"dataframe\">\n",
       "  <thead>\n",
       "    <tr style=\"text-align: right;\">\n",
       "      <th></th>\n",
       "      <th>text</th>\n",
       "      <th>label</th>\n",
       "      <th>score_punctuation</th>\n",
       "      <th>score_capital_word</th>\n",
       "    </tr>\n",
       "  </thead>\n",
       "  <tbody>\n",
       "    <tr>\n",
       "      <th>119031</th>\n",
       "      <td>I know, Linda  is nothing but \\nCowardly Islamist!!\\nHiding behind Terrorists organization  Islam1 Brotherhood ! \\n\\nHey \\nWhat about sexual assault \\nBy Keith Ellison?\\nMinnesota police department officials refused to investigate!! Don't believe Woman!?</td>\n",
       "      <td>0</td>\n",
       "      <td>0</td>\n",
       "      <td>0</td>\n",
       "    </tr>\n",
       "    <tr>\n",
       "      <th>175057</th>\n",
       "      <td>At risk of being accused of mansplaining, please note that 2018 and 2016 are quite different:\\n* Nobody has spent the last 20 years vilifying Beto (like they did Hillary)\\n* The  movement started since then\\n* Kav showed that  doesn't care about women like nothing else has</td>\n",
       "      <td>0</td>\n",
       "      <td>0</td>\n",
       "      <td>0</td>\n",
       "    </tr>\n",
       "    <tr>\n",
       "      <th>677336</th>\n",
       "      <td>Bugbee &amp;amp; Conkle's  -</td>\n",
       "      <td>0</td>\n",
       "      <td>0</td>\n",
       "      <td>0</td>\n",
       "    </tr>\n",
       "    <tr>\n",
       "      <th>110744</th>\n",
       "      <td>Thanks to  I wouldn’t want to hire a woman  at all</td>\n",
       "      <td>0</td>\n",
       "      <td>0</td>\n",
       "      <td>0</td>\n",
       "    </tr>\n",
       "    <tr>\n",
       "      <th>484801</th>\n",
       "      <td>I don't know when  Jason figures out I'm NOT  in dating? As he keeps trying to persuade me by saying NOT all  are the  like the few  apples u've dated aka your   Sherri &amp;amp; that I should give</td>\n",
       "      <td>0</td>\n",
       "      <td>0</td>\n",
       "      <td>0</td>\n",
       "    </tr>\n",
       "  </tbody>\n",
       "</table>\n",
       "</div>"
      ],
      "text/plain": [
       "                                                                                                                                                                                                                                                                                      text  \\\n",
       "119031                      I know, Linda  is nothing but \\nCowardly Islamist!!\\nHiding behind Terrorists organization  Islam1 Brotherhood ! \\n\\nHey \\nWhat about sexual assault \\nBy Keith Ellison?\\nMinnesota police department officials refused to investigate!! Don't believe Woman!?   \n",
       "175057   At risk of being accused of mansplaining, please note that 2018 and 2016 are quite different:\\n* Nobody has spent the last 20 years vilifying Beto (like they did Hillary)\\n* The  movement started since then\\n* Kav showed that  doesn't care about women like nothing else has   \n",
       "677336                                                                                                                                                                                                                                                            Bugbee &amp; Conkle's  -   \n",
       "110744                                                                                                                                                                                                                                  Thanks to  I wouldn’t want to hire a woman  at all   \n",
       "484801                                                                                  I don't know when  Jason figures out I'm NOT  in dating? As he keeps trying to persuade me by saying NOT all  are the  like the few  apples u've dated aka your   Sherri &amp; that I should give    \n",
       "\n",
       "        label  score_punctuation  score_capital_word  \n",
       "119031      0                  0                   0  \n",
       "175057      0                  0                   0  \n",
       "677336      0                  0                   0  \n",
       "110744      0                  0                   0  \n",
       "484801      0                  0                   0  "
      ]
     },
     "execution_count": 11,
     "metadata": {},
     "output_type": "execute_result"
    }
   ],
   "source": [
    "# Rename category--> label and add score columns\n",
    "df0 = df[df[\"category\"]==0]\n",
    "df0[\"label\"] = df[\"category\"]\n",
    "df0.drop(columns =[\"category\"], inplace = True)\n",
    "df0[\"score_punctuation\"] = 0\n",
    "df0[\"score_capital_word\"] = 0\n",
    "#shuffle rows before sampling\n",
    "df0 = df0.sample(frac=1)\n",
    "print(df0.shape)\n",
    "\n",
    "df0.head()"
   ]
  },
  {
   "cell_type": "markdown",
   "id": "01b03770",
   "metadata": {
    "heading_collapsed": true
   },
   "source": [
    "## Prep df with labels 0 and 2"
   ]
  },
  {
   "cell_type": "markdown",
   "id": "1008e6fd",
   "metadata": {},
   "source": [
    "## New df"
   ]
  },
  {
   "cell_type": "code",
   "execution_count": 12,
   "id": "1ee627d9",
   "metadata": {
    "ExecuteTime": {
     "end_time": "2022-01-11T20:05:22.828395Z",
     "start_time": "2022-01-11T20:05:22.621966Z"
    }
   },
   "outputs": [
    {
     "name": "stdout",
     "output_type": "stream",
     "text": [
      "(721931, 4)\n"
     ]
    }
   ],
   "source": [
    "# new df\n",
    "DF = pd.concat([df0, df2], axis = 0)\n",
    "# # reshuffle and set index\n",
    "DF = DF.sample(frac=1)\n",
    "print(DF.shape)\n",
    "DF.reset_index(inplace = True)\n",
    "\n",
    "DF= DF[[\"text\",\"label\",\"score_punctuation\",\"score_capital_word\"]]\n",
    "assert(DF.shape[0]== df0.shape[0]+df2.shape[0])\n",
    "assert(DF.shape[1]== 4)"
   ]
  },
  {
   "cell_type": "code",
   "execution_count": 13,
   "id": "ce272094",
   "metadata": {
    "ExecuteTime": {
     "end_time": "2022-01-11T20:05:23.104406Z",
     "start_time": "2022-01-11T20:05:23.096442Z"
    }
   },
   "outputs": [
    {
     "data": {
      "text/html": [
       "<div>\n",
       "<style scoped>\n",
       "    .dataframe tbody tr th:only-of-type {\n",
       "        vertical-align: middle;\n",
       "    }\n",
       "\n",
       "    .dataframe tbody tr th {\n",
       "        vertical-align: top;\n",
       "    }\n",
       "\n",
       "    .dataframe thead th {\n",
       "        text-align: right;\n",
       "    }\n",
       "</style>\n",
       "<table border=\"1\" class=\"dataframe\">\n",
       "  <thead>\n",
       "    <tr style=\"text-align: right;\">\n",
       "      <th></th>\n",
       "      <th>text</th>\n",
       "      <th>label</th>\n",
       "      <th>score_punctuation</th>\n",
       "      <th>score_capital_word</th>\n",
       "    </tr>\n",
       "  </thead>\n",
       "  <tbody>\n",
       "    <tr>\n",
       "      <th>0</th>\n",
       "      <td>Correct . If someone want to know power of HashTag, ask Nana - Alok Nath - Chetan Bhagat - Anu Malllik..</td>\n",
       "      <td>0</td>\n",
       "      <td>0</td>\n",
       "      <td>0</td>\n",
       "    </tr>\n",
       "    <tr>\n",
       "      <th>1</th>\n",
       "      <td>This guy is clearly quite ignorant of the  movement. 243 comments, and only myself and 1 other person identified this guy's colossal mistake in misusing the hashtag. !\\n</td>\n",
       "      <td>0</td>\n",
       "      <td>0</td>\n",
       "      <td>0</td>\n",
       "    </tr>\n",
       "    <tr>\n",
       "      <th>2</th>\n",
       "      <td>It was a grave mistake for you to ignore the pained testimony of Christine Blasey Ford.  - we will fund your opponent in 2020.</td>\n",
       "      <td>0</td>\n",
       "      <td>0</td>\n",
       "      <td>0</td>\n",
       "    </tr>\n",
       "    <tr>\n",
       "      <th>3</th>\n",
       "      <td>In another news, the victim refuses to file a formal complaint regarding her  allegations. \\n\\n</td>\n",
       "      <td>0</td>\n",
       "      <td>0</td>\n",
       "      <td>0</td>\n",
       "    </tr>\n",
       "    <tr>\n",
       "      <th>4</th>\n",
       "      <td>Headlines Are Here To Stay: It’s Not Just A ‘Women’s Issue’</td>\n",
       "      <td>0</td>\n",
       "      <td>0</td>\n",
       "      <td>0</td>\n",
       "    </tr>\n",
       "  </tbody>\n",
       "</table>\n",
       "</div>"
      ],
      "text/plain": [
       "                                                                                                                                                                        text  \\\n",
       "0                                                                  Correct . If someone want to know power of HashTag, ask Nana - Alok Nath - Chetan Bhagat - Anu Malllik..    \n",
       "1  This guy is clearly quite ignorant of the  movement. 243 comments, and only myself and 1 other person identified this guy's colossal mistake in misusing the hashtag. !\\n   \n",
       "2                                             It was a grave mistake for you to ignore the pained testimony of Christine Blasey Ford.  - we will fund your opponent in 2020.   \n",
       "3                                                                            In another news, the victim refuses to file a formal complaint regarding her  allegations. \\n\\n   \n",
       "4                                                                                                                Headlines Are Here To Stay: It’s Not Just A ‘Women’s Issue’   \n",
       "\n",
       "   label  score_punctuation  score_capital_word  \n",
       "0      0                  0                   0  \n",
       "1      0                  0                   0  \n",
       "2      0                  0                   0  \n",
       "3      0                  0                   0  \n",
       "4      0                  0                   0  "
      ]
     },
     "execution_count": 13,
     "metadata": {},
     "output_type": "execute_result"
    }
   ],
   "source": [
    "DF.head()\n"
   ]
  },
  {
   "cell_type": "markdown",
   "id": "c45d424d",
   "metadata": {},
   "source": [
    "### New df saved"
   ]
  },
  {
   "cell_type": "markdown",
   "id": "ed065692",
   "metadata": {},
   "source": [
    "# Replace emojis by text"
   ]
  },
  {
   "cell_type": "code",
   "execution_count": 14,
   "id": "55ebff2e",
   "metadata": {
    "ExecuteTime": {
     "end_time": "2022-01-11T20:05:25.290557Z",
     "start_time": "2022-01-11T20:05:25.286973Z"
    }
   },
   "outputs": [],
   "source": [
    "# DF = df_optimized(DF, verbose=True)\n",
    "# DF.dropna(inplace = True)\n",
    "# with open('../raw_data/DF', 'wb') as f1:\n",
    "#     pickle.dump(DF, f1)"
   ]
  }
 ],
 "metadata": {
  "kernelspec": {
   "display_name": "Python 3 (ipykernel)",
   "language": "python",
   "name": "python3"
  },
  "language_info": {
   "codemirror_mode": {
    "name": "ipython",
    "version": 3
   },
   "file_extension": ".py",
   "mimetype": "text/x-python",
   "name": "python",
   "nbconvert_exporter": "python",
   "pygments_lexer": "ipython3",
   "version": "3.8.12"
  },
  "nbTranslate": {
   "displayLangs": [
    "*"
   ],
   "hotkey": "alt-t",
   "langInMainMenu": true,
   "sourceLang": "en",
   "targetLang": "fr",
   "useGoogleTranslate": true
  },
  "toc": {
   "base_numbering": 1,
   "nav_menu": {},
   "number_sections": true,
   "sideBar": true,
   "skip_h1_title": false,
   "title_cell": "Table of Contents",
   "title_sidebar": "Contents",
   "toc_cell": false,
   "toc_position": {},
   "toc_section_display": true,
   "toc_window_display": true
  }
 },
 "nbformat": 4,
 "nbformat_minor": 5
}
