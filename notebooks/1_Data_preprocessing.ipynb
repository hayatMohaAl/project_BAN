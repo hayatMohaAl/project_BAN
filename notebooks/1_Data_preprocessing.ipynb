{
 "cells": [
  {
   "cell_type": "markdown",
   "id": "0d923a3d",
   "metadata": {},
   "source": [
    "# Libraries"
   ]
  },
  {
   "cell_type": "code",
   "execution_count": 1,
   "id": "465bbf60",
   "metadata": {
    "ExecuteTime": {
     "end_time": "2022-01-12T10:41:11.554567Z",
     "start_time": "2022-01-12T10:41:07.403424Z"
    }
   },
   "outputs": [
    {
     "name": "stderr",
     "output_type": "stream",
     "text": [
      "2022-01-12 11:41:09.660232: W tensorflow/stream_executor/platform/default/dso_loader.cc:64] Could not load dynamic library 'libcudart.so.11.0'; dlerror: libcudart.so.11.0: cannot open shared object file: No such file or directory\n",
      "2022-01-12 11:41:09.660248: I tensorflow/stream_executor/cuda/cudart_stub.cc:29] Ignore above cudart dlerror if you do not have a GPU set up on your machine.\n"
     ]
    },
    {
     "name": "stdout",
     "output_type": "stream",
     "text": [
      "Done\n"
     ]
    }
   ],
   "source": [
    "import pandas as pd\n",
    "import numpy  as np\n",
    "import string \n",
    "import re\n",
    "import itertools\n",
    "import matplotlib.pyplot as plt\n",
    "%matplotlib inline\n",
    "import seaborn as sns\n",
    "\n",
    "from collections import Counter\n",
    "from wordcloud import WordCloud\n",
    "from nltk.corpus import stopwords\n",
    "# import nltk\n",
    "# from nltk.corpus import wordnet\n",
    "# from nltk.stem import WordNetLemmatizer\n",
    "# #from nltk.tokenize.treebank import TreebankWordDetokenizer\n",
    "                                                                                                                                                                                                                                                                                                                                                                                                                                                                                                                                                                                                                                                                                                                                                                                                                                                                                                                                                                                                                                                                                                                                                                                                                                                                                                                                                                                                                                                                                                                                                                                                                                                                                                                                            \n",
    "#from nltk.corpus import stopwords\n",
    "\n",
    "from gensim.utils import simple_preprocess\n",
    "from gensim.models import Word2Vec\n",
    "import gensim.downloader as api\n",
    "\n",
    "from sklearn.model_selection import train_test_split\n",
    "from sklearn.metrics import confusion_matrix\n",
    "from sklearn.metrics import accuracy_score\n",
    "\n",
    "import spacy\n",
    "import pickle\n",
    "import warnings\n",
    "warnings.filterwarnings('ignore')\n",
    "import pickle\n",
    "\n",
    "from tensorflow.keras.preprocessing.text import text_to_word_sequence\n",
    "from tensorflow.keras.preprocessing.text import Tokenizer\n",
    "from tensorflow.keras.preprocessing.sequence import pad_sequences\n",
    "from tensorflow.keras import Sequential, layers\n",
    "from tensorflow.keras.callbacks import EarlyStopping\n",
    "\n",
    "from sklearn.utils import resample\n",
    "print('Done')\n"
   ]
  },
  {
   "cell_type": "markdown",
   "id": "00d43433",
   "metadata": {},
   "source": [
    "# Help functions"
   ]
  },
  {
   "cell_type": "markdown",
   "id": "c69b37a6",
   "metadata": {},
   "source": [
    "## Undersampling"
   ]
  },
  {
   "cell_type": "code",
   "execution_count": 2,
   "id": "15c67b12",
   "metadata": {
    "ExecuteTime": {
     "end_time": "2022-01-12T10:41:11.559556Z",
     "start_time": "2022-01-12T10:41:11.556154Z"
    }
   },
   "outputs": [],
   "source": [
    "def undersample(df, prop = 2):\n",
    "    \n",
    "    # get label 2\n",
    "    df2 = df[df[\"label\"]==2]\n",
    "    n2 = df2.shape[0]\n",
    "    \n",
    "    # get label 0\n",
    "    df0= df[df[\"label\"]==0]\n",
    "    df0 = df0.sample(frac=1)\n",
    "    \n",
    "    # sample from label 0\n",
    "    n0 = round(prop*n2)\n",
    "    df0_sample = df0.head(n0)\n",
    "    \n",
    "    # concatenate\n",
    "    df = pd.concat([df0_sample,df2], axis = 0)\n",
    "    df = df.sample(frac=1)\n",
    "    df.reset_index(inplace = True)\n",
    "    \n",
    "    assert(n0==prop*n2)\n",
    "    return df[[\"text\",\"score_punctuation\", \"score_capital_word\", \"label\"]]"
   ]
  },
  {
   "cell_type": "markdown",
   "id": "9d508f26",
   "metadata": {},
   "source": [
    "## Oversampling"
   ]
  },
  {
   "cell_type": "code",
   "execution_count": 3,
   "id": "5297fb70",
   "metadata": {
    "ExecuteTime": {
     "end_time": "2022-01-12T10:41:11.565741Z",
     "start_time": "2022-01-12T10:41:11.560827Z"
    }
   },
   "outputs": [],
   "source": [
    "def oversample(df, prop = 0.3 , seed = 123):\n",
    "    n = df.shape[0]\n",
    "    n2_new = round(prop*n) \n",
    "    \n",
    "    # get label 2\n",
    "    df2 = df[df[\"label\"]==2]\n",
    "    n2 = df2.shape[0]\n",
    "    n2_resample = n2_new - n2\n",
    "    if (n2_resample) < 0:\n",
    "        print(f\"WARNING: proportion {prop} already satisfied, DF unchanged\")\n",
    "    \n",
    "    else : \n",
    "        indices = list(range(n2))\n",
    "    \n",
    "        # resample from df2\n",
    "        indices_resample = resample(indices, replace=True, n_samples =n2_resample, random_state=f\"{seed}\")\n",
    "        df2_resample = df2.iloc[indices_resample]\n",
    "\n",
    "        df2_new = pd.concat([df2_resample, df2], axis =0)\n",
    "\n",
    "        df_new = pd.concat([df2_new, df[df[\"label\"]==0]], axis =0)\n",
    "        df = df_new\n",
    "    #assert(df2_new.shape[0]==prop*n)\n",
    "    df = df.sample(frac=1)\n",
    "    df.reset_index(inplace = True)\n",
    "    return df[[\"text\",\"score_punctuation\", \"score_capital_word\", \"label\"]]\n"
   ]
  },
  {
   "cell_type": "markdown",
   "id": "ac73ea6e",
   "metadata": {},
   "source": [
    "## Data cleaning and tokenizing function"
   ]
  },
  {
   "cell_type": "code",
   "execution_count": 4,
   "id": "3af859ed",
   "metadata": {
    "ExecuteTime": {
     "end_time": "2022-01-12T10:41:11.571770Z",
     "start_time": "2022-01-12T10:41:11.567977Z"
    }
   },
   "outputs": [],
   "source": [
    "# # clean each tweet\n",
    "# def clean_data(data, remove_special_char_2lower_case = True):\n",
    "    \n",
    "#     #Removing URLs with a regular expression\n",
    "#     url_pattern = re.compile(r'https?://\\S+|www\\.\\S+')\n",
    "#     data = url_pattern.sub(r'', data)\n",
    "\n",
    "#     # Remove Emails\n",
    "#     data = re.sub('\\S*@\\S*\\s?', '', data)\n",
    "   \n",
    "#     # tokenize + remove scpecial characters + set to lower case\n",
    "#     if remove_special_char_2lower_case == True:\n",
    "#         data = text_to_word_sequence(data) \n",
    "#     else :\n",
    "#     # tokenize \n",
    "#         data = data.split() \n",
    "    \n",
    "    \n",
    "#     # Remove stopwords\n",
    "#     stop_words = set(stopwords.words('english')) \n",
    "#     data = [w for w in data if not w in stop_words]         \n",
    "    \n",
    "#     # Remove digits\n",
    "#     data = ' '.join(word for word in data if not word.isdigit())\n",
    "    \n",
    "    \n",
    "#     return text_to_word_sequence(data)\n",
    "\n",
    "# # clean dataset\n",
    "# def apply_data_cleaning(X, text, drop_text = False, remove_special_char_2lower_case = True):\n",
    "#     ln = X.shape[0]\n",
    "#     sentences = []\n",
    "#     for i in range(ln):\n",
    "#         tmp = X.iloc[i][f'{text}']\n",
    "#         tmp_clean = clean_data(tmp,remove_special_char_2lower_case = f\"{remove_special_char_2lower_case}\")\n",
    "#         sentences.append(tmp_clean)\n",
    "#     X[\"sentences\"] = sentences\n",
    "#     if drop_text == True:\n",
    "#         X.drop(columns = f'{text}', inplace = True)\n",
    "#     return X"
   ]
  },
  {
   "cell_type": "code",
   "execution_count": 5,
   "id": "48ad55d7",
   "metadata": {
    "ExecuteTime": {
     "end_time": "2022-01-12T10:41:11.595730Z",
     "start_time": "2022-01-12T10:41:11.584292Z"
    }
   },
   "outputs": [],
   "source": [
    "def clean_data(data):\n",
    "    \n",
    "    #Removing URLs with a regular expression\n",
    "    url_pattern = re.compile(r'https?://\\S+|www\\.\\S+')\n",
    "    data = url_pattern.sub(r'', data)\n",
    "\n",
    "    # Remove Emails\n",
    "    data = re.sub('\\S*@\\S*\\s?', '', data)\n",
    "   \n",
    "    # tokenize + remove scpecial characters + set to lower case\n",
    "    data = text_to_word_sequence(data) \n",
    "    \n",
    "    \n",
    "    # Remove stopwords\n",
    "    stop_words = set(stopwords.words('english')) \n",
    "    data = [w for w in data if not w in stop_words]         \n",
    "    \n",
    "    # Remove digits\n",
    "    data = ' '.join(word for word in data if not word.isdigit())\n",
    "    \n",
    "    \n",
    "    return text_to_word_sequence(data)\n",
    "\n",
    "def apply_data_cleaning(X, text, drop_text = False):\n",
    "    ln = X.shape[0]\n",
    "    sentences = []\n",
    "    for i in range(ln):\n",
    "       # print (f\"{i}\")\n",
    "        tmp = X.iloc[i][f'{text}']\n",
    "        tmp_clean = clean_data(tmp)\n",
    "        sentences.append(tmp_clean)\n",
    "    X[\"sentences\"] = sentences\n",
    "    if drop_text == True:\n",
    "        X.drop(columns = f'{text}', inplace = True)\n",
    "    return X"
   ]
  },
  {
   "cell_type": "markdown",
   "id": "c909fb53",
   "metadata": {},
   "source": [
    "## Help function for Embedding"
   ]
  },
  {
   "cell_type": "code",
   "execution_count": 6,
   "id": "21cbc1bf",
   "metadata": {
    "ExecuteTime": {
     "end_time": "2022-01-12T10:41:11.608239Z",
     "start_time": "2022-01-12T10:41:11.599684Z"
    }
   },
   "outputs": [],
   "source": [
    "# Function to convert a sentence (list of words) into a matrix representing the words in the embedding space\n",
    "def embed_sentence_with_TF(word2vec, sentence):\n",
    "    embedded_sentence = []\n",
    "    for word in sentence:\n",
    "        if word in word2vec:\n",
    "            embedded_sentence.append(word2vec[word])\n",
    "        \n",
    "    return np.array(embedded_sentence)\n",
    "\n",
    "# Function that converts a list of sentences into a list of matrices\n",
    "def embedding(word2vec, sentences):\n",
    "    embed = []\n",
    "    \n",
    "    for sentence in sentences:\n",
    "        embedded_sentence = embed_sentence_with_TF(word2vec, sentence)\n",
    "        embed.append(embedded_sentence)\n",
    "        \n",
    "    return embed\n",
    "\n"
   ]
  },
  {
   "cell_type": "markdown",
   "id": "f96b88e2",
   "metadata": {},
   "source": [
    "# Help function adding features to embedding"
   ]
  },
  {
   "cell_type": "code",
   "execution_count": 7,
   "id": "476200f2",
   "metadata": {
    "ExecuteTime": {
     "end_time": "2022-01-12T10:41:11.622570Z",
     "start_time": "2022-01-12T10:41:11.611628Z"
    }
   },
   "outputs": [],
   "source": [
    "def append_features_to_tensor(X_text, X_feature, _max ):\n",
    "\n",
    "    tmp = np.empty(shape=(X_text.shape[0],X_text.shape[1]+2, X_text.shape[2] ))\n",
    "    tmp[:,0:X_text.shape[1],:] = X_text\n",
    "\n",
    "    first_indices = X_text.shape[0] ## # of twitts \n",
    "    tmp_punct =  np.zeros(shape = (1,X_text.shape[2]))\n",
    "    tmp_cap = np.zeros(shape = (1,X_text.shape[2]))\n",
    "\n",
    "    for i in range(first_indices):\n",
    "        if X_feature.iloc[i,0] == 1:\n",
    "            tmp_punct =  tmp_punct*(_max+0.5)\n",
    "\n",
    "        if X_feature.iloc[i,1] == 1:\n",
    "            tmp_cap = tmp_cap*(_max+1)   \n",
    "\n",
    "        tmp[i,200,:] = tmp_punct\n",
    "        tmp[i,201,:] = tmp_cap\n",
    "\n",
    "    \n",
    "    return tmp"
   ]
  },
  {
   "cell_type": "markdown",
   "id": "2ba5b895",
   "metadata": {},
   "source": [
    "# Data"
   ]
  },
  {
   "cell_type": "markdown",
   "id": "e63050ed",
   "metadata": {},
   "source": [
    "## Load re-labeled data"
   ]
  },
  {
   "cell_type": "code",
   "execution_count": 8,
   "id": "852722db",
   "metadata": {
    "ExecuteTime": {
     "end_time": "2022-01-12T10:41:12.140964Z",
     "start_time": "2022-01-12T10:41:11.624752Z"
    }
   },
   "outputs": [],
   "source": [
    "with open('../raw_data/DF', 'rb') as handle:\n",
    "    DF = pickle.load(handle)\n",
    "DF.dropna(inplace = True)"
   ]
  },
  {
   "cell_type": "markdown",
   "id": "a6946bb7",
   "metadata": {},
   "source": [
    "## Undersample"
   ]
  },
  {
   "cell_type": "code",
   "execution_count": 9,
   "id": "9e6cea58",
   "metadata": {
    "ExecuteTime": {
     "end_time": "2022-01-12T10:41:12.353546Z",
     "start_time": "2022-01-12T10:41:12.141951Z"
    }
   },
   "outputs": [
    {
     "data": {
      "text/plain": [
       "0    90819\n",
       "2    10091\n",
       "Name: label, dtype: int64"
      ]
     },
     "execution_count": 9,
     "metadata": {},
     "output_type": "execute_result"
    }
   ],
   "source": [
    "df = undersample(df= DF, prop = 9)\n",
    "df.shape\n",
    "df[\"label\"].value_counts()"
   ]
  },
  {
   "cell_type": "markdown",
   "id": "e6d31c95",
   "metadata": {},
   "source": [
    "## Oversample"
   ]
  },
  {
   "cell_type": "code",
   "execution_count": 10,
   "id": "0d35ff30",
   "metadata": {
    "ExecuteTime": {
     "end_time": "2022-01-12T10:41:12.357600Z",
     "start_time": "2022-01-12T10:41:12.355546Z"
    }
   },
   "outputs": [],
   "source": [
    "# df = oversample(df =df , prop = 0.3 , seed = 123)\n",
    "# df.shape\n",
    "# df[\"label\"].value_counts()"
   ]
  },
  {
   "cell_type": "markdown",
   "id": "3bf97f55",
   "metadata": {},
   "source": [
    "## SubSampling "
   ]
  },
  {
   "cell_type": "code",
   "execution_count": 11,
   "id": "67210a4b",
   "metadata": {
    "ExecuteTime": {
     "end_time": "2022-01-12T10:41:12.364547Z",
     "start_time": "2022-01-12T10:41:12.359166Z"
    }
   },
   "outputs": [
    {
     "data": {
      "text/plain": [
       "0    89\n",
       "2    11\n",
       "Name: label, dtype: int64"
      ]
     },
     "execution_count": 11,
     "metadata": {},
     "output_type": "execute_result"
    }
   ],
   "source": [
    "N =100\n",
    "df = df.head(N)\n",
    "df.label.value_counts()"
   ]
  },
  {
   "cell_type": "markdown",
   "id": "d61ae9f3",
   "metadata": {
    "ExecuteTime": {
     "end_time": "2022-01-11T20:19:51.670017Z",
     "start_time": "2022-01-11T20:19:51.664240Z"
    }
   },
   "source": [
    "# Data split train, test"
   ]
  },
  {
   "cell_type": "code",
   "execution_count": 12,
   "id": "c27ea20a",
   "metadata": {
    "ExecuteTime": {
     "end_time": "2022-01-12T10:41:12.379246Z",
     "start_time": "2022-01-12T10:41:12.365552Z"
    }
   },
   "outputs": [],
   "source": [
    "# Split in X, y\n",
    "X = df.copy() \n",
    "X.drop(columns = \"label\", inplace = True)\n",
    "y = df[\"label\"]\n",
    "\n",
    "# Train test split\n",
    "X_train, X_test, y_train, y_test = train_test_split(X, y, test_size = 0.20, random_state=42)\n",
    "assert(len(X_train)==len(y_train))\n",
    "assert(len(X_test)==len(y_test))\n",
    "assert(len(X_train)+len(X_test)==X.shape[0])\n",
    "\n",
    "# Split X into text and features\n",
    "X_train_text = X_train[[\"text\"]]\n",
    "X_test_text = X_test[[\"text\"]]\n",
    "\n",
    "X_train_features = X_train[[\"score_punctuation\", \"score_capital_word\"]]\n",
    "X_test_features = X_test[[\"score_punctuation\", \"score_capital_word\"]]\n",
    "\n"
   ]
  },
  {
   "cell_type": "code",
   "execution_count": 13,
   "id": "6fc0d630",
   "metadata": {
    "ExecuteTime": {
     "end_time": "2022-01-12T10:41:12.393400Z",
     "start_time": "2022-01-12T10:41:12.382754Z"
    }
   },
   "outputs": [
    {
     "name": "stdout",
     "output_type": "stream",
     "text": [
      "100\n",
      "80\n",
      "20\n"
     ]
    }
   ],
   "source": [
    "print(len(y))\n",
    "print(len(y_train))\n",
    "print(len(y_test))"
   ]
  },
  {
   "cell_type": "code",
   "execution_count": 14,
   "id": "8818b095",
   "metadata": {
    "ExecuteTime": {
     "end_time": "2022-01-12T10:41:12.409020Z",
     "start_time": "2022-01-12T10:41:12.399057Z"
    }
   },
   "outputs": [
    {
     "name": "stdout",
     "output_type": "stream",
     "text": [
      "(100, 3)\n",
      "(80, 3)\n",
      "(20, 3)\n"
     ]
    }
   ],
   "source": [
    "print(X.shape)\n",
    "print(X_train.shape)\n",
    "print(X_test.shape)"
   ]
  },
  {
   "cell_type": "code",
   "execution_count": 15,
   "id": "64f45336",
   "metadata": {
    "ExecuteTime": {
     "end_time": "2022-01-12T10:41:12.438407Z",
     "start_time": "2022-01-12T10:41:12.414143Z"
    }
   },
   "outputs": [
    {
     "data": {
      "text/html": [
       "<div>\n",
       "<style scoped>\n",
       "    .dataframe tbody tr th:only-of-type {\n",
       "        vertical-align: middle;\n",
       "    }\n",
       "\n",
       "    .dataframe tbody tr th {\n",
       "        vertical-align: top;\n",
       "    }\n",
       "\n",
       "    .dataframe thead th {\n",
       "        text-align: right;\n",
       "    }\n",
       "</style>\n",
       "<table border=\"1\" class=\"dataframe\">\n",
       "  <thead>\n",
       "    <tr style=\"text-align: right;\">\n",
       "      <th></th>\n",
       "      <th>text</th>\n",
       "      <th>score_punctuation</th>\n",
       "      <th>score_capital_word</th>\n",
       "    </tr>\n",
       "  </thead>\n",
       "  <tbody>\n",
       "    <tr>\n",
       "      <th>55</th>\n",
       "      <td>brought tears to  😉</td>\n",
       "      <td>0</td>\n",
       "      <td>0</td>\n",
       "    </tr>\n",
       "    <tr>\n",
       "      <th>88</th>\n",
       "      <td>Public enjoy it</td>\n",
       "      <td>0</td>\n",
       "      <td>0</td>\n",
       "    </tr>\n",
       "    <tr>\n",
       "      <th>26</th>\n",
       "      <td>Bill Cosby is in prison. But the first real  t...</td>\n",
       "      <td>0</td>\n",
       "      <td>0</td>\n",
       "    </tr>\n",
       "    <tr>\n",
       "      <th>42</th>\n",
       "      <td>Me: *walks to bus stop after work minding my o...</td>\n",
       "      <td>0</td>\n",
       "      <td>1</td>\n",
       "    </tr>\n",
       "    <tr>\n",
       "      <th>69</th>\n",
       "      <td>This dumb bitch reallycompared sheck Wes to r ...</td>\n",
       "      <td>0</td>\n",
       "      <td>0</td>\n",
       "    </tr>\n",
       "  </tbody>\n",
       "</table>\n",
       "</div>"
      ],
      "text/plain": [
       "                                                 text  score_punctuation  \\\n",
       "55                                brought tears to  😉                  0   \n",
       "88                                   Public enjoy it                   0   \n",
       "26  Bill Cosby is in prison. But the first real  t...                  0   \n",
       "42  Me: *walks to bus stop after work minding my o...                  0   \n",
       "69  This dumb bitch reallycompared sheck Wes to r ...                  0   \n",
       "\n",
       "    score_capital_word  \n",
       "55                   0  \n",
       "88                   0  \n",
       "26                   0  \n",
       "42                   1  \n",
       "69                   0  "
      ]
     },
     "execution_count": 15,
     "metadata": {},
     "output_type": "execute_result"
    }
   ],
   "source": [
    "X_train.head()"
   ]
  },
  {
   "cell_type": "code",
   "execution_count": 16,
   "id": "a29ca38c",
   "metadata": {
    "ExecuteTime": {
     "end_time": "2022-01-12T10:41:12.449804Z",
     "start_time": "2022-01-12T10:41:12.440048Z"
    }
   },
   "outputs": [
    {
     "data": {
      "text/html": [
       "<div>\n",
       "<style scoped>\n",
       "    .dataframe tbody tr th:only-of-type {\n",
       "        vertical-align: middle;\n",
       "    }\n",
       "\n",
       "    .dataframe tbody tr th {\n",
       "        vertical-align: top;\n",
       "    }\n",
       "\n",
       "    .dataframe thead th {\n",
       "        text-align: right;\n",
       "    }\n",
       "</style>\n",
       "<table border=\"1\" class=\"dataframe\">\n",
       "  <thead>\n",
       "    <tr style=\"text-align: right;\">\n",
       "      <th></th>\n",
       "      <th>text</th>\n",
       "      <th>score_punctuation</th>\n",
       "      <th>score_capital_word</th>\n",
       "    </tr>\n",
       "  </thead>\n",
       "  <tbody>\n",
       "    <tr>\n",
       "      <th>83</th>\n",
       "      <td>Molestation accused (  )  gets new job in  \\nW...</td>\n",
       "      <td>0</td>\n",
       "      <td>0</td>\n",
       "    </tr>\n",
       "    <tr>\n",
       "      <th>53</th>\n",
       "      <td>Ok I worded that wrong and didn’t mean just n...</td>\n",
       "      <td>0</td>\n",
       "      <td>0</td>\n",
       "    </tr>\n",
       "    <tr>\n",
       "      <th>70</th>\n",
       "      <td>Sir Philip Green named as man at centre of 'UK...</td>\n",
       "      <td>0</td>\n",
       "      <td>0</td>\n",
       "    </tr>\n",
       "    <tr>\n",
       "      <th>45</th>\n",
       "      <td>Has Foot Ball's  Movement Arrived?</td>\n",
       "      <td>0</td>\n",
       "      <td>0</td>\n",
       "    </tr>\n",
       "    <tr>\n",
       "      <th>44</th>\n",
       "      <td>Who are you trying to impress today?</td>\n",
       "      <td>0</td>\n",
       "      <td>0</td>\n",
       "    </tr>\n",
       "  </tbody>\n",
       "</table>\n",
       "</div>"
      ],
      "text/plain": [
       "                                                 text  score_punctuation  \\\n",
       "83  Molestation accused (  )  gets new job in  \\nW...                  0   \n",
       "53   Ok I worded that wrong and didn’t mean just n...                  0   \n",
       "70  Sir Philip Green named as man at centre of 'UK...                  0   \n",
       "45                 Has Foot Ball's  Movement Arrived?                  0   \n",
       "44               Who are you trying to impress today?                  0   \n",
       "\n",
       "    score_capital_word  \n",
       "83                   0  \n",
       "53                   0  \n",
       "70                   0  \n",
       "45                   0  \n",
       "44                   0  "
      ]
     },
     "execution_count": 16,
     "metadata": {},
     "output_type": "execute_result"
    }
   ],
   "source": [
    "X_test.head()"
   ]
  },
  {
   "cell_type": "markdown",
   "id": "9253cf99",
   "metadata": {
    "ExecuteTime": {
     "end_time": "2022-01-11T21:11:24.757485Z",
     "start_time": "2022-01-11T21:11:24.748902Z"
    }
   },
   "source": [
    "# Clean and tokenize text"
   ]
  },
  {
   "cell_type": "code",
   "execution_count": 17,
   "id": "d2e64cb8",
   "metadata": {
    "ExecuteTime": {
     "end_time": "2022-01-12T10:41:12.487355Z",
     "start_time": "2022-01-12T10:41:12.453323Z"
    }
   },
   "outputs": [],
   "source": [
    "# print(X_text.head())\n",
    "X_train_text = apply_data_cleaning(X = X_train_text, text = \"text\",drop_text = True)#, remove_special_char_2lower_case = True)\n",
    "X_test_text = apply_data_cleaning(X = X_test_text, text = \"text\", drop_text = True)#, remove_special_char_2lower_case = True)\n",
    "\n",
    "X_train_text = list(X_train_text.sentences)\n",
    "y_train = np.array(y)\n",
    "\n",
    "X_test_text = list(X_test_text.sentences)\n",
    "y_test = np.array(y)\n",
    "\n"
   ]
  },
  {
   "cell_type": "markdown",
   "id": "5a56f308",
   "metadata": {
    "ExecuteTime": {
     "end_time": "2022-01-11T21:25:31.541945Z",
     "start_time": "2022-01-11T21:25:31.516103Z"
    }
   },
   "source": [
    "# Embedding TF\n",
    "\n",
    "\n"
   ]
  },
  {
   "cell_type": "code",
   "execution_count": 18,
   "id": "20dd0543",
   "metadata": {
    "ExecuteTime": {
     "end_time": "2022-01-12T10:41:44.801596Z",
     "start_time": "2022-01-12T10:41:12.490036Z"
    }
   },
   "outputs": [],
   "source": [
    "#print(list(api.info()['models'].keys()))\n",
    "ll = ['fasttext-wiki-news-subwords-300',\n",
    " 'conceptnet-numberbatch-17-06-300', \n",
    " 'word2vec-ruscorpora-300', \n",
    " 'word2vec-google-news-300', \n",
    " 'glove-wiki-gigaword-50', \n",
    " 'glove-wiki-gigaword-100',\n",
    " 'glove-wiki-gigaword-200', \n",
    " 'glove-wiki-gigaword-300', \n",
    " 'glove-twitter-25', \n",
    " 'glove-twitter-50', \n",
    " 'glove-twitter-100', \n",
    " 'glove-twitter-200', \n",
    " '__testing_word2vec-matrix-synopsis']\n",
    "word2vec_transfer = api.load(\"glove-twitter-50\")"
   ]
  },
  {
   "cell_type": "code",
   "execution_count": 19,
   "id": "7e8bf12a",
   "metadata": {
    "ExecuteTime": {
     "end_time": "2022-01-12T10:41:44.811176Z",
     "start_time": "2022-01-12T10:41:44.802529Z"
    }
   },
   "outputs": [],
   "source": [
    "# Embed the training and test sentences\n",
    "X_train_embed_tf = embedding(word2vec_transfer, X_train_text)\n",
    "X_test_embed_tf = embedding(word2vec_transfer, X_test_text)\n",
    "\n",
    "# Pad the training and test embedded sentences\n",
    "X_train_pad = pad_sequences(X_train_embed_tf, dtype='float32', padding='post', maxlen=200)\n",
    "X_test_pad = pad_sequences(X_test_embed_tf, dtype='float32', padding='post', maxlen=200)"
   ]
  },
  {
   "cell_type": "markdown",
   "id": "a2353084",
   "metadata": {},
   "source": [
    "## Pickle and save embedded data "
   ]
  },
  {
   "cell_type": "code",
   "execution_count": 20,
   "id": "945235f4",
   "metadata": {
    "ExecuteTime": {
     "end_time": "2022-01-12T10:41:44.815782Z",
     "start_time": "2022-01-12T10:41:44.812426Z"
    }
   },
   "outputs": [
    {
     "name": "stdout",
     "output_type": "stream",
     "text": [
      "100\n",
      "100\n",
      "(80, 3)\n",
      "(20, 3)\n"
     ]
    }
   ],
   "source": [
    "print(len(y_train))\n",
    "print(len(y_test))\n",
    "\n",
    "print(X_train.shape)\n",
    "print(X_test.shape)"
   ]
  },
  {
   "cell_type": "code",
   "execution_count": 27,
   "id": "1470699e",
   "metadata": {
    "ExecuteTime": {
     "end_time": "2022-01-12T10:42:22.123172Z",
     "start_time": "2022-01-12T10:42:22.106323Z"
    }
   },
   "outputs": [],
   "source": [
    "# X_train\n",
    "with open('../raw_data/X_train_pad', 'wb') as f1:\n",
    "    pickle.dump(X_train_pad, f1)\n",
    "    \n",
    "# X_test\n",
    "with open('../raw_data/X_test_pad', 'wb') as f1:\n",
    "    pickle.dump(X_test_pad, f1)   \n",
    "    \n",
    "\n",
    "# y_train\n",
    "with open('../raw_data/y_train', 'wb') as f1:\n",
    "    pickle.dump(y_train, f1)\n",
    "    \n",
    "# y_test2\n",
    "with open('../raw_data/y_test', 'wb') as f1:\n",
    "    pickle.dump(y_test, f1)   "
   ]
  },
  {
   "cell_type": "markdown",
   "id": "91c3d0bf",
   "metadata": {},
   "source": [
    "# Add features to tensor"
   ]
  },
  {
   "cell_type": "code",
   "execution_count": 28,
   "id": "da415f26",
   "metadata": {
    "ExecuteTime": {
     "end_time": "2022-01-12T10:42:39.580206Z",
     "start_time": "2022-01-12T10:42:39.564478Z"
    }
   },
   "outputs": [],
   "source": [
    "X_train_pad_added_features = append_features_to_tensor(X_train_pad, \\\n",
    "                                                       X_feature = X_train_features, \\\n",
    "                                                       _max = X_train_pad.max())"
   ]
  },
  {
   "cell_type": "code",
   "execution_count": 29,
   "id": "c6c8f2bc",
   "metadata": {
    "ExecuteTime": {
     "end_time": "2022-01-12T10:42:40.117393Z",
     "start_time": "2022-01-12T10:42:40.108606Z"
    }
   },
   "outputs": [],
   "source": [
    "X_test_pad_added_features = append_features_to_tensor(X_test_pad, \\\n",
    "                                                       X_feature = X_test_features, \\\n",
    "                                                       _max = X_test_pad.max())"
   ]
  },
  {
   "cell_type": "markdown",
   "id": "61000c3b",
   "metadata": {},
   "source": [
    "# Pickle data"
   ]
  },
  {
   "cell_type": "code",
   "execution_count": null,
   "id": "6a89a15c",
   "metadata": {},
   "outputs": [],
   "source": [
    "\n",
    "    "
   ]
  },
  {
   "cell_type": "markdown",
   "id": "1ff35fc3",
   "metadata": {},
   "source": [
    "# Run model"
   ]
  },
  {
   "cell_type": "code",
   "execution_count": 49,
   "id": "72af6d34",
   "metadata": {
    "ExecuteTime": {
     "end_time": "2022-01-12T10:59:22.302419Z",
     "start_time": "2022-01-12T10:59:22.278775Z"
    }
   },
   "outputs": [],
   "source": [
    "def init_model():\n",
    "    model = Sequential()\n",
    "    model.add(layers.Masking())#, label =\"layer1_masking\")\n",
    "    model.add(layers.LSTM(20, activation='tanh'))#, label =\"layer2_LSTM\")\n",
    "    model.add(layers.Dense(15, activation='relu'))#, label =\"layer3_dense_relu\")\n",
    "    model.add(layers.Dense(1, activation='sigmoid'))#, label =\"layer4_dense_sigmoid\")\n",
    "\n",
    "    model.compile(loss='binary_crossentropy',\n",
    "                  optimizer='rmsprop',\n",
    "                  metrics=[\"Recall\"]) #['recall']) # tp/(tp+fn) metrics=[tf.keras.metrics.Recall()]\n",
    "    \n",
    "    return model\n",
    "\n",
    "model = init_model()\n"
   ]
  },
  {
   "cell_type": "code",
   "execution_count": 54,
   "id": "4d334724",
   "metadata": {
    "ExecuteTime": {
     "end_time": "2022-01-12T11:07:10.628771Z",
     "start_time": "2022-01-12T11:06:57.658669Z"
    }
   },
   "outputs": [
    {
     "name": "stdout",
     "output_type": "stream",
     "text": [
      "Epoch 1/100\n",
      "2/2 [==============================] - 8s 934ms/step - loss: 0.6598 - recall: 0.1250 - val_loss: 0.6096 - val_recall: 0.0000e+00\n",
      "Epoch 2/100\n",
      "2/2 [==============================] - 0s 94ms/step - loss: 0.6171 - recall: 0.0000e+00 - val_loss: 0.5886 - val_recall: 0.0000e+00\n",
      "Epoch 3/100\n",
      "2/2 [==============================] - 0s 88ms/step - loss: 0.5926 - recall: 0.0000e+00 - val_loss: 0.5730 - val_recall: 0.0000e+00\n",
      "Epoch 4/100\n",
      "2/2 [==============================] - 0s 92ms/step - loss: 0.5748 - recall: 0.0000e+00 - val_loss: 0.5583 - val_recall: 0.0000e+00\n",
      "Epoch 5/100\n",
      "2/2 [==============================] - 0s 91ms/step - loss: 0.5613 - recall: 0.0000e+00 - val_loss: 0.5537 - val_recall: 0.0000e+00\n",
      "Epoch 6/100\n",
      "2/2 [==============================] - 0s 92ms/step - loss: 0.5468 - recall: 0.0000e+00 - val_loss: 0.5473 - val_recall: 0.0000e+00\n",
      "Epoch 7/100\n",
      "2/2 [==============================] - 0s 93ms/step - loss: 0.5337 - recall: 0.0000e+00 - val_loss: 0.5397 - val_recall: 0.0000e+00\n",
      "Epoch 8/100\n",
      "2/2 [==============================] - 0s 93ms/step - loss: 0.5228 - recall: 0.2500 - val_loss: 0.5347 - val_recall: 0.0000e+00\n",
      "Epoch 9/100\n",
      "2/2 [==============================] - 0s 90ms/step - loss: 0.5107 - recall: 0.2500 - val_loss: 0.5256 - val_recall: 0.0000e+00\n",
      "Epoch 10/100\n",
      "2/2 [==============================] - 0s 92ms/step - loss: 0.5035 - recall: 0.1250 - val_loss: 0.5245 - val_recall: 0.0000e+00\n",
      "Epoch 11/100\n",
      "2/2 [==============================] - 0s 92ms/step - loss: 0.4859 - recall: 0.2500 - val_loss: 0.5168 - val_recall: 0.0000e+00\n",
      "Epoch 12/100\n",
      "2/2 [==============================] - 0s 91ms/step - loss: 0.4789 - recall: 0.2500 - val_loss: 0.5115 - val_recall: 0.0000e+00\n",
      "Epoch 13/100\n",
      "2/2 [==============================] - 0s 90ms/step - loss: 0.4626 - recall: 0.2500 - val_loss: 0.5086 - val_recall: 0.0000e+00\n",
      "Epoch 14/100\n",
      "2/2 [==============================] - 0s 91ms/step - loss: 0.4505 - recall: 0.2500 - val_loss: 0.5051 - val_recall: 0.0000e+00\n",
      "Epoch 15/100\n",
      "2/2 [==============================] - 0s 94ms/step - loss: 0.4394 - recall: 0.3750 - val_loss: 0.5023 - val_recall: 0.0000e+00\n",
      "Epoch 16/100\n",
      "2/2 [==============================] - 0s 98ms/step - loss: 0.4287 - recall: 0.3750 - val_loss: 0.5007 - val_recall: 0.0000e+00\n",
      "Epoch 17/100\n",
      "2/2 [==============================] - 0s 102ms/step - loss: 0.4142 - recall: 0.3750 - val_loss: 0.4983 - val_recall: 0.0000e+00\n",
      "Epoch 18/100\n",
      "2/2 [==============================] - 0s 152ms/step - loss: 0.4021 - recall: 0.3750 - val_loss: 0.4949 - val_recall: 0.0000e+00\n",
      "Epoch 19/100\n",
      "2/2 [==============================] - 0s 124ms/step - loss: 0.3894 - recall: 0.3750 - val_loss: 0.4968 - val_recall: 0.0000e+00\n",
      "Epoch 20/100\n",
      "2/2 [==============================] - 0s 89ms/step - loss: 0.3774 - recall: 0.3750 - val_loss: 0.4942 - val_recall: 0.0000e+00\n",
      "Epoch 21/100\n",
      "2/2 [==============================] - 0s 91ms/step - loss: 0.3628 - recall: 0.5000 - val_loss: 0.4967 - val_recall: 0.0000e+00\n",
      "Epoch 22/100\n",
      "2/2 [==============================] - 0s 89ms/step - loss: 0.3488 - recall: 0.5000 - val_loss: 0.4935 - val_recall: 0.0000e+00\n",
      "Epoch 23/100\n",
      "2/2 [==============================] - 0s 90ms/step - loss: 0.3430 - recall: 0.5000 - val_loss: 0.4936 - val_recall: 0.0000e+00\n",
      "Epoch 24/100\n",
      "2/2 [==============================] - 0s 96ms/step - loss: 0.3246 - recall: 0.6250 - val_loss: 0.4980 - val_recall: 0.0000e+00\n",
      "Epoch 25/100\n",
      "2/2 [==============================] - 0s 91ms/step - loss: 0.3099 - recall: 0.6250 - val_loss: 0.4978 - val_recall: 0.0000e+00\n",
      "Epoch 26/100\n",
      "2/2 [==============================] - 0s 99ms/step - loss: 0.2966 - recall: 0.6250 - val_loss: 0.4992 - val_recall: 0.3333\n",
      "Epoch 27/100\n",
      "2/2 [==============================] - 0s 96ms/step - loss: 0.2809 - recall: 0.6250 - val_loss: 0.5000 - val_recall: 0.3333\n",
      "Epoch 28/100\n",
      "2/2 [==============================] - 0s 87ms/step - loss: 0.2691 - recall: 0.6250 - val_loss: 0.4984 - val_recall: 0.3333\n",
      "Epoch 29/100\n",
      "2/2 [==============================] - 0s 91ms/step - loss: 0.2524 - recall: 0.6250 - val_loss: 0.5040 - val_recall: 0.3333\n",
      "Epoch 30/100\n",
      "2/2 [==============================] - 0s 91ms/step - loss: 0.2378 - recall: 0.6250 - val_loss: 0.5042 - val_recall: 0.3333\n",
      "Epoch 31/100\n",
      "2/2 [==============================] - 0s 90ms/step - loss: 0.2278 - recall: 0.7500 - val_loss: 0.5085 - val_recall: 0.3333\n",
      "Epoch 32/100\n",
      "2/2 [==============================] - 0s 89ms/step - loss: 0.2081 - recall: 1.0000 - val_loss: 0.5103 - val_recall: 0.3333\n"
     ]
    }
   ],
   "source": [
    "es = EarlyStopping(patience=10, restore_best_weights=True)\n",
    "#%%time\n",
    "history = model.fit(X_train_pad, y_train, \n",
    "          batch_size = 32,  # low --> optimizes on smaller ss --> faster --> but to generalize \n",
    "          epochs=100,\n",
    "          validation_split=0.3,\n",
    "          callbacks=[es]\n",
    "         )\n"
   ]
  },
  {
   "cell_type": "code",
   "execution_count": 46,
   "id": "e37ac25c",
   "metadata": {
    "ExecuteTime": {
     "end_time": "2022-01-12T10:58:43.784664Z",
     "start_time": "2022-01-12T10:58:36.139732Z"
    }
   },
   "outputs": [],
   "source": [
    "def plot_loss_recall(history, title=None):\n",
    "    fig, ax = plt.subplots(1,2, figsize=(20,7))\n",
    "    \n",
    "    # --- LOSS --- \n",
    "    \n",
    "    ax[0].plot(history.history['loss'])\n",
    "    ax[0].plot(history.history['val_loss'])\n",
    "    ax[0].set_title('Model loss')\n",
    "    ax[0].set_ylabel('Loss')\n",
    "    ax[0].set_xlabel('Epoch')\n",
    "    ax[0].set_ylim((0,3))\n",
    "    ax[0].legend(['Train', 'Test'], loc='best')\n",
    "    ax[0].grid(axis=\"x\",linewidth=0.5)\n",
    "    ax[0].grid(axis=\"y\",linewidth=0.5)\n",
    "    \n",
    "    # --- ACCURACY\n",
    "    \n",
    "    ax[1].plot(history.history['recall'])\n",
    "    ax[1].plot(history.history['val_recall'])\n",
    "    ax[1].set_title('Model Recall')\n",
    "    ax[1].set_ylabel('recall')\n",
    "    ax[1].set_xlabel('Epoch')\n",
    "    ax[1].legend(['Train', 'Test'], loc='best')\n",
    "    ax[1].set_ylim((0,1))\n",
    "    ax[1].grid(axis=\"x\",linewidth=0.5)\n",
    "    ax[1].grid(axis=\"y\",linewidth=0.5)\n",
    "    \n",
    "    if title:\n",
    "        fig.suptitle(title)"
   ]
  },
  {
   "cell_type": "code",
   "execution_count": 48,
   "id": "52a54948",
   "metadata": {
    "ExecuteTime": {
     "end_time": "2022-01-12T10:58:56.256005Z",
     "start_time": "2022-01-12T10:58:55.901964Z"
    }
   },
   "outputs": [
    {
     "data": {
      "image/png": "[encoded data removed]",
      "text/plain": [
       "<Figure size 1440x504 with 2 Axes>"
      ]
     },
     "metadata": {
      "needs_background": "light"
     },
     "output_type": "display_data"
    }
   ],
   "source": [
    "plot_loss_recall(model.history, title=None)"
   ]
  },
  {
   "cell_type": "markdown",
   "id": "50f3b4f4",
   "metadata": {},
   "source": [
    "## Select epoch and train"
   ]
  },
  {
   "cell_type": "code",
   "execution_count": null,
   "id": "00c369f6",
   "metadata": {},
   "outputs": [],
   "source": [
    "# Save the model\n",
    "filepath = './saved_model'\n",
    "save_model(model, filepath)\n",
    "model = load_model(filepath, compile = True)"
   ]
  },
  {
   "cell_type": "code",
   "execution_count": 51,
   "id": "71665e95",
   "metadata": {
    "ExecuteTime": {
     "end_time": "2022-01-12T11:04:09.961501Z",
     "start_time": "2022-01-12T11:03:56.549358Z"
    },
    "collapsed": true
   },
   "outputs": [
    {
     "name": "stdout",
     "output_type": "stream",
     "text": [
      "Epoch 1/32\n",
      "2/2 [==============================] - 5s 1s/step - loss: 0.7066 - recall: 0.5000 - val_loss: 0.6738 - val_recall: 0.6667\n",
      "Epoch 2/32\n",
      "2/2 [==============================] - 0s 136ms/step - loss: 0.6806 - recall: 0.1250 - val_loss: 0.6635 - val_recall: 0.3333\n",
      "Epoch 3/32\n",
      "2/2 [==============================] - 0s 122ms/step - loss: 0.6651 - recall: 0.2500 - val_loss: 0.6550 - val_recall: 0.3333\n",
      "Epoch 4/32\n",
      "2/2 [==============================] - 0s 135ms/step - loss: 0.6588 - recall: 0.1250 - val_loss: 0.6509 - val_recall: 0.3333\n",
      "Epoch 5/32\n",
      "2/2 [==============================] - 0s 133ms/step - loss: 0.6464 - recall: 0.1250 - val_loss: 0.6449 - val_recall: 0.3333\n",
      "Epoch 6/32\n",
      "2/2 [==============================] - 0s 126ms/step - loss: 0.6383 - recall: 0.1250 - val_loss: 0.6380 - val_recall: 0.3333\n",
      "Epoch 7/32\n",
      "2/2 [==============================] - 0s 129ms/step - loss: 0.6310 - recall: 0.1250 - val_loss: 0.6336 - val_recall: 0.3333\n",
      "Epoch 8/32\n",
      "2/2 [==============================] - 0s 128ms/step - loss: 0.6218 - recall: 0.1250 - val_loss: 0.6289 - val_recall: 0.3333\n",
      "Epoch 9/32\n",
      "2/2 [==============================] - 0s 118ms/step - loss: 0.6159 - recall: 0.1250 - val_loss: 0.6233 - val_recall: 0.3333\n",
      "Epoch 10/32\n",
      "2/2 [==============================] - 0s 245ms/step - loss: 0.6053 - recall: 0.1250 - val_loss: 0.6192 - val_recall: 0.3333\n",
      "Epoch 11/32\n",
      "2/2 [==============================] - 0s 319ms/step - loss: 0.5966 - recall: 0.1250 - val_loss: 0.6139 - val_recall: 0.3333\n",
      "Epoch 12/32\n",
      "2/2 [==============================] - 1s 315ms/step - loss: 0.5904 - recall: 0.1250 - val_loss: 0.6098 - val_recall: 0.3333\n",
      "Epoch 13/32\n",
      "2/2 [==============================] - 0s 122ms/step - loss: 0.5785 - recall: 0.1250 - val_loss: 0.6051 - val_recall: 0.3333\n",
      "Epoch 14/32\n",
      "2/2 [==============================] - 0s 138ms/step - loss: 0.5696 - recall: 0.2500 - val_loss: 0.6001 - val_recall: 0.3333\n",
      "Epoch 15/32\n",
      "2/2 [==============================] - 0s 149ms/step - loss: 0.5632 - recall: 0.2500 - val_loss: 0.5954 - val_recall: 0.3333\n",
      "Epoch 16/32\n",
      "2/2 [==============================] - 0s 134ms/step - loss: 0.5518 - recall: 0.1250 - val_loss: 0.5918 - val_recall: 0.3333\n",
      "Epoch 17/32\n",
      "2/2 [==============================] - 0s 147ms/step - loss: 0.5458 - recall: 0.3750 - val_loss: 0.5861 - val_recall: 0.3333\n",
      "Epoch 18/32\n",
      "2/2 [==============================] - 0s 126ms/step - loss: 0.5313 - recall: 0.2500 - val_loss: 0.5819 - val_recall: 0.3333\n",
      "Epoch 19/32\n",
      "2/2 [==============================] - 0s 233ms/step - loss: 0.5196 - recall: 0.3750 - val_loss: 0.5783 - val_recall: 0.3333\n",
      "Epoch 20/32\n",
      "2/2 [==============================] - 0s 153ms/step - loss: 0.5078 - recall: 0.3750 - val_loss: 0.5754 - val_recall: 0.3333\n",
      "Epoch 21/32\n",
      "2/2 [==============================] - 0s 133ms/step - loss: 0.4954 - recall: 0.3750 - val_loss: 0.5727 - val_recall: 0.3333\n",
      "Epoch 22/32\n",
      "2/2 [==============================] - 0s 134ms/step - loss: 0.4848 - recall: 0.3750 - val_loss: 0.5671 - val_recall: 0.3333\n",
      "Epoch 23/32\n",
      "2/2 [==============================] - 0s 129ms/step - loss: 0.4718 - recall: 0.3750 - val_loss: 0.5634 - val_recall: 0.3333\n",
      "Epoch 24/32\n",
      "2/2 [==============================] - 0s 137ms/step - loss: 0.4587 - recall: 0.3750 - val_loss: 0.5630 - val_recall: 0.3333\n",
      "Epoch 25/32\n",
      "2/2 [==============================] - 0s 136ms/step - loss: 0.4426 - recall: 0.3750 - val_loss: 0.5580 - val_recall: 0.3333\n",
      "Epoch 26/32\n",
      "2/2 [==============================] - 0s 128ms/step - loss: 0.4326 - recall: 0.3750 - val_loss: 0.5527 - val_recall: 0.3333\n",
      "Epoch 27/32\n",
      "2/2 [==============================] - 0s 133ms/step - loss: 0.4144 - recall: 0.3750 - val_loss: 0.5522 - val_recall: 0.3333\n",
      "Epoch 28/32\n",
      "2/2 [==============================] - 0s 149ms/step - loss: 0.4051 - recall: 0.5000 - val_loss: 0.5461 - val_recall: 0.3333\n",
      "Epoch 29/32\n",
      "2/2 [==============================] - 0s 218ms/step - loss: 0.3864 - recall: 0.3750 - val_loss: 0.5453 - val_recall: 0.3333\n",
      "Epoch 30/32\n",
      "2/2 [==============================] - 0s 225ms/step - loss: 0.3720 - recall: 0.6250 - val_loss: 0.5420 - val_recall: 0.3333\n",
      "Epoch 31/32\n",
      "2/2 [==============================] - 0s 116ms/step - loss: 0.3558 - recall: 0.6250 - val_loss: 0.5417 - val_recall: 0.3333\n",
      "Epoch 32/32\n",
      "2/2 [==============================] - 0s 136ms/step - loss: 0.3430 - recall: 0.6250 - val_loss: 0.5419 - val_recall: 0.3333\n"
     ]
    }
   ],
   "source": [
    "model = model.fit(X_train_pad, y_train, \n",
    "          batch_size = 32,  # low --> optimizes on smaller ss --> faster --> but to generalize \n",
    "          epochs= 32, #100,\n",
    "          validation_split=0.3)"
   ]
  },
  {
   "cell_type": "markdown",
   "id": "8436c0bd",
   "metadata": {},
   "source": [
    "# Predict from tweet"
   ]
  },
  {
   "cell_type": "code",
   "execution_count": 58,
   "id": "abe43078",
   "metadata": {
    "ExecuteTime": {
     "end_time": "2022-01-12T11:09:24.645711Z",
     "start_time": "2022-01-12T11:09:19.506003Z"
    },
    "collapsed": true
   },
   "outputs": [
    {
     "name": "stdout",
     "output_type": "stream",
     "text": [
      "Epoch 1/10\n",
      "2/2 [==============================] - 4s 820ms/step - loss: 0.6470 - recall: 0.1250 - val_loss: 0.6092 - val_recall: 0.3333\n",
      "Epoch 2/10\n",
      "2/2 [==============================] - 0s 89ms/step - loss: 0.6236 - recall: 0.1250 - val_loss: 0.5954 - val_recall: 0.3333\n",
      "Epoch 3/10\n",
      "2/2 [==============================] - 0s 95ms/step - loss: 0.6107 - recall: 0.1250 - val_loss: 0.5865 - val_recall: 0.3333\n",
      "Epoch 4/10\n",
      "2/2 [==============================] - 0s 93ms/step - loss: 0.6037 - recall: 0.1250 - val_loss: 0.5785 - val_recall: 0.3333\n",
      "Epoch 5/10\n",
      "2/2 [==============================] - 0s 99ms/step - loss: 0.5934 - recall: 0.1250 - val_loss: 0.5719 - val_recall: 0.3333\n",
      "Epoch 6/10\n",
      "2/2 [==============================] - 0s 93ms/step - loss: 0.5809 - recall: 0.1250 - val_loss: 0.5663 - val_recall: 0.3333\n",
      "Epoch 7/10\n",
      "2/2 [==============================] - 0s 102ms/step - loss: 0.5769 - recall: 0.1250 - val_loss: 0.5645 - val_recall: 0.3333\n",
      "Epoch 8/10\n",
      "2/2 [==============================] - 0s 93ms/step - loss: 0.5658 - recall: 0.1250 - val_loss: 0.5596 - val_recall: 0.3333\n",
      "Epoch 9/10\n",
      "2/2 [==============================] - 0s 91ms/step - loss: 0.5568 - recall: 0.1250 - val_loss: 0.5567 - val_recall: 0.3333\n",
      "Epoch 10/10\n",
      "2/2 [==============================] - 0s 95ms/step - loss: 0.5493 - recall: 0.1250 - val_loss: 0.5543 - val_recall: 0.3333\n"
     ]
    },
    {
     "data": {
      "text/plain": [
       "<keras.callbacks.History at 0x7f79774619d0>"
      ]
     },
     "execution_count": 58,
     "metadata": {},
     "output_type": "execute_result"
    }
   ],
   "source": [
    "model = init_model()\n",
    "model.fit(X_train_pad, y_train, \n",
    "          batch_size = 32,  # low --> optimizes on smaller ss --> faster --> but to generalize \n",
    "          epochs=10,\n",
    "          validation_split=0.3#,\n",
    "        #  callbacks=[es]\n",
    "         )"
   ]
  },
  {
   "cell_type": "code",
   "execution_count": 67,
   "id": "60c9ee62",
   "metadata": {
    "ExecuteTime": {
     "end_time": "2022-01-12T11:13:24.942416Z",
     "start_time": "2022-01-12T11:13:24.934992Z"
    }
   },
   "outputs": [
    {
     "data": {
      "text/plain": [
       "(2, 200, 50)"
      ]
     },
     "execution_count": 67,
     "metadata": {},
     "output_type": "execute_result"
    }
   ],
   "source": [
    "X_test_pad[0:2].shape\n",
    "#x_test =np.array()"
   ]
  },
  {
   "cell_type": "code",
   "execution_count": 69,
   "id": "0ea292b5",
   "metadata": {
    "ExecuteTime": {
     "end_time": "2022-01-12T11:15:03.972142Z",
     "start_time": "2022-01-12T11:15:03.963179Z"
    }
   },
   "outputs": [
    {
     "data": {
      "text/plain": [
       "(200, 50)"
      ]
     },
     "execution_count": 69,
     "metadata": {},
     "output_type": "execute_result"
    }
   ],
   "source": [
    "tweet = X_test_pad[0]\n",
    "tweet.shape"
   ]
  },
  {
   "cell_type": "code",
   "execution_count": 74,
   "id": "4c3a6d4c",
   "metadata": {
    "ExecuteTime": {
     "end_time": "2022-01-12T11:16:52.610988Z",
     "start_time": "2022-01-12T11:16:52.599797Z"
    }
   },
   "outputs": [
    {
     "data": {
      "text/plain": [
       "(1, 200, 50)"
      ]
     },
     "execution_count": 74,
     "metadata": {},
     "output_type": "execute_result"
    }
   ],
   "source": [
    "tweet_reshape = tweet.reshape((1,tweet.shape[0], tweet.shape[1]))\n",
    "tweet_reshape.shape"
   ]
  },
  {
   "cell_type": "code",
   "execution_count": 76,
   "id": "08a04b7a",
   "metadata": {
    "ExecuteTime": {
     "end_time": "2022-01-12T11:17:33.067892Z",
     "start_time": "2022-01-12T11:17:32.999769Z"
    }
   },
   "outputs": [
    {
     "data": {
      "text/plain": [
       "array([[0.43281996]], dtype=float32)"
      ]
     },
     "execution_count": 76,
     "metadata": {},
     "output_type": "execute_result"
    }
   ],
   "source": [
    "res = model.predict(tweet_reshape)\n",
    "res"
   ]
  },
  {
   "cell_type": "code",
   "execution_count": 79,
   "id": "84440241",
   "metadata": {
    "ExecuteTime": {
     "end_time": "2022-01-12T11:18:52.722716Z",
     "start_time": "2022-01-12T11:18:52.718353Z"
    }
   },
   "outputs": [
    {
     "name": "stdout",
     "output_type": "stream",
     "text": [
      "good tweet\n"
     ]
    }
   ],
   "source": [
    "if res[0][0]< 0.5:\n",
    "    print(\"good tweet\")\n",
    "else:\n",
    "    print(\"hate tweet\")"
   ]
  },
  {
   "cell_type": "code",
   "execution_count": 80,
   "id": "42e947b2",
   "metadata": {
    "ExecuteTime": {
     "end_time": "2022-01-12T11:19:54.501150Z",
     "start_time": "2022-01-12T11:19:54.489964Z"
    }
   },
   "outputs": [],
   "source": [
    "tweet = \"I hate it wtf !!!!\"\n",
    "#"
   ]
  },
  {
   "cell_type": "markdown",
   "id": "93b00e04",
   "metadata": {},
   "source": [
    "## Data prep"
   ]
  },
  {
   "cell_type": "code",
   "execution_count": 119,
   "id": "37a52cf1",
   "metadata": {
    "ExecuteTime": {
     "end_time": "2022-01-12T11:38:18.885480Z",
     "start_time": "2022-01-12T11:38:18.879524Z"
    }
   },
   "outputs": [],
   "source": [
    "# write tweet\n",
    "tweet = \"I hate it wtf !!!!\""
   ]
  },
  {
   "cell_type": "code",
   "execution_count": 120,
   "id": "50ffff9f",
   "metadata": {
    "ExecuteTime": {
     "end_time": "2022-01-12T11:38:20.108263Z",
     "start_time": "2022-01-12T11:38:20.098724Z"
    }
   },
   "outputs": [],
   "source": [
    "## create features \n",
    "# add features\n",
    "def ponctuation_check(tweet):\n",
    "    score = 0\n",
    "    for word in tweet.split():\n",
    "        if word.count('!!!!!') >= 1:\n",
    "            score += 1\n",
    "    return score\n",
    "\n",
    "\n",
    "def capital_word_check(tweet):\n",
    "    score = 0\n",
    "    for word in tweet.split():\n",
    "        if word.isupper():\n",
    "            score += 1\n",
    "    return score"
   ]
  },
  {
   "cell_type": "code",
   "execution_count": 121,
   "id": "9b1578d9",
   "metadata": {
    "ExecuteTime": {
     "end_time": "2022-01-12T11:38:21.120026Z",
     "start_time": "2022-01-12T11:38:21.115175Z"
    }
   },
   "outputs": [],
   "source": [
    "\n",
    "score_punctuation = ponctuation_check(tweet)\n",
    "score_capitalization = capital_word_check(tweet)"
   ]
  },
  {
   "cell_type": "code",
   "execution_count": 122,
   "id": "6d03b9ca",
   "metadata": {
    "ExecuteTime": {
     "end_time": "2022-01-12T11:38:21.919666Z",
     "start_time": "2022-01-12T11:38:21.915755Z"
    }
   },
   "outputs": [],
   "source": [
    "# replace emojis with texts\n"
   ]
  },
  {
   "cell_type": "code",
   "execution_count": 123,
   "id": "6abe18de",
   "metadata": {
    "ExecuteTime": {
     "end_time": "2022-01-12T11:38:22.557744Z",
     "start_time": "2022-01-12T11:38:22.549435Z"
    }
   },
   "outputs": [
    {
     "data": {
      "text/plain": [
       "['hate', 'wtf']"
      ]
     },
     "execution_count": 123,
     "metadata": {},
     "output_type": "execute_result"
    }
   ],
   "source": [
    "# tokenize\n",
    "tweet_tokenized = clean_data(tweet)\n",
    "tweet_tokenized"
   ]
  },
  {
   "cell_type": "code",
   "execution_count": 124,
   "id": "da188483",
   "metadata": {
    "ExecuteTime": {
     "end_time": "2022-01-12T11:38:23.130546Z",
     "start_time": "2022-01-12T11:38:23.125415Z"
    }
   },
   "outputs": [],
   "source": [
    "# embed\n",
    "tweet_emebedded = embed_sentence_with_TF(word2vec_transfer, tweet_tokenized)#[] "
   ]
  },
  {
   "cell_type": "code",
   "execution_count": 125,
   "id": "47bd8dc6",
   "metadata": {
    "ExecuteTime": {
     "end_time": "2022-01-12T11:38:26.114159Z",
     "start_time": "2022-01-12T11:38:26.107488Z"
    }
   },
   "outputs": [],
   "source": [
    "tweet_emebedded_reshape  = tweet_emebedded.reshape((1,tweet_emebedded.shape[0], tweet_emebedded.shape[1]))"
   ]
  },
  {
   "cell_type": "code",
   "execution_count": 126,
   "id": "28d88d20",
   "metadata": {
    "ExecuteTime": {
     "end_time": "2022-01-12T11:38:26.808771Z",
     "start_time": "2022-01-12T11:38:26.800605Z"
    }
   },
   "outputs": [
    {
     "data": {
      "text/plain": [
       "(1, 2, 50)"
      ]
     },
     "execution_count": 126,
     "metadata": {},
     "output_type": "execute_result"
    }
   ],
   "source": [
    "tweet_emebedded_reshape.shape"
   ]
  },
  {
   "cell_type": "code",
   "execution_count": 127,
   "id": "1fe0f475",
   "metadata": {
    "ExecuteTime": {
     "end_time": "2022-01-12T11:38:27.907159Z",
     "start_time": "2022-01-12T11:38:27.675683Z"
    }
   },
   "outputs": [
    {
     "data": {
      "text/plain": [
       "array([[0.43281996]], dtype=float32)"
      ]
     },
     "execution_count": 127,
     "metadata": {},
     "output_type": "execute_result"
    }
   ],
   "source": [
    "res = model.predict(tweet_reshape)\n",
    "res"
   ]
  },
  {
   "cell_type": "code",
   "execution_count": 128,
   "id": "b62b6d76",
   "metadata": {
    "ExecuteTime": {
     "end_time": "2022-01-12T11:38:29.632133Z",
     "start_time": "2022-01-12T11:38:29.626387Z"
    }
   },
   "outputs": [
    {
     "name": "stdout",
     "output_type": "stream",
     "text": [
      "good tweet\n"
     ]
    }
   ],
   "source": [
    "if res[0][0]< 0.5:\n",
    "    print(\"good tweet\")\n",
    "else:\n",
    "    print(\"hate tweet\")"
   ]
  },
  {
   "cell_type": "markdown",
   "id": "2cce87e2",
   "metadata": {},
   "source": [
    "### Prediction time"
   ]
  },
  {
   "cell_type": "code",
   "execution_count": 131,
   "id": "ec2a219c",
   "metadata": {
    "ExecuteTime": {
     "end_time": "2022-01-12T11:41:04.770611Z",
     "start_time": "2022-01-12T11:41:04.687185Z"
    }
   },
   "outputs": [
    {
     "data": {
      "text/plain": [
       "array([[0.43281996]], dtype=float32)"
      ]
     },
     "execution_count": 131,
     "metadata": {},
     "output_type": "execute_result"
    }
   ],
   "source": [
    "# write tweet\n",
    "tweet = \"I love deep learning\"\n",
    "\n",
    "score_punctuation = ponctuation_check(tweet)\n",
    "score_capitalization = capital_word_check(tweet)\n",
    "\n",
    "tweet_tokenized = clean_data(tweet)\n",
    "tweet_tokenized\n",
    "\n",
    "tweet_emebedded = embed_sentence_with_TF(word2vec_transfer, tweet_tokenized)\n",
    "tweet_emebedded_reshape  = tweet_emebedded.reshape((1,tweet_emebedded.shape[0], tweet_emebedded.shape[1]))\n",
    "\n",
    "res = model.predict(tweet_reshape)\n",
    "res"
   ]
  },
  {
   "cell_type": "code",
   "execution_count": 132,
   "id": "5af9461b",
   "metadata": {
    "ExecuteTime": {
     "end_time": "2022-01-12T11:41:05.382329Z",
     "start_time": "2022-01-12T11:41:05.377074Z"
    }
   },
   "outputs": [
    {
     "name": "stdout",
     "output_type": "stream",
     "text": [
      "good tweet\n"
     ]
    }
   ],
   "source": [
    "if res[0][0]< 0.5:\n",
    "    print(\"good tweet\")\n",
    "else:\n",
    "    print(\"hate tweet\")"
   ]
  },
  {
   "cell_type": "markdown",
   "id": "6e925918",
   "metadata": {},
   "source": [
    "# Packaging"
   ]
  },
  {
   "cell_type": "code",
   "execution_count": null,
   "id": "0e51ef55",
   "metadata": {},
   "outputs": [],
   "source": [
    "# model save and load\n",
    "\n",
    "# models.save_model(model, 'my_model')\n",
    "# loaded_model = models.load_model('my_model')\n",
    "\n",
    "# filtres scoring\n",
    "# replace emojis\n",
    "# score_punctuation\n",
    "# score_c\n"
   ]
  }
 ],
 "metadata": {
  "kernelspec": {
   "display_name": "Python 3 (ipykernel)",
   "language": "python",
   "name": "python3"
  },
  "language_info": {
   "codemirror_mode": {
    "name": "ipython",
    "version": 3
   },
   "file_extension": ".py",
   "mimetype": "text/x-python",
   "name": "python",
   "nbconvert_exporter": "python",
   "pygments_lexer": "ipython3",
   "version": "3.8.12"
  },
  "nbTranslate": {
   "displayLangs": [
    "*"
   ],
   "hotkey": "alt-t",
   "langInMainMenu": true,
   "sourceLang": "en",
   "targetLang": "fr",
   "useGoogleTranslate": true
  },
  "toc": {
   "base_numbering": 1,
   "nav_menu": {},
   "number_sections": true,
   "sideBar": true,
   "skip_h1_title": false,
   "title_cell": "Table of Contents",
   "title_sidebar": "Contents",
   "toc_cell": false,
   "toc_position": {},
   "toc_section_display": true,
   "toc_window_display": true
  }
 },
 "nbformat": 4,
 "nbformat_minor": 5
}
