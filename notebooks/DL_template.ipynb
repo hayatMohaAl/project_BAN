{
 "cells": [
  {
   "cell_type": "markdown",
   "id": "195526e0",
   "metadata": {},
   "source": [
    "# Libraries"
   ]
  },
  {
   "cell_type": "code",
   "execution_count": null,
   "id": "17613246",
   "metadata": {
    "ExecuteTime": {
     "end_time": "2022-01-08T18:41:35.370867Z",
     "start_time": "2022-01-08T18:41:31.279870Z"
    }
   },
   "outputs": [],
   "source": [
    "import pandas as pd\n",
    "import numpy  as np\n",
    "import string \n",
    "import re\n",
    "import itertools\n",
    "import matplotlib.pyplot as plt\n",
    "%matplotlib inline\n",
    "import seaborn as sns\n",
    "\n",
    "from collections import Counter\n",
    "from wordcloud import WordCloud\n",
    "from nltk.corpus import stopwords\n",
    "# import nltk\n",
    "# from nltk.corpus import wordnet\n",
    "# from nltk.stem import WordNetLemmatizer\n",
    "# #from nltk.tokenize.treebank import TreebankWordDetokenizer\n",
    "                                                                                                                                                                                                                                                                                                                                                                                                                                                                                                                                                                                                                                                                                                                                                                                                                                                                                                                                                                                                                                                                                                                                                                                                                                                                                                                                                                                                                                                                                                                                                                                                                                                                                                                                            \n",
    "#from nltk.corpus import stopwords\n",
    "\n",
    "from gensim.utils import simple_preprocess\n",
    "from gensim.models import Word2Vec\n",
    "import gensim.downloader as api\n",
    "\n",
    "from sklearn.model_selection import train_test_split\n",
    "from sklearn.metrics import confusion_matrix\n",
    "from sklearn.metrics import accuracy_score\n",
    "\n",
    "import spacy\n",
    "import pickle\n",
    "import warnings\n",
    "warnings.filterwarnings('ignore')\n",
    "\n",
    "\n",
    "from tensorflow.keras.preprocessing.text import text_to_word_sequence\n",
    "from tensorflow.keras.preprocessing.text import Tokenizer\n",
    "from tensorflow.keras.preprocessing.sequence import pad_sequences\n",
    "from tensorflow.keras import Sequential, layers\n",
    "from tensorflow.keras.callbacks import EarlyStopping\n",
    "\n",
    "print('Done')\n"
   ]
  },
  {
   "cell_type": "markdown",
   "id": "485f4f61",
   "metadata": {},
   "source": [
    "# Data"
   ]
  },
  {
   "cell_type": "markdown",
   "id": "334e623f",
   "metadata": {},
   "source": [
    "## Load data"
   ]
  },
  {
   "cell_type": "code",
   "execution_count": null,
   "id": "990799fa",
   "metadata": {
    "ExecuteTime": {
     "end_time": "2022-01-08T18:41:37.925332Z",
     "start_time": "2022-01-08T18:41:35.372844Z"
    }
   },
   "outputs": [],
   "source": [
    "pd.set_option('max_colwidth', None) \n",
    "df = pd.read_csv(\"~/Downloads/banData/MeTooHate.csv\")[[\"text\", \"category\"]]\n",
    "df.dropna(inplace = True)"
   ]
  },
  {
   "cell_type": "code",
   "execution_count": null,
   "id": "6dde8f98",
   "metadata": {
    "ExecuteTime": {
     "end_time": "2022-01-08T18:41:37.931199Z",
     "start_time": "2022-01-08T18:41:37.926554Z"
    }
   },
   "outputs": [],
   "source": [
    "df.reset_index(inplace = True)"
   ]
  },
  {
   "cell_type": "code",
   "execution_count": null,
   "id": "a885ecb5",
   "metadata": {
    "ExecuteTime": {
     "end_time": "2022-01-08T18:41:37.949180Z",
     "start_time": "2022-01-08T18:41:37.933122Z"
    }
   },
   "outputs": [],
   "source": [
    "df[\"category\"].value_counts()"
   ]
  },
  {
   "cell_type": "markdown",
   "id": "dfeb813c",
   "metadata": {
    "ExecuteTime": {
     "end_time": "2022-01-07T13:50:08.629527Z",
     "start_time": "2022-01-07T13:50:08.622223Z"
    }
   },
   "source": [
    "## Help functions for initial data prep"
   ]
  },
  {
   "cell_type": "code",
   "execution_count": null,
   "id": "20bc083a",
   "metadata": {
    "ExecuteTime": {
     "end_time": "2022-01-08T18:41:37.960265Z",
     "start_time": "2022-01-08T18:41:37.952140Z"
    }
   },
   "outputs": [],
   "source": [
    "def sub_sample_split_X_y( df = df, N = 100, subsample = True, undersample = True, prop = 0.5):\n",
    "    # undersample\n",
    "    if undersample == True:\n",
    "        df1 = df[df[\"category\"]== 1]\n",
    "        df1 = df[df[\"category\"]== 1].dropna()\n",
    "        df0 = df[df[\"category\"]== 0].dropna()\n",
    "        if prop ==  0.5:\n",
    "            df = pd.concat([df0.sample(df1.shape[0]), df1], axis = 0)\n",
    "        else:\n",
    "            df0_n = round((df1.shape[0]*prop)/(1-prop))\n",
    "            df = pd.concat([df0.sample(df0_n), df1], axis = 0)\n",
    "    #shuffle rows\n",
    "    df = df.sample(frac=1)\n",
    "    df.shape\n",
    "    df.reset_index(inplace = True)\n",
    "    \n",
    "    if subsample == True:\n",
    "        df = df.head(int(f\"{N}\"))\n",
    "   # print(f\"Number of obs in categories {df[\"category\"].value_counts()}\")\n",
    "\n",
    "    y = df[\"category\"]\n",
    "    X = df.drop(columns = [\"category\"]) \n",
    "    return X,y"
   ]
  },
  {
   "cell_type": "code",
   "execution_count": null,
   "id": "0df33330",
   "metadata": {
    "ExecuteTime": {
     "end_time": "2022-01-08T18:41:37.964118Z",
     "start_time": "2022-01-08T18:41:37.962011Z"
    }
   },
   "outputs": [],
   "source": [
    "# X,y = sub_sample_split_X_y( df = df, N = 100, subsample = True, undersample = True, prop = 0.6)\n",
    "# pd.DataFrame(y).value_counts()"
   ]
  },
  {
   "cell_type": "code",
   "execution_count": null,
   "id": "2df02a52",
   "metadata": {
    "ExecuteTime": {
     "end_time": "2022-01-08T18:41:37.970666Z",
     "start_time": "2022-01-08T18:41:37.965910Z"
    }
   },
   "outputs": [],
   "source": [
    "def clean_data(data):\n",
    "    \n",
    "    #Removing URLs with a regular expression\n",
    "    url_pattern = re.compile(r'https?://\\S+|www\\.\\S+')\n",
    "    data = url_pattern.sub(r'', data)\n",
    "\n",
    "    # Remove Emails\n",
    "    data = re.sub('\\S*@\\S*\\s?', '', data)\n",
    "   \n",
    "    # tokenize + remove scpecial characters + set to lower case\n",
    "    data = text_to_word_sequence(data) \n",
    "    \n",
    "    # Remove stopwords\n",
    "    stop_words = set(stopwords.words('english')) \n",
    "    data = [w for w in data if not w in stop_words]         \n",
    "    \n",
    "    # Remove digits\n",
    "    data = ' '.join(word for word in data if not word.isdigit())\n",
    "    \n",
    "    \n",
    "    return text_to_word_sequence(data)\n",
    "\n",
    "def apply_data_cleaning(X, text, drop_text = False):\n",
    "    ln = X.shape[0]\n",
    "    sentences = []\n",
    "    for i in range(ln):\n",
    "        tmp = X.iloc[i][f'{text}']\n",
    "        tmp_clean = clean_data(tmp)\n",
    "        sentences.append(tmp_clean)\n",
    "    X[\"sentences\"] = sentences\n",
    "    if drop_text == True:\n",
    "        X.drop(columns = f'{text}', inplace = True)\n",
    "    return list(X.sentences)"
   ]
  },
  {
   "cell_type": "markdown",
   "id": "2642027b",
   "metadata": {},
   "source": [
    "## Clean and train_test_split data"
   ]
  },
  {
   "cell_type": "code",
   "execution_count": null,
   "id": "a91949ed",
   "metadata": {
    "ExecuteTime": {
     "end_time": "2022-01-08T18:41:37.974100Z",
     "start_time": "2022-01-08T18:41:37.972095Z"
    }
   },
   "outputs": [],
   "source": [
    "# X, y = sub_sample_split_X_y(df=df, N = 100, subsample = True)\n",
    "# X = apply_data_cleaning(X = X, text = \"text\", drop_text = True)\n",
    "# X_train, X_test, y_train, y_test = train_test_split(X, y, test_size = 0.20, random_state=42)"
   ]
  },
  {
   "cell_type": "markdown",
   "id": "05a8511a",
   "metadata": {},
   "source": [
    "# Embedding help functions"
   ]
  },
  {
   "cell_type": "code",
   "execution_count": null,
   "id": "8ac35788",
   "metadata": {
    "ExecuteTime": {
     "end_time": "2022-01-08T18:41:37.984315Z",
     "start_time": "2022-01-08T18:41:37.975953Z"
    }
   },
   "outputs": [],
   "source": [
    "def embed_sentence(word2vec, sentence):\n",
    "    \"\"\"\n",
    "    Function to convert a sentence (list of words) into a matrix representing \n",
    "    the words in the embedding space, training w2v on X_train\n",
    "    \"\"\"\n",
    "    embedded_sentence = []\n",
    "    for word in sentence:\n",
    "        if word in word2vec.wv:\n",
    "            embedded_sentence.append(word2vec.wv[word])\n",
    "        \n",
    "    return np.array(embedded_sentence)\n",
    "   \n",
    "\n",
    "def embed_sentence_with_TF(word2vec, sentence):\n",
    "    \"\"\"\n",
    "    Function to convert a sentence (list of words) into a matrix representing \n",
    "    the words in the embedding space, using transfer learning\n",
    "    \"\"\"\n",
    "    embedded_sentence = []\n",
    "    for word in sentence:\n",
    "        if word in word2vec:\n",
    "            embedded_sentence.append(word2vec[word])\n",
    "        \n",
    "    return np.array(embedded_sentence)\n",
    "\n",
    "\n",
    "\n",
    "def embedding(word2vec, sentences, TF_learning = True):\n",
    "    embed = []\n",
    "    \"\"\"\n",
    "    Function that converts a list of sentences into a list of matrices\n",
    "    \"\"\"\n",
    "    if TF_learning == True:\n",
    "        \n",
    "        for sentence in sentences:\n",
    "            embedded_sentence = embed_sentence_with_TF(word2vec, sentence)\n",
    "            embed.append(embedded_sentence)\n",
    "    else:\n",
    "        for sentence in sentences:\n",
    "            embedded_sentence = embed_sentence(word2vec, sentence)\n",
    "            embed.append(embedded_sentence)  \n",
    "\n",
    "    return embed\n",
    "\n",
    "def select_TF_model(index_list = 4):\n",
    "    \"\"\" \n",
    "    Returns word2vec for a selected w2v model\n",
    "    index_list: Index of the list of existing pretrained models in \"api.info()['models'].keys()\"\n",
    "    default \"glove-wiki-gigaword-50\"\n",
    "    \"\"\"\n",
    "    _list = list(api.info()['models'].keys())\n",
    "    _model = _list[int(f\"{index_list}\")]  \n",
    "    _model\n",
    "    word2vec_transfer = api.load(f\"{_model}\")\n",
    "    print(f\"TF model selected: {_model}\")\n",
    "    return word2vec_transfer"
   ]
  },
  {
   "cell_type": "markdown",
   "id": "fe8f91f8",
   "metadata": {},
   "source": [
    "# Embedding- selection and tuning"
   ]
  },
  {
   "cell_type": "code",
   "execution_count": null,
   "id": "8a3b33a8",
   "metadata": {
    "ExecuteTime": {
     "end_time": "2022-01-08T18:41:37.993212Z",
     "start_time": "2022-01-08T18:41:37.990085Z"
    }
   },
   "outputs": [],
   "source": [
    "# # vary hyerparameters and check output 5.2.1\n",
    "# word2vec = Word2Vec(sentences = X_train, vector_size=50, min_count = 5, window = 5)\n",
    "# embedding_dim = word2vec.wv.vector_size"
   ]
  },
  {
   "cell_type": "code",
   "execution_count": null,
   "id": "6777cb87",
   "metadata": {
    "ExecuteTime": {
     "end_time": "2022-01-08T18:41:37.996969Z",
     "start_time": "2022-01-08T18:41:37.994882Z"
    }
   },
   "outputs": [],
   "source": [
    "# # choose choose pretrained embedding\n",
    "# word2vec = select_TF_model(index_list = 4) # default glove-wiki-gigaword-50\n",
    "# # list(api.info()['models'].keys()) to see alla available ones\n",
    "# embedding_dim = len(word2vec_transfer['dog'])"
   ]
  },
  {
   "cell_type": "code",
   "execution_count": null,
   "id": "202d5613",
   "metadata": {
    "ExecuteTime": {
     "end_time": "2022-01-08T18:41:38.006128Z",
     "start_time": "2022-01-08T18:41:38.000578Z"
    }
   },
   "outputs": [],
   "source": [
    "#embedding_dim"
   ]
  },
  {
   "cell_type": "markdown",
   "id": "2f265f63",
   "metadata": {
    "ExecuteTime": {
     "end_time": "2022-01-07T15:51:20.039022Z",
     "start_time": "2022-01-07T15:51:20.025205Z"
    }
   },
   "source": [
    "### Final data prep- embedding and padding"
   ]
  },
  {
   "cell_type": "code",
   "execution_count": null,
   "id": "34ba6153",
   "metadata": {
    "ExecuteTime": {
     "end_time": "2022-01-08T18:41:38.014151Z",
     "start_time": "2022-01-08T18:41:38.010450Z"
    }
   },
   "outputs": [],
   "source": [
    "# # Embed the training and test sentences\n",
    "# X_train_embed = embedding(word2vec, X_train)\n",
    "# X_test_embed = embedding(word2vec, X_test)\n",
    "\n",
    "\n",
    "# # Pad the training and test embedded sentences\n",
    "# X_train_pad = pad_sequences(X_train_embed, dtype='float32', padding='post', maxlen=200)\n",
    "# X_test_pad = pad_sequences(X_test_embed, dtype='float32', padding='post', maxlen=200)\n",
    "\n",
    "\n",
    "# for X in [X_train_pad, X_test_pad]:\n",
    "#     assert type(X) == np.ndarray\n",
    "#     assert X.shape[-1] ==  embedding_dim \n",
    "\n",
    "\n",
    "# assert X_train_pad.shape[0] == len(X_train)\n",
    "# assert X_test_pad.shape[0] == len(X_test)"
   ]
  },
  {
   "cell_type": "markdown",
   "id": "e2c1826a",
   "metadata": {},
   "source": [
    "# Run Model"
   ]
  },
  {
   "cell_type": "markdown",
   "id": "a848bd5c",
   "metadata": {},
   "source": [
    "## Fetch data"
   ]
  },
  {
   "cell_type": "code",
   "execution_count": null,
   "id": "bdd08d09",
   "metadata": {
    "ExecuteTime": {
     "end_time": "2022-01-08T18:41:40.553997Z",
     "start_time": "2022-01-08T18:41:38.019292Z"
    }
   },
   "outputs": [],
   "source": [
    "## select N\n",
    "#def sub_sample_split_X_y(df=df, N = 100, subsample = True, undersample = True)\n",
    "X, y = sub_sample_split_X_y(df=df, N = 100000, subsample = True, undersample = True, prop = 0.7)\n",
    "X = apply_data_cleaning(X = X, text = \"text\", drop_text = True)\n",
    "X_train, X_test, y_train, y_test = train_test_split(X, y, test_size = 0.20, random_state=42)"
   ]
  },
  {
   "cell_type": "code",
   "execution_count": null,
   "id": "59f69ee2",
   "metadata": {
    "ExecuteTime": {
     "end_time": "2022-01-08T18:41:40.566621Z",
     "start_time": "2022-01-08T18:41:40.555499Z"
    }
   },
   "outputs": [],
   "source": [
    "print(pd.DataFrame(y_train).value_counts())\n",
    "print(f\"Proportion of 0: {pd.DataFrame(y_train).value_counts()[0]/len(y_train)}\")\n",
    "print(f\"Proportion of 1: {pd.DataFrame(y_train).value_counts()[1]/len(y_train)}\")"
   ]
  },
  {
   "cell_type": "markdown",
   "id": "a84f02f3",
   "metadata": {},
   "source": [
    "## Embedding"
   ]
  },
  {
   "cell_type": "markdown",
   "id": "0d29696f",
   "metadata": {},
   "source": [
    "### If w2v trained on X_train"
   ]
  },
  {
   "cell_type": "code",
   "execution_count": null,
   "id": "64a0a8db",
   "metadata": {
    "ExecuteTime": {
     "end_time": "2022-01-08T18:41:40.573119Z",
     "start_time": "2022-01-08T18:41:40.568313Z"
    }
   },
   "outputs": [],
   "source": [
    "# # # vary hyerparameters and check output 5.2.1\n",
    "# word2vec = Word2Vec(sentences = X_train, vector_size=50, min_count = 5, window = 5)\n",
    "# embedding_dim = word2vec.wv.vector_size\n",
    "\n",
    "# # Embed the training and test sentences\n",
    "# X_train_embed = embedding(word2vec.wv, X_train)\n",
    "# X_test_embed = embedding(word2vec.wv, X_test)"
   ]
  },
  {
   "cell_type": "code",
   "execution_count": null,
   "id": "9dce9c05",
   "metadata": {
    "ExecuteTime": {
     "end_time": "2022-01-08T18:41:40.661462Z",
     "start_time": "2022-01-08T18:41:40.653045Z"
    }
   },
   "outputs": [],
   "source": [
    "# # # choose choose pretrained embedding\n",
    "\n",
    "# word2vec_transfer = select_TF_model(index_list = 4) # default glove-wiki-gigaword-50 # list(api.info()['models'].keys()) to see alla available ones\n",
    "# embedding_dim = len(word2vec_transfer['dog'])\n",
    "\n",
    "# # Embed the training and test sentences\n",
    "# X_train_embed = embedding(word2vec_transfer, X_train)\n",
    "# X_test_embed = embedding(word2vec_transfer, X_test)\n"
   ]
  },
  {
   "cell_type": "code",
   "execution_count": null,
   "id": "7292f451",
   "metadata": {
    "ExecuteTime": {
     "end_time": "2022-01-08T18:41:40.944562Z",
     "start_time": "2022-01-08T18:41:40.938615Z"
    }
   },
   "outputs": [],
   "source": [
    "# print(f\"'glove-wiki-gigaword-50': vocab_size {len(select_TF_model(index_list = 4))}\")"
   ]
  },
  {
   "cell_type": "code",
   "execution_count": null,
   "id": "42584c87",
   "metadata": {
    "ExecuteTime": {
     "end_time": "2022-01-08T18:41:42.333778Z",
     "start_time": "2022-01-08T18:41:42.331986Z"
    }
   },
   "outputs": [],
   "source": [
    "# print(f\"'glove-twitter-50': vocab_size {len(select_TF_model(index_list = 9))}\")"
   ]
  },
  {
   "cell_type": "code",
   "execution_count": null,
   "id": "15628a82",
   "metadata": {
    "ExecuteTime": {
     "end_time": "2022-01-08T18:41:43.729853Z",
     "start_time": "2022-01-08T18:41:43.726663Z"
    }
   },
   "outputs": [],
   "source": [
    "# w2v_type = input(f\"Choose embedding type. If transfer learning, enter yes else no   \")\n",
    "# TF = input(f\"If transfer learning, select model from this list {list(api.info()['models'].keys())}\")               "
   ]
  },
  {
   "cell_type": "markdown",
   "id": "f2eeea04",
   "metadata": {
    "ExecuteTime": {
     "end_time": "2022-01-08T15:04:11.450949Z",
     "start_time": "2022-01-08T15:04:11.444160Z"
    }
   },
   "source": [
    "### Pad sequence"
   ]
  },
  {
   "cell_type": "code",
   "execution_count": null,
   "id": "7a73357f",
   "metadata": {
    "ExecuteTime": {
     "end_time": "2022-01-08T18:42:00.576968Z",
     "start_time": "2022-01-08T18:42:00.574934Z"
    }
   },
   "outputs": [],
   "source": [
    "# # Pad the training and test embedded sentences\n",
    "# X_train_pad = pad_sequences(X_train_embed, dtype='float32', padding='post', maxlen=200)\n",
    "# X_test_pad = pad_sequences(X_test_embed, dtype='float32', padding='post', maxlen=200)\n",
    "\n",
    "\n",
    "# for X in [X_train_pad, X_test_pad]:\n",
    "#     assert type(X) == np.ndarray\n",
    "#     assert X.shape[-1] ==  embedding_dim \n",
    "\n",
    "\n",
    "# assert X_train_pad.shape[0] == len(X_train)\n",
    "# assert X_test_pad.shape[0] == len(X_test)"
   ]
  },
  {
   "cell_type": "markdown",
   "id": "3c99e49d",
   "metadata": {},
   "source": [
    "## Train model"
   ]
  },
  {
   "cell_type": "markdown",
   "id": "c9b0004d",
   "metadata": {},
   "source": [
    "### Select embedding type"
   ]
  },
  {
   "cell_type": "code",
   "execution_count": null,
   "id": "d9cd5da8",
   "metadata": {
    "ExecuteTime": {
     "end_time": "2022-01-08T18:42:02.985000Z",
     "start_time": "2022-01-08T18:42:02.757772Z"
    }
   },
   "outputs": [],
   "source": [
    "list_TF = list(api.info()['models'].keys())\n",
    "# w2v_type = input(f\"Choose embedding type. If transfer learning, enter yes else no   \")\n",
    "# TF = input(f\"If transfer learning, select model from this list {list_TF}\")  \n"
   ]
  },
  {
   "cell_type": "code",
   "execution_count": null,
   "id": "190ef3a4",
   "metadata": {
    "ExecuteTime": {
     "end_time": "2022-01-08T18:42:04.350992Z",
     "start_time": "2022-01-08T18:42:04.348480Z"
    }
   },
   "outputs": [],
   "source": [
    "#def select_TF_embedding(X_train, X_test):\n",
    "index_list = list_TF.index('glove-twitter-50')\n",
    "index_list"
   ]
  },
  {
   "cell_type": "code",
   "execution_count": null,
   "id": "7268b1ca",
   "metadata": {
    "ExecuteTime": {
     "end_time": "2022-01-08T18:42:38.573544Z",
     "start_time": "2022-01-08T18:42:07.163139Z"
    }
   },
   "outputs": [],
   "source": [
    "word2vec_transfer = select_TF_model(index_list = index_list)"
   ]
  },
  {
   "cell_type": "code",
   "execution_count": null,
   "id": "898fb831",
   "metadata": {
    "ExecuteTime": {
     "end_time": "2022-01-08T18:42:38.577281Z",
     "start_time": "2022-01-08T18:42:38.574859Z"
    }
   },
   "outputs": [],
   "source": [
    "print(f\"Vocab_size: {len(word2vec_transfer.key_to_index)}\")"
   ]
  },
  {
   "cell_type": "markdown",
   "id": "b44414a5",
   "metadata": {},
   "source": [
    "### Embed and pad"
   ]
  },
  {
   "cell_type": "code",
   "execution_count": null,
   "id": "c965695b",
   "metadata": {
    "ExecuteTime": {
     "end_time": "2022-01-08T18:43:12.073807Z",
     "start_time": "2022-01-08T18:42:41.302760Z"
    }
   },
   "outputs": [],
   "source": [
    "# # choose choose pretrained embedding\n",
    "word2vec_transfer = select_TF_model(index_list = index_list) # 4 default glove-wiki-gigaword-50 # list(api.info()['models'].keys()) to see alla available ones\n",
    "embedding_dim = len(word2vec_transfer['dog'])\n",
    "\n",
    "# Embed the training and test sentences\n",
    "X_train_embed = embedding(word2vec_transfer, X_train)\n",
    "X_test_embed = embedding(word2vec_transfer, X_test)\n",
    "\n",
    "# Pad the training and test embedded sentences\n",
    "X_train_pad = pad_sequences(X_train_embed, dtype='float32', padding='post', maxlen=200)\n",
    "X_test_pad = pad_sequences(X_test_embed, dtype='float32', padding='post', maxlen=200)\n",
    "\n",
    "# Test dim of tensor ok w.r.t to input X\n",
    "for X in [X_train_pad, X_test_pad]:\n",
    "    assert type(X) == np.ndarray\n",
    "    assert X.shape[-1] ==  embedding_dim \n",
    "\n",
    "\n",
    "assert X_train_pad.shape[0] == len(X_train)\n",
    "assert X_test_pad.shape[0] == len(X_test)"
   ]
  },
  {
   "cell_type": "code",
   "execution_count": null,
   "id": "c119e1e2",
   "metadata": {
    "ExecuteTime": {
     "end_time": "2022-01-08T18:43:12.592748Z",
     "start_time": "2022-01-08T18:43:12.075210Z"
    }
   },
   "outputs": [],
   "source": [
    "def init_model():\n",
    "    model = Sequential()\n",
    "    model.add(layers.Masking())\n",
    "    model.add(layers.LSTM(20, activation='tanh'))\n",
    "    model.add(layers.Dense(15, activation='relu'))\n",
    "    model.add(layers.Dense(1, activation='sigmoid'))\n",
    "\n",
    "    model.compile(loss='binary_crossentropy',\n",
    "                  optimizer='rmsprop',\n",
    "                  metrics=[\"Recall\"]) #['recall']) # tp/(tp+fn) metrics=[tf.keras.metrics.Recall()]\n",
    "    \n",
    "    return model\n",
    "\n",
    "model = init_model()\n"
   ]
  },
  {
   "cell_type": "code",
   "execution_count": null,
   "id": "7bc86a82",
   "metadata": {
    "ExecuteTime": {
     "end_time": "2022-01-08T18:43:28.867088Z",
     "start_time": "2022-01-08T18:43:28.865089Z"
    }
   },
   "outputs": [],
   "source": [
    "# model.summary()"
   ]
  },
  {
   "cell_type": "markdown",
   "id": "07a156a9",
   "metadata": {},
   "source": [
    "**!!! remember to initialize before every new run**"
   ]
  },
  {
   "cell_type": "code",
   "execution_count": null,
   "id": "cd88be41",
   "metadata": {
    "ExecuteTime": {
     "end_time": "2022-01-08T18:56:23.150460Z",
     "start_time": "2022-01-08T18:54:34.529510Z"
    }
   },
   "outputs": [],
   "source": [
    "es = EarlyStopping(patience=10, restore_best_weights=True)\n",
    "%%time\n",
    "history = model.fit(X_train_pad, y_train, \n",
    "          batch_size = 32,  # low --> optimizes on smaller ss --> faster --> but to generalize \n",
    "          epochs=100,\n",
    "          validation_split=0.3,\n",
    "          callbacks=[es]\n",
    "         )\n"
   ]
  },
  {
   "cell_type": "code",
   "execution_count": null,
   "id": "62919e15",
   "metadata": {
    "ExecuteTime": {
     "end_time": "2022-01-08T18:58:05.230059Z",
     "start_time": "2022-01-08T18:57:47.314464Z"
    }
   },
   "outputs": [],
   "source": [
    "res = model.evaluate(X_test_pad, y_test, verbose=1)\n",
    "print(f'The Recall evaluated on the test set is of {res[1]*100:.3f}%')"
   ]
  },
  {
   "cell_type": "code",
   "execution_count": null,
   "id": "f997a8f7",
   "metadata": {
    "ExecuteTime": {
     "end_time": "2022-01-08T19:17:10.231696Z",
     "start_time": "2022-01-08T19:17:10.228310Z"
    }
   },
   "outputs": [],
   "source": [
    "#history.history"
   ]
  },
  {
   "cell_type": "code",
   "execution_count": null,
   "id": "4833e043",
   "metadata": {
    "ExecuteTime": {
     "end_time": "2022-01-08T19:16:23.524248Z",
     "start_time": "2022-01-08T19:16:23.508990Z"
    }
   },
   "outputs": [],
   "source": [
    "def plot_loss_recall(history, title=None):\n",
    "    fig, ax = plt.subplots(1,2, figsize=(20,7))\n",
    "    \n",
    "    # --- LOSS --- \n",
    "    \n",
    "    ax[0].plot(history.history['loss'])\n",
    "    ax[0].plot(history.history['val_loss'])\n",
    "    ax[0].set_title('Model loss')\n",
    "    ax[0].set_ylabel('Loss')\n",
    "    ax[0].set_xlabel('Epoch')\n",
    "    ax[0].set_ylim((0,3))\n",
    "    ax[0].legend(['Train', 'Test'], loc='best')\n",
    "    ax[0].grid(axis=\"x\",linewidth=0.5)\n",
    "    ax[0].grid(axis=\"y\",linewidth=0.5)\n",
    "    \n",
    "    # --- ACCURACY\n",
    "    \n",
    "    ax[1].plot(history.history['recall'])\n",
    "    ax[1].plot(history.history['val_recall'])\n",
    "    ax[1].set_title('Model Recall')\n",
    "    ax[1].set_ylabel('recall')\n",
    "    ax[1].set_xlabel('Epoch')\n",
    "    ax[1].legend(['Train', 'Test'], loc='best')\n",
    "    ax[1].set_ylim((0,1))\n",
    "    ax[1].grid(axis=\"x\",linewidth=0.5)\n",
    "    ax[1].grid(axis=\"y\",linewidth=0.5)\n",
    "    \n",
    "    if title:\n",
    "        fig.suptitle(title)"
   ]
  },
  {
   "cell_type": "code",
   "execution_count": null,
   "id": "450e9a55",
   "metadata": {
    "ExecuteTime": {
     "end_time": "2022-01-08T19:16:24.805467Z",
     "start_time": "2022-01-08T19:16:24.381712Z"
    }
   },
   "outputs": [],
   "source": [
    "plot_loss_recall(history, title=None)"
   ]
  },
  {
   "cell_type": "code",
   "execution_count": null,
   "id": "77338e26",
   "metadata": {
    "ExecuteTime": {
     "end_time": "2022-01-08T18:16:20.811209Z",
     "start_time": "2022-01-08T18:16:20.798658Z"
    }
   },
   "outputs": [],
   "source": [
    "print(f\"sample size: {len(y)}\")\n",
    "print(f\"TF used: {list_TF[index_list]}\")\n",
    "print(f\"Proportion of 0: {pd.DataFrame(y_train).value_counts()[0]/len(y_train)}\")\n",
    "print(f\"Proportion of 1: {pd.DataFrame(y_train).value_counts()[1]/len(y_train)}\")"
   ]
  },
  {
   "cell_type": "markdown",
   "id": "c8335487",
   "metadata": {},
   "source": [
    "## Extras "
   ]
  },
  {
   "cell_type": "markdown",
   "id": "4262b3b1",
   "metadata": {},
   "source": [
    "## Checking embedding"
   ]
  },
  {
   "cell_type": "markdown",
   "id": "77b7e951",
   "metadata": {},
   "source": [
    "### Vocabulary size, w2v, similar words"
   ]
  },
  {
   "cell_type": "code",
   "execution_count": null,
   "id": "94227299",
   "metadata": {
    "ExecuteTime": {
     "end_time": "2022-01-08T17:35:31.689286Z",
     "start_time": "2022-01-08T17:35:31.333360Z"
    }
   },
   "outputs": [],
   "source": [
    "word2vec = Word2Vec(sentences = X_train, vector_size=50, min_count = 5, window = 5)\n",
    "vocab = word2vec.wv.key_to_index \n",
    "print(len(vocab))\n",
    "#print(vocab)\n",
    "print(word2vec.wv[\"women\"])\n",
    "word2vec.wv.most_similar('women')"
   ]
  },
  {
   "cell_type": "markdown",
   "id": "dd0154b1",
   "metadata": {},
   "source": [
    "### mini-batch"
   ]
  },
  {
   "cell_type": "markdown",
   "id": "6923c7b7",
   "metadata": {},
   "source": [
    "The smaller the batch, the more stochastic the process is, the faster it may converge\n",
    "The larger the batch, the better it generalizes, but the more computation-intensive it becomes"
   ]
  },
  {
   "cell_type": "code",
   "execution_count": null,
   "id": "e1a832e7",
   "metadata": {},
   "outputs": [],
   "source": []
  }
 ],
 "metadata": {
  "kernelspec": {
   "display_name": "Python 3 (ipykernel)",
   "language": "python",
   "name": "python3"
  },
  "language_info": {
   "codemirror_mode": {
    "name": "ipython",
    "version": 3
   },
   "file_extension": ".py",
   "mimetype": "text/x-python",
   "name": "python",
   "nbconvert_exporter": "python",
   "pygments_lexer": "ipython3",
   "version": "3.8.12"
  },
  "nbTranslate": {
   "displayLangs": [
    "*"
   ],
   "hotkey": "alt-t",
   "langInMainMenu": true,
   "sourceLang": "en",
   "targetLang": "fr",
   "useGoogleTranslate": true
  },
  "toc": {
   "base_numbering": 1,
   "nav_menu": {},
   "number_sections": true,
   "sideBar": true,
   "skip_h1_title": false,
   "title_cell": "Table of Contents",
   "title_sidebar": "Contents",
   "toc_cell": false,
   "toc_position": {},
   "toc_section_display": true,
   "toc_window_display": true
  }
 },
 "nbformat": 4,
 "nbformat_minor": 5
}
