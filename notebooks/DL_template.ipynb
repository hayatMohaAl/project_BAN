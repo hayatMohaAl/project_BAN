{
 "cells": [
  {
   "cell_type": "markdown",
   "id": "195526e0",
   "metadata": {},
   "source": [
    "# Libraries"
   ]
  },
  {
   "cell_type": "code",
   "execution_count": 2,
   "id": "17613246",
   "metadata": {
    "ExecuteTime": {
     "end_time": "2022-01-07T13:37:45.750850Z",
     "start_time": "2022-01-07T13:37:45.734744Z"
    }
   },
   "outputs": [
    {
     "name": "stdout",
     "output_type": "stream",
     "text": [
      "Done\n"
     ]
    }
   ],
   "source": [
    "import pandas as pd\n",
    "import numpy  as np\n",
    "import string \n",
    "import re\n",
    "import itertools\n",
    "import matplotlib.pyplot as plt\n",
    "%matplotlib inline\n",
    "import seaborn as sns\n",
    "\n",
    "from collections import Counter\n",
    "from wordcloud import WordCloud\n",
    "from nltk.corpus import stopwords\n",
    "# import nltk\n",
    "# from nltk.corpus import wordnet\n",
    "# from nltk.stem import WordNetLemmatizer\n",
    "# #from nltk.tokenize.treebank import TreebankWordDetokenizer\n",
    "                                                                                                                                                                                                                                                                                                                                                                                                                                                                                                                                                                                                                                                                                                                                                                                                                                                                                                                                                                                                                                                                                                                                                                                                                                                                                                                                                                                                                                                                                                                                                                                                                                                                                                                                            \n",
    "#from nltk.corpus import stopwords\n",
    "\n",
    "from gensim.utils import simple_preprocess\n",
    "from gensim.models import Word2Vec\n",
    "import gensim.downloader as api\n",
    "\n",
    "from sklearn.model_selection import train_test_split\n",
    "from sklearn.metrics import confusion_matrix\n",
    "from sklearn.metrics import accuracy_score\n",
    "\n",
    "import spacy\n",
    "import pickle\n",
    "import warnings\n",
    "warnings.filterwarnings('ignore')\n",
    "\n",
    "\n",
    "from tensorflow.keras.preprocessing.text import text_to_word_sequence\n",
    "from tensorflow.keras.preprocessing.text import Tokenizer\n",
    "from tensorflow.keras.preprocessing.sequence import pad_sequences\n",
    "from tensorflow.keras import Sequential, layers\n",
    "from tensorflow.keras.callbacks import EarlyStopping\n",
    "\n",
    "print('Done')\n"
   ]
  },
  {
   "cell_type": "markdown",
   "id": "485f4f61",
   "metadata": {},
   "source": [
    "# Data"
   ]
  },
  {
   "cell_type": "markdown",
   "id": "334e623f",
   "metadata": {},
   "source": [
    "## Load data"
   ]
  },
  {
   "cell_type": "code",
   "execution_count": null,
   "id": "6dde8f98",
   "metadata": {},
   "outputs": [],
   "source": [
    "pd.set_option('max_colwidth', None) \n",
    "df = pd.read_csv(\"~/Downloads/banData/MeTooHate.csv\")[[\"text\", \"category\"]]\n",
    "#df.head()"
   ]
  },
  {
   "cell_type": "markdown",
   "id": "dfeb813c",
   "metadata": {
    "ExecuteTime": {
     "end_time": "2022-01-07T13:50:08.629527Z",
     "start_time": "2022-01-07T13:50:08.622223Z"
    }
   },
   "source": [
    "## Help functions for data"
   ]
  },
  {
   "cell_type": "code",
   "execution_count": null,
   "id": "2df02a52",
   "metadata": {},
   "outputs": [],
   "source": [
    "def sub_sample_split_X_y(df=df, N = 100, subsample = True):\n",
    "    if subsample = True:\n",
    "        df = df.head(\"f{N}\")\n",
    "    print(f\"Number of obs in categories {df[\"category\"].value_counts()}\")\n",
    "\n",
    "    y = df[\"category\"]\n",
    "    X = df.drop(columns = [\"category\"]) \n",
    "    return X,y"
   ]
  },
  {
   "cell_type": "code",
   "execution_count": null,
   "id": "778d4fe7",
   "metadata": {},
   "outputs": [],
   "source": [
    "def clean_data(data):\n",
    "    \n",
    "    #Removing URLs with a regular expression\n",
    "    url_pattern = re.compile(r'https?://\\S+|www\\.\\S+')\n",
    "    data = url_pattern.sub(r'', data)\n",
    "\n",
    "    # Remove Emails\n",
    "    data = re.sub('\\S*@\\S*\\s?', '', data)\n",
    "   \n",
    "    # tokenize + remove scpecial characters + set to lower case\n",
    "    data = text_to_word_sequence(data) \n",
    "    \n",
    "    # Remove stopwords\n",
    "    stop_words = set(stopwords.words('english')) \n",
    "    data = [w for w in data if not w in stop_words]         \n",
    "    \n",
    "    # Remove digits\n",
    "    data = ' '.join(word for word in data if not word.isdigit())\n",
    "    \n",
    "    \n",
    "    return text_to_word_sequence(data)\n",
    "\n",
    "def apply_data_cleaning(X, text, drop_text = False):\n",
    "    ln = X.shape[0]\n",
    "    sentences = []\n",
    "    for i in range(ln):\n",
    "        tmp = X.iloc[i][f'{text}']\n",
    "        tmp_clean = clean_data(tmp)\n",
    "        sentences.append(tmp_clean)\n",
    "    X[\"sentences\"] = sentences\n",
    "    if drop_text == True:\n",
    "        X.drop(columns = f'{text}', inplace = True)\n",
    "    return X"
   ]
  },
  {
   "cell_type": "markdown",
   "id": "2642027b",
   "metadata": {},
   "source": [
    "## Fetch clean data"
   ]
  },
  {
   "cell_type": "code",
   "execution_count": null,
   "id": "c7c2d051",
   "metadata": {},
   "outputs": [],
   "source": [
    "X, y = sub_sample_split_X_y(df=df, N = 100, subsample = True)\n",
    "X = apply_data_cleaning(X = X, text = \"text\", drop_text = True)"
   ]
  },
  {
   "cell_type": "markdown",
   "id": "b8e8c2fd",
   "metadata": {},
   "source": [
    "## Train test split"
   ]
  },
  {
   "cell_type": "code",
   "execution_count": null,
   "id": "ee58e601",
   "metadata": {},
   "outputs": [],
   "source": [
    "X_train, X_test, y_train, y_test = train_test_split(X, y, test_size = 0.20, random_state=42)"
   ]
  },
  {
   "cell_type": "markdown",
   "id": "05a8511a",
   "metadata": {},
   "source": [
    "# Embedding"
   ]
  },
  {
   "cell_type": "markdown",
   "id": "cb942b15",
   "metadata": {},
   "source": [
    "## Help functions for embedding with word2vec"
   ]
  },
  {
   "cell_type": "code",
   "execution_count": 11,
   "id": "3a0109e5",
   "metadata": {
    "ExecuteTime": {
     "end_time": "2022-01-07T15:43:33.042171Z",
     "start_time": "2022-01-07T15:43:33.033742Z"
    }
   },
   "outputs": [],
   "source": [
    "def embed_sentence(word2vec, sentence):\n",
    "    \"\"\" \n",
    "    Function to convert a sentence (list of words) into a matrix representing \n",
    "    the words in the embedding space\n",
    "    \"\"\"\n",
    "    embedded_sentence = []\n",
    "    for word in sentence:\n",
    "        if word in word2vec.wv:\n",
    "            embedded_sentence.append(word2vec.wv[word])\n",
    "        \n",
    "    return np.array(embedded_sentence)\n",
    "   \n",
    "\n",
    "def embedding(word2vec, sentences):\n",
    "    \"\"\" \n",
    "    Function that converts a list of sentences into a list of matrices\n",
    "    \"\"\"\n",
    "    embed = []\n",
    "    \n",
    "    for sentence in sentences:\n",
    "        embedded_sentence = embed_sentence(word2vec, sentence)\n",
    "        embed.append(embedded_sentence)\n",
    "        \n",
    "    return embed"
   ]
  },
  {
   "cell_type": "markdown",
   "id": "1642d8ab",
   "metadata": {},
   "source": [
    "## Chosing w2v embedding type"
   ]
  },
  {
   "cell_type": "markdown",
   "id": "9b5d8552",
   "metadata": {
    "ExecuteTime": {
     "end_time": "2022-01-07T15:38:07.817009Z",
     "start_time": "2022-01-07T15:38:07.813991Z"
    }
   },
   "source": [
    "### Transfer learning\n",
    "\n"
   ]
  },
  {
   "cell_type": "code",
   "execution_count": 12,
   "id": "42dd2a45",
   "metadata": {
    "ExecuteTime": {
     "end_time": "2022-01-07T15:46:17.348569Z",
     "start_time": "2022-01-07T15:46:00.184948Z"
    }
   },
   "outputs": [
    {
     "name": "stdout",
     "output_type": "stream",
     "text": [
      "['fasttext-wiki-news-subwords-300', 'conceptnet-numberbatch-17-06-300', 'word2vec-ruscorpora-300', 'word2vec-google-news-300', 'glove-wiki-gigaword-50', 'glove-wiki-gigaword-100', 'glove-wiki-gigaword-200', 'glove-wiki-gigaword-300', 'glove-twitter-25', 'glove-twitter-50', 'glove-twitter-100', 'glove-twitter-200', '__testing_word2vec-matrix-synopsis']\n"
     ]
    }
   ],
   "source": [
    "## list existing models (trained on >>>> data)\n",
    "print(list(api.info()['models'].keys()))\n",
    " \n",
    "# pick one: e.g glove-wiki-gigaword-50 for now, will try others\n",
    "word2vec = api.load(\"glove-wiki-gigaword-50\")"
   ]
  },
  {
   "cell_type": "markdown",
   "id": "b25358ef",
   "metadata": {},
   "source": [
    "### W2v and hyperparameters\n",
    "Change the 3 paramaters to improve results"
   ]
  },
  {
   "cell_type": "code",
   "execution_count": 16,
   "id": "7db68f62",
   "metadata": {
    "ExecuteTime": {
     "end_time": "2022-01-07T15:50:28.606537Z",
     "start_time": "2022-01-07T15:50:28.596994Z"
    }
   },
   "outputs": [],
   "source": [
    "word2vec = Word2Vec(sentences = X_train,\n",
    "                    vector_size=50,   # dimension of the vector \n",
    "                    min_count = 2,    # minimum number of ocurrence for a word to be included in embedding, default 5\n",
    "                    window = 6)   # window, number of words to the R/L of target included in training internal NN"
   ]
  },
  {
   "cell_type": "markdown",
   "id": "2f265f63",
   "metadata": {
    "ExecuteTime": {
     "end_time": "2022-01-07T15:51:20.039022Z",
     "start_time": "2022-01-07T15:51:20.025205Z"
    }
   },
   "source": [
    "### Final data prep- embedding and padding"
   ]
  },
  {
   "cell_type": "code",
   "execution_count": 18,
   "id": "34ba6153",
   "metadata": {
    "ExecuteTime": {
     "end_time": "2022-01-07T15:51:35.086073Z",
     "start_time": "2022-01-07T15:51:35.065686Z"
    }
   },
   "outputs": [],
   "source": [
    "# Embed the training and test sentences\n",
    "X_train_embed = embedding(word2vec, X_train)\n",
    "X_test_embed = embedding(word2vec, X_test)\n",
    "\n",
    "\n",
    "# Pad the training and test embedded sentences\n",
    "X_train_pad = pad_sequences(X_train_embed, dtype='float32', padding='post', maxlen=200)\n",
    "X_test_pad = pad_sequences(X_test_embed, dtype='float32', padding='post', maxlen=200)\n",
    "\n",
    "\n",
    "# Test that dimension of output is as expected\n",
    "for X in [X_train_pad, X_test_pad]:\n",
    "    assert type(X) == np.ndarray\n",
    "    assert X.shape[-1] == word2vec.wv.vector_size\n",
    "\n",
    "\n",
    "assert X_train_pad.shape[0] == len(X_train)\n",
    "assert X_test_pad.shape[0] == len(X_test)"
   ]
  },
  {
   "cell_type": "markdown",
   "id": "e2c1826a",
   "metadata": {},
   "source": [
    "# Run Model"
   ]
  },
  {
   "cell_type": "code",
   "execution_count": null,
   "id": "c119e1e2",
   "metadata": {},
   "outputs": [],
   "source": [
    "def init_model():\n",
    "    model = Sequential()\n",
    "    model.add(layers.Masking())\n",
    "    model.add(layers.LSTM(20, activation='tanh'))\n",
    "    model.add(layers.Dense(15, activation='relu'))\n",
    "    model.add(layers.Dense(1, activation='sigmoid'))\n",
    "\n",
    "    model.compile(loss='binary_crossentropy',\n",
    "                  optimizer='rmsprop',\n",
    "                  metrics=['accuracy'])\n",
    "    \n",
    "    return model\n",
    "\n",
    "model = init_model()\n"
   ]
  },
  {
   "cell_type": "code",
   "execution_count": null,
   "id": "7bc86a82",
   "metadata": {},
   "outputs": [],
   "source": [
    "model.summary()"
   ]
  },
  {
   "cell_type": "markdown",
   "id": "07a156a9",
   "metadata": {},
   "source": [
    "**!!! remember to initialize before every new run**"
   ]
  },
  {
   "cell_type": "code",
   "execution_count": null,
   "id": "cd88be41",
   "metadata": {},
   "outputs": [],
   "source": [
    "es = EarlyStopping(patience=5, restore_best_weights=True)\n",
    "\n",
    "model.fit(X_train_pad, y_train, \n",
    "          batch_size = 32,  # low slower?\n",
    "          epochs=100,\n",
    "          validation_split=0.3,\n",
    "          callbacks=[es]\n",
    "         )\n"
   ]
  },
  {
   "cell_type": "code",
   "execution_count": null,
   "id": "62919e15",
   "metadata": {},
   "outputs": [],
   "source": [
    "res = model.evaluate(X_test_pad, y_test, verbose=0)\n",
    "print(f'The accuracy evaluated on the test set is of {res[1]*100:.3f}%')"
   ]
  }
 ],
 "metadata": {
  "kernelspec": {
   "display_name": "Python 3 (ipykernel)",
   "language": "python",
   "name": "python3"
  },
  "language_info": {
   "codemirror_mode": {
    "name": "ipython",
    "version": 3
   },
   "file_extension": ".py",
   "mimetype": "text/x-python",
   "name": "python",
   "nbconvert_exporter": "python",
   "pygments_lexer": "ipython3",
   "version": "3.8.12"
  },
  "nbTranslate": {
   "displayLangs": [
    "*"
   ],
   "hotkey": "alt-t",
   "langInMainMenu": true,
   "sourceLang": "en",
   "targetLang": "fr",
   "useGoogleTranslate": true
  },
  "toc": {
   "base_numbering": 1,
   "nav_menu": {},
   "number_sections": true,
   "sideBar": true,
   "skip_h1_title": false,
   "title_cell": "Table of Contents",
   "title_sidebar": "Contents",
   "toc_cell": false,
   "toc_position": {},
   "toc_section_display": true,
   "toc_window_display": true
  }
 },
 "nbformat": 4,
 "nbformat_minor": 5
}
