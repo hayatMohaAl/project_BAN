{
 "cells": [
  {
   "cell_type": "markdown",
   "id": "195526e0",
   "metadata": {},
   "source": [
    "# Libraries"
   ]
  },
  {
   "cell_type": "code",
   "execution_count": 1,
   "id": "17613246",
   "metadata": {
    "ExecuteTime": {
     "end_time": "2022-01-08T15:13:33.975212Z",
     "start_time": "2022-01-08T15:13:29.312150Z"
    }
   },
   "outputs": [
    {
     "name": "stderr",
     "output_type": "stream",
     "text": [
      "2022-01-08 16:13:31.706057: W tensorflow/stream_executor/platform/default/dso_loader.cc:64] Could not load dynamic library 'libcudart.so.11.0'; dlerror: libcudart.so.11.0: cannot open shared object file: No such file or directory\n",
      "2022-01-08 16:13:31.706074: I tensorflow/stream_executor/cuda/cudart_stub.cc:29] Ignore above cudart dlerror if you do not have a GPU set up on your machine.\n"
     ]
    },
    {
     "name": "stdout",
     "output_type": "stream",
     "text": [
      "Done\n"
     ]
    }
   ],
   "source": [
    "import pandas as pd\n",
    "import numpy  as np\n",
    "import string \n",
    "import re\n",
    "import itertools\n",
    "import matplotlib.pyplot as plt\n",
    "%matplotlib inline\n",
    "import seaborn as sns\n",
    "\n",
    "from collections import Counter\n",
    "from wordcloud import WordCloud\n",
    "from nltk.corpus import stopwords\n",
    "# import nltk\n",
    "# from nltk.corpus import wordnet\n",
    "# from nltk.stem import WordNetLemmatizer\n",
    "# #from nltk.tokenize.treebank import TreebankWordDetokenizer\n",
    "                                                                                                                                                                                                                                                                                                                                                                                                                                                                                                                                                                                                                                                                                                                                                                                                                                                                                                                                                                                                                                                                                                                                                                                                                                                                                                                                                                                                                                                                                                                                                                                                                                                                                                                                            \n",
    "#from nltk.corpus import stopwords\n",
    "\n",
    "from gensim.utils import simple_preprocess\n",
    "from gensim.models import Word2Vec\n",
    "import gensim.downloader as api\n",
    "\n",
    "from sklearn.model_selection import train_test_split\n",
    "from sklearn.metrics import confusion_matrix\n",
    "from sklearn.metrics import accuracy_score\n",
    "\n",
    "import spacy\n",
    "import pickle\n",
    "import warnings\n",
    "warnings.filterwarnings('ignore')\n",
    "\n",
    "\n",
    "from tensorflow.keras.preprocessing.text import text_to_word_sequence\n",
    "from tensorflow.keras.preprocessing.text import Tokenizer\n",
    "from tensorflow.keras.preprocessing.sequence import pad_sequences\n",
    "from tensorflow.keras import Sequential, layers\n",
    "from tensorflow.keras.callbacks import EarlyStopping\n",
    "\n",
    "print('Done')\n"
   ]
  },
  {
   "cell_type": "markdown",
   "id": "485f4f61",
   "metadata": {},
   "source": [
    "# Data"
   ]
  },
  {
   "cell_type": "markdown",
   "id": "334e623f",
   "metadata": {},
   "source": [
    "## Load data"
   ]
  },
  {
   "cell_type": "code",
   "execution_count": 65,
   "id": "993dc046",
   "metadata": {
    "ExecuteTime": {
     "end_time": "2022-01-08T15:22:13.440277Z",
     "start_time": "2022-01-08T15:22:11.208456Z"
    }
   },
   "outputs": [],
   "source": [
    "pd.set_option('max_colwidth', None) \n",
    "df = pd.read_csv(\"~/Downloads/banData/MeTooHate.csv\")[[\"text\", \"category\"]]\n",
    "df.dropna(inplace = True)"
   ]
  },
  {
   "cell_type": "code",
   "execution_count": 67,
   "id": "6dde8f98",
   "metadata": {
    "ExecuteTime": {
     "end_time": "2022-01-08T15:22:18.806407Z",
     "start_time": "2022-01-08T15:22:18.794780Z"
    }
   },
   "outputs": [],
   "source": [
    "df.reset_index(inplace = True)"
   ]
  },
  {
   "cell_type": "code",
   "execution_count": 101,
   "id": "3e42c462",
   "metadata": {
    "ExecuteTime": {
     "end_time": "2022-01-08T16:56:17.902417Z",
     "start_time": "2022-01-08T16:56:17.873969Z"
    }
   },
   "outputs": [
    {
     "data": {
      "text/plain": [
       "0    708536\n",
       "1     95102\n",
       "Name: category, dtype: int64"
      ]
     },
     "execution_count": 101,
     "metadata": {},
     "output_type": "execute_result"
    }
   ],
   "source": [
    "df[\"category\"].value_counts()"
   ]
  },
  {
   "cell_type": "markdown",
   "id": "dfeb813c",
   "metadata": {
    "ExecuteTime": {
     "end_time": "2022-01-07T13:50:08.629527Z",
     "start_time": "2022-01-07T13:50:08.622223Z"
    }
   },
   "source": [
    "## Help functions for initial data prep"
   ]
  },
  {
   "cell_type": "code",
   "execution_count": 89,
   "id": "2df02a52",
   "metadata": {
    "ExecuteTime": {
     "end_time": "2022-01-08T16:51:14.514829Z",
     "start_time": "2022-01-08T16:51:14.479759Z"
    }
   },
   "outputs": [],
   "source": [
    "def sub_sample_split_X_y(df=df, N = 100, subsample = True, undersample = True):\n",
    "    \n",
    "    # undersample\n",
    "    if undersample == True:\n",
    "        df1 = df[df[\"category\"]== 1]\n",
    "        df1 = df[df[\"category\"]== 1].dropna()\n",
    "        df0 = df[df[\"category\"]== 0].dropna()\n",
    "        df = pd.concat([df0.sample(df1.shape[0]), df1], axis = 0)\n",
    "\n",
    "    #shuffle rows\n",
    "    df = df.sample(frac=1)\n",
    "    df.shape\n",
    "    df.reset_index(inplace = True)\n",
    "    \n",
    "    if subsample == True:\n",
    "        df = df.head(int(f\"{N}\"))\n",
    "   # print(f\"Number of obs in categories {df[\"category\"].value_counts()}\")\n",
    "\n",
    "    y = df[\"category\"]\n",
    "    X = df.drop(columns = [\"category\"]) \n",
    "    return X,y\n",
    "\n",
    "def clean_data(data):\n",
    "    \n",
    "    #Removing URLs with a regular expression\n",
    "    url_pattern = re.compile(r'https?://\\S+|www\\.\\S+')\n",
    "    data = url_pattern.sub(r'', data)\n",
    "\n",
    "    # Remove Emails\n",
    "   # data = re.sub('\\S*@\\S*\\s?', '', data)\n",
    "   \n",
    "    # tokenize + remove scpecial characters + set to lower case\n",
    "    data = text_to_word_sequence(data) \n",
    "    \n",
    "    # Remove stopwords\n",
    "    stop_words = set(stopwords.words('english')) \n",
    "    data = [w for w in data if not w in stop_words]         \n",
    "    \n",
    "    # Remove digits\n",
    "    data = ' '.join(word for word in data if not word.isdigit())\n",
    "    \n",
    "    \n",
    "    return text_to_word_sequence(data)\n",
    "\n",
    "def apply_data_cleaning(X, text, drop_text = False):\n",
    "    ln = X.shape[0]\n",
    "    sentences = []\n",
    "    for i in range(ln):\n",
    "        tmp = X.iloc[i][f'{text}']\n",
    "        tmp_clean = clean_data(tmp)\n",
    "        sentences.append(tmp_clean)\n",
    "    X[\"sentences\"] = sentences\n",
    "    if drop_text == True:\n",
    "        X.drop(columns = f'{text}', inplace = True)\n",
    "    return list(X.sentences)"
   ]
  },
  {
   "cell_type": "markdown",
   "id": "2642027b",
   "metadata": {},
   "source": [
    "## Clean and train_test_split data"
   ]
  },
  {
   "cell_type": "code",
   "execution_count": 22,
   "id": "e88d3577",
   "metadata": {
    "ExecuteTime": {
     "end_time": "2022-01-08T15:16:16.290320Z",
     "start_time": "2022-01-08T15:16:16.286253Z"
    }
   },
   "outputs": [],
   "source": [
    "# X, y = sub_sample_split_X_y(df=df, N = 100, subsample = True)\n",
    "# X = apply_data_cleaning(X = X, text = \"text\", drop_text = True)\n",
    "# X_train, X_test, y_train, y_test = train_test_split(X, y, test_size = 0.20, random_state=42)"
   ]
  },
  {
   "cell_type": "markdown",
   "id": "05a8511a",
   "metadata": {},
   "source": [
    "# Embedding help functions"
   ]
  },
  {
   "cell_type": "code",
   "execution_count": 23,
   "id": "8ac35788",
   "metadata": {
    "ExecuteTime": {
     "end_time": "2022-01-08T15:16:16.853966Z",
     "start_time": "2022-01-08T15:16:16.841065Z"
    }
   },
   "outputs": [],
   "source": [
    "def embed_sentence(word2vec, sentence):\n",
    "    \"\"\"\n",
    "    Function to convert a sentence (list of words) into a matrix representing \n",
    "    the words in the embedding space, training w2v on X_train\n",
    "    \"\"\"\n",
    "    embedded_sentence = []\n",
    "    for word in sentence:\n",
    "        if word in word2vec.wv:\n",
    "            embedded_sentence.append(word2vec.wv[word])\n",
    "        \n",
    "    return np.array(embedded_sentence)\n",
    "   \n",
    "\n",
    "def embed_sentence_with_TF(word2vec, sentence):\n",
    "    \"\"\"\n",
    "    Function to convert a sentence (list of words) into a matrix representing \n",
    "    the words in the embedding space, using transfer learning\n",
    "    \"\"\"\n",
    "    embedded_sentence = []\n",
    "    for word in sentence:\n",
    "        if word in word2vec:\n",
    "            embedded_sentence.append(word2vec[word])\n",
    "        \n",
    "    return np.array(embedded_sentence)\n",
    "\n",
    "\n",
    "\n",
    "def embedding(word2vec, sentences, TF_learning = True):\n",
    "    embed = []\n",
    "    \"\"\"\n",
    "    Function that converts a list of sentences into a list of matrices\n",
    "    \"\"\"\n",
    "    if TF_learning == True:\n",
    "        \n",
    "        for sentence in sentences:\n",
    "            embedded_sentence = embed_sentence_with_TF(word2vec, sentence)\n",
    "            embed.append(embedded_sentence)\n",
    "    else:\n",
    "        for sentence in sentences:\n",
    "            embedded_sentence = embed_sentence(word2vec, sentence)\n",
    "            embed.append(embedded_sentence)  \n",
    "\n",
    "    return embed\n",
    "\n",
    "def select_TF_model(index_list = 4):\n",
    "    \"\"\" \n",
    "    Returns word2vec for a selected w2v model\n",
    "    index_list: Index of the list of existing pretrained models in \"api.info()['models'].keys()\"\n",
    "    default \"glove-wiki-gigaword-50\"\n",
    "    \"\"\"\n",
    "    _list = list(api.info()['models'].keys())\n",
    "    _model = _list[int(f\"{index_list}\")]  \n",
    "    _model\n",
    "    word2vec_transfer = api.load(f\"{_model}\")\n",
    "    print(f\"TF model selected: {_model}\")\n",
    "    return word2vec_transfer"
   ]
  },
  {
   "cell_type": "markdown",
   "id": "9e6ffc5e",
   "metadata": {},
   "source": [
    "# Embedding- selection and tuning"
   ]
  },
  {
   "cell_type": "code",
   "execution_count": 24,
   "id": "8c6ac9cf",
   "metadata": {
    "ExecuteTime": {
     "end_time": "2022-01-08T15:16:17.297210Z",
     "start_time": "2022-01-08T15:16:17.278174Z"
    }
   },
   "outputs": [],
   "source": [
    "# vary hyerparameters and check output 5.2.1\n",
    "word2vec = Word2Vec(sentences = X_train, vector_size=50, min_count = 5, window = 5)\n",
    "embedding_dim = word2vec.wv.vector_size"
   ]
  },
  {
   "cell_type": "code",
   "execution_count": 25,
   "id": "fb4a1232",
   "metadata": {
    "ExecuteTime": {
     "end_time": "2022-01-08T15:16:30.983969Z",
     "start_time": "2022-01-08T15:16:21.156049Z"
    }
   },
   "outputs": [
    {
     "name": "stdout",
     "output_type": "stream",
     "text": [
      "TF model selected: glove-wiki-gigaword-50\n"
     ]
    }
   ],
   "source": [
    "# choose choose pretrained embedding\n",
    "word2vec = select_TF_model(index_list = 4) # default glove-wiki-gigaword-50\n",
    "# list(api.info()['models'].keys()) to see alla available ones\n",
    "embedding_dim = len(word2vec_transfer['dog'])"
   ]
  },
  {
   "cell_type": "code",
   "execution_count": 26,
   "id": "78c75c56",
   "metadata": {
    "ExecuteTime": {
     "end_time": "2022-01-08T15:16:30.987094Z",
     "start_time": "2022-01-08T15:16:30.985385Z"
    }
   },
   "outputs": [],
   "source": [
    "#embedding_dim"
   ]
  },
  {
   "cell_type": "markdown",
   "id": "2f265f63",
   "metadata": {
    "ExecuteTime": {
     "end_time": "2022-01-07T15:51:20.039022Z",
     "start_time": "2022-01-07T15:51:20.025205Z"
    }
   },
   "source": [
    "### Final data prep- embedding and padding"
   ]
  },
  {
   "cell_type": "code",
   "execution_count": 27,
   "id": "34ba6153",
   "metadata": {
    "ExecuteTime": {
     "end_time": "2022-01-08T15:16:30.997920Z",
     "start_time": "2022-01-08T15:16:30.988101Z"
    }
   },
   "outputs": [],
   "source": [
    "# Embed the training and test sentences\n",
    "X_train_embed = embedding(word2vec, X_train)\n",
    "X_test_embed = embedding(word2vec, X_test)\n",
    "\n",
    "\n",
    "# Pad the training and test embedded sentences\n",
    "X_train_pad = pad_sequences(X_train_embed, dtype='float32', padding='post', maxlen=200)\n",
    "X_test_pad = pad_sequences(X_test_embed, dtype='float32', padding='post', maxlen=200)\n",
    "\n",
    "\n",
    "for X in [X_train_pad, X_test_pad]:\n",
    "    assert type(X) == np.ndarray\n",
    "    assert X.shape[-1] ==  embedding_dim \n",
    "\n",
    "\n",
    "assert X_train_pad.shape[0] == len(X_train)\n",
    "assert X_test_pad.shape[0] == len(X_test)"
   ]
  },
  {
   "cell_type": "markdown",
   "id": "e2c1826a",
   "metadata": {},
   "source": [
    "# Run Model"
   ]
  },
  {
   "cell_type": "markdown",
   "id": "38bf13a5",
   "metadata": {},
   "source": [
    "## Fetch data"
   ]
  },
  {
   "cell_type": "code",
   "execution_count": null,
   "id": "d32e538c",
   "metadata": {
    "ExecuteTime": {
     "end_time": "2022-01-08T17:14:38.476124Z",
     "start_time": "2022-01-08T17:14:34.717014Z"
    }
   },
   "outputs": [],
   "source": [
    "## select N\n",
    "#def sub_sample_split_X_y(df=df, N = 100, subsample = True, undersample = True)\n",
    "X, y = sub_sample_split_X_y(df=df, N = 10000, subsample = True, undersample = True)\n",
    "X = apply_data_cleaning(X = X, text = \"text\", drop_text = True)\n",
    "X_train, X_test, y_train, y_test = train_test_split(X, y, test_size = 0.20, random_state=42)"
   ]
  },
  {
   "cell_type": "code",
   "execution_count": 127,
   "id": "e9becbdd",
   "metadata": {
    "ExecuteTime": {
     "end_time": "2022-01-08T17:14:48.241629Z",
     "start_time": "2022-01-08T17:14:48.227574Z"
    }
   },
   "outputs": [
    {
     "name": "stdout",
     "output_type": "stream",
     "text": [
      "category\n",
      "0           4046\n",
      "1           3954\n",
      "dtype: int64\n",
      "Proportion of 0: 0.50575\n",
      "Proportion of 1: 0.49425\n"
     ]
    }
   ],
   "source": [
    "print(pd.DataFrame(y_train).value_counts())\n",
    "print(f\"Proportion of 0: {pd.DataFrame(y_train).value_counts()[0]/len(y_train)}\")\n",
    "print(f\"Proportion of 1: {pd.DataFrame(y_train).value_counts()[1]/len(y_train)}\")"
   ]
  },
  {
   "cell_type": "markdown",
   "id": "d78d794b",
   "metadata": {},
   "source": [
    "## Embedding"
   ]
  },
  {
   "cell_type": "markdown",
   "id": "6b35c0bc",
   "metadata": {},
   "source": [
    "### If w2v trained on X_train"
   ]
  },
  {
   "cell_type": "code",
   "execution_count": 128,
   "id": "cb288d6e",
   "metadata": {
    "ExecuteTime": {
     "end_time": "2022-01-08T17:14:55.807600Z",
     "start_time": "2022-01-08T17:14:55.805166Z"
    }
   },
   "outputs": [],
   "source": [
    "# # # vary hyerparameters and check output 5.2.1\n",
    "# word2vec = Word2Vec(sentences = X_train, vector_size=50, min_count = 5, window = 5)\n",
    "# embedding_dim = word2vec.wv.vector_size\n",
    "\n",
    "# # Embed the training and test sentences\n",
    "# X_train_embed = embedding(word2vec.wv, X_train)\n",
    "# X_test_embed = embedding(word2vec.wv, X_test)"
   ]
  },
  {
   "cell_type": "code",
   "execution_count": null,
   "id": "6670fc86",
   "metadata": {
    "ExecuteTime": {
     "start_time": "2022-01-08T17:20:43.015Z"
    }
   },
   "outputs": [],
   "source": [
    "# # choose choose pretrained embedding\n",
    "word2vec_transfer = select_TF_model(index_list = 9) # default glove-wiki-gigaword-50 # list(api.info()['models'].keys()) to see alla available ones\n",
    "embedding_dim = len(word2vec_transfer['dog'])\n",
    "\n",
    "# Embed the training and test sentences\n",
    "X_train_embed = embedding(word2vec_transfer, X_train)\n",
    "X_test_embed = embedding(word2vec_transfer, X_test)\n"
   ]
  },
  {
   "cell_type": "code",
   "execution_count": null,
   "id": "5a0529f7",
   "metadata": {
    "ExecuteTime": {
     "start_time": "2022-01-08T17:20:43.804Z"
    }
   },
   "outputs": [],
   "source": [
    "list(api.info()['models'].keys())"
   ]
  },
  {
   "cell_type": "code",
   "execution_count": null,
   "id": "723251c6",
   "metadata": {
    "ExecuteTime": {
     "start_time": "2022-01-08T17:20:45.245Z"
    }
   },
   "outputs": [],
   "source": [
    "#list(api.info()['models'].keys())[9]=='glove-twitter-50'\n",
    "embedding_dim"
   ]
  },
  {
   "cell_type": "markdown",
   "id": "33f8dc29",
   "metadata": {
    "ExecuteTime": {
     "end_time": "2022-01-08T15:04:11.450949Z",
     "start_time": "2022-01-08T15:04:11.444160Z"
    }
   },
   "source": [
    "### Pad sequence"
   ]
  },
  {
   "cell_type": "code",
   "execution_count": null,
   "id": "6ec5919e",
   "metadata": {
    "ExecuteTime": {
     "start_time": "2022-01-08T17:20:46.924Z"
    }
   },
   "outputs": [],
   "source": [
    "# Pad the training and test embedded sentences\n",
    "X_train_pad = pad_sequences(X_train_embed, dtype='float32', padding='post', maxlen=200)\n",
    "X_test_pad = pad_sequences(X_test_embed, dtype='float32', padding='post', maxlen=200)\n",
    "\n",
    "\n",
    "for X in [X_train_pad, X_test_pad]:\n",
    "    assert type(X) == np.ndarray\n",
    "    assert X.shape[-1] ==  embedding_dim \n",
    "\n",
    "\n",
    "assert X_train_pad.shape[0] == len(X_train)\n",
    "assert X_test_pad.shape[0] == len(X_test)"
   ]
  },
  {
   "cell_type": "markdown",
   "id": "0e8911c0",
   "metadata": {},
   "source": [
    "## Train model"
   ]
  },
  {
   "cell_type": "code",
   "execution_count": null,
   "id": "c119e1e2",
   "metadata": {
    "ExecuteTime": {
     "start_time": "2022-01-08T17:20:50.000Z"
    }
   },
   "outputs": [],
   "source": [
    "def init_model():\n",
    "    model = Sequential()\n",
    "    model.add(layers.Masking())\n",
    "    model.add(layers.LSTM(20, activation='tanh'))\n",
    "    model.add(layers.Dense(15, activation='relu'))\n",
    "    model.add(layers.Dense(1, activation='sigmoid'))\n",
    "\n",
    "    model.compile(loss='binary_crossentropy',\n",
    "                  optimizer='rmsprop',\n",
    "                  metrics=[\"Recall\"]) #['recall']) # tp/(tp+fn) metrics=[tf.keras.metrics.Recall()]\n",
    "    \n",
    "    return model\n",
    "\n",
    "model = init_model()\n"
   ]
  },
  {
   "cell_type": "code",
   "execution_count": null,
   "id": "7bc86a82",
   "metadata": {
    "ExecuteTime": {
     "start_time": "2022-01-08T17:20:50.720Z"
    }
   },
   "outputs": [],
   "source": [
    "#model.summary()"
   ]
  },
  {
   "cell_type": "markdown",
   "id": "07a156a9",
   "metadata": {},
   "source": [
    "**!!! remember to initialize before every new run**"
   ]
  },
  {
   "cell_type": "code",
   "execution_count": null,
   "id": "cd88be41",
   "metadata": {
    "ExecuteTime": {
     "start_time": "2022-01-08T17:20:52.056Z"
    }
   },
   "outputs": [],
   "source": [
    "es = EarlyStopping(patience=5, restore_best_weights=True)\n",
    "\n",
    "model.fit(X_train_pad, y_train, \n",
    "          batch_size = 32,  # low slower?\n",
    "          epochs=100,\n",
    "          validation_split=0.3,\n",
    "          callbacks=[es]\n",
    "         )\n"
   ]
  },
  {
   "cell_type": "code",
   "execution_count": null,
   "id": "62919e15",
   "metadata": {
    "ExecuteTime": {
     "start_time": "2022-01-08T17:20:53.222Z"
    }
   },
   "outputs": [],
   "source": [
    "res = model.evaluate(X_test_pad, y_test, verbose=1)\n",
    "print(f'The Recall evaluated on the test set is of {res[1]*100:.3f}%')"
   ]
  },
  {
   "cell_type": "code",
   "execution_count": null,
   "id": "b4dfe012",
   "metadata": {
    "ExecuteTime": {
     "start_time": "2022-01-08T17:20:55.275Z"
    }
   },
   "outputs": [],
   "source": [
    "len(y)"
   ]
  },
  {
   "cell_type": "code",
   "execution_count": null,
   "id": "e3a7e981",
   "metadata": {
    "ExecuteTime": {
     "start_time": "2022-01-08T17:20:56.274Z"
    }
   },
   "outputs": [],
   "source": [
    "print(f\"sample size: {len(y)}\")\n",
    "print(f\"Proportion of 0: {pd.DataFrame(y_train).value_counts()[0]/len(y_train)}\")\n",
    "print(f\"Proportion of 1: {pd.DataFrame(y_train).value_counts()[1]/len(y_train)}\")"
   ]
  },
  {
   "cell_type": "markdown",
   "id": "c8335487",
   "metadata": {},
   "source": [
    "## Extras "
   ]
  },
  {
   "cell_type": "markdown",
   "id": "d52f2a2a",
   "metadata": {},
   "source": [
    "## Checking embedding"
   ]
  },
  {
   "cell_type": "markdown",
   "id": "a5d610a5",
   "metadata": {},
   "source": [
    "### Vocabulary size, w2v, similar words"
   ]
  },
  {
   "cell_type": "code",
   "execution_count": null,
   "id": "7597b54b",
   "metadata": {
    "ExecuteTime": {
     "end_time": "2022-01-08T15:13:36.543762Z",
     "start_time": "2022-01-08T15:13:36.543751Z"
    }
   },
   "outputs": [],
   "source": [
    "word2vec = Word2Vec(sentences = X_train, vector_size=50, min_count = 5, window = 5)\n",
    "vocab = word2vec.wv.key_to_index \n",
    "print(len(vocab))\n",
    "print(vocab)\n",
    "print(word2vec.wv[\"women\"])\n",
    "word2vec.wv.most_similar('women')"
   ]
  },
  {
   "cell_type": "code",
   "execution_count": null,
   "id": "eb00abd3",
   "metadata": {},
   "outputs": [],
   "source": []
  }
 ],
 "metadata": {
  "kernelspec": {
   "display_name": "Python 3 (ipykernel)",
   "language": "python",
   "name": "python3"
  },
  "language_info": {
   "codemirror_mode": {
    "name": "ipython",
    "version": 3
   },
   "file_extension": ".py",
   "mimetype": "text/x-python",
   "name": "python",
   "nbconvert_exporter": "python",
   "pygments_lexer": "ipython3",
   "version": "3.8.12"
  },
  "nbTranslate": {
   "displayLangs": [
    "*"
   ],
   "hotkey": "alt-t",
   "langInMainMenu": true,
   "sourceLang": "en",
   "targetLang": "fr",
   "useGoogleTranslate": true
  },
  "toc": {
   "base_numbering": 1,
   "nav_menu": {},
   "number_sections": true,
   "sideBar": true,
   "skip_h1_title": false,
   "title_cell": "Table of Contents",
   "title_sidebar": "Contents",
   "toc_cell": false,
   "toc_position": {},
   "toc_section_display": true,
   "toc_window_display": true
  }
 },
 "nbformat": 4,
 "nbformat_minor": 5
}
