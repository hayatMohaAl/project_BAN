{
 "cells": [
  {
   "cell_type": "markdown",
   "id": "c3a50088",
   "metadata": {},
   "source": [
    "# Libraries"
   ]
  },
  {
   "cell_type": "code",
   "execution_count": 54,
   "id": "b6ec3b86",
   "metadata": {
    "ExecuteTime": {
     "end_time": "2022-01-11T16:40:27.135540Z",
     "start_time": "2022-01-11T16:40:27.105308Z"
    },
    "scrolled": true
   },
   "outputs": [
    {
     "name": "stdout",
     "output_type": "stream",
     "text": [
      "Done\n"
     ]
    }
   ],
   "source": [
    "import pandas as pd\n",
    "import numpy  as np\n",
    "import string \n",
    "import re\n",
    "import itertools\n",
    "import matplotlib.pyplot as plt\n",
    "%matplotlib inline\n",
    "import seaborn as sns\n",
    "\n",
    "from collections import Counter\n",
    "from wordcloud import WordCloud\n",
    "from nltk.corpus import stopwords\n",
    "# import nltk\n",
    "# from nltk.corpus import wordnet\n",
    "# from nltk.stem import WordNetLemmatizer\n",
    "# #from nltk.tokenize.treebank import TreebankWordDetokenizer\n",
    "                                                                                                                                                                                                                                                                                                                                                                                                                                                                                                                                                                                                                                                                                                                                                                                                                                                                                                                                                                                                                                                                                                                                                                                                                                                                                                                                                                                                                                                                                                                                                                                                                                                                                                                                            \n",
    "#from nltk.corpus import stopwords\n",
    "\n",
    "from gensim.utils import simple_preprocess\n",
    "from gensim.models import Word2Vec\n",
    "import gensim.downloader as api\n",
    "\n",
    "from sklearn.model_selection import train_test_split\n",
    "from sklearn.metrics import confusion_matrix\n",
    "from sklearn.metrics import accuracy_score\n",
    "\n",
    "import spacy\n",
    "import pickle\n",
    "import warnings\n",
    "warnings.filterwarnings('ignore')\n",
    "import pickle\n",
    "\n",
    "from tensorflow.keras.preprocessing.text import text_to_word_sequence\n",
    "from tensorflow.keras.preprocessing.text import Tokenizer\n",
    "from tensorflow.keras.preprocessing.sequence import pad_sequences\n",
    "from tensorflow.keras import Sequential, layers\n",
    "from tensorflow.keras.callbacks import EarlyStopping\n",
    "\n",
    "print('Done')\n",
    "\n"
   ]
  },
  {
   "cell_type": "markdown",
   "id": "e38fd5ba",
   "metadata": {},
   "source": [
    "# Data"
   ]
  },
  {
   "cell_type": "code",
   "execution_count": 2,
   "id": "99708015",
   "metadata": {
    "ExecuteTime": {
     "end_time": "2022-01-11T16:32:11.382002Z",
     "start_time": "2022-01-11T16:32:08.991848Z"
    },
    "scrolled": true
   },
   "outputs": [
    {
     "data": {
      "text/html": [
       "<div>\n",
       "<style scoped>\n",
       "    .dataframe tbody tr th:only-of-type {\n",
       "        vertical-align: middle;\n",
       "    }\n",
       "\n",
       "    .dataframe tbody tr th {\n",
       "        vertical-align: top;\n",
       "    }\n",
       "\n",
       "    .dataframe thead th {\n",
       "        text-align: right;\n",
       "    }\n",
       "</style>\n",
       "<table border=\"1\" class=\"dataframe\">\n",
       "  <thead>\n",
       "    <tr style=\"text-align: right;\">\n",
       "      <th></th>\n",
       "      <th>text</th>\n",
       "      <th>category</th>\n",
       "    </tr>\n",
       "  </thead>\n",
       "  <tbody>\n",
       "    <tr>\n",
       "      <th>0</th>\n",
       "      <td>Entitled, obnoxious, defensive, lying weasel. This thing is to make decisions that may affect my life? He is a women hater.</td>\n",
       "      <td>0</td>\n",
       "    </tr>\n",
       "    <tr>\n",
       "      <th>1</th>\n",
       "      <td>Thank you  and  for what you did for the women and survivors this week.  \\n</td>\n",
       "      <td>0</td>\n",
       "    </tr>\n",
       "    <tr>\n",
       "      <th>2</th>\n",
       "      <td>Knitting (s) &amp;amp; getting ready for January 19, 2019.</td>\n",
       "      <td>0</td>\n",
       "    </tr>\n",
       "    <tr>\n",
       "      <th>3</th>\n",
       "      <td>Yep just like triffeling women weaponized their poon!! Wonder if Kamala Harris ever extorted Willy Brown after throwing the poon on him, oh yeh, that how she got her first job me too is a JOKE!</td>\n",
       "      <td>1</td>\n",
       "    </tr>\n",
       "    <tr>\n",
       "      <th>4</th>\n",
       "      <td>No, the President wants to end  movement posing  as the  movement.</td>\n",
       "      <td>0</td>\n",
       "    </tr>\n",
       "  </tbody>\n",
       "</table>\n",
       "</div>"
      ],
      "text/plain": [
       "                                                                                                                                                                                                 text  \\\n",
       "0                                                                      Entitled, obnoxious, defensive, lying weasel. This thing is to make decisions that may affect my life? He is a women hater.      \n",
       "1                                                                                                                         Thank you  and  for what you did for the women and survivors this week.  \\n   \n",
       "2                                                                                                                                         Knitting (s) &amp; getting ready for January 19, 2019.        \n",
       "3  Yep just like triffeling women weaponized their poon!! Wonder if Kamala Harris ever extorted Willy Brown after throwing the poon on him, oh yeh, that how she got her first job me too is a JOKE!    \n",
       "4                                                                                                                                  No, the President wants to end  movement posing  as the  movement.   \n",
       "\n",
       "   category  \n",
       "0         0  \n",
       "1         0  \n",
       "2         0  \n",
       "3         1  \n",
       "4         0  "
      ]
     },
     "execution_count": 2,
     "metadata": {},
     "output_type": "execute_result"
    }
   ],
   "source": [
    "pd.set_option('max_colwidth', None) \n",
    "df = pd.read_csv(\"~/Downloads/banData/MeTooHate.csv\")[[\"text\", \"category\"]]\n",
    "df.head()"
   ]
  },
  {
   "cell_type": "code",
   "execution_count": 3,
   "id": "93097bcd",
   "metadata": {
    "ExecuteTime": {
     "end_time": "2022-01-11T16:32:11.745010Z",
     "start_time": "2022-01-11T16:32:11.388593Z"
    }
   },
   "outputs": [],
   "source": [
    "N =100\n",
    "# df1 = df[df[\"category\"]== 1]\n",
    "# df1 = df[df[\"category\"]== 1].dropna()\n",
    "df0 = df[df[\"category\"]== 0].dropna()\n",
    "# df = pd.concat([df0.sample(df1.shape[0]), df1], axis = 0)\n",
    "\n",
    "# #shuffle rows\n",
    "# df = df.sample(frac=1)\n",
    "# df.shape\n",
    "# df.reset_index(inplace = True)\n",
    "\n",
    "\n",
    "# y = df[\"category\"]\n",
    "# X = df.drop(columns = [\"category\"]) \n"
   ]
  },
  {
   "cell_type": "markdown",
   "id": "802a15c7",
   "metadata": {
    "ExecuteTime": {
     "end_time": "2022-01-11T13:17:16.788115Z",
     "start_time": "2022-01-11T13:17:16.784915Z"
    }
   },
   "source": [
    "## Import relabelled data"
   ]
  },
  {
   "cell_type": "code",
   "execution_count": 4,
   "id": "c7c24d0a",
   "metadata": {
    "ExecuteTime": {
     "end_time": "2022-01-11T16:32:13.569503Z",
     "start_time": "2022-01-11T16:32:13.442287Z"
    }
   },
   "outputs": [
    {
     "name": "stdout",
     "output_type": "stream",
     "text": [
      "abusive_words.csv  abusive_words_list.txt  filter_df  Untitled.ipynb\r\n"
     ]
    }
   ],
   "source": [
    "! ls ../raw_data"
   ]
  },
  {
   "cell_type": "code",
   "execution_count": 5,
   "id": "055517a9",
   "metadata": {
    "ExecuteTime": {
     "end_time": "2022-01-11T16:32:15.269476Z",
     "start_time": "2022-01-11T16:32:15.226885Z"
    }
   },
   "outputs": [
    {
     "data": {
      "text/html": [
       "<div>\n",
       "<style scoped>\n",
       "    .dataframe tbody tr th:only-of-type {\n",
       "        vertical-align: middle;\n",
       "    }\n",
       "\n",
       "    .dataframe tbody tr th {\n",
       "        vertical-align: top;\n",
       "    }\n",
       "\n",
       "    .dataframe thead th {\n",
       "        text-align: right;\n",
       "    }\n",
       "</style>\n",
       "<table border=\"1\" class=\"dataframe\">\n",
       "  <thead>\n",
       "    <tr style=\"text-align: right;\">\n",
       "      <th></th>\n",
       "      <th>text</th>\n",
       "      <th>category</th>\n",
       "      <th>scoring_ponctuation</th>\n",
       "      <th>scoring_capital_word</th>\n",
       "      <th>scoring</th>\n",
       "      <th>relabelling</th>\n",
       "    </tr>\n",
       "  </thead>\n",
       "  <tbody>\n",
       "    <tr>\n",
       "      <th>3</th>\n",
       "      <td>Yep just like triffeling women weaponized their poon!! Wonder if Kamala Harris ever extorted Willy Brown after throwing the poon on him, oh yeh, that how she got her first job me too is a JOKE!</td>\n",
       "      <td>1</td>\n",
       "      <td>0</td>\n",
       "      <td>3</td>\n",
       "      <td>3</td>\n",
       "      <td>1</td>\n",
       "    </tr>\n",
       "    <tr>\n",
       "      <th>7</th>\n",
       "      <td>Save it for Fox Fake News—watched by racists, bigots &amp;amp; other women-hating sexists like yourself. GOP is the party of Putin &amp;amp; the party of Hate—besides women, GOP hates all POC, immigrants, and all ppl not straight. You’re the party of the entitled lying whiny white men.</td>\n",
       "      <td>1</td>\n",
       "      <td>0</td>\n",
       "      <td>9</td>\n",
       "      <td>9</td>\n",
       "      <td>1</td>\n",
       "    </tr>\n",
       "    <tr>\n",
       "      <th>49</th>\n",
       "      <td>As a white male in this  era I'm just scared that if I decide to rape or sexually assault a woman, it can be used against me years later. How am I supposed to ask a girl out?!</td>\n",
       "      <td>1</td>\n",
       "      <td>0</td>\n",
       "      <td>6</td>\n",
       "      <td>6</td>\n",
       "      <td>1</td>\n",
       "    </tr>\n",
       "    <tr>\n",
       "      <th>57</th>\n",
       "      <td>I heard that  received some Shush/Slush money to settle rape charges by her aide who said she just could not remember where or when. . .</td>\n",
       "      <td>1</td>\n",
       "      <td>0</td>\n",
       "      <td>3</td>\n",
       "      <td>3</td>\n",
       "      <td>1</td>\n",
       "    </tr>\n",
       "    <tr>\n",
       "      <th>60</th>\n",
       "      <td>If she hasn't, it's because of people like you shaming her! How dare you tell her how she is or should be feeling! That is why I HATE  the  movement. Along with all of the other movements! You rape these people to further a political objective! You are despicable!</td>\n",
       "      <td>1</td>\n",
       "      <td>0</td>\n",
       "      <td>6</td>\n",
       "      <td>6</td>\n",
       "      <td>1</td>\n",
       "    </tr>\n",
       "  </tbody>\n",
       "</table>\n",
       "</div>"
      ],
      "text/plain": [
       "                                                                                                                                                                                                                                                                                      text  \\\n",
       "3                                                                                       Yep just like triffeling women weaponized their poon!! Wonder if Kamala Harris ever extorted Willy Brown after throwing the poon on him, oh yeh, that how she got her first job me too is a JOKE!    \n",
       "7   Save it for Fox Fake News—watched by racists, bigots &amp; other women-hating sexists like yourself. GOP is the party of Putin &amp; the party of Hate—besides women, GOP hates all POC, immigrants, and all ppl not straight. You’re the party of the entitled lying whiny white men.   \n",
       "49                                                                                                         As a white male in this  era I'm just scared that if I decide to rape or sexually assault a woman, it can be used against me years later. How am I supposed to ask a girl out?!   \n",
       "57                                                                                                                                                I heard that  received some Shush/Slush money to settle rape charges by her aide who said she just could not remember where or when. . .   \n",
       "60                If she hasn't, it's because of people like you shaming her! How dare you tell her how she is or should be feeling! That is why I HATE  the  movement. Along with all of the other movements! You rape these people to further a political objective! You are despicable!   \n",
       "\n",
       "    category  scoring_ponctuation  scoring_capital_word  scoring  relabelling  \n",
       "3          1                    0                     3        3            1  \n",
       "7          1                    0                     9        9            1  \n",
       "49         1                    0                     6        6            1  \n",
       "57         1                    0                     3        3            1  \n",
       "60         1                    0                     6        6            1  "
      ]
     },
     "execution_count": 5,
     "metadata": {},
     "output_type": "execute_result"
    }
   ],
   "source": [
    "# test = df.head(100)\n",
    "# test[\"label\"] = test[\"category\"]\n",
    "# #test[test[score> 200]][\"label\"] = 2\n",
    "\n",
    "with open('../raw_data/filter_df', 'rb') as handle:\n",
    "    filter_df = pickle.load(handle)\n",
    "\n",
    "\n",
    "filter_df.head()"
   ]
  },
  {
   "cell_type": "code",
   "execution_count": 6,
   "id": "a27310ac",
   "metadata": {
    "ExecuteTime": {
     "end_time": "2022-01-11T16:32:16.587988Z",
     "start_time": "2022-01-11T16:32:16.583946Z"
    }
   },
   "outputs": [
    {
     "data": {
      "text/plain": [
       "Index(['text', 'category', 'scoring_ponctuation', 'scoring_capital_word',\n",
       "       'scoring', 'relabelling'],\n",
       "      dtype='object')"
      ]
     },
     "execution_count": 6,
     "metadata": {},
     "output_type": "execute_result"
    }
   ],
   "source": [
    "filter_df.columns"
   ]
  },
  {
   "cell_type": "markdown",
   "id": "637db276",
   "metadata": {},
   "source": [
    "## Select samples from df0"
   ]
  },
  {
   "cell_type": "code",
   "execution_count": 7,
   "id": "edf199c3",
   "metadata": {
    "ExecuteTime": {
     "end_time": "2022-01-11T16:32:18.293209Z",
     "start_time": "2022-01-11T16:32:18.283702Z"
    }
   },
   "outputs": [],
   "source": [
    "df2 = filter_df[filter_df[\"relabelling\"]==2]\n",
    "df2.head()\n",
    "df2[\"label\"] = df2[\"relabelling\"]\n",
    "\n",
    "score_punctuation = [score if score==0 else 1 for score in df2[\"scoring_ponctuation\"]]\n",
    "score_capital_word = [score if score==0 else 1 for score in df2[\"scoring_capital_word\"]]\n",
    "\n",
    "df2[\"score_punctuation\"] = score_punctuation\n",
    "df2[\"score_capital_word\"] = score_capital_word"
   ]
  },
  {
   "cell_type": "code",
   "execution_count": 8,
   "id": "e430d343",
   "metadata": {
    "ExecuteTime": {
     "end_time": "2022-01-11T16:32:19.043301Z",
     "start_time": "2022-01-11T16:32:19.036859Z"
    }
   },
   "outputs": [],
   "source": [
    "score_punctuation = [score if score==0 else 1 for score in df2[\"scoring_ponctuation\"]]\n",
    "score_capital_word = [score if score==0 else 1 for score in df2[\"scoring_capital_word\"]]\n",
    "\n",
    "df2[\"score_punctuation\"] = score_punctuation\n",
    "df2[\"score_capital_word\"] = score_capital_word"
   ]
  },
  {
   "cell_type": "code",
   "execution_count": 9,
   "id": "3baa0075",
   "metadata": {
    "ExecuteTime": {
     "end_time": "2022-01-11T16:32:19.680669Z",
     "start_time": "2022-01-11T16:32:19.673062Z"
    }
   },
   "outputs": [],
   "source": [
    "df2[\"score_punctuation\"] = score_punctuation\n",
    "df2[\"score_capital_word\"] = score_capital_word"
   ]
  },
  {
   "cell_type": "code",
   "execution_count": 10,
   "id": "177e459d",
   "metadata": {
    "ExecuteTime": {
     "end_time": "2022-01-11T16:32:20.291554Z",
     "start_time": "2022-01-11T16:32:20.282375Z"
    }
   },
   "outputs": [
    {
     "data": {
      "text/html": [
       "<div>\n",
       "<style scoped>\n",
       "    .dataframe tbody tr th:only-of-type {\n",
       "        vertical-align: middle;\n",
       "    }\n",
       "\n",
       "    .dataframe tbody tr th {\n",
       "        vertical-align: top;\n",
       "    }\n",
       "\n",
       "    .dataframe thead th {\n",
       "        text-align: right;\n",
       "    }\n",
       "</style>\n",
       "<table border=\"1\" class=\"dataframe\">\n",
       "  <thead>\n",
       "    <tr style=\"text-align: right;\">\n",
       "      <th></th>\n",
       "      <th>text</th>\n",
       "      <th>category</th>\n",
       "      <th>scoring_ponctuation</th>\n",
       "      <th>scoring_capital_word</th>\n",
       "      <th>scoring</th>\n",
       "      <th>relabelling</th>\n",
       "      <th>label</th>\n",
       "      <th>score_punctuation</th>\n",
       "      <th>score_capital_word</th>\n",
       "    </tr>\n",
       "  </thead>\n",
       "  <tbody>\n",
       "    <tr>\n",
       "      <th>78</th>\n",
       "      <td>Trust me...Not like I did. I'm 61 &amp;amp; to this day I cringe at some of the shit I did. I never sexually assaulted anyone. But, I did things that were flat out wrong under . If I ran into any ladies from 40 years ago, I'd take a knee to apologize. Kavanaugh needs to do same.</td>\n",
       "      <td>1</td>\n",
       "      <td>0</td>\n",
       "      <td>18</td>\n",
       "      <td>23</td>\n",
       "      <td>2</td>\n",
       "      <td>2</td>\n",
       "      <td>0</td>\n",
       "      <td>1</td>\n",
       "    </tr>\n",
       "    <tr>\n",
       "      <th>200</th>\n",
       "      <td>BELIEVE HER!!!!!!!!!!!!!!!!!!!!!!!!!!!!  !!!!!!!!!!!!!!!! BELIEVE BELIEVE BELIEVE!!!!!!!!  \\n\\nYou fucking hypocrite loser</td>\n",
       "      <td>1</td>\n",
       "      <td>9</td>\n",
       "      <td>15</td>\n",
       "      <td>29</td>\n",
       "      <td>2</td>\n",
       "      <td>2</td>\n",
       "      <td>1</td>\n",
       "      <td>1</td>\n",
       "    </tr>\n",
       "    <tr>\n",
       "      <th>233</th>\n",
       "      <td>I used to dream of marrying a nice man and living happily ever after, like the romance books.\\nNow I dream of having a fantastic job, a lovely home and children. I don’t need a spouse to make me happy, I can learn how to do it on my own.\\n\\nThat’s what my own  events have done</td>\n",
       "      <td>1</td>\n",
       "      <td>0</td>\n",
       "      <td>12</td>\n",
       "      <td>12</td>\n",
       "      <td>2</td>\n",
       "      <td>2</td>\n",
       "      <td>0</td>\n",
       "      <td>1</td>\n",
       "    </tr>\n",
       "    <tr>\n",
       "      <th>340</th>\n",
       "      <td>IT’S AS IF  ISN’T REALLY ABOUT FAIRNESS AND EQUALITY AT ALL: “If your friend says she wants to cut off every dick in a five mile radius, let her!”\\n\\n</td>\n",
       "      <td>1</td>\n",
       "      <td>0</td>\n",
       "      <td>33</td>\n",
       "      <td>33</td>\n",
       "      <td>2</td>\n",
       "      <td>2</td>\n",
       "      <td>0</td>\n",
       "      <td>1</td>\n",
       "    </tr>\n",
       "    <tr>\n",
       "      <th>538</th>\n",
       "      <td>Partial checklist for women before leaving the house:\\n1. dress 2 tight?\\n2. breasts 2 big/2 obvious?\\n3. ass 2 curvy?\\n4. skirt 2 short/2 sexy?\\n5. hair 2 seductive?\\n6. make-up 2 sexy?\\n7. Will I b harassed?\\n8. Are you ready, Girl?\\nMen:\\n1. Did I pee?\\n</td>\n",
       "      <td>1</td>\n",
       "      <td>0</td>\n",
       "      <td>6</td>\n",
       "      <td>11</td>\n",
       "      <td>2</td>\n",
       "      <td>2</td>\n",
       "      <td>0</td>\n",
       "      <td>1</td>\n",
       "    </tr>\n",
       "  </tbody>\n",
       "</table>\n",
       "</div>"
      ],
      "text/plain": [
       "                                                                                                                                                                                                                                                                                      text  \\\n",
       "78     Trust me...Not like I did. I'm 61 &amp; to this day I cringe at some of the shit I did. I never sexually assaulted anyone. But, I did things that were flat out wrong under . If I ran into any ladies from 40 years ago, I'd take a knee to apologize. Kavanaugh needs to do same.   \n",
       "200                                                                                                                                                            BELIEVE HER!!!!!!!!!!!!!!!!!!!!!!!!!!!!  !!!!!!!!!!!!!!!! BELIEVE BELIEVE BELIEVE!!!!!!!!  \\n\\nYou fucking hypocrite loser    \n",
       "233  I used to dream of marrying a nice man and living happily ever after, like the romance books.\\nNow I dream of having a fantastic job, a lovely home and children. I don’t need a spouse to make me happy, I can learn how to do it on my own.\\n\\nThat’s what my own  events have done   \n",
       "340                                                                                                                                 IT’S AS IF  ISN’T REALLY ABOUT FAIRNESS AND EQUALITY AT ALL: “If your friend says she wants to cut off every dick in a five mile radius, let her!”\\n\\n   \n",
       "538                     Partial checklist for women before leaving the house:\\n1. dress 2 tight?\\n2. breasts 2 big/2 obvious?\\n3. ass 2 curvy?\\n4. skirt 2 short/2 sexy?\\n5. hair 2 seductive?\\n6. make-up 2 sexy?\\n7. Will I b harassed?\\n8. Are you ready, Girl?\\nMen:\\n1. Did I pee?\\n    \n",
       "\n",
       "     category  scoring_ponctuation  scoring_capital_word  scoring  \\\n",
       "78          1                    0                    18       23   \n",
       "200         1                    9                    15       29   \n",
       "233         1                    0                    12       12   \n",
       "340         1                    0                    33       33   \n",
       "538         1                    0                     6       11   \n",
       "\n",
       "     relabelling  label  score_punctuation  score_capital_word  \n",
       "78             2      2                  0                   1  \n",
       "200            2      2                  1                   1  \n",
       "233            2      2                  0                   1  \n",
       "340            2      2                  0                   1  \n",
       "538            2      2                  0                   1  "
      ]
     },
     "execution_count": 10,
     "metadata": {},
     "output_type": "execute_result"
    }
   ],
   "source": [
    "df2.head()"
   ]
  },
  {
   "cell_type": "code",
   "execution_count": 11,
   "id": "ba0fd68c",
   "metadata": {
    "ExecuteTime": {
     "end_time": "2022-01-11T16:32:21.146454Z",
     "start_time": "2022-01-11T16:32:21.136383Z"
    }
   },
   "outputs": [
    {
     "data": {
      "text/html": [
       "<div>\n",
       "<style scoped>\n",
       "    .dataframe tbody tr th:only-of-type {\n",
       "        vertical-align: middle;\n",
       "    }\n",
       "\n",
       "    .dataframe tbody tr th {\n",
       "        vertical-align: top;\n",
       "    }\n",
       "\n",
       "    .dataframe thead th {\n",
       "        text-align: right;\n",
       "    }\n",
       "</style>\n",
       "<table border=\"1\" class=\"dataframe\">\n",
       "  <thead>\n",
       "    <tr style=\"text-align: right;\">\n",
       "      <th></th>\n",
       "      <th>text</th>\n",
       "      <th>label</th>\n",
       "      <th>score_punctuation</th>\n",
       "      <th>score_capital_word</th>\n",
       "    </tr>\n",
       "  </thead>\n",
       "  <tbody>\n",
       "    <tr>\n",
       "      <th>78</th>\n",
       "      <td>Trust me...Not like I did. I'm 61 &amp;amp; to this day I cringe at some of the shit I did. I never sexually assaulted anyone. But, I did things that were flat out wrong under . If I ran into any ladies from 40 years ago, I'd take a knee to apologize. Kavanaugh needs to do same.</td>\n",
       "      <td>2</td>\n",
       "      <td>0</td>\n",
       "      <td>1</td>\n",
       "    </tr>\n",
       "    <tr>\n",
       "      <th>200</th>\n",
       "      <td>BELIEVE HER!!!!!!!!!!!!!!!!!!!!!!!!!!!!  !!!!!!!!!!!!!!!! BELIEVE BELIEVE BELIEVE!!!!!!!!  \\n\\nYou fucking hypocrite loser</td>\n",
       "      <td>2</td>\n",
       "      <td>1</td>\n",
       "      <td>1</td>\n",
       "    </tr>\n",
       "    <tr>\n",
       "      <th>233</th>\n",
       "      <td>I used to dream of marrying a nice man and living happily ever after, like the romance books.\\nNow I dream of having a fantastic job, a lovely home and children. I don’t need a spouse to make me happy, I can learn how to do it on my own.\\n\\nThat’s what my own  events have done</td>\n",
       "      <td>2</td>\n",
       "      <td>0</td>\n",
       "      <td>1</td>\n",
       "    </tr>\n",
       "    <tr>\n",
       "      <th>340</th>\n",
       "      <td>IT’S AS IF  ISN’T REALLY ABOUT FAIRNESS AND EQUALITY AT ALL: “If your friend says she wants to cut off every dick in a five mile radius, let her!”\\n\\n</td>\n",
       "      <td>2</td>\n",
       "      <td>0</td>\n",
       "      <td>1</td>\n",
       "    </tr>\n",
       "    <tr>\n",
       "      <th>538</th>\n",
       "      <td>Partial checklist for women before leaving the house:\\n1. dress 2 tight?\\n2. breasts 2 big/2 obvious?\\n3. ass 2 curvy?\\n4. skirt 2 short/2 sexy?\\n5. hair 2 seductive?\\n6. make-up 2 sexy?\\n7. Will I b harassed?\\n8. Are you ready, Girl?\\nMen:\\n1. Did I pee?\\n</td>\n",
       "      <td>2</td>\n",
       "      <td>0</td>\n",
       "      <td>1</td>\n",
       "    </tr>\n",
       "  </tbody>\n",
       "</table>\n",
       "</div>"
      ],
      "text/plain": [
       "                                                                                                                                                                                                                                                                                      text  \\\n",
       "78     Trust me...Not like I did. I'm 61 &amp; to this day I cringe at some of the shit I did. I never sexually assaulted anyone. But, I did things that were flat out wrong under . If I ran into any ladies from 40 years ago, I'd take a knee to apologize. Kavanaugh needs to do same.   \n",
       "200                                                                                                                                                            BELIEVE HER!!!!!!!!!!!!!!!!!!!!!!!!!!!!  !!!!!!!!!!!!!!!! BELIEVE BELIEVE BELIEVE!!!!!!!!  \\n\\nYou fucking hypocrite loser    \n",
       "233  I used to dream of marrying a nice man and living happily ever after, like the romance books.\\nNow I dream of having a fantastic job, a lovely home and children. I don’t need a spouse to make me happy, I can learn how to do it on my own.\\n\\nThat’s what my own  events have done   \n",
       "340                                                                                                                                 IT’S AS IF  ISN’T REALLY ABOUT FAIRNESS AND EQUALITY AT ALL: “If your friend says she wants to cut off every dick in a five mile radius, let her!”\\n\\n   \n",
       "538                     Partial checklist for women before leaving the house:\\n1. dress 2 tight?\\n2. breasts 2 big/2 obvious?\\n3. ass 2 curvy?\\n4. skirt 2 short/2 sexy?\\n5. hair 2 seductive?\\n6. make-up 2 sexy?\\n7. Will I b harassed?\\n8. Are you ready, Girl?\\nMen:\\n1. Did I pee?\\n    \n",
       "\n",
       "     label  score_punctuation  score_capital_word  \n",
       "78       2                  0                   1  \n",
       "200      2                  1                   1  \n",
       "233      2                  0                   1  \n",
       "340      2                  0                   1  \n",
       "538      2                  0                   1  "
      ]
     },
     "execution_count": 11,
     "metadata": {},
     "output_type": "execute_result"
    }
   ],
   "source": [
    "df2.drop(columns = [\"category\",\"scoring_ponctuation\",\"scoring_capital_word\",\"scoring\",\"relabelling\"], inplace = True)\n",
    "df2.head()"
   ]
  },
  {
   "cell_type": "markdown",
   "id": "dfc176a4",
   "metadata": {},
   "source": [
    "## Add new colonnes to df0"
   ]
  },
  {
   "cell_type": "code",
   "execution_count": 12,
   "id": "bb9af157",
   "metadata": {
    "ExecuteTime": {
     "end_time": "2022-01-11T16:32:22.568204Z",
     "start_time": "2022-01-11T16:32:22.498187Z"
    }
   },
   "outputs": [
    {
     "data": {
      "text/html": [
       "<div>\n",
       "<style scoped>\n",
       "    .dataframe tbody tr th:only-of-type {\n",
       "        vertical-align: middle;\n",
       "    }\n",
       "\n",
       "    .dataframe tbody tr th {\n",
       "        vertical-align: top;\n",
       "    }\n",
       "\n",
       "    .dataframe thead th {\n",
       "        text-align: right;\n",
       "    }\n",
       "</style>\n",
       "<table border=\"1\" class=\"dataframe\">\n",
       "  <thead>\n",
       "    <tr style=\"text-align: right;\">\n",
       "      <th></th>\n",
       "      <th>text</th>\n",
       "      <th>label</th>\n",
       "      <th>score_punctuation</th>\n",
       "      <th>score_capital_word</th>\n",
       "    </tr>\n",
       "  </thead>\n",
       "  <tbody>\n",
       "    <tr>\n",
       "      <th>0</th>\n",
       "      <td>Entitled, obnoxious, defensive, lying weasel. This thing is to make decisions that may affect my life? He is a women hater.</td>\n",
       "      <td>0</td>\n",
       "      <td>0</td>\n",
       "      <td>0</td>\n",
       "    </tr>\n",
       "    <tr>\n",
       "      <th>1</th>\n",
       "      <td>Thank you  and  for what you did for the women and survivors this week.  \\n</td>\n",
       "      <td>0</td>\n",
       "      <td>0</td>\n",
       "      <td>0</td>\n",
       "    </tr>\n",
       "    <tr>\n",
       "      <th>2</th>\n",
       "      <td>Knitting (s) &amp;amp; getting ready for January 19, 2019.</td>\n",
       "      <td>0</td>\n",
       "      <td>0</td>\n",
       "      <td>0</td>\n",
       "    </tr>\n",
       "    <tr>\n",
       "      <th>4</th>\n",
       "      <td>No, the President wants to end  movement posing  as the  movement.</td>\n",
       "      <td>0</td>\n",
       "      <td>0</td>\n",
       "      <td>0</td>\n",
       "    </tr>\n",
       "    <tr>\n",
       "      <th>5</th>\n",
       "      <td>Lock Justin Timberlake up he raped JANET JACKSON.</td>\n",
       "      <td>0</td>\n",
       "      <td>0</td>\n",
       "      <td>0</td>\n",
       "    </tr>\n",
       "  </tbody>\n",
       "</table>\n",
       "</div>"
      ],
      "text/plain": [
       "                                                                                                                             text  \\\n",
       "0  Entitled, obnoxious, defensive, lying weasel. This thing is to make decisions that may affect my life? He is a women hater.      \n",
       "1                                                     Thank you  and  for what you did for the women and survivors this week.  \\n   \n",
       "2                                                                     Knitting (s) &amp; getting ready for January 19, 2019.        \n",
       "4                                                              No, the President wants to end  movement posing  as the  movement.   \n",
       "5                                                                             Lock Justin Timberlake up he raped JANET JACKSON.     \n",
       "\n",
       "   label  score_punctuation  score_capital_word  \n",
       "0      0                  0                   0  \n",
       "1      0                  0                   0  \n",
       "2      0                  0                   0  \n",
       "4      0                  0                   0  \n",
       "5      0                  0                   0  "
      ]
     },
     "execution_count": 12,
     "metadata": {},
     "output_type": "execute_result"
    }
   ],
   "source": [
    "df0[\"label\"] = df0[\"category\"]\n",
    "df0.drop(columns =[\"category\"], inplace = True)\n",
    "\n",
    "df0[\"score_punctuation\"] = 0\n",
    "df0[\"score_capital_word\"] = 0\n",
    "df0.head()"
   ]
  },
  {
   "cell_type": "code",
   "execution_count": 13,
   "id": "a765c8af",
   "metadata": {
    "ExecuteTime": {
     "end_time": "2022-01-11T16:32:23.251877Z",
     "start_time": "2022-01-11T16:32:23.117666Z"
    }
   },
   "outputs": [
    {
     "name": "stdout",
     "output_type": "stream",
     "text": [
      "(20182, 4)\n"
     ]
    }
   ],
   "source": [
    "#shuffle rows before sampling\n",
    "df0 = df0.sample(frac=1)\n",
    "df0.shape\n",
    "#df.reset_index(inplace = True)\n",
    "\n",
    "# sample 2N\n",
    "df0_sample = df0.head(2*df2.shape[0])\n",
    "print(df0_sample.shape)"
   ]
  },
  {
   "cell_type": "code",
   "execution_count": 14,
   "id": "b94b0f4c",
   "metadata": {
    "ExecuteTime": {
     "end_time": "2022-01-11T16:32:23.827675Z",
     "start_time": "2022-01-11T16:32:23.812090Z"
    }
   },
   "outputs": [
    {
     "name": "stdout",
     "output_type": "stream",
     "text": [
      "(30273, 4)\n",
      "(30273, 4)\n"
     ]
    }
   ],
   "source": [
    "\n",
    "# new df\n",
    "df = pd.concat([df0_sample, df2], axis = 0)\n",
    "print(df.shape)\n",
    "\n",
    "# reshuffle and set index\n",
    "df = df.sample(frac=1)\n",
    "print(df.shape)\n",
    "df.reset_index(inplace = True)\n",
    "\n",
    "df.reset_index(inplace = True)\n",
    "#df = df.drop(columns = [\"level_0\",\"index\"], inplace = True) \n",
    "df.head()"
   ]
  },
  {
   "cell_type": "code",
   "execution_count": 15,
   "id": "d340456f",
   "metadata": {
    "ExecuteTime": {
     "end_time": "2022-01-11T16:32:24.382361Z",
     "start_time": "2022-01-11T16:32:24.371455Z"
    }
   },
   "outputs": [
    {
     "data": {
      "text/html": [
       "<div>\n",
       "<style scoped>\n",
       "    .dataframe tbody tr th:only-of-type {\n",
       "        vertical-align: middle;\n",
       "    }\n",
       "\n",
       "    .dataframe tbody tr th {\n",
       "        vertical-align: top;\n",
       "    }\n",
       "\n",
       "    .dataframe thead th {\n",
       "        text-align: right;\n",
       "    }\n",
       "</style>\n",
       "<table border=\"1\" class=\"dataframe\">\n",
       "  <thead>\n",
       "    <tr style=\"text-align: right;\">\n",
       "      <th></th>\n",
       "      <th>level_0</th>\n",
       "      <th>index</th>\n",
       "      <th>text</th>\n",
       "      <th>label</th>\n",
       "      <th>score_punctuation</th>\n",
       "      <th>score_capital_word</th>\n",
       "    </tr>\n",
       "  </thead>\n",
       "  <tbody>\n",
       "    <tr>\n",
       "      <th>0</th>\n",
       "      <td>0</td>\n",
       "      <td>449217</td>\n",
       "      <td>TEN PER CENT of men don’t think that taking a photograph up a woman’s skirt without her permission  is harassment. Seriously. Who the FUCK are these insects?!?!</td>\n",
       "      <td>2</td>\n",
       "      <td>0</td>\n",
       "      <td>1</td>\n",
       "    </tr>\n",
       "    <tr>\n",
       "      <th>1</th>\n",
       "      <td>1</td>\n",
       "      <td>197860</td>\n",
       "      <td>Where is the  movement on helping to make sure this happens?  ?</td>\n",
       "      <td>0</td>\n",
       "      <td>0</td>\n",
       "      <td>0</td>\n",
       "    </tr>\n",
       "    <tr>\n",
       "      <th>2</th>\n",
       "      <td>2</td>\n",
       "      <td>47004</td>\n",
       "      <td>It’s obvious from Judge K &amp;amp; Doofus Trump that sex predators have as much (or more) trouble remembering their assaults than the victims do.</td>\n",
       "      <td>0</td>\n",
       "      <td>0</td>\n",
       "      <td>0</td>\n",
       "    </tr>\n",
       "    <tr>\n",
       "      <th>3</th>\n",
       "      <td>3</td>\n",
       "      <td>496028</td>\n",
       "      <td>, delighted I am, Jim Acosta is overdue for a spanking.</td>\n",
       "      <td>0</td>\n",
       "      <td>0</td>\n",
       "      <td>0</td>\n",
       "    </tr>\n",
       "    <tr>\n",
       "      <th>4</th>\n",
       "      <td>4</td>\n",
       "      <td>167330</td>\n",
       "      <td>I’ve seen stupid before. Besides, morality will be the campaign slogan &amp;amp; you all can’t compete in this arena &amp;amp; I don’t give a shit about Clinton. He lied, impeached &amp;amp; pardoned. I didn’t vote for him.  Republican until 2016!  Never going back. I am woman &amp;amp; fuck this! ENOUGH</td>\n",
       "      <td>2</td>\n",
       "      <td>0</td>\n",
       "      <td>1</td>\n",
       "    </tr>\n",
       "  </tbody>\n",
       "</table>\n",
       "</div>"
      ],
      "text/plain": [
       "   level_0   index  \\\n",
       "0        0  449217   \n",
       "1        1  197860   \n",
       "2        2   47004   \n",
       "3        3  496028   \n",
       "4        4  167330   \n",
       "\n",
       "                                                                                                                                                                                                                                                                                                 text  \\\n",
       "0                                                                                                                               TEN PER CENT of men don’t think that taking a photograph up a woman’s skirt without her permission  is harassment. Seriously. Who the FUCK are these insects?!?!        \n",
       "1                                                                                                                                                                                                                                     Where is the  movement on helping to make sure this happens?  ?   \n",
       "2                                                                                                                                                   It’s obvious from Judge K &amp; Doofus Trump that sex predators have as much (or more) trouble remembering their assaults than the victims do.      \n",
       "3                                                                                                                                                                                                                                             , delighted I am, Jim Acosta is overdue for a spanking.   \n",
       "4   I’ve seen stupid before. Besides, morality will be the campaign slogan &amp; you all can’t compete in this arena &amp; I don’t give a shit about Clinton. He lied, impeached &amp; pardoned. I didn’t vote for him.  Republican until 2016!  Never going back. I am woman &amp; fuck this! ENOUGH   \n",
       "\n",
       "   label  score_punctuation  score_capital_word  \n",
       "0      2                  0                   1  \n",
       "1      0                  0                   0  \n",
       "2      0                  0                   0  \n",
       "3      0                  0                   0  \n",
       "4      2                  0                   1  "
      ]
     },
     "execution_count": 15,
     "metadata": {},
     "output_type": "execute_result"
    }
   ],
   "source": [
    "df.reset_index(inplace = True)\n",
    "#df = df.drop(columns = [\"level_0\",\"index\"], inplace = True) \n",
    "df.head()"
   ]
  },
  {
   "cell_type": "code",
   "execution_count": 16,
   "id": "bca9ffdd",
   "metadata": {
    "ExecuteTime": {
     "end_time": "2022-01-11T16:32:24.943635Z",
     "start_time": "2022-01-11T16:32:24.936522Z"
    }
   },
   "outputs": [
    {
     "data": {
      "text/plain": [
       "0    20182\n",
       "2    10091\n",
       "Name: label, dtype: int64"
      ]
     },
     "execution_count": 16,
     "metadata": {},
     "output_type": "execute_result"
    }
   ],
   "source": [
    "df[\"label\"].value_counts()"
   ]
  },
  {
   "cell_type": "code",
   "execution_count": 17,
   "id": "704bc46e",
   "metadata": {
    "ExecuteTime": {
     "end_time": "2022-01-11T16:32:25.596959Z",
     "start_time": "2022-01-11T16:32:25.581994Z"
    }
   },
   "outputs": [
    {
     "name": "stdout",
     "output_type": "stream",
     "text": [
      "<class 'pandas.core.frame.DataFrame'>\n",
      "RangeIndex: 30273 entries, 0 to 30272\n",
      "Data columns (total 6 columns):\n",
      " #   Column              Non-Null Count  Dtype \n",
      "---  ------              --------------  ----- \n",
      " 0   level_0             30273 non-null  int64 \n",
      " 1   index               30273 non-null  int64 \n",
      " 2   text                30273 non-null  object\n",
      " 3   label               30273 non-null  int64 \n",
      " 4   score_punctuation   30273 non-null  int64 \n",
      " 5   score_capital_word  30273 non-null  int64 \n",
      "dtypes: int64(5), object(1)\n",
      "memory usage: 1.4+ MB\n"
     ]
    }
   ],
   "source": [
    "df.info()"
   ]
  },
  {
   "cell_type": "code",
   "execution_count": 18,
   "id": "853424a5",
   "metadata": {
    "ExecuteTime": {
     "end_time": "2022-01-11T16:32:26.332117Z",
     "start_time": "2022-01-11T16:32:26.316726Z"
    }
   },
   "outputs": [
    {
     "name": "stdout",
     "output_type": "stream",
     "text": [
      "optimized size by 65.0 % | 0.000514769 GB\n"
     ]
    }
   ],
   "source": [
    "def df_optimized(df, verbose=True, **kwargs):\n",
    "    \"\"\"\n",
    "    Reduces size of dataframe by downcasting numerical columns\n",
    "    :param df: input dataframe\n",
    "    :param verbose: print size reduction if set to True\n",
    "    :param kwargs:\n",
    "    :return:\n",
    "    \"\"\"\n",
    "    in_size = df.memory_usage(index=True).sum()\n",
    "    for type in [\"float\", \"integer\"]:\n",
    "        l_cols = list(df.select_dtypes(include=type))\n",
    "        for col in l_cols:\n",
    "            df[col] = pd.to_numeric(df[col], downcast=type)\n",
    "            if type == \"float\":\n",
    "                df[col] = pd.to_numeric(df[col], downcast=\"integer\")\n",
    "    out_size = df.memory_usage(index=True).sum()\n",
    "    ratio = (1 - round(out_size / in_size, 2)) * 100\n",
    "    GB = out_size / 1000000000\n",
    "    if verbose:\n",
    "        print(\"optimized size by {} % | {} GB\".format(ratio, GB))\n",
    "    return df\n",
    "df = df_optimized(df, verbose=True)"
   ]
  },
  {
   "cell_type": "code",
   "execution_count": 20,
   "id": "3b86afb7",
   "metadata": {
    "ExecuteTime": {
     "end_time": "2022-01-11T16:32:38.381144Z",
     "start_time": "2022-01-11T16:32:38.373660Z"
    }
   },
   "outputs": [
    {
     "data": {
      "text/plain": [
       "(30273, 6)"
      ]
     },
     "execution_count": 20,
     "metadata": {},
     "output_type": "execute_result"
    }
   ],
   "source": [
    "df.shape"
   ]
  },
  {
   "cell_type": "code",
   "execution_count": 23,
   "id": "cc9f8492",
   "metadata": {
    "ExecuteTime": {
     "end_time": "2022-01-11T16:34:13.426460Z",
     "start_time": "2022-01-11T16:34:13.418757Z"
    }
   },
   "outputs": [
    {
     "data": {
      "text/html": [
       "<div>\n",
       "<style scoped>\n",
       "    .dataframe tbody tr th:only-of-type {\n",
       "        vertical-align: middle;\n",
       "    }\n",
       "\n",
       "    .dataframe tbody tr th {\n",
       "        vertical-align: top;\n",
       "    }\n",
       "\n",
       "    .dataframe thead th {\n",
       "        text-align: right;\n",
       "    }\n",
       "</style>\n",
       "<table border=\"1\" class=\"dataframe\">\n",
       "  <thead>\n",
       "    <tr style=\"text-align: right;\">\n",
       "      <th></th>\n",
       "      <th>level_0</th>\n",
       "      <th>index</th>\n",
       "      <th>text</th>\n",
       "      <th>label</th>\n",
       "      <th>score_punctuation</th>\n",
       "      <th>score_capital_word</th>\n",
       "    </tr>\n",
       "  </thead>\n",
       "  <tbody>\n",
       "    <tr>\n",
       "      <th>0</th>\n",
       "      <td>0</td>\n",
       "      <td>449217</td>\n",
       "      <td>TEN PER CENT of men don’t think that taking a photograph up a woman’s skirt without her permission  is harassment. Seriously. Who the FUCK are these insects?!?!</td>\n",
       "      <td>2</td>\n",
       "      <td>0</td>\n",
       "      <td>1</td>\n",
       "    </tr>\n",
       "    <tr>\n",
       "      <th>1</th>\n",
       "      <td>1</td>\n",
       "      <td>197860</td>\n",
       "      <td>Where is the  movement on helping to make sure this happens?  ?</td>\n",
       "      <td>0</td>\n",
       "      <td>0</td>\n",
       "      <td>0</td>\n",
       "    </tr>\n",
       "    <tr>\n",
       "      <th>2</th>\n",
       "      <td>2</td>\n",
       "      <td>47004</td>\n",
       "      <td>It’s obvious from Judge K &amp;amp; Doofus Trump that sex predators have as much (or more) trouble remembering their assaults than the victims do.</td>\n",
       "      <td>0</td>\n",
       "      <td>0</td>\n",
       "      <td>0</td>\n",
       "    </tr>\n",
       "    <tr>\n",
       "      <th>3</th>\n",
       "      <td>3</td>\n",
       "      <td>496028</td>\n",
       "      <td>, delighted I am, Jim Acosta is overdue for a spanking.</td>\n",
       "      <td>0</td>\n",
       "      <td>0</td>\n",
       "      <td>0</td>\n",
       "    </tr>\n",
       "    <tr>\n",
       "      <th>4</th>\n",
       "      <td>4</td>\n",
       "      <td>167330</td>\n",
       "      <td>I’ve seen stupid before. Besides, morality will be the campaign slogan &amp;amp; you all can’t compete in this arena &amp;amp; I don’t give a shit about Clinton. He lied, impeached &amp;amp; pardoned. I didn’t vote for him.  Republican until 2016!  Never going back. I am woman &amp;amp; fuck this! ENOUGH</td>\n",
       "      <td>2</td>\n",
       "      <td>0</td>\n",
       "      <td>1</td>\n",
       "    </tr>\n",
       "  </tbody>\n",
       "</table>\n",
       "</div>"
      ],
      "text/plain": [
       "   level_0   index  \\\n",
       "0        0  449217   \n",
       "1        1  197860   \n",
       "2        2   47004   \n",
       "3        3  496028   \n",
       "4        4  167330   \n",
       "\n",
       "                                                                                                                                                                                                                                                                                                 text  \\\n",
       "0                                                                                                                               TEN PER CENT of men don’t think that taking a photograph up a woman’s skirt without her permission  is harassment. Seriously. Who the FUCK are these insects?!?!        \n",
       "1                                                                                                                                                                                                                                     Where is the  movement on helping to make sure this happens?  ?   \n",
       "2                                                                                                                                                   It’s obvious from Judge K &amp; Doofus Trump that sex predators have as much (or more) trouble remembering their assaults than the victims do.      \n",
       "3                                                                                                                                                                                                                                             , delighted I am, Jim Acosta is overdue for a spanking.   \n",
       "4   I’ve seen stupid before. Besides, morality will be the campaign slogan &amp; you all can’t compete in this arena &amp; I don’t give a shit about Clinton. He lied, impeached &amp; pardoned. I didn’t vote for him.  Republican until 2016!  Never going back. I am woman &amp; fuck this! ENOUGH   \n",
       "\n",
       "   label  score_punctuation  score_capital_word  \n",
       "0      2                  0                   1  \n",
       "1      0                  0                   0  \n",
       "2      0                  0                   0  \n",
       "3      0                  0                   0  \n",
       "4      2                  0                   1  "
      ]
     },
     "execution_count": 23,
     "metadata": {},
     "output_type": "execute_result"
    }
   ],
   "source": [
    "df.head()"
   ]
  },
  {
   "cell_type": "markdown",
   "id": "5743c4a2",
   "metadata": {},
   "source": [
    "## Sample"
   ]
  },
  {
   "cell_type": "code",
   "execution_count": 25,
   "id": "b4d606a8",
   "metadata": {
    "ExecuteTime": {
     "end_time": "2022-01-11T16:34:33.390937Z",
     "start_time": "2022-01-11T16:34:33.384801Z"
    }
   },
   "outputs": [
    {
     "data": {
      "text/plain": [
       "0    683\n",
       "2    317\n",
       "Name: label, dtype: int64"
      ]
     },
     "execution_count": 25,
     "metadata": {},
     "output_type": "execute_result"
    }
   ],
   "source": [
    "df = df.head(1000)\n",
    "df[\"label\"].value_counts()"
   ]
  },
  {
   "cell_type": "markdown",
   "id": "8b35b87d",
   "metadata": {},
   "source": [
    "## Train test split "
   ]
  },
  {
   "cell_type": "code",
   "execution_count": 26,
   "id": "53b4897b",
   "metadata": {
    "ExecuteTime": {
     "end_time": "2022-01-11T16:34:47.071460Z",
     "start_time": "2022-01-11T16:34:47.066939Z"
    }
   },
   "outputs": [
    {
     "data": {
      "text/plain": [
       "1000"
      ]
     },
     "execution_count": 26,
     "metadata": {},
     "output_type": "execute_result"
    }
   ],
   "source": [
    "y = df[\"label\"]\n",
    "len(y)"
   ]
  },
  {
   "cell_type": "code",
   "execution_count": 33,
   "id": "be9921a6",
   "metadata": {
    "ExecuteTime": {
     "end_time": "2022-01-11T16:35:43.926990Z",
     "start_time": "2022-01-11T16:35:43.918298Z"
    }
   },
   "outputs": [
    {
     "data": {
      "text/html": [
       "<div>\n",
       "<style scoped>\n",
       "    .dataframe tbody tr th:only-of-type {\n",
       "        vertical-align: middle;\n",
       "    }\n",
       "\n",
       "    .dataframe tbody tr th {\n",
       "        vertical-align: top;\n",
       "    }\n",
       "\n",
       "    .dataframe thead th {\n",
       "        text-align: right;\n",
       "    }\n",
       "</style>\n",
       "<table border=\"1\" class=\"dataframe\">\n",
       "  <thead>\n",
       "    <tr style=\"text-align: right;\">\n",
       "      <th></th>\n",
       "      <th>level_0</th>\n",
       "      <th>index</th>\n",
       "      <th>text</th>\n",
       "      <th>score_punctuation</th>\n",
       "      <th>score_capital_word</th>\n",
       "    </tr>\n",
       "  </thead>\n",
       "  <tbody>\n",
       "    <tr>\n",
       "      <th>0</th>\n",
       "      <td>0</td>\n",
       "      <td>449217</td>\n",
       "      <td>TEN PER CENT of men don’t think that taking a photograph up a woman’s skirt without her permission  is harassment. Seriously. Who the FUCK are these insects?!?!</td>\n",
       "      <td>0</td>\n",
       "      <td>1</td>\n",
       "    </tr>\n",
       "    <tr>\n",
       "      <th>1</th>\n",
       "      <td>1</td>\n",
       "      <td>197860</td>\n",
       "      <td>Where is the  movement on helping to make sure this happens?  ?</td>\n",
       "      <td>0</td>\n",
       "      <td>0</td>\n",
       "    </tr>\n",
       "    <tr>\n",
       "      <th>2</th>\n",
       "      <td>2</td>\n",
       "      <td>47004</td>\n",
       "      <td>It’s obvious from Judge K &amp;amp; Doofus Trump that sex predators have as much (or more) trouble remembering their assaults than the victims do.</td>\n",
       "      <td>0</td>\n",
       "      <td>0</td>\n",
       "    </tr>\n",
       "    <tr>\n",
       "      <th>3</th>\n",
       "      <td>3</td>\n",
       "      <td>496028</td>\n",
       "      <td>, delighted I am, Jim Acosta is overdue for a spanking.</td>\n",
       "      <td>0</td>\n",
       "      <td>0</td>\n",
       "    </tr>\n",
       "    <tr>\n",
       "      <th>4</th>\n",
       "      <td>4</td>\n",
       "      <td>167330</td>\n",
       "      <td>I’ve seen stupid before. Besides, morality will be the campaign slogan &amp;amp; you all can’t compete in this arena &amp;amp; I don’t give a shit about Clinton. He lied, impeached &amp;amp; pardoned. I didn’t vote for him.  Republican until 2016!  Never going back. I am woman &amp;amp; fuck this! ENOUGH</td>\n",
       "      <td>0</td>\n",
       "      <td>1</td>\n",
       "    </tr>\n",
       "  </tbody>\n",
       "</table>\n",
       "</div>"
      ],
      "text/plain": [
       "   level_0   index  \\\n",
       "0        0  449217   \n",
       "1        1  197860   \n",
       "2        2   47004   \n",
       "3        3  496028   \n",
       "4        4  167330   \n",
       "\n",
       "                                                                                                                                                                                                                                                                                                 text  \\\n",
       "0                                                                                                                               TEN PER CENT of men don’t think that taking a photograph up a woman’s skirt without her permission  is harassment. Seriously. Who the FUCK are these insects?!?!        \n",
       "1                                                                                                                                                                                                                                     Where is the  movement on helping to make sure this happens?  ?   \n",
       "2                                                                                                                                                   It’s obvious from Judge K &amp; Doofus Trump that sex predators have as much (or more) trouble remembering their assaults than the victims do.      \n",
       "3                                                                                                                                                                                                                                             , delighted I am, Jim Acosta is overdue for a spanking.   \n",
       "4   I’ve seen stupid before. Besides, morality will be the campaign slogan &amp; you all can’t compete in this arena &amp; I don’t give a shit about Clinton. He lied, impeached &amp; pardoned. I didn’t vote for him.  Republican until 2016!  Never going back. I am woman &amp; fuck this! ENOUGH   \n",
       "\n",
       "   score_punctuation  score_capital_word  \n",
       "0                  0                   1  \n",
       "1                  0                   0  \n",
       "2                  0                   0  \n",
       "3                  0                   0  \n",
       "4                  0                   1  "
      ]
     },
     "execution_count": 33,
     "metadata": {},
     "output_type": "execute_result"
    }
   ],
   "source": [
    "X = df.copy()# \n",
    "X.drop(columns = \"label\", inplace = True)\n",
    "X.head()"
   ]
  },
  {
   "cell_type": "code",
   "execution_count": 34,
   "id": "ce9dd6c0",
   "metadata": {
    "ExecuteTime": {
     "end_time": "2022-01-11T16:35:52.390340Z",
     "start_time": "2022-01-11T16:35:52.381681Z"
    }
   },
   "outputs": [
    {
     "name": "stdout",
     "output_type": "stream",
     "text": [
      "800\n",
      "800\n",
      "200\n",
      "200\n"
     ]
    }
   ],
   "source": [
    "X_train, X_test, y_train, y_test = train_test_split(X, y, test_size = 0.20, random_state=42)\n",
    "print(len(X_train))\n",
    "print(len(y_train))\n",
    "print(len(X_test))\n",
    "print(len(y_test))"
   ]
  },
  {
   "cell_type": "markdown",
   "id": "6c2b7b19",
   "metadata": {},
   "source": [
    "## Split X into features and text"
   ]
  },
  {
   "cell_type": "code",
   "execution_count": 89,
   "id": "6162d3c4",
   "metadata": {
    "ExecuteTime": {
     "end_time": "2022-01-11T16:50:55.668682Z",
     "start_time": "2022-01-11T16:50:55.646264Z"
    }
   },
   "outputs": [],
   "source": [
    "X_train_text = X_train[[\"text\"]]\n",
    "X_test_text = X_test[[\"text\"]]\n",
    "\n",
    "X_train_features = X_train[[\"score_punctuation\",\t\"score_capital_word\"]]\n",
    "X_test_features = X_test[[\"score_punctuation\",\t\"score_capital_word\"]]"
   ]
  },
  {
   "cell_type": "code",
   "execution_count": 90,
   "id": "f6db32cd",
   "metadata": {
    "ExecuteTime": {
     "end_time": "2022-01-11T16:50:56.340732Z",
     "start_time": "2022-01-11T16:50:56.338048Z"
    }
   },
   "outputs": [],
   "source": [
    "#X_train_text.head()"
   ]
  },
  {
   "cell_type": "code",
   "execution_count": 91,
   "id": "bb8b207c",
   "metadata": {
    "ExecuteTime": {
     "end_time": "2022-01-11T16:50:57.324038Z",
     "start_time": "2022-01-11T16:50:57.318049Z"
    }
   },
   "outputs": [],
   "source": [
    "assert(X_train_features.shape[0]==X_train_text.shape[0])"
   ]
  },
  {
   "cell_type": "markdown",
   "id": "f9d548b5",
   "metadata": {
    "heading_collapsed": true
   },
   "source": [
    "## Check Emojis in dict"
   ]
  },
  {
   "cell_type": "code",
   "execution_count": null,
   "id": "6275b271",
   "metadata": {
    "hidden": true
   },
   "outputs": [],
   "source": []
  },
  {
   "cell_type": "code",
   "execution_count": null,
   "id": "53f0b645",
   "metadata": {
    "ExecuteTime": {
     "end_time": "2022-01-10T15:10:49.567564Z",
     "start_time": "2022-01-10T15:10:49.558636Z"
    },
    "hidden": true
   },
   "outputs": [],
   "source": [
    "# grinning face\n",
    "print(\"\\U0001F600\")\n",
    "# beaming face with smiling eyes\n",
    "print(\"\\U0001F601\")\n",
    "# grinning face with sweat\n",
    "print(\"\\U0001F605\")\n",
    "# rolling on the floor laughing\n",
    "print(\"\\U0001F923\")\n",
    "# face with tears of joy\n",
    "print(\"\\U0001F602\")\n",
    "# slightly smiling face\n",
    "print(\"\\U0001F642\")\n",
    "# smiling face with halo\n",
    "print(\"\\U0001F607\")\n",
    "# smiling face with heart-eyes\n",
    "print(\"\\U0001F60D\")\n",
    "# zipper-mouth face\n",
    "print(\"\\U0001F910\")\n",
    "# unamused face\n",
    "print(\"\\U0001F612\")"
   ]
  },
  {
   "cell_type": "code",
   "execution_count": null,
   "id": "43bef5d2",
   "metadata": {
    "ExecuteTime": {
     "end_time": "2022-01-10T15:10:50.230823Z",
     "start_time": "2022-01-10T15:10:50.224585Z"
    },
    "hidden": true
   },
   "outputs": [],
   "source": [
    "# Import required libraries\n",
    "import regex as re\n",
    "# Text from which you want to extract emojis\n",
    "text = 'We 😊 want 😅 to 😏 extract 😁 these 😀 emojis '\n",
    "# Using regular expression to find and extract all emojis from the text\n",
    "emojis = re.findall(r'[^\\w\\⁠s,. ]', text)\n",
    "print(emojis)"
   ]
  },
  {
   "cell_type": "code",
   "execution_count": null,
   "id": "cd1e6eaf",
   "metadata": {
    "ExecuteTime": {
     "end_time": "2022-01-10T15:10:50.754927Z",
     "start_time": "2022-01-10T15:10:50.749748Z"
    },
    "hidden": true
   },
   "outputs": [],
   "source": [
    "re.findall(r'[^\\w\\⁠s,. ]', \"\\U0001F642\")\n",
    "#! pip install emoji\n",
    "#! pip install demoji"
   ]
  },
  {
   "cell_type": "code",
   "execution_count": null,
   "id": "2a49b6b1",
   "metadata": {
    "ExecuteTime": {
     "end_time": "2022-01-10T15:11:49.621121Z",
     "start_time": "2022-01-10T15:11:49.617683Z"
    },
    "hidden": true
   },
   "outputs": [],
   "source": [
    "# Importing demoji library\n",
    "import demoji\n",
    "demoji.download_codes()"
   ]
  },
  {
   "cell_type": "code",
   "execution_count": null,
   "id": "ebdbacfa",
   "metadata": {
    "ExecuteTime": {
     "end_time": "2022-01-10T15:11:50.245960Z",
     "start_time": "2022-01-10T15:11:50.228219Z"
    },
    "hidden": true,
    "scrolled": true
   },
   "outputs": [],
   "source": [
    "# Import required libraries\n",
    "from emoji import emojize\n",
    "# smiling face with sunglasses\n",
    "print(emojize(\":smiling_face_with_sunglasses:\"))\n",
    "# grinning face\n",
    "print(emojize(\":grinning_face:\"))\n",
    "# loudly crying face\n",
    "print(emojize(\":loudly_crying_face:\"))\n",
    "# rolling on the floor laughing\n",
    "print(emojize(\":rolling_on_the_floor_laughing:\"))\n",
    "# face with tears of joy\n",
    "print(emojize(\":face_with_tears_of_joy:\"))\n",
    "# slightly smiling face\n",
    "print(emojize(\":slightly_smiling_face:\"))\n",
    "# smiling face with halo\n",
    "print(emojize(\":smiling_face_with_halo:\"))\n",
    "# angry face\n",
    "print(emojize(\":angry_face:\"))\n",
    "# zipper-mouth face\n",
    "print(emojize(\":zipper-mouth_face:\"))\n",
    "# unamused face\n",
    "print(emojize(\":unamused_face:\"))"
   ]
  },
  {
   "cell_type": "code",
   "execution_count": null,
   "id": "9714c909",
   "metadata": {
    "ExecuteTime": {
     "end_time": "2022-01-10T15:58:34.002942Z",
     "start_time": "2022-01-10T15:57:58.322632Z"
    },
    "hidden": true
   },
   "outputs": [],
   "source": [
    "print(list(api.info()['models'].keys()))\n",
    "word2vec_transfer = api.load(\"glove-twitter-50\")"
   ]
  },
  {
   "cell_type": "code",
   "execution_count": null,
   "id": "e787a21f",
   "metadata": {
    "ExecuteTime": {
     "end_time": "2022-01-10T15:58:38.491866Z",
     "start_time": "2022-01-10T15:58:38.484645Z"
    },
    "hidden": true
   },
   "outputs": [],
   "source": [
    "vocab = word2vec_transfer.key_to_index\n",
    "len(vocab)"
   ]
  },
  {
   "cell_type": "code",
   "execution_count": null,
   "id": "f2cc082a",
   "metadata": {
    "ExecuteTime": {
     "end_time": "2022-01-10T15:58:41.104333Z",
     "start_time": "2022-01-10T15:58:40.904805Z"
    },
    "hidden": true
   },
   "outputs": [],
   "source": [
    "vocab_mot = vocab.keys()\n",
    "type(vocab_mot)\n"
   ]
  },
  {
   "cell_type": "code",
   "execution_count": null,
   "id": "b0443d5c",
   "metadata": {
    "ExecuteTime": {
     "end_time": "2022-01-10T15:58:50.691260Z",
     "start_time": "2022-01-10T15:58:50.687034Z"
    },
    "hidden": true
   },
   "outputs": [],
   "source": [
    "#emoji=':middle_finger:', name='middle finger'\n",
    "print(emojize(\"\\U0001F600\"))\n",
    "\n",
    "#word2vec_transfer.most_similar(\"\\U0001F600\")"
   ]
  },
  {
   "cell_type": "code",
   "execution_count": null,
   "id": "3fa3c129",
   "metadata": {
    "ExecuteTime": {
     "end_time": "2022-01-10T16:00:33.933100Z",
     "start_time": "2022-01-10T16:00:33.921554Z"
    },
    "hidden": true
   },
   "outputs": [],
   "source": [
    "word2vec_transfer#[\"middlefinger\"]#['rollingeyes']#['cantwatch']#[\"rollseyes\"]#[\"sickface\"] #[\"angryface\"]"
   ]
  },
  {
   "cell_type": "code",
   "execution_count": null,
   "id": "f13879d3",
   "metadata": {
    "ExecuteTime": {
     "end_time": "2022-01-10T16:24:51.907956Z",
     "start_time": "2022-01-10T16:24:51.761561Z"
    },
    "hidden": true
   },
   "outputs": [],
   "source": [
    "print(emojize(\":angry_face:\"))\n",
    "\n",
    "word2vec_transfer.most_similar(\"angryface\")#\"angryface\"#"
   ]
  },
  {
   "cell_type": "code",
   "execution_count": null,
   "id": "6b98f137",
   "metadata": {
    "ExecuteTime": {
     "end_time": "2022-01-10T15:21:46.306531Z",
     "start_time": "2022-01-10T15:21:46.302813Z"
    },
    "hidden": true
   },
   "outputs": [],
   "source": [
    "emoji_list = ['sick_face',\n",
    " 'rolls_eyes', \n",
    " 'sniff_sniff', \n",
    " 'cant_watch', \n",
    " 'rolling_eyes', \n",
    " 'kanye_shrug', \n",
    " \n",
    "# 'talktothehand', \n",
    " 'deep_sigh', \n",
    " #'handoverface', \n",
    "]"
   ]
  },
  {
   "cell_type": "code",
   "execution_count": null,
   "id": "5eaf4c51",
   "metadata": {
    "ExecuteTime": {
     "end_time": "2022-01-10T16:04:56.942551Z",
     "start_time": "2022-01-10T16:04:56.878558Z"
    },
    "hidden": true
   },
   "outputs": [],
   "source": [
    "word2vec_transfer.most_similar(\"middlefinger\")\n"
   ]
  },
  {
   "cell_type": "code",
   "execution_count": null,
   "id": "c1c984d9",
   "metadata": {
    "hidden": true
   },
   "outputs": [],
   "source": [
    "list_emoji = ['fist_bump',\n",
    "'crossesfingers',\n",
    " 'fistpump', \n",
    " 'middlefingeremoji', \n",
    " 'whiteflag', \n",
    " 'angryface', \n",
    " 'rollseyes', \n",
    " 'notinterested', \n",
    " 'sideeye', \n",
    "'sickface']\n"
   ]
  },
  {
   "cell_type": "code",
   "execution_count": null,
   "id": "977f49c7",
   "metadata": {
    "ExecuteTime": {
     "end_time": "2022-01-10T16:09:44.143734Z",
     "start_time": "2022-01-10T16:09:44.139835Z"
    },
    "hidden": true
   },
   "outputs": [],
   "source": [
    "print(emojize(\":white_flag:\"))"
   ]
  },
  {
   "cell_type": "markdown",
   "id": "3c2cd600",
   "metadata": {
    "heading_collapsed": true
   },
   "source": [
    "## Emojis used in filter "
   ]
  },
  {
   "cell_type": "code",
   "execution_count": null,
   "id": "d95648dc",
   "metadata": {
    "hidden": true
   },
   "outputs": [],
   "source": [
    "list_bad_emoji = ['🖕🏼','🖕','💩','🤬','😡','😠','🤢','🤮'] \n",
    "# middle finger: medium-light skin\n",
    "list_ironic_emoji = ['😂','🤣']"
   ]
  },
  {
   "cell_type": "code",
   "execution_count": null,
   "id": "6c19168d",
   "metadata": {
    "hidden": true
   },
   "outputs": [],
   "source": [
    "# Function to convert a sentence (list of words) into a matrix representing the words in the embedding space\n",
    "def embed_sentence_with_TF(word2vec, sentence):\n",
    "    embedded_sentence = []\n",
    "    for word in sentence:\n",
    "        if word in word2vec:\n",
    "            embedded_sentence.append(word2vec[word])\n",
    "        \n",
    "    return np.array(embedded_sentence)"
   ]
  },
  {
   "cell_type": "code",
   "execution_count": null,
   "id": "6d24a150",
   "metadata": {
    "ExecuteTime": {
     "end_time": "2022-01-10T16:05:05.102521Z",
     "start_time": "2022-01-10T16:05:05.035771Z"
    },
    "hidden": true
   },
   "outputs": [],
   "source": [
    "word2vec_transfer.most_similar(\"angryface\")\n",
    "for emoji in emoji_list:\n",
    "    \n",
    "    print(emojize(f\"{emoji}\"))"
   ]
  },
  {
   "cell_type": "code",
   "execution_count": null,
   "id": "4da372fb",
   "metadata": {
    "ExecuteTime": {
     "end_time": "2022-01-10T15:28:39.986614Z",
     "start_time": "2022-01-10T15:28:39.980363Z"
    },
    "hidden": true
   },
   "outputs": [],
   "source": [
    "print(emojize(\":smily_face:\"))"
   ]
  },
  {
   "cell_type": "markdown",
   "id": "d0a9feed",
   "metadata": {
    "heading_collapsed": true
   },
   "source": [
    "## Undersample data"
   ]
  },
  {
   "cell_type": "code",
   "execution_count": null,
   "id": "1a6b4299",
   "metadata": {
    "ExecuteTime": {
     "end_time": "2022-01-07T15:26:09.560982Z",
     "start_time": "2022-01-07T15:26:09.065746Z"
    },
    "hidden": true
   },
   "outputs": [],
   "source": [
    "df1 = df[df[\"category\"]== 1]\n",
    "df1 = df[df[\"category\"]== 1].dropna()\n",
    "df0 = df[df[\"category\"]== 0].dropna()\n",
    "df = pd.concat([df0.sample(df1.shape[0]), df1], axis = 0)\n",
    "\n",
    "\n",
    "#shuffle rows\n",
    "df = df.sample(frac=1)\n",
    "df.shape\n",
    "df.reset_index(inplace = True)"
   ]
  },
  {
   "cell_type": "markdown",
   "id": "94999ad7",
   "metadata": {
    "heading_collapsed": true
   },
   "source": [
    "## Select sample size"
   ]
  },
  {
   "cell_type": "code",
   "execution_count": null,
   "id": "e49f49e0",
   "metadata": {
    "ExecuteTime": {
     "end_time": "2022-01-07T15:26:11.243365Z",
     "start_time": "2022-01-07T15:26:11.233153Z"
    },
    "hidden": true
   },
   "outputs": [],
   "source": [
    "# N = 100\n",
    "# df = df.head(N)\n",
    "# df[\"category\"].value_counts()"
   ]
  },
  {
   "cell_type": "code",
   "execution_count": null,
   "id": "0d2a0954",
   "metadata": {
    "ExecuteTime": {
     "end_time": "2022-01-11T13:59:42.285351Z",
     "start_time": "2022-01-11T13:59:42.269736Z"
    },
    "hidden": true
   },
   "outputs": [],
   "source": [
    "#text\tlabel\tscore_punctuation\tscore_capital_word\n",
    "X_features = X[[\"score_punctuation\",\t\"score_capital_word\"]]\n",
    "#X_features"
   ]
  },
  {
   "cell_type": "code",
   "execution_count": null,
   "id": "d571bb3e",
   "metadata": {
    "ExecuteTime": {
     "end_time": "2022-01-11T14:05:53.161340Z",
     "start_time": "2022-01-11T14:05:53.149141Z"
    },
    "hidden": true
   },
   "outputs": [],
   "source": [
    "y = df[\"label\"]\n",
    "X_text = df[[\"text\"]]\n",
    "X_text.head()"
   ]
  },
  {
   "cell_type": "markdown",
   "id": "289ed67c",
   "metadata": {
    "ExecuteTime": {
     "end_time": "2022-01-06T15:49:20.415916Z",
     "start_time": "2022-01-06T15:49:20.408766Z"
    }
   },
   "source": [
    "## Clean data"
   ]
  },
  {
   "cell_type": "code",
   "execution_count": 38,
   "id": "f7d87924",
   "metadata": {
    "ExecuteTime": {
     "end_time": "2022-01-11T16:36:09.667180Z",
     "start_time": "2022-01-11T16:36:09.656849Z"
    }
   },
   "outputs": [],
   "source": [
    "def clean_data(data):\n",
    "    \n",
    "    #Removing URLs with a regular expression\n",
    "    url_pattern = re.compile(r'https?://\\S+|www\\.\\S+')\n",
    "    data = url_pattern.sub(r'', data)\n",
    "\n",
    "    # Remove Emails\n",
    "    data = re.sub('\\S*@\\S*\\s?', '', data)\n",
    "   \n",
    "    # tokenize + remove scpecial characters + set to lower case\n",
    "    data = text_to_word_sequence(data) \n",
    "    \n",
    "    \n",
    "    # Remove stopwords\n",
    "    stop_words = set(stopwords.words('english')) \n",
    "    data = [w for w in data if not w in stop_words]         \n",
    "    \n",
    "    # Remove digits\n",
    "    data = ' '.join(word for word in data if not word.isdigit())\n",
    "    \n",
    "    \n",
    "    return text_to_word_sequence(data)\n",
    "\n",
    "def apply_data_cleaning(X, text, drop_text = False):\n",
    "    ln = X.shape[0]\n",
    "    sentences = []\n",
    "    for i in range(ln):\n",
    "        tmp = X.iloc[i][f'{text}']\n",
    "        tmp_clean = clean_data(tmp)\n",
    "        sentences.append(tmp_clean)\n",
    "    X[\"sentences\"] = sentences\n",
    "    if drop_text == True:\n",
    "        X.drop(columns = f'{text}', inplace = True)\n",
    "    return X"
   ]
  },
  {
   "cell_type": "code",
   "execution_count": 39,
   "id": "ccb77746",
   "metadata": {
    "ExecuteTime": {
     "end_time": "2022-01-11T16:36:10.652508Z",
     "start_time": "2022-01-11T16:36:10.475020Z"
    }
   },
   "outputs": [],
   "source": [
    "# print(X_text.head())\n",
    "X_train_text = apply_data_cleaning(X = X_train_text, text = \"text\", drop_text = True) \n",
    "X_test_text = apply_data_cleaning(X = X_test_text, text = \"text\", drop_text = True) \n"
   ]
  },
  {
   "cell_type": "code",
   "execution_count": 40,
   "id": "ad93e6dd",
   "metadata": {
    "ExecuteTime": {
     "end_time": "2022-01-11T16:36:11.406918Z",
     "start_time": "2022-01-11T16:36:11.396063Z"
    }
   },
   "outputs": [
    {
     "data": {
      "text/html": [
       "<div>\n",
       "<style scoped>\n",
       "    .dataframe tbody tr th:only-of-type {\n",
       "        vertical-align: middle;\n",
       "    }\n",
       "\n",
       "    .dataframe tbody tr th {\n",
       "        vertical-align: top;\n",
       "    }\n",
       "\n",
       "    .dataframe thead th {\n",
       "        text-align: right;\n",
       "    }\n",
       "</style>\n",
       "<table border=\"1\" class=\"dataframe\">\n",
       "  <thead>\n",
       "    <tr style=\"text-align: right;\">\n",
       "      <th></th>\n",
       "      <th>sentences</th>\n",
       "    </tr>\n",
       "  </thead>\n",
       "  <tbody>\n",
       "    <tr>\n",
       "      <th>29</th>\n",
       "      <td>[keep, licensing, sham, one, day, someone’s, going, found, boot, one, cars]</td>\n",
       "    </tr>\n",
       "    <tr>\n",
       "      <th>535</th>\n",
       "      <td>[go, home, cowardly, owned, gazillion, greedy, gop, guzzlers, gop, daughters, grand, daughters, abandon, millions, let, women, could, another, conservative, stooge, chose, someone, temper, blackout, drunk]</td>\n",
       "    </tr>\n",
       "    <tr>\n",
       "      <th>695</th>\n",
       "      <td>[fact, say, intending, aim, hollywood, types, thats, still, bullshit, say, metoo, bullshit, hollywod, saying, bullshit, regular, women, well, witch, trials, mccarthyism, dead]</td>\n",
       "    </tr>\n",
       "    <tr>\n",
       "      <th>557</th>\n",
       "      <td>[knew, could, barely, speak, english, nerve, come, washington, protest, scream, yell, elected, officials, sham]</td>\n",
       "    </tr>\n",
       "    <tr>\n",
       "      <th>836</th>\n",
       "      <td>[would, least, condemn, fuck, ladies, still, call, names, tfi, predators, well, settled, heroines, like, can't, speak, would, lost, hope, intentionally, keeping, mum]</td>\n",
       "    </tr>\n",
       "  </tbody>\n",
       "</table>\n",
       "</div>"
      ],
      "text/plain": [
       "                                                                                                                                                                                                         sentences\n",
       "29                                                                                                                                     [keep, licensing, sham, one, day, someone’s, going, found, boot, one, cars]\n",
       "535  [go, home, cowardly, owned, gazillion, greedy, gop, guzzlers, gop, daughters, grand, daughters, abandon, millions, let, women, could, another, conservative, stooge, chose, someone, temper, blackout, drunk]\n",
       "695                                [fact, say, intending, aim, hollywood, types, thats, still, bullshit, say, metoo, bullshit, hollywod, saying, bullshit, regular, women, well, witch, trials, mccarthyism, dead]\n",
       "557                                                                                                [knew, could, barely, speak, english, nerve, come, washington, protest, scream, yell, elected, officials, sham]\n",
       "836                                         [would, least, condemn, fuck, ladies, still, call, names, tfi, predators, well, settled, heroines, like, can't, speak, would, lost, hope, intentionally, keeping, mum]"
      ]
     },
     "execution_count": 40,
     "metadata": {},
     "output_type": "execute_result"
    }
   ],
   "source": [
    "X_train_text .head()"
   ]
  },
  {
   "cell_type": "code",
   "execution_count": 41,
   "id": "4ddde306",
   "metadata": {
    "ExecuteTime": {
     "end_time": "2022-01-11T16:36:12.404896Z",
     "start_time": "2022-01-11T16:36:12.399771Z"
    }
   },
   "outputs": [],
   "source": [
    "X_train_text = list(X_train_text.sentences)\n",
    "y_train = np.array(y)\n",
    "\n",
    "\n",
    "X_test_text = list(X_test_text.sentences)\n",
    "y_test = np.array(y)"
   ]
  },
  {
   "cell_type": "code",
   "execution_count": 42,
   "id": "772be889",
   "metadata": {
    "ExecuteTime": {
     "end_time": "2022-01-11T16:36:13.418997Z",
     "start_time": "2022-01-11T16:36:13.415131Z"
    }
   },
   "outputs": [],
   "source": [
    "# X_train, X_test, y_train, y_test = train_test_split(X, y, test_size = 0.20, random_state=42)\n",
    "# print(len(X_train))\n",
    "# print(len(y_train))\n",
    "# print(len(X_test))\n",
    "# print(len(y_test))"
   ]
  },
  {
   "cell_type": "markdown",
   "id": "e1e55147",
   "metadata": {
    "heading_collapsed": true
   },
   "source": [
    "## Tokenize  data"
   ]
  },
  {
   "cell_type": "code",
   "execution_count": null,
   "id": "a487c622",
   "metadata": {
    "ExecuteTime": {
     "end_time": "2022-01-07T15:24:09.331462Z",
     "start_time": "2022-01-07T15:24:09.331444Z"
    },
    "hidden": true
   },
   "outputs": [],
   "source": [
    "# Initializes a Keras utilities that does all the tokenization for you\n",
    "tokenizer = Tokenizer()\n",
    "\n",
    "# The tokenization learns a dictionnary that maps a token (integer) to each word\n",
    "# It can be done only on the train set - we are not supposed to know the test set !\n",
    "# This tokenization also lower your words, apply some filters, and so on - you can check the doc if you want\n",
    "tokenizer.fit_on_texts(X_train)\n",
    "    \n",
    "# We apply the tokenization to the train and test set\n",
    "X_train_token = tokenizer.texts_to_sequences(X_train)\n",
    "X_test_token = tokenizer.texts_to_sequences(X_test)\n",
    "#X_test_token"
   ]
  },
  {
   "cell_type": "code",
   "execution_count": null,
   "id": "bc726231",
   "metadata": {
    "ExecuteTime": {
     "end_time": "2022-01-07T15:24:09.335945Z",
     "start_time": "2022-01-07T15:24:09.335922Z"
    },
    "hidden": true
   },
   "outputs": [],
   "source": [
    "## sjekk\n",
    "# sentence_number = 10\n",
    "\n",
    "# input_raw = X_train[sentence_number]\n",
    "# input_token = X_train_token[sentence_number]\n",
    "# for i in range(2):\n",
    "#     print(f'Word : {input_raw[i]} -> Token {input_token[i]}')"
   ]
  },
  {
   "cell_type": "markdown",
   "id": "5567244b",
   "metadata": {
    "ExecuteTime": {
     "end_time": "2022-01-06T21:27:42.019998Z",
     "start_time": "2022-01-06T21:27:42.013444Z"
    },
    "hidden": true
   },
   "source": [
    "### Add vocabulary\n",
    "\n",
    "The dictionary that maps each word to a token can be accessed with `tokenizer.word_index`\n",
    "    \n",
    "Add a `vocab_size` variable that stores the number of different words (=tokens) in the train set. This is called the _size of the vocabulary_."
   ]
  },
  {
   "cell_type": "code",
   "execution_count": null,
   "id": "e5e493d0",
   "metadata": {
    "ExecuteTime": {
     "end_time": "2022-01-07T15:24:09.337101Z",
     "start_time": "2022-01-07T15:24:09.337090Z"
    },
    "hidden": true
   },
   "outputs": [],
   "source": [
    "vocab_size = len(tokenizer.word_index)\n",
    "\n",
    "print(f'There are {vocab_size} different words in the train set')"
   ]
  },
  {
   "cell_type": "markdown",
   "id": "2ec81718",
   "metadata": {
    "heading_collapsed": true
   },
   "source": [
    "## Padding\n",
    "_filling_ cells"
   ]
  },
  {
   "cell_type": "code",
   "execution_count": null,
   "id": "e30d39c9",
   "metadata": {
    "ExecuteTime": {
     "end_time": "2022-01-07T15:24:09.338075Z",
     "start_time": "2022-01-07T15:24:09.338063Z"
    },
    "hidden": true
   },
   "outputs": [],
   "source": [
    "X_train_pad = pad_sequences(X_train_token, dtype='float32', padding='post')\n",
    "X_test_pad = pad_sequences(X_test_token, dtype='float32', padding='post')"
   ]
  },
  {
   "cell_type": "markdown",
   "id": "9f7609ec",
   "metadata": {
    "hidden": true
   },
   "source": [
    "!set maxlen <<< lower than longest sentence for efficiency/wt loss info"
   ]
  },
  {
   "cell_type": "code",
   "execution_count": null,
   "id": "ed47617d",
   "metadata": {
    "ExecuteTime": {
     "end_time": "2022-01-07T15:24:09.344885Z",
     "start_time": "2022-01-07T15:24:09.344872Z"
    },
    "hidden": true
   },
   "outputs": [],
   "source": [
    "def plot_hist(X):\n",
    "    len_ = [len(_) for _ in X]\n",
    "    plt.hist(len_)\n",
    "    plt.title('Histogram of the number of sentences that have a given number of words')\n",
    "    plt.show()\n",
    "    \n",
    "plot_hist(X_train);"
   ]
  },
  {
   "cell_type": "code",
   "execution_count": null,
   "id": "4403520a",
   "metadata": {
    "ExecuteTime": {
     "end_time": "2022-01-07T15:24:09.346414Z",
     "start_time": "2022-01-07T15:24:09.346398Z"
    },
    "hidden": true
   },
   "outputs": [],
   "source": [
    "X_train_pad = pad_sequences(X_train_token, dtype='float32', padding='post', maxlen=20)\n",
    "X_test_pad = pad_sequences(X_test_token, dtype='float32', padding='post', maxlen=20)"
   ]
  },
  {
   "cell_type": "markdown",
   "id": "1048814e",
   "metadata": {
    "heading_collapsed": true
   },
   "source": [
    "# RNN - embedding trained on corpus\n",
    "\n",
    "Let's now feed this data to a Recurrent Neural Network.\n",
    "\n",
    "model:\n",
    "- an embedding layer whose `input_dim` is the size of your vocabulary (= your `vocab_size`), and whose `output_dim` is the size of the embedding space you want to have\n",
    "- a RNN (SimpleRNN, LSTM, GRU) layer\n",
    "- a Dense layer\n",
    "- an output layer\n",
    "\n",
    "⚠️ **Warning** ⚠️ Here, you don't need a masking layer. Why? Because `layers.Embedding` has a argument to do that directly, which you have to set with `mask_zero=True`. That also means that your data **HAVE TO** be padded with **0** (which is the default behavior). See the [documentation](https://www.tensorflow.org/api_docs/python/tf/keras/layers/Embedding#example_2) to understand how it **impacts** the `input_dim`.\n",
    "\n",
    "!`input_dim` should equal size of vocabulary + 1\n",
    "\n",
    "\n",
    "Compile it with the appropriate arguments"
   ]
  },
  {
   "cell_type": "code",
   "execution_count": null,
   "id": "9ff38339",
   "metadata": {
    "ExecuteTime": {
     "end_time": "2022-01-07T15:24:09.347068Z",
     "start_time": "2022-01-07T15:24:09.347054Z"
    },
    "hidden": true
   },
   "outputs": [],
   "source": [
    "embedding_dimension = 50\n",
    "\n",
    "model = Sequential()\n",
    "model.add(layers.Embedding(input_dim=vocab_size + 1, output_dim=embedding_dimension, mask_zero=True))\n",
    "model.add(layers.LSTM(20))\n",
    "model.add(layers.Dense(10, activation=\"relu\"))\n",
    "model.add(layers.Dense(1, activation=\"sigmoid\"))\n",
    "\n",
    "model.compile(loss='binary_crossentropy', optimizer='rmsprop', metrics=['accuracy'])"
   ]
  },
  {
   "cell_type": "code",
   "execution_count": null,
   "id": "9c763cae",
   "metadata": {
    "ExecuteTime": {
     "end_time": "2022-01-07T15:24:09.352505Z",
     "start_time": "2022-01-07T15:24:09.352485Z"
    },
    "hidden": true
   },
   "outputs": [],
   "source": [
    "model.summary()"
   ]
  },
  {
   "cell_type": "code",
   "execution_count": null,
   "id": "a49d6f80",
   "metadata": {
    "ExecuteTime": {
     "end_time": "2022-01-07T15:24:09.353252Z",
     "start_time": "2022-01-07T15:24:09.353242Z"
    },
    "hidden": true
   },
   "outputs": [],
   "source": [
    "#print(f'Expected number of parameters : {(vocab_size + 1) * embedding_dimension}')\n",
    "es = EarlyStopping(patience=4, restore_best_weights=True)\n",
    "\n",
    "model.fit(X_train_pad, y_train, \n",
    "          epochs=20, \n",
    "          batch_size=16,\n",
    "          validation_split=0.3,\n",
    "          callbacks=[es]\n",
    "         )"
   ]
  },
  {
   "cell_type": "code",
   "execution_count": null,
   "id": "4576a3af",
   "metadata": {
    "ExecuteTime": {
     "end_time": "2022-01-07T15:24:09.353884Z",
     "start_time": "2022-01-07T15:24:09.353873Z"
    },
    "hidden": true
   },
   "outputs": [],
   "source": [
    "res = model.evaluate(X_test_pad, y_test, verbose=0)\n",
    "\n",
    "print(f'The accuracy evaluated on the test set is of {res[1]*100:.3f}%')"
   ]
  },
  {
   "cell_type": "markdown",
   "id": "a3e7b515",
   "metadata": {
    "heading_collapsed": true
   },
   "source": [
    "# NN Emebdding with Word2Vec - understanding"
   ]
  },
  {
   "cell_type": "code",
   "execution_count": null,
   "id": "49205cf8",
   "metadata": {
    "ExecuteTime": {
     "end_time": "2022-01-07T15:24:09.354417Z",
     "start_time": "2022-01-07T15:24:09.354409Z"
    },
    "hidden": true
   },
   "outputs": [],
   "source": [
    "X_train"
   ]
  },
  {
   "cell_type": "code",
   "execution_count": null,
   "id": "627d0759",
   "metadata": {
    "ExecuteTime": {
     "end_time": "2022-01-07T15:24:09.354958Z",
     "start_time": "2022-01-07T15:24:09.354948Z"
    },
    "hidden": true
   },
   "outputs": [],
   "source": [
    "word2vec = Word2Vec(sentences=X_train)\n",
    "wv = word2vec.wv\n",
    "#wv[\"familiar\"] --> in X_train but not wv??\n",
    "size = len(wv['harassment'])\n",
    "size"
   ]
  },
  {
   "cell_type": "code",
   "execution_count": null,
   "id": "fdfabe6e",
   "metadata": {
    "ExecuteTime": {
     "end_time": "2022-01-07T15:24:09.355642Z",
     "start_time": "2022-01-07T15:24:09.355625Z"
    },
    "hidden": true
   },
   "outputs": [],
   "source": [
    "wv.most_similar('harassment')\n",
    "#word_embedding = wv[''harassment']\n",
    "#wv.similar_by_vector(word_embedding)"
   ]
  },
  {
   "cell_type": "code",
   "execution_count": null,
   "id": "a8ef644e",
   "metadata": {
    "ExecuteTime": {
     "end_time": "2022-01-07T15:24:09.363152Z",
     "start_time": "2022-01-07T15:24:09.363090Z"
    },
    "hidden": true
   },
   "outputs": [],
   "source": [
    "print('Vocabulary size', len(wv.key_to_index))\n",
    "diff_words = set([_ for elt in X_train for _ in elt])\n",
    "print('Number of different words in the train set', len(diff_words))"
   ]
  },
  {
   "cell_type": "markdown",
   "id": "67ffdb74",
   "metadata": {
    "hidden": true
   },
   "source": [
    "In a nutshell, this internal NN predicts a word from the surroundings words in a sentences. So it chooses many splits in the different sentences, choose some words as inputs  𝑋  and a word as output  𝑦  which it tries to predict, in the embedding space.\n",
    "\n",
    "And as any neural network, Word2Vec has some hyperparameters."
   ]
  },
  {
   "cell_type": "markdown",
   "id": "75d61b06",
   "metadata": {
    "heading_collapsed": true,
    "hidden": true
   },
   "source": [
    "## Word2Vec hyperparameters\n",
    "\n",
    "\n",
    "The first important hyperparameter is the `vector_size` argument. It corresponds to the size of the embedding space. Learn a new `word2vec_2` model, still trained on the `X_train`, but with a smaller or higher `vector_size`.\n",
    "\n",
    "Verify on some words that the corresponding embedding is of your selected size."
   ]
  },
  {
   "cell_type": "markdown",
   "id": "7c48a7b8",
   "metadata": {
    "hidden": true
   },
   "source": [
    "## vector_size"
   ]
  },
  {
   "cell_type": "code",
   "execution_count": null,
   "id": "e7dae46c",
   "metadata": {
    "ExecuteTime": {
     "end_time": "2022-01-07T15:24:09.365451Z",
     "start_time": "2022-01-07T15:24:09.365429Z"
    },
    "hidden": true
   },
   "outputs": [],
   "source": [
    "word2vec_size30 = Word2Vec(sentences=X_train, vector_size = 30)\n",
    "wv_size30 = word2vec_size30.wv\n",
    "wv_size30.most_similar('harassment')"
   ]
  },
  {
   "cell_type": "code",
   "execution_count": null,
   "id": "ee473f96",
   "metadata": {
    "ExecuteTime": {
     "end_time": "2022-01-07T15:24:09.368903Z",
     "start_time": "2022-01-07T15:24:09.368859Z"
    },
    "hidden": true
   },
   "outputs": [],
   "source": [
    "# print('Vocabulary size', len(wv.key_to_index))\n",
    "# diff_words = set([_ for elt in X_train for _ in elt])\n",
    "# print('Number of different words in the train set', len(diff_words))"
   ]
  },
  {
   "cell_type": "code",
   "execution_count": null,
   "id": "f40b6555",
   "metadata": {
    "ExecuteTime": {
     "end_time": "2022-01-07T15:24:09.370359Z",
     "start_time": "2022-01-07T15:24:09.370338Z"
    },
    "hidden": true
   },
   "outputs": [],
   "source": [
    "word2vec_size50 = Word2Vec(sentences=X_train, vector_size = 50)\n",
    "wv_size50 = word2vec_size50.wv\n",
    "wv_size50.most_similar('harassment')"
   ]
  },
  {
   "cell_type": "code",
   "execution_count": null,
   "id": "feb7a477",
   "metadata": {
    "ExecuteTime": {
     "end_time": "2022-01-07T15:24:09.371121Z",
     "start_time": "2022-01-07T15:24:09.371109Z"
    },
    "hidden": true
   },
   "outputs": [],
   "source": [
    "word2vec_size100 = Word2Vec(sentences=X_train, vector_size = 100)\n",
    "wv_size100 = word2vec_size100.wv\n",
    "wv_size100.most_similar('harassment')"
   ]
  },
  {
   "cell_type": "markdown",
   "id": "c281fcbe",
   "metadata": {
    "hidden": true
   },
   "source": [
    "## min_count\n",
    "Second hyperparameter `min_count`,  min # of times a word has to occur in order to be in embedding space"
   ]
  },
  {
   "cell_type": "code",
   "execution_count": null,
   "id": "2889445f",
   "metadata": {
    "ExecuteTime": {
     "end_time": "2022-01-07T15:24:09.372372Z",
     "start_time": "2022-01-07T15:24:09.372357Z"
    },
    "hidden": true
   },
   "outputs": [],
   "source": [
    "# min_count:  min # of times a word has to occur in order to nbe in embedding space\n",
    "word2vec3 = Word2Vec(sentences=X_train, vector_size = 30, min_count = 1)\n",
    "wv3 = word2vec.wv\n",
    "wv3.most_similar('harassment')"
   ]
  },
  {
   "cell_type": "code",
   "execution_count": null,
   "id": "d9b50e8c",
   "metadata": {
    "ExecuteTime": {
     "end_time": "2022-01-07T15:24:09.373345Z",
     "start_time": "2022-01-07T15:24:09.373329Z"
    },
    "hidden": true
   },
   "outputs": [],
   "source": [
    "## wv3[\"familiar\"] -- > syill not in wv, why?\n",
    "print('Vocabulary size', len(wv3.key_to_index))\n",
    "diff_words = set([_ for elt in X_train for _ in elt])\n",
    "print('Number of different words in the train set', len(diff_words))"
   ]
  },
  {
   "cell_type": "code",
   "execution_count": null,
   "id": "fa35aa73",
   "metadata": {
    "ExecuteTime": {
     "end_time": "2022-01-07T15:24:09.374624Z",
     "start_time": "2022-01-07T15:24:09.374600Z"
    },
    "hidden": true
   },
   "outputs": [],
   "source": [
    "word2vec_0 = Word2Vec(sentences=X_train, vector_size=50, min_count=1)\n",
    "word2vec_1 = Word2Vec(sentences=X_train, vector_size=50, min_count=2)\n",
    "word2vec_2 = Word2Vec(sentences=X_train, vector_size=50, min_count=3)\n",
    "word2vec_3 = Word2Vec(sentences=X_train, vector_size=50, min_count=5)\n",
    "word2vec_4 = Word2Vec(sentences=X_train, vector_size=50, min_count=10)"
   ]
  },
  {
   "cell_type": "code",
   "execution_count": null,
   "id": "09ec180f",
   "metadata": {
    "ExecuteTime": {
     "end_time": "2022-01-07T15:24:09.377798Z",
     "start_time": "2022-01-07T15:24:09.377777Z"
    },
    "hidden": true
   },
   "outputs": [],
   "source": [
    "word2vec_1.wv[\"harassment\"]\n",
    "len(word2vec_1.wv.key_to_index)"
   ]
  },
  {
   "cell_type": "code",
   "execution_count": null,
   "id": "c9476f6e",
   "metadata": {
    "ExecuteTime": {
     "end_time": "2022-01-07T15:24:09.380381Z",
     "start_time": "2022-01-07T15:24:09.380342Z"
    },
    "hidden": true
   },
   "outputs": [],
   "source": [
    "print(f'Number of word in W2V #1 : {len(word2vec_0.wv.key_to_index)}')\n",
    "print(f'Number of word in W2V #1 : {len(word2vec_1.wv.key_to_index)}')\n",
    "print(f'Number of word in W2V #2 : {len(word2vec_2.wv.key_to_index)}')\n",
    "print(f'Number of word in W2V #3 : {len(word2vec_3.wv.key_to_index)}')\n",
    "print(f'Number of word in W2V #4 : {len(word2vec_4.wv.key_to_index)}')"
   ]
  },
  {
   "cell_type": "code",
   "execution_count": null,
   "id": "ed7c1975",
   "metadata": {
    "ExecuteTime": {
     "end_time": "2022-01-07T15:24:09.382584Z",
     "start_time": "2022-01-07T15:24:09.382569Z"
    },
    "hidden": true
   },
   "outputs": [],
   "source": [
    "diff_words = set([_ for elt in X_train for _ in elt])\n",
    "len(diff_words)"
   ]
  },
  {
   "cell_type": "code",
   "execution_count": null,
   "id": "f9746309",
   "metadata": {
    "ExecuteTime": {
     "end_time": "2022-01-07T15:24:09.383810Z",
     "start_time": "2022-01-07T15:24:09.383796Z"
    },
    "hidden": true
   },
   "outputs": [],
   "source": [
    "word2vec_3.wv.most_similar(\"harassment\")"
   ]
  },
  {
   "cell_type": "markdown",
   "id": "1cef0111",
   "metadata": {
    "hidden": true
   },
   "source": [
    "## window\n",
    "The arguments you have seen (vector_size, min_count and window) are usually the one that you should start changing to get a better performance for your model.\n",
    "\n",
    "Other hyperparameters in doc (cf 8.)"
   ]
  },
  {
   "cell_type": "code",
   "execution_count": null,
   "id": "aa253fd6",
   "metadata": {
    "ExecuteTime": {
     "end_time": "2022-01-07T15:24:09.384624Z",
     "start_time": "2022-01-07T15:24:09.384614Z"
    },
    "hidden": true
   },
   "outputs": [],
   "source": [
    "word2vec_3_window1 = Word2Vec(sentences=X_train, vector_size=50, min_count=3, window = 1)\n",
    "word2vec_3 = Word2Vec(sentences=X_train, vector_size=50, min_count=3, window = 5) # default 5\n",
    "word2vec_3_window8 = Word2Vec(sentences=X_train, vector_size=50, min_count=3, window = 8)"
   ]
  },
  {
   "cell_type": "code",
   "execution_count": null,
   "id": "a7c22549",
   "metadata": {
    "ExecuteTime": {
     "end_time": "2022-01-07T15:24:09.385465Z",
     "start_time": "2022-01-07T15:24:09.385454Z"
    },
    "hidden": true
   },
   "outputs": [],
   "source": [
    "# print(f'Number of word in W2V #window 1 : {len(word2vec_3_window1 .wv.key_to_index)}')\n",
    "# print(f'Number of word in W2V #window 5: {len(word2vec_3.wv.key_to_index)}')\n",
    "# print(f'Number of word in W2V #window 8 : {len(word2vec_3_window8 .wv.key_to_index)}')"
   ]
  },
  {
   "cell_type": "code",
   "execution_count": null,
   "id": "dd95faa6",
   "metadata": {
    "ExecuteTime": {
     "end_time": "2022-01-07T15:24:09.386115Z",
     "start_time": "2022-01-07T15:24:09.386105Z"
    },
    "hidden": true
   },
   "outputs": [],
   "source": [
    "#word2vec_3_window1.wv.most_similar(\"harassment\")"
   ]
  },
  {
   "cell_type": "code",
   "execution_count": null,
   "id": "ca9a0359",
   "metadata": {
    "ExecuteTime": {
     "end_time": "2022-01-07T15:24:09.386741Z",
     "start_time": "2022-01-07T15:24:09.386731Z"
    },
    "hidden": true
   },
   "outputs": [],
   "source": [
    "#word2vec_3.wv.most_similar(\"harassment\") # default 5"
   ]
  },
  {
   "cell_type": "code",
   "execution_count": null,
   "id": "81c22358",
   "metadata": {
    "ExecuteTime": {
     "end_time": "2022-01-07T15:24:09.387373Z",
     "start_time": "2022-01-07T15:24:09.387362Z"
    },
    "hidden": true
   },
   "outputs": [],
   "source": [
    "#word2vec_3_window8.wv.most_similar(\"harassment\")"
   ]
  },
  {
   "cell_type": "markdown",
   "id": "554066d3",
   "metadata": {
    "heading_collapsed": true
   },
   "source": [
    "# Embedding: convert W2V\n",
    "\n",
    "Remember that word2vec is the first step to the overall process of feeding such a representation into a RNN, as shown here :\n",
    "\n",
    "<img src=\"word2vec_representation.png\" width=\"400px\" />\n",
    "\n",
    "\n",
    "\n",
    "Now, let's work on Step 2 by converting the training and test data into their vector representation to be ready to be feed in RNNs.\n",
    "\n",
    "❓ **Question** ❓ Now, write a function that, given a sentence, returns a matrix that corresponds to the embedding of the full sentence, which means that you have to embed each word one after the other and concatenate the result to output a 2D matrix (be sure that your output is a NumPy array)\n",
    "\n",
    "❗ **Remark** ❗ You will probably notice that some words you are trying to convert throw errors as they are said not to belong to the dictionary:\n",
    "\n",
    "- for the test set, this is understandable: some words were not in the train set and thus their embedded representation is unknown\n",
    "- for the train set, due to `min_count` hyperparameter, not all the words have a vector representation\n",
    "\n",
    "In any case, just skip the missing words here."
   ]
  },
  {
   "cell_type": "markdown",
   "id": "ac87bc1c",
   "metadata": {
    "heading_collapsed": true,
    "hidden": true
   },
   "source": [
    "## Embedding function\n",
    "\n",
    "- each word --> vector w2v\n",
    "- each sentence ---> matrix of w2v \n",
    "- e.g sentence of 5 words and embedding size 10 ---> matrix  5x10 --> # of words>=min_count x vector_size"
   ]
  },
  {
   "cell_type": "code",
   "execution_count": null,
   "id": "3c686fb1",
   "metadata": {
    "ExecuteTime": {
     "end_time": "2022-01-07T15:24:09.388059Z",
     "start_time": "2022-01-07T15:24:09.388046Z"
    },
    "hidden": true
   },
   "outputs": [],
   "source": [
    "def embed_sentence(word2vec, sentence):\n",
    "    \"\"\" \n",
    "    sentence to matrix\n",
    "    \"\"\"\n",
    "    embedded_sentence = []\n",
    "    for word in sentence:\n",
    "        if word in word2vec.wv:\n",
    "            embedded_sentence.append(word2vec.wv[word])\n",
    "        \n",
    "    return np.array(embedded_sentence)\n",
    "   \n",
    "\n",
    "def embedding(word2vec, sentences):\n",
    "    \"\"\" \n",
    "    list(sentences in words)---> list(matrices)\n",
    "    \"\"\"\n",
    "    embed = []\n",
    "    \n",
    "    for sentence in sentences:\n",
    "        embedded_sentence = embed_sentence(word2vec, sentence)\n",
    "        embed.append(embedded_sentence)\n",
    "        \n",
    "    return embed"
   ]
  },
  {
   "cell_type": "code",
   "execution_count": null,
   "id": "58a17ae7",
   "metadata": {
    "ExecuteTime": {
     "end_time": "2022-01-07T15:24:09.390098Z",
     "start_time": "2022-01-07T15:24:09.390073Z"
    },
    "hidden": true
   },
   "outputs": [],
   "source": [
    "sentence = X_train[0]\n",
    "word2vec = Word2Vec(sentences = X_train, vector_size=50, min_count = 2, window = 6)\n",
    "\n",
    "print(embed_sentence(word2vec, sentence).shape)\n",
    "#embed_sentence(word2vec, sentence)  ## --> 4 words in 50D --> 4x50 mx "
   ]
  },
  {
   "cell_type": "code",
   "execution_count": null,
   "id": "5111013c",
   "metadata": {
    "ExecuteTime": {
     "end_time": "2022-01-07T15:24:09.392146Z",
     "start_time": "2022-01-07T15:24:09.392110Z"
    },
    "hidden": true
   },
   "outputs": [],
   "source": [
    "X_train_embedded = embedding(word2vec, X_train)\n",
    "print(type(X_train))\n",
    "print(len(X_train), len(X_train_embedded))\n",
    "print(f'dim of first sentence  {X_train_embedded[0].shape}')\n",
    "print(f'dim of 2nd  sentence  {X_train_embedded[1].shape}')"
   ]
  },
  {
   "cell_type": "markdown",
   "id": "8c21aa2d",
   "metadata": {
    "heading_collapsed": true,
    "hidden": true
   },
   "source": [
    "## Padding"
   ]
  },
  {
   "cell_type": "markdown",
   "id": "d95b2f68",
   "metadata": {
    "hidden": true
   },
   "source": [
    "In order to have ready-to-use data, do not forget to pad them in order to have tensors that can be divided in batch sizes during the optimization. Store the padedd values in X_train_pad and X_test_pad. Do not forget the important arguments of the padding ;)"
   ]
  },
  {
   "cell_type": "markdown",
   "id": "32eea7ac",
   "metadata": {
    "ExecuteTime": {
     "end_time": "2022-01-07T09:31:54.844203Z",
     "start_time": "2022-01-07T09:31:54.837194Z"
    }
   },
   "source": [
    "#! padding with zeros and in the end ?"
   ]
  },
  {
   "cell_type": "code",
   "execution_count": null,
   "id": "bac41978",
   "metadata": {
    "ExecuteTime": {
     "end_time": "2022-01-07T15:24:09.393572Z",
     "start_time": "2022-01-07T15:24:09.393561Z"
    }
   },
   "outputs": [],
   "source": [
    "# embedd\n",
    "X_train_embedded = embedding(word2vec, X_train)\n",
    "X_test_embedded = embedding(word2vec, X_train)\n",
    "\n",
    "assert(len(X_train_embedded) == len(X_train))\n",
    "len(X_train_embedded) # list of 80 matrices of xxx rows and 50 columns\n"
   ]
  },
  {
   "cell_type": "code",
   "execution_count": null,
   "id": "b95ce74e",
   "metadata": {
    "ExecuteTime": {
     "end_time": "2022-01-07T15:24:09.394314Z",
     "start_time": "2022-01-07T15:24:09.394301Z"
    }
   },
   "outputs": [],
   "source": [
    "# pad\n",
    "X_train_pad = pad_sequences(X_train_embedded, dtype='float32', padding='post')\n",
    "X_test_pad = pad_sequences(X_test_embedded, dtype='float32', padding='post')\n",
    "\n",
    "assert(len(X_train_pad.shape) == 3)\n",
    "X_train_pad.shape  ## array 80 matrices of 16x50 or 50x16? \n",
    "#!16 lmax length of senetnces in X_train"
   ]
  },
  {
   "cell_type": "markdown",
   "id": "7aae7333",
   "metadata": {},
   "source": [
    "# Modelling NN"
   ]
  },
  {
   "cell_type": "markdown",
   "id": "d154fa83",
   "metadata": {
    "heading_collapsed": true
   },
   "source": [
    "## Prep data"
   ]
  },
  {
   "cell_type": "code",
   "execution_count": 43,
   "id": "bff9372e",
   "metadata": {
    "ExecuteTime": {
     "end_time": "2022-01-11T16:36:31.035720Z",
     "start_time": "2022-01-11T16:36:31.025514Z"
    },
    "hidden": true
   },
   "outputs": [
    {
     "data": {
      "text/html": [
       "<div>\n",
       "<style scoped>\n",
       "    .dataframe tbody tr th:only-of-type {\n",
       "        vertical-align: middle;\n",
       "    }\n",
       "\n",
       "    .dataframe tbody tr th {\n",
       "        vertical-align: top;\n",
       "    }\n",
       "\n",
       "    .dataframe thead th {\n",
       "        text-align: right;\n",
       "    }\n",
       "</style>\n",
       "<table border=\"1\" class=\"dataframe\">\n",
       "  <thead>\n",
       "    <tr style=\"text-align: right;\">\n",
       "      <th></th>\n",
       "      <th>level_0</th>\n",
       "      <th>index</th>\n",
       "      <th>text</th>\n",
       "      <th>label</th>\n",
       "      <th>score_punctuation</th>\n",
       "      <th>score_capital_word</th>\n",
       "    </tr>\n",
       "  </thead>\n",
       "  <tbody>\n",
       "    <tr>\n",
       "      <th>0</th>\n",
       "      <td>0</td>\n",
       "      <td>449217</td>\n",
       "      <td>TEN PER CENT of men don’t think that taking a photograph up a woman’s skirt without her permission  is harassment. Seriously. Who the FUCK are these insects?!?!</td>\n",
       "      <td>2</td>\n",
       "      <td>0</td>\n",
       "      <td>1</td>\n",
       "    </tr>\n",
       "    <tr>\n",
       "      <th>1</th>\n",
       "      <td>1</td>\n",
       "      <td>197860</td>\n",
       "      <td>Where is the  movement on helping to make sure this happens?  ?</td>\n",
       "      <td>0</td>\n",
       "      <td>0</td>\n",
       "      <td>0</td>\n",
       "    </tr>\n",
       "    <tr>\n",
       "      <th>2</th>\n",
       "      <td>2</td>\n",
       "      <td>47004</td>\n",
       "      <td>It’s obvious from Judge K &amp;amp; Doofus Trump that sex predators have as much (or more) trouble remembering their assaults than the victims do.</td>\n",
       "      <td>0</td>\n",
       "      <td>0</td>\n",
       "      <td>0</td>\n",
       "    </tr>\n",
       "    <tr>\n",
       "      <th>3</th>\n",
       "      <td>3</td>\n",
       "      <td>496028</td>\n",
       "      <td>, delighted I am, Jim Acosta is overdue for a spanking.</td>\n",
       "      <td>0</td>\n",
       "      <td>0</td>\n",
       "      <td>0</td>\n",
       "    </tr>\n",
       "    <tr>\n",
       "      <th>4</th>\n",
       "      <td>4</td>\n",
       "      <td>167330</td>\n",
       "      <td>I’ve seen stupid before. Besides, morality will be the campaign slogan &amp;amp; you all can’t compete in this arena &amp;amp; I don’t give a shit about Clinton. He lied, impeached &amp;amp; pardoned. I didn’t vote for him.  Republican until 2016!  Never going back. I am woman &amp;amp; fuck this! ENOUGH</td>\n",
       "      <td>2</td>\n",
       "      <td>0</td>\n",
       "      <td>1</td>\n",
       "    </tr>\n",
       "  </tbody>\n",
       "</table>\n",
       "</div>"
      ],
      "text/plain": [
       "   level_0   index  \\\n",
       "0        0  449217   \n",
       "1        1  197860   \n",
       "2        2   47004   \n",
       "3        3  496028   \n",
       "4        4  167330   \n",
       "\n",
       "                                                                                                                                                                                                                                                                                                 text  \\\n",
       "0                                                                                                                               TEN PER CENT of men don’t think that taking a photograph up a woman’s skirt without her permission  is harassment. Seriously. Who the FUCK are these insects?!?!        \n",
       "1                                                                                                                                                                                                                                     Where is the  movement on helping to make sure this happens?  ?   \n",
       "2                                                                                                                                                   It’s obvious from Judge K &amp; Doofus Trump that sex predators have as much (or more) trouble remembering their assaults than the victims do.      \n",
       "3                                                                                                                                                                                                                                             , delighted I am, Jim Acosta is overdue for a spanking.   \n",
       "4   I’ve seen stupid before. Besides, morality will be the campaign slogan &amp; you all can’t compete in this arena &amp; I don’t give a shit about Clinton. He lied, impeached &amp; pardoned. I didn’t vote for him.  Republican until 2016!  Never going back. I am woman &amp; fuck this! ENOUGH   \n",
       "\n",
       "   label  score_punctuation  score_capital_word  \n",
       "0      2                  0                   1  \n",
       "1      0                  0                   0  \n",
       "2      0                  0                   0  \n",
       "3      0                  0                   0  \n",
       "4      2                  0                   1  "
      ]
     },
     "execution_count": 43,
     "metadata": {},
     "output_type": "execute_result"
    }
   ],
   "source": [
    "df.head()"
   ]
  },
  {
   "cell_type": "code",
   "execution_count": null,
   "id": "0fde18c9",
   "metadata": {
    "ExecuteTime": {
     "end_time": "2022-01-07T15:24:09.397475Z",
     "start_time": "2022-01-07T15:24:09.397463Z"
    },
    "hidden": true
   },
   "outputs": [],
   "source": [
    "df[\"category\"].value_counts()"
   ]
  },
  {
   "cell_type": "code",
   "execution_count": null,
   "id": "910104c6",
   "metadata": {
    "ExecuteTime": {
     "end_time": "2022-01-07T15:24:09.398627Z",
     "start_time": "2022-01-07T15:24:09.398617Z"
    },
    "hidden": true
   },
   "outputs": [],
   "source": [
    "# Embed the training and test sentences\n",
    "X_train_embed = embedding(word2vec, X_train)\n",
    "X_test_embed = embedding(word2vec, X_test)\n",
    "\n",
    "\n",
    "# Pad the training and test embedded sentences\n",
    "X_train_pad = pad_sequences(X_train_embed, dtype='float32', padding='post', maxlen=200)\n",
    "X_test_pad = pad_sequences(X_test_embed, dtype='float32', padding='post', maxlen=200)\n",
    "\n",
    "\n",
    "for X in [X_train_pad, X_test_pad]:\n",
    "    assert type(X) == np.ndarray\n",
    "    assert X.shape[-1] == word2vec.wv.vector_size\n",
    "\n",
    "\n",
    "assert X_train_pad.shape[0] == len(X_train)\n",
    "assert X_test_pad.shape[0] == len(X_test)"
   ]
  },
  {
   "cell_type": "code",
   "execution_count": null,
   "id": "eaee1b86",
   "metadata": {
    "hidden": true
   },
   "outputs": [],
   "source": []
  },
  {
   "cell_type": "markdown",
   "id": "8f416050",
   "metadata": {},
   "source": [
    "## Baseline model"
   ]
  },
  {
   "cell_type": "code",
   "execution_count": 48,
   "id": "4445b0fa",
   "metadata": {
    "ExecuteTime": {
     "end_time": "2022-01-11T16:38:41.439568Z",
     "start_time": "2022-01-11T16:38:41.435139Z"
    }
   },
   "outputs": [
    {
     "name": "stdout",
     "output_type": "stream",
     "text": [
      "Number of labels in train set {0: 683, 2: 317}\n",
      "Baseline accuracy:  {0.5}\n",
      "Acurracy to bit:  {0.9242959631652211}\n"
     ]
    }
   ],
   "source": [
    "unique, counts = np.unique(y_train, return_counts=True)\n",
    "counts = dict(zip(unique, counts))\n",
    "print('Number of labels in train set', counts)\n",
    "print('Baseline accuracy: ', {1/2})\n",
    "print('Acurracy to bit: ', {(4866 + 64190) / 74712})\n",
    "y_pred = 0 if counts[0] > counts[2] else 1\n",
    "#print('Baseline accuracy: ', recall_score(y_test, [y_pred]*len(y_test)))\n"
   ]
  },
  {
   "cell_type": "markdown",
   "id": "e19134b8",
   "metadata": {
    "ExecuteTime": {
     "end_time": "2022-01-07T09:45:59.808066Z",
     "start_time": "2022-01-07T09:45:59.804711Z"
    },
    "heading_collapsed": true
   },
   "source": [
    "## Initial RNN model \n",
    "use the NN model, and train with my data?\n"
   ]
  },
  {
   "cell_type": "code",
   "execution_count": null,
   "id": "e24e5152",
   "metadata": {
    "ExecuteTime": {
     "end_time": "2022-01-07T15:24:09.401126Z",
     "start_time": "2022-01-07T15:24:09.401110Z"
    },
    "hidden": true
   },
   "outputs": [],
   "source": [
    "def init_model():\n",
    "    model = Sequential()\n",
    "    model.add(layers.Masking())\n",
    "    model.add(layers.LSTM(20, activation='tanh'))\n",
    "    model.add(layers.Dense(15, activation='relu'))\n",
    "    model.add(layers.Dense(1, activation='sigmoid'))\n",
    "\n",
    "    model.compile(loss='binary_crossentropy',\n",
    "                  optimizer='rmsprop',\n",
    "                  metrics=['accuracy'])\n",
    "    \n",
    "    return model\n",
    "\n",
    "model = init_model()"
   ]
  },
  {
   "cell_type": "code",
   "execution_count": null,
   "id": "7c4bd5ce",
   "metadata": {
    "ExecuteTime": {
     "end_time": "2022-01-07T15:24:09.402162Z",
     "start_time": "2022-01-07T15:24:09.402148Z"
    },
    "hidden": true
   },
   "outputs": [],
   "source": [
    "es = EarlyStopping(patience=5, restore_best_weights=True)\n",
    "\n",
    "model.fit(X_train_pad, y_train, \n",
    "          batch_size = 32,  # low slower?\n",
    "          epochs=100,\n",
    "          validation_split=0.3,\n",
    "          callbacks=[es]\n",
    "         )\n",
    "\n",
    "## accuracy 0.75"
   ]
  },
  {
   "cell_type": "code",
   "execution_count": null,
   "id": "48670d57",
   "metadata": {
    "ExecuteTime": {
     "end_time": "2022-01-07T15:24:09.403157Z",
     "start_time": "2022-01-07T15:24:09.403142Z"
    },
    "hidden": true
   },
   "outputs": [],
   "source": [
    "res = model.evaluate(X_test_pad, y_test, verbose=0)\n",
    "\n",
    "print(f'The accuracy evaluated on the test set is of {res[1]*100:.3f}%')"
   ]
  },
  {
   "cell_type": "code",
   "execution_count": null,
   "id": "f30e0e9e",
   "metadata": {
    "ExecuteTime": {
     "end_time": "2022-01-07T15:24:09.404077Z",
     "start_time": "2022-01-07T15:24:09.404063Z"
    },
    "hidden": true
   },
   "outputs": [],
   "source": [
    "#model.summary()"
   ]
  },
  {
   "cell_type": "markdown",
   "id": "ac809e6f",
   "metadata": {},
   "source": [
    "## Improve RNN with transfer learning\n",
    "use embedding done on other corpus \n",
    "Use trained NN with others data?"
   ]
  },
  {
   "cell_type": "code",
   "execution_count": 165,
   "id": "11831377",
   "metadata": {
    "ExecuteTime": {
     "end_time": "2022-01-11T21:26:50.890036Z",
     "start_time": "2022-01-11T21:26:50.425303Z"
    }
   },
   "outputs": [
    {
     "name": "stdout",
     "output_type": "stream",
     "text": [
      "['fasttext-wiki-news-subwords-300', 'conceptnet-numberbatch-17-06-300', 'word2vec-ruscorpora-300', 'word2vec-google-news-300', 'glove-wiki-gigaword-50', 'glove-wiki-gigaword-100', 'glove-wiki-gigaword-200', 'glove-wiki-gigaword-300', 'glove-twitter-25', 'glove-twitter-50', 'glove-twitter-100', 'glove-twitter-200', '__testing_word2vec-matrix-synopsis']\n"
     ]
    }
   ],
   "source": [
    "## list existing models (trained on >>>> data)\n",
    "print(list(api.info()['models'].keys()))"
   ]
  },
  {
   "cell_type": "code",
   "execution_count": 49,
   "id": "2fcef137",
   "metadata": {
    "ExecuteTime": {
     "end_time": "2022-01-11T16:39:27.740823Z",
     "start_time": "2022-01-11T16:38:51.419055Z"
    }
   },
   "outputs": [],
   "source": [
    "# pick glove-wiki-gigaword-50 for now, will try others--> teachers recommendation?\n",
    "word2vec_transfer = api.load(\"glove-twitter-50\")\n",
    "#word2vec_transfer.most_similar('harrassment')"
   ]
  },
  {
   "cell_type": "code",
   "execution_count": null,
   "id": "4ad3d83e",
   "metadata": {
    "ExecuteTime": {
     "end_time": "2022-01-11T14:27:28.823108Z",
     "start_time": "2022-01-11T14:27:28.805723Z"
    }
   },
   "outputs": [],
   "source": [
    "print(len(word2vec_transfer.key_to_index))\n",
    "print(len(word2vec_transfer['harassment']))\n",
    "word2vec_transfer['harassment']"
   ]
  },
  {
   "cell_type": "code",
   "execution_count": null,
   "id": "7989d5b5",
   "metadata": {
    "ExecuteTime": {
     "end_time": "2022-01-11T14:27:31.196074Z",
     "start_time": "2022-01-11T14:27:30.828026Z"
    }
   },
   "outputs": [],
   "source": [
    "word2vec_transfer.most_similar('harrassment')"
   ]
  },
  {
   "cell_type": "code",
   "execution_count": null,
   "id": "fa9a6d72",
   "metadata": {
    "ExecuteTime": {
     "end_time": "2022-01-11T14:27:50.084143Z",
     "start_time": "2022-01-11T14:27:50.079650Z"
    }
   },
   "outputs": [],
   "source": [
    "len(word2vec_transfer['harassment'])"
   ]
  },
  {
   "cell_type": "code",
   "execution_count": 50,
   "id": "46f03248",
   "metadata": {
    "ExecuteTime": {
     "end_time": "2022-01-11T16:39:27.747462Z",
     "start_time": "2022-01-11T16:39:27.742176Z"
    }
   },
   "outputs": [],
   "source": [
    "# Function to convert a sentence (list of words) into a matrix representing the words in the embedding space\n",
    "def embed_sentence_with_TF(word2vec, sentence):\n",
    "    embedded_sentence = []\n",
    "    for word in sentence:\n",
    "        if word in word2vec:\n",
    "            embedded_sentence.append(word2vec[word])\n",
    "        \n",
    "    return np.array(embedded_sentence)\n",
    "\n",
    "# Function that converts a list of sentences into a list of matrices\n",
    "def embedding(word2vec, sentences):\n",
    "    embed = []\n",
    "    \n",
    "    for sentence in sentences:\n",
    "        embedded_sentence = embed_sentence_with_TF(word2vec, sentence)\n",
    "        embed.append(embedded_sentence)\n",
    "        \n",
    "    return embed\n",
    "\n",
    "# Embed the training and test sentences\n",
    "X_train_embed_2 = embedding(word2vec_transfer, X_train_text)\n",
    "X_test_embed_2 = embedding(word2vec_transfer, X_test_text)\n",
    "\n",
    "# Pad the training and test embedded sentences\n",
    "X_train_pad_2 = pad_sequences(X_train_embed_2, dtype='float32', padding='post', maxlen=200)\n",
    "X_test_pad_2 = pad_sequences(X_test_embed_2, dtype='float32', padding='post', maxlen=200)"
   ]
  },
  {
   "cell_type": "markdown",
   "id": "02f8b652",
   "metadata": {},
   "source": [
    "## Adding features to tensor"
   ]
  },
  {
   "cell_type": "code",
   "execution_count": 126,
   "id": "98b4c8cc",
   "metadata": {
    "ExecuteTime": {
     "end_time": "2022-01-11T17:01:07.820808Z",
     "start_time": "2022-01-11T17:01:07.806263Z"
    }
   },
   "outputs": [],
   "source": [
    "_max = X_train_pad_2.max()\n",
    "\n",
    "def append_features_to_tensor(X_text, X_feature, _max = X_train_pad_2.max()):\n",
    "\n",
    "    tmp = np.empty(shape=(X_text.shape[0],X_text.shape[1]+2, X_text.shape[2] ))\n",
    "    tmp[:,0:X_text.shape[1],:] = X_text\n",
    "\n",
    "    first_indices = X_text.shape[0] ## # of twitts \n",
    "    tmp_punct =  np.zeros(shape = (1,X_text.shape[2]))\n",
    "    tmp_cap = np.zeros(shape = (1,X_text.shape[2]))\n",
    "\n",
    "    for i in range(first_indices):\n",
    "        if X_feature.iloc[i,0] == 1:\n",
    "            tmp_punct =  tmp_punct*(_max+0.5)\n",
    "\n",
    "        if X_feature.iloc[i,1] == 1:\n",
    "            tmp_cap = tmp_cap*(_max+1)   \n",
    "\n",
    "        tmp[i,200,:] = tmp_punct\n",
    "        tmp[i,201,:] = tmp_cap\n",
    "\n",
    "    \n",
    "    return tmp\n",
    "        "
   ]
  },
  {
   "cell_type": "code",
   "execution_count": 163,
   "id": "60dd5dba",
   "metadata": {
    "ExecuteTime": {
     "end_time": "2022-01-11T17:12:06.357365Z",
     "start_time": "2022-01-11T17:12:06.187653Z"
    }
   },
   "outputs": [],
   "source": [
    "X_train_pad_added_features = append_features_to_tensor(X_train_pad_2, X_feature = X_train_features)\n",
    "X_test_pad_added_features = append_features_to_tensor(X_test_pad_2, X_feature = X_train_features)"
   ]
  },
  {
   "cell_type": "code",
   "execution_count": 164,
   "id": "85854565",
   "metadata": {
    "ExecuteTime": {
     "end_time": "2022-01-11T17:12:06.787815Z",
     "start_time": "2022-01-11T17:12:06.784256Z"
    }
   },
   "outputs": [
    {
     "name": "stdout",
     "output_type": "stream",
     "text": [
      "(800, 202, 50)\n"
     ]
    },
    {
     "data": {
      "text/plain": [
       "(200, 202, 50)"
      ]
     },
     "execution_count": 164,
     "metadata": {},
     "output_type": "execute_result"
    }
   ],
   "source": [
    "#assert(X_train_pad_added_features[:,0:200,:]==X_train_pad_2)\n",
    "print(X_train_pad_added_features.shape)\n",
    "X_test_pad_added_features.shape"
   ]
  },
  {
   "cell_type": "markdown",
   "id": "ec9e1311",
   "metadata": {},
   "source": [
    "## Run model"
   ]
  },
  {
   "cell_type": "code",
   "execution_count": 145,
   "id": "12d792b3",
   "metadata": {
    "ExecuteTime": {
     "end_time": "2022-01-11T17:05:53.481502Z",
     "start_time": "2022-01-11T17:05:53.337284Z"
    }
   },
   "outputs": [
    {
     "name": "stderr",
     "output_type": "stream",
     "text": [
      "2022-01-11 18:05:53.416705: W tensorflow/stream_executor/platform/default/dso_loader.cc:64] Could not load dynamic library 'libcuda.so.1'; dlerror: libcuda.so.1: cannot open shared object file: No such file or directory\n",
      "2022-01-11 18:05:53.417268: W tensorflow/stream_executor/cuda/cuda_driver.cc:269] failed call to cuInit: UNKNOWN ERROR (303)\n",
      "2022-01-11 18:05:53.418140: I tensorflow/stream_executor/cuda/cuda_diagnostics.cc:156] kernel driver does not appear to be running on this host (pop-os): /proc/driver/nvidia/version does not exist\n",
      "2022-01-11 18:05:53.426010: I tensorflow/core/platform/cpu_feature_guard.cc:151] This TensorFlow binary is optimized with oneAPI Deep Neural Network Library (oneDNN) to use the following CPU instructions in performance-critical operations:  AVX2 AVX512F FMA\n",
      "To enable them in other operations, rebuild TensorFlow with the appropriate compiler flags.\n"
     ]
    }
   ],
   "source": [
    "def init_model():\n",
    "    model = Sequential()\n",
    "    model.add(layers.Masking())#, label =\"layer1_masking\")\n",
    "    model.add(layers.LSTM(20, activation='tanh'))#, label =\"layer2_LSTM\")\n",
    "    model.add(layers.Dense(15, activation='relu'))#, label =\"layer3_dense_relu\")\n",
    "    model.add(layers.Dense(1, activation='sigmoid'))#, label =\"layer4_dense_sigmoid\")\n",
    "\n",
    "    model.compile(loss='binary_crossentropy',\n",
    "                  optimizer='rmsprop',\n",
    "                  metrics=[\"Recall\"]) #['recall']) # tp/(tp+fn) metrics=[tf.keras.metrics.Recall()]\n",
    "    \n",
    "    return model\n",
    "\n",
    "model = init_model()"
   ]
  },
  {
   "cell_type": "code",
   "execution_count": 153,
   "id": "73d95c52",
   "metadata": {
    "ExecuteTime": {
     "end_time": "2022-01-11T17:08:43.424239Z",
     "start_time": "2022-01-11T17:08:43.397706Z"
    }
   },
   "outputs": [],
   "source": [
    "# Run new model\n",
    "\n",
    "es = EarlyStopping(patience=5, restore_best_weights=True)\n",
    "\n",
    "model = init_model()\n"
   ]
  },
  {
   "cell_type": "code",
   "execution_count": 154,
   "id": "f2f31a83",
   "metadata": {
    "ExecuteTime": {
     "end_time": "2022-01-11T17:08:56.370908Z",
     "start_time": "2022-01-11T17:08:44.206315Z"
    }
   },
   "outputs": [
    {
     "name": "stdout",
     "output_type": "stream",
     "text": [
      "Epoch 1/100\n",
      "18/18 [==============================] - 5s 107ms/step - loss: 0.6705 - recall: 0.8564 - val_loss: 0.6735 - val_recall: 0.9861\n",
      "Epoch 2/100\n",
      "18/18 [==============================] - 1s 65ms/step - loss: 0.6475 - recall: 0.9669 - val_loss: 0.6721 - val_recall: 1.0000\n",
      "Epoch 3/100\n",
      "18/18 [==============================] - 1s 65ms/step - loss: 0.6339 - recall: 0.9669 - val_loss: 0.6755 - val_recall: 1.0000\n",
      "Epoch 4/100\n",
      "18/18 [==============================] - 1s 64ms/step - loss: 0.6231 - recall: 0.9834 - val_loss: 0.6771 - val_recall: 1.0000\n",
      "Epoch 5/100\n",
      "18/18 [==============================] - 1s 64ms/step - loss: 0.6134 - recall: 0.9945 - val_loss: 0.6780 - val_recall: 1.0000\n",
      "Epoch 6/100\n",
      "18/18 [==============================] - 1s 65ms/step - loss: 0.6028 - recall: 0.9724 - val_loss: 0.6802 - val_recall: 1.0000\n",
      "Epoch 7/100\n",
      "18/18 [==============================] - 1s 82ms/step - loss: 0.5867 - recall: 0.9779 - val_loss: 0.6755 - val_recall: 0.9583\n"
     ]
    },
    {
     "data": {
      "text/plain": [
       "<keras.callbacks.History at 0x7f81dcefa5e0>"
      ]
     },
     "execution_count": 154,
     "metadata": {},
     "output_type": "execute_result"
    }
   ],
   "source": [
    "model.fit( X_train_pad_added_features, y_train,  #X_train_pad_2\n",
    "          batch_size = 32,\n",
    "          epochs=100,\n",
    "          validation_split=0.3,\n",
    "          callbacks=[es]\n",
    "         )\n",
    "## accuracy 0.7083"
   ]
  },
  {
   "cell_type": "code",
   "execution_count": 155,
   "id": "94752d2a",
   "metadata": {
    "ExecuteTime": {
     "end_time": "2022-01-11T17:09:00.021439Z",
     "start_time": "2022-01-11T17:09:00.016361Z"
    }
   },
   "outputs": [
    {
     "name": "stdout",
     "output_type": "stream",
     "text": [
      "Model: \"sequential_2\"\n",
      "_________________________________________________________________\n",
      " Layer (type)                Output Shape              Param #   \n",
      "=================================================================\n",
      " masking_2 (Masking)         (None, 202, 50)           0         \n",
      "                                                                 \n",
      " lstm_2 (LSTM)               (None, 20)                5680      \n",
      "                                                                 \n",
      " dense_4 (Dense)             (None, 15)                315       \n",
      "                                                                 \n",
      " dense_5 (Dense)             (None, 1)                 16        \n",
      "                                                                 \n",
      "=================================================================\n",
      "Total params: 6,011\n",
      "Trainable params: 6,011\n",
      "Non-trainable params: 0\n",
      "_________________________________________________________________\n"
     ]
    }
   ],
   "source": [
    "model.summary()"
   ]
  },
  {
   "cell_type": "code",
   "execution_count": 156,
   "id": "a491a3c1",
   "metadata": {
    "ExecuteTime": {
     "end_time": "2022-01-11T17:09:35.632380Z",
     "start_time": "2022-01-11T17:09:35.629054Z"
    }
   },
   "outputs": [],
   "source": [
    "# res = model.evaluate(X_test_pad_2, y_test, verbose=0)\n",
    "\n",
    "# print(f'The recall evaluated on the test set is of {res[1]*100:.3f}%')"
   ]
  },
  {
   "cell_type": "code",
   "execution_count": 157,
   "id": "48842175",
   "metadata": {
    "ExecuteTime": {
     "end_time": "2022-01-11T17:09:37.848286Z",
     "start_time": "2022-01-11T17:09:37.838782Z"
    }
   },
   "outputs": [],
   "source": [
    "def plot_loss_recall(history, title=None):\n",
    "    fig, ax = plt.subplots(1,2, figsize=(20,7))\n",
    "    \n",
    "    # --- LOSS --- \n",
    "    \n",
    "    ax[0].plot(history.history['loss'])\n",
    "    ax[0].plot(history.history['val_loss'])\n",
    "    ax[0].set_title('Model loss')\n",
    "    ax[0].set_ylabel('Loss')\n",
    "    ax[0].set_xlabel('Epoch')\n",
    "    ax[0].set_ylim((0,3))\n",
    "    ax[0].legend(['Train', 'Test'], loc='best')\n",
    "    ax[0].grid(axis=\"x\",linewidth=0.5)\n",
    "    ax[0].grid(axis=\"y\",linewidth=0.5)\n",
    "    \n",
    "    # --- ACCURACY\n",
    "    \n",
    "    ax[1].plot(history.history['recall'])\n",
    "    ax[1].plot(history.history['val_recall'])\n",
    "    ax[1].set_title('Model Recall')\n",
    "    ax[1].set_ylabel('recall')\n",
    "    ax[1].set_xlabel('Epoch')\n",
    "    ax[1].legend(['Train', 'Test'], loc='best')\n",
    "    ax[1].set_ylim((0,1))\n",
    "    ax[1].grid(axis=\"x\",linewidth=0.5)\n",
    "    ax[1].grid(axis=\"y\",linewidth=0.5)\n",
    "    \n",
    "    if title:\n",
    "        fig.suptitle(title)"
   ]
  },
  {
   "cell_type": "code",
   "execution_count": 158,
   "id": "cefb7371",
   "metadata": {
    "ExecuteTime": {
     "end_time": "2022-01-11T17:09:40.172816Z",
     "start_time": "2022-01-11T17:09:39.915525Z"
    }
   },
   "outputs": [
    {
     "data": {
      "image/png": "[encoded data removed]",
      "text/plain": [
       "<Figure size 1440x504 with 2 Axes>"
      ]
     },
     "metadata": {
      "needs_background": "light"
     },
     "output_type": "display_data"
    }
   ],
   "source": [
    "plot_loss_recall(model.history, title=None)"
   ]
  },
  {
   "cell_type": "markdown",
   "id": "2b0a1368",
   "metadata": {},
   "source": [
    "# Question to teachers"
   ]
  },
  {
   "cell_type": "markdown",
   "id": "11859b09",
   "metadata": {
    "ExecuteTime": {
     "end_time": "2022-01-06T16:24:56.252728Z",
     "start_time": "2022-01-06T16:24:56.212677Z"
    }
   },
   "source": [
    "- Lementazing needed? yes--> reduce vocabulary_size in X_train\n",
    "- Removing stop_words ---> yes.\n",
    "- Why words in my X_train do not have embeddings with Word2Vec  --> depends on min_count\n",
    "- keep (top 20) emojis by replacing with some word  instead of removing in data prep? \n",
    "- should we remove numbers in words? ex. \"one\"\n",
    "\n",
    "- vector_size effect on embedding, not clear?---> seems like higher dimension better on most_similar words\n",
    "-! transfer embedding vs \"regular\" embedding? \n",
    "TE = use pre-trained model to represent my data in N-dim\n",
    "RE = use pre-defined NN to train on my data and represent in som N-dim ?"
   ]
  },
  {
   "cell_type": "markdown",
   "id": "3c326be9",
   "metadata": {},
   "source": [
    "# Notes for myself"
   ]
  },
  {
   "cell_type": "markdown",
   "id": "d074aba0",
   "metadata": {
    "ExecuteTime": {
     "end_time": "2022-01-07T07:33:35.478757Z",
     "start_time": "2022-01-07T07:33:35.476368Z"
    }
   },
   "source": [
    "- !! some texts truncated example \"yeah....\" in sjekk\n",
    "- remove \"amp\"--> stands for &\n",
    "- Add confusion matrix"
   ]
  },
  {
   "cell_type": "code",
   "execution_count": null,
   "id": "dbfc2d88",
   "metadata": {
    "ExecuteTime": {
     "end_time": "2022-01-07T15:24:09.415389Z",
     "start_time": "2022-01-07T15:24:09.415376Z"
    }
   },
   "outputs": [],
   "source": [
    "# plt.figure(figsize=(6,6))\n",
    "# cm = cm.astype('float') / cm.sum(axis=1)[:, np.newaxis]\n",
    "# sns.heatmap(cm, square=True, annot=True, cbar=False,\n",
    "#             xticklabels=['non-hate', 'hate'], yticklabels=['non-hate', 'hate'])\n",
    "# plt.xlabel('Predicted label')\n",
    "# plt.ylabel('True label')"
   ]
  },
  {
   "cell_type": "markdown",
   "id": "91e0ce3e",
   "metadata": {},
   "source": [
    "## Transfer learning vs \"simple\" embedding\n",
    "\n",
    "- As mentionned ealier, Word2vec trains an internal Neural network whose goal is to predict a word in a corpus\n",
    "based on the words around it. This part of the sentence is called the window.\n",
    "Its size corresponds to the number of word around word W used to predict this word W\n",
    "\n",
    "- Instead of learning it on your training set (especially if it is very small), you can directly \n",
    "load a pretrained embedding\n"
   ]
  },
  {
   "cell_type": "markdown",
   "id": "5b118494",
   "metadata": {},
   "source": [
    "# Keras documentation\n",
    "\n",
    "- padding : https://www.tensorflow.org/api_docs/python/tf/keras/preprocessing/sequence/pad_sequences\n",
    "- embedding: https://www.tensorflow.org/api_docs/python/tf/keras/layers/Embedding#example_2"
   ]
  },
  {
   "cell_type": "markdown",
   "id": "5305e2c2",
   "metadata": {},
   "source": [
    "# Gensim word2vec documentation"
   ]
  },
  {
   "cell_type": "markdown",
   "id": "befafaf9",
   "metadata": {
    "ExecuteTime": {
     "end_time": "2022-01-07T07:41:20.963944Z",
     "start_time": "2022-01-07T07:41:20.960192Z"
    }
   },
   "source": [
    "- https://radimrehurek.com/gensim/\n",
    "- https://radimrehurek.com/gensim/models/word2vec.html#usage-examples\n",
    "- https://radimrehurek.com/gensim/models/word2vec.html#usage-examples\n",
    "- hyperparameters: https://radimrehurek.com/gensim/models/word2vec.html#gensim.models.word2vec.Text8Corpus\n",
    "- transfer learning : gensim-data repository."
   ]
  },
  {
   "cell_type": "markdown",
   "id": "1d8666cc",
   "metadata": {},
   "source": [
    "# To do"
   ]
  },
  {
   "cell_type": "markdown",
   "id": "5d53b07f",
   "metadata": {},
   "source": [
    "- twick Embedding hyperparameters to improve score\n",
    "- Understand the other layers and hyperparameters to tune\n",
    "- Improve data cleaning part (lemantizing?)\n",
    "- Run all on bigger datasett\n",
    "- ++++"
   ]
  },
  {
   "cell_type": "markdown",
   "id": "deaf02db",
   "metadata": {},
   "source": [
    "# Results"
   ]
  },
  {
   "cell_type": "markdown",
   "id": "7afc424b",
   "metadata": {},
   "source": [
    "### Results_ss100_undersampling"
   ]
  },
  {
   "cell_type": "markdown",
   "id": "1782366d",
   "metadata": {},
   "source": [
    "| model_name | Embedding_type | validation_accuracy | test_accuracy|\n",
    "| --- | --- | --- |---|\n",
    "| | from scratch | 0.4167 |0.55|\n",
    "| | w2v | 0.75 |0.65|\n",
    "|  | w2vTF | 0.7083 |0.70|"
   ]
  },
  {
   "cell_type": "code",
   "execution_count": null,
   "id": "4e02bf57",
   "metadata": {
    "ExecuteTime": {
     "end_time": "2022-01-07T15:24:09.416165Z",
     "start_time": "2022-01-07T15:24:09.416152Z"
    }
   },
   "outputs": [],
   "source": [
    "#0.6667  60.500"
   ]
  },
  {
   "cell_type": "markdown",
   "id": "2d97843d",
   "metadata": {},
   "source": [
    "# Check embedding of emojis"
   ]
  },
  {
   "cell_type": "markdown",
   "id": "41d8130e",
   "metadata": {},
   "source": [
    "https://github.com/uclnlp/emoji2vec"
   ]
  },
  {
   "cell_type": "markdown",
   "id": "ccd3d2c0",
   "metadata": {},
   "source": [
    "# Filtres"
   ]
  },
  {
   "cell_type": "markdown",
   "id": "e73da744",
   "metadata": {},
   "source": [
    "## Emojis (ironic vs hate)"
   ]
  },
  {
   "cell_type": "markdown",
   "id": "db5ae275",
   "metadata": {},
   "source": [
    "## Capital word"
   ]
  },
  {
   "cell_type": "markdown",
   "id": "13f65850",
   "metadata": {},
   "source": [
    "## !!!!! min 5"
   ]
  },
  {
   "cell_type": "markdown",
   "id": "1ab87106",
   "metadata": {},
   "source": [
    "## Abusive words"
   ]
  },
  {
   "cell_type": "markdown",
   "id": "fae74abc",
   "metadata": {},
   "source": [
    "# Questions"
   ]
  },
  {
   "cell_type": "code",
   "execution_count": null,
   "id": "b51f030e",
   "metadata": {},
   "outputs": [],
   "source": []
  }
 ],
 "metadata": {
  "kernelspec": {
   "display_name": "Python 3 (ipykernel)",
   "language": "python",
   "name": "python3"
  },
  "language_info": {
   "codemirror_mode": {
    "name": "ipython",
    "version": 3
   },
   "file_extension": ".py",
   "mimetype": "text/x-python",
   "name": "python",
   "nbconvert_exporter": "python",
   "pygments_lexer": "ipython3",
   "version": "3.8.12"
  },
  "nbTranslate": {
   "displayLangs": [
    "*"
   ],
   "hotkey": "alt-t",
   "langInMainMenu": true,
   "sourceLang": "en",
   "targetLang": "fr",
   "useGoogleTranslate": true
  },
  "toc": {
   "base_numbering": 1,
   "nav_menu": {},
   "number_sections": true,
   "sideBar": true,
   "skip_h1_title": false,
   "title_cell": "Table of Contents",
   "title_sidebar": "Contents",
   "toc_cell": false,
   "toc_position": {
    "height": "calc(100% - 180px)",
    "left": "10px",
    "top": "150px",
    "width": "547.827px"
   },
   "toc_section_display": true,
   "toc_window_display": true
  }
 },
 "nbformat": 4,
 "nbformat_minor": 5
}
