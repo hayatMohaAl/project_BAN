{
 "cells": [
  {
   "cell_type": "markdown",
   "id": "eed2b098",
   "metadata": {},
   "source": [
    "# Libraries"
   ]
  },
  {
   "cell_type": "code",
   "execution_count": 2,
   "id": "79c2f254",
   "metadata": {
    "ExecuteTime": {
     "end_time": "2022-01-13T12:18:10.745406Z",
     "start_time": "2022-01-13T12:18:07.954224Z"
    }
   },
   "outputs": [
    {
     "name": "stderr",
     "output_type": "stream",
     "text": [
      "2022-01-13 13:18:09.027069: W tensorflow/stream_executor/platform/default/dso_loader.cc:64] Could not load dynamic library 'libcudart.so.11.0'; dlerror: libcudart.so.11.0: cannot open shared object file: No such file or directory\n",
      "2022-01-13 13:18:09.027111: I tensorflow/stream_executor/cuda/cudart_stub.cc:29] Ignore above cudart dlerror if you do not have a GPU set up on your machine.\n"
     ]
    }
   ],
   "source": [
    "import pandas as pd\n",
    "import numpy  as np\n",
    "\n",
    "from gensim.models import Word2Vec\n",
    "import gensim.downloader as api\n",
    "from tensorflow.keras.preprocessing.sequence import pad_sequences\n",
    "\n",
    "import pickle\n",
    "import warnings\n",
    "warnings.filterwarnings('ignore')\n",
    "\n",
    "import gc"
   ]
  },
  {
   "cell_type": "markdown",
   "id": "b2444fd5",
   "metadata": {},
   "source": [
    "# Help function embedding"
   ]
  },
  {
   "cell_type": "code",
   "execution_count": 3,
   "id": "c675b13f",
   "metadata": {
    "ExecuteTime": {
     "end_time": "2022-01-13T12:18:11.230050Z",
     "start_time": "2022-01-13T12:18:11.223409Z"
    }
   },
   "outputs": [],
   "source": [
    "# Function to convert a sentence (list of words) into a matrix representing the words in the embedding space\n",
    "def embed_sentence_with_TF(word2vec, sentence):\n",
    "    embedded_sentence = []\n",
    "    for word in sentence:\n",
    "        if word in word2vec:\n",
    "            embedded_sentence.append(word2vec[word])\n",
    "        \n",
    "    return np.array(embedded_sentence)\n",
    "\n",
    "# Function that converts a list of sentences into a list of matrices\n",
    "def embedding(word2vec, sentences):\n",
    "    embed = []\n",
    "    \n",
    "    for sentence in sentences:\n",
    "        embedded_sentence = embed_sentence_with_TF(word2vec, sentence)\n",
    "        embed.append(embedded_sentence)\n",
    "        \n",
    "    return embed\n",
    "\n"
   ]
  },
  {
   "cell_type": "markdown",
   "id": "b3439641",
   "metadata": {},
   "source": [
    "# Load, embed, pad training data"
   ]
  },
  {
   "cell_type": "markdown",
   "id": "0550c9b0",
   "metadata": {},
   "source": [
    "# Load, embed, pad test data"
   ]
  },
  {
   "cell_type": "markdown",
   "id": "45b10adf",
   "metadata": {},
   "source": [
    "# Load data from pickle "
   ]
  },
  {
   "cell_type": "code",
   "execution_count": null,
   "id": "8cb809e1",
   "metadata": {},
   "outputs": [],
   "source": []
  },
  {
   "cell_type": "code",
   "execution_count": 4,
   "id": "7a101323",
   "metadata": {
    "ExecuteTime": {
     "end_time": "2022-01-13T12:18:16.608259Z",
     "start_time": "2022-01-13T12:18:16.241886Z"
    }
   },
   "outputs": [],
   "source": [
    "# X_train\n",
    "with open('../raw_data/X_train_text', 'rb') as f1:\n",
    "    X_train_text = pickle.load(f1) \n",
    "with open('../raw_data/X_train_features', 'rb') as f1:\n",
    "    X_train_features = pickle.load(f1) \n",
    "\n",
    "# X_test\n",
    "with open('../raw_data/X_test_text', 'rb') as f1:\n",
    "    X_test_text = pickle.load(f1)   \n",
    "with open('../raw_data/X_test_features', 'rb') as f1:\n",
    "    X_test_features = pickle.load(f1)    \n",
    "\n",
    "# # y_train\n",
    "# with open('../raw_data/y_train', 'rb') as f1:\n",
    "#     y_train = pickle.load(f1)\n",
    "    \n",
    "# # y_test2\n",
    "# with open('../raw_data/y_test', 'rb') as f1:\n",
    "#     y_test = pickle.load(f1) "
   ]
  },
  {
   "cell_type": "code",
   "execution_count": 5,
   "id": "337a3b56",
   "metadata": {
    "ExecuteTime": {
     "end_time": "2022-01-13T12:18:18.873244Z",
     "start_time": "2022-01-13T12:18:18.866681Z"
    }
   },
   "outputs": [],
   "source": [
    "assert(len(X_train_text)==len(y_train))\n",
    "assert(len(X_test_text)==len(y_test))\n",
    "assert(X_train_features.shape[0]==len(y_train))\n",
    "assert(X_test_features.shape[0])==len(y_test)"
   ]
  },
  {
   "cell_type": "code",
   "execution_count": 6,
   "id": "b3183452",
   "metadata": {
    "ExecuteTime": {
     "end_time": "2022-01-13T12:18:19.455481Z",
     "start_time": "2022-01-13T12:18:19.447012Z"
    }
   },
   "outputs": [
    {
     "name": "stdout",
     "output_type": "stream",
     "text": [
      "########## train #########\n",
      "96873\n",
      "96873\n",
      "(96873, 2)\n",
      "########## test #########\n",
      "24219\n",
      "24219\n",
      "(24219, 2)\n"
     ]
    }
   ],
   "source": [
    "print(\"########## train #########\")\n",
    "print(len(y_train))\n",
    "print(len(X_train_text))\n",
    "print(X_train_features.shape)\n",
    "\n",
    "print(\"########## test #########\")\n",
    "print(len(y_test))\n",
    "print(len(X_test_text))\n",
    "print(X_test_features.shape)"
   ]
  },
  {
   "cell_type": "markdown",
   "id": "fce37303",
   "metadata": {},
   "source": [
    "# Embedding"
   ]
  },
  {
   "cell_type": "code",
   "execution_count": 7,
   "id": "5e43af31",
   "metadata": {
    "ExecuteTime": {
     "end_time": "2022-01-13T12:18:58.522556Z",
     "start_time": "2022-01-13T12:18:21.097036Z"
    }
   },
   "outputs": [
    {
     "name": "stdout",
     "output_type": "stream",
     "text": [
      "['fasttext-wiki-news-subwords-300', 'conceptnet-numberbatch-17-06-300', 'word2vec-ruscorpora-300', 'word2vec-google-news-300', 'glove-wiki-gigaword-50', 'glove-wiki-gigaword-100', 'glove-wiki-gigaword-200', 'glove-wiki-gigaword-300', 'glove-twitter-25', 'glove-twitter-50', 'glove-twitter-100', 'glove-twitter-200', '__testing_word2vec-matrix-synopsis']\n"
     ]
    }
   ],
   "source": [
    "print(list(api.info()['models'].keys()))\n",
    "word2vec_transfer = api.load('glove-twitter-50')"
   ]
  },
  {
   "cell_type": "code",
   "execution_count": 9,
   "id": "d18ca8ce",
   "metadata": {
    "ExecuteTime": {
     "end_time": "2022-01-13T12:19:34.989658Z",
     "start_time": "2022-01-13T12:19:31.405460Z"
    }
   },
   "outputs": [],
   "source": [
    "# Embed the training and test sentences\n",
    "X_train_embed_tf = embedding(word2vec_transfer, X_train_text)\n",
    "X_test_embed_tf = embedding(word2vec_transfer, X_test_text)"
   ]
  },
  {
   "cell_type": "code",
   "execution_count": 10,
   "id": "45656dd0",
   "metadata": {
    "ExecuteTime": {
     "end_time": "2022-01-13T12:19:38.587009Z",
     "start_time": "2022-01-13T12:19:36.895944Z"
    }
   },
   "outputs": [],
   "source": [
    "# X_train\n",
    "with open('../raw_data/X_train_embed_tf', 'wb') as f1:\n",
    "    pickle.dump(X_train_embed_tf, f1)\n",
    "    \n",
    "# X_test\n",
    "with open('../raw_data/X_test_embed_tf', 'wb') as f1:\n",
    "    pickle.dump(X_test_embed_tf, f1)   \n",
    "    \n"
   ]
  },
  {
   "cell_type": "code",
   "execution_count": 11,
   "id": "a99cd1dc",
   "metadata": {
    "ExecuteTime": {
     "end_time": "2022-01-13T12:19:42.928148Z",
     "start_time": "2022-01-13T12:19:42.922593Z"
    }
   },
   "outputs": [],
   "source": [
    "#%who\n",
    "#%whos"
   ]
  },
  {
   "cell_type": "code",
   "execution_count": 12,
   "id": "1d7e57ad",
   "metadata": {
    "ExecuteTime": {
     "end_time": "2022-01-13T12:19:44.146478Z",
     "start_time": "2022-01-13T12:19:44.142147Z"
    }
   },
   "outputs": [],
   "source": [
    "import gc\n",
    "## Free up memory space by deleting + gc.collect()\n",
    "# del X_train_text, X_test_text, word2vec_transfer\n",
    "# gc.collect()"
   ]
  },
  {
   "cell_type": "code",
   "execution_count": null,
   "id": "260b4697",
   "metadata": {
    "ExecuteTime": {
     "start_time": "2022-01-13T10:44:30.838Z"
    }
   },
   "outputs": [],
   "source": []
  },
  {
   "cell_type": "code",
   "execution_count": null,
   "id": "e290ee17",
   "metadata": {
    "ExecuteTime": {
     "start_time": "2022-01-13T10:44:30.838Z"
    }
   },
   "outputs": [],
   "source": []
  },
  {
   "cell_type": "code",
   "execution_count": null,
   "id": "1226f631",
   "metadata": {},
   "outputs": [],
   "source": []
  }
 ],
 "metadata": {
  "kernelspec": {
   "display_name": "Python 3 (ipykernel)",
   "language": "python",
   "name": "python3"
  },
  "language_info": {
   "codemirror_mode": {
    "name": "ipython",
    "version": 3
   },
   "file_extension": ".py",
   "mimetype": "text/x-python",
   "name": "python",
   "nbconvert_exporter": "python",
   "pygments_lexer": "ipython3",
   "version": "3.8.12"
  },
  "nbTranslate": {
   "displayLangs": [
    "*"
   ],
   "hotkey": "alt-t",
   "langInMainMenu": true,
   "sourceLang": "en",
   "targetLang": "fr",
   "useGoogleTranslate": true
  },
  "toc": {
   "base_numbering": 1,
   "nav_menu": {},
   "number_sections": true,
   "sideBar": true,
   "skip_h1_title": false,
   "title_cell": "Table of Contents",
   "title_sidebar": "Contents",
   "toc_cell": false,
   "toc_position": {},
   "toc_section_display": true,
   "toc_window_display": true
  }
 },
 "nbformat": 4,
 "nbformat_minor": 5
}
