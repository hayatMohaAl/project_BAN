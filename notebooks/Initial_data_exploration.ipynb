{
 "cells": [
  {
   "cell_type": "markdown",
   "id": "7e06ad07",
   "metadata": {},
   "source": [
    "# Load libraries"
   ]
  },
  {
   "cell_type": "code",
   "execution_count": 8,
   "id": "cd9352a6",
   "metadata": {
    "ExecuteTime": {
     "end_time": "2022-01-05T13:48:28.687522Z",
     "start_time": "2022-01-05T13:48:28.684311Z"
    }
   },
   "outputs": [],
   "source": [
    "import pandas as pd\n",
    "import numpy  as np\n",
    "import string \n",
    "import re\n",
    "from nltk.corpus import stopwords \n",
    "from nltk.tokenize import word_tokenize\n",
    "from nltk.stem.porter import PorterStemmer\n",
    "from nltk.stem import WordNetLemmatizer\n",
    "from sklearn.feature_extraction.text import CountVectorizer\n",
    "from sklearn.feature_extraction.text import TfidfVectorizer"
   ]
  },
  {
   "cell_type": "markdown",
   "id": "4160115a",
   "metadata": {},
   "source": [
    "# Data import"
   ]
  },
  {
   "cell_type": "code",
   "execution_count": 9,
   "id": "01123c62",
   "metadata": {
    "ExecuteTime": {
     "end_time": "2022-01-05T13:48:29.626576Z",
     "start_time": "2022-01-05T13:48:29.581924Z"
    }
   },
   "outputs": [
    {
     "data": {
      "text/html": [
       "<div>\n",
       "<style scoped>\n",
       "    .dataframe tbody tr th:only-of-type {\n",
       "        vertical-align: middle;\n",
       "    }\n",
       "\n",
       "    .dataframe tbody tr th {\n",
       "        vertical-align: top;\n",
       "    }\n",
       "\n",
       "    .dataframe thead th {\n",
       "        text-align: right;\n",
       "    }\n",
       "</style>\n",
       "<table border=\"1\" class=\"dataframe\">\n",
       "  <thead>\n",
       "    <tr style=\"text-align: right;\">\n",
       "      <th></th>\n",
       "      <th>status_id</th>\n",
       "      <th>text</th>\n",
       "      <th>created_at</th>\n",
       "      <th>favorite_count</th>\n",
       "      <th>retweet_count</th>\n",
       "      <th>location</th>\n",
       "      <th>followers_count</th>\n",
       "      <th>friends_count</th>\n",
       "      <th>statuses_count</th>\n",
       "      <th>category</th>\n",
       "    </tr>\n",
       "  </thead>\n",
       "  <tbody>\n",
       "    <tr>\n",
       "      <th>0</th>\n",
       "      <td>1046207313588236290</td>\n",
       "      <td>Entitled, obnoxious, defensive, lying weasel. This thing is to make decisions that may affect my life? He is a women hater.</td>\n",
       "      <td>2018-09-30T01:17:15Z</td>\n",
       "      <td>5</td>\n",
       "      <td>1</td>\n",
       "      <td>McAllen, TX</td>\n",
       "      <td>2253</td>\n",
       "      <td>2303</td>\n",
       "      <td>23856</td>\n",
       "      <td>0</td>\n",
       "    </tr>\n",
       "    <tr>\n",
       "      <th>1</th>\n",
       "      <td>1046207328113086464</td>\n",
       "      <td>Thank you  and  for what you did for the women and survivors this week.  \\n</td>\n",
       "      <td>2018-09-30T01:17:19Z</td>\n",
       "      <td>5</td>\n",
       "      <td>2</td>\n",
       "      <td>Tampa, FL</td>\n",
       "      <td>2559</td>\n",
       "      <td>4989</td>\n",
       "      <td>19889</td>\n",
       "      <td>0</td>\n",
       "    </tr>\n",
       "    <tr>\n",
       "      <th>2</th>\n",
       "      <td>1046207329589493760</td>\n",
       "      <td>Knitting (s) &amp;amp; getting ready for January 19, 2019.</td>\n",
       "      <td>2018-09-30T01:17:19Z</td>\n",
       "      <td>0</td>\n",
       "      <td>0</td>\n",
       "      <td>St Cloud, MN</td>\n",
       "      <td>16</td>\n",
       "      <td>300</td>\n",
       "      <td>9</td>\n",
       "      <td>0</td>\n",
       "    </tr>\n",
       "    <tr>\n",
       "      <th>3</th>\n",
       "      <td>1046207341283168256</td>\n",
       "      <td>Yep just like triffeling women weaponized their poon!! Wonder if Kamala Harris ever extorted Willy Brown after throwing the poon on him, oh yeh, that how she got her first job me too is a JOKE!</td>\n",
       "      <td>2018-09-30T01:17:22Z</td>\n",
       "      <td>1</td>\n",
       "      <td>0</td>\n",
       "      <td>flyover country</td>\n",
       "      <td>3573</td>\n",
       "      <td>3732</td>\n",
       "      <td>38361</td>\n",
       "      <td>1</td>\n",
       "    </tr>\n",
       "    <tr>\n",
       "      <th>4</th>\n",
       "      <td>1046207347016826880</td>\n",
       "      <td>No, the President wants to end  movement posing  as the  movement.</td>\n",
       "      <td>2018-09-30T01:17:23Z</td>\n",
       "      <td>0</td>\n",
       "      <td>0</td>\n",
       "      <td>World</td>\n",
       "      <td>294</td>\n",
       "      <td>312</td>\n",
       "      <td>7635</td>\n",
       "      <td>0</td>\n",
       "    </tr>\n",
       "  </tbody>\n",
       "</table>\n",
       "</div>"
      ],
      "text/plain": [
       "             status_id  \\\n",
       "0  1046207313588236290   \n",
       "1  1046207328113086464   \n",
       "2  1046207329589493760   \n",
       "3  1046207341283168256   \n",
       "4  1046207347016826880   \n",
       "\n",
       "                                                                                                                                                                                                 text  \\\n",
       "0                                                                      Entitled, obnoxious, defensive, lying weasel. This thing is to make decisions that may affect my life? He is a women hater.      \n",
       "1                                                                                                                         Thank you  and  for what you did for the women and survivors this week.  \\n   \n",
       "2                                                                                                                                         Knitting (s) &amp; getting ready for January 19, 2019.        \n",
       "3  Yep just like triffeling women weaponized their poon!! Wonder if Kamala Harris ever extorted Willy Brown after throwing the poon on him, oh yeh, that how she got her first job me too is a JOKE!    \n",
       "4                                                                                                                                  No, the President wants to end  movement posing  as the  movement.   \n",
       "\n",
       "             created_at  favorite_count  retweet_count         location  \\\n",
       "0  2018-09-30T01:17:15Z               5              1      McAllen, TX   \n",
       "1  2018-09-30T01:17:19Z               5              2        Tampa, FL   \n",
       "2  2018-09-30T01:17:19Z               0              0     St Cloud, MN   \n",
       "3  2018-09-30T01:17:22Z               1              0  flyover country   \n",
       "4  2018-09-30T01:17:23Z               0              0            World   \n",
       "\n",
       "   followers_count  friends_count  statuses_count  category  \n",
       "0             2253           2303           23856         0  \n",
       "1             2559           4989           19889         0  \n",
       "2               16            300               9         0  \n",
       "3             3573           3732           38361         1  \n",
       "4              294            312            7635         0  "
      ]
     },
     "execution_count": 9,
     "metadata": {},
     "output_type": "execute_result"
    }
   ],
   "source": [
    "pd.set_option('max_colwidth', None) \n",
    "df = pd.read_csv(\"~/Downloads/banData/MeTooHate.csv\", nrows = 10000)\n",
    "df.head()"
   ]
  },
  {
   "cell_type": "markdown",
   "id": "2c34382b",
   "metadata": {},
   "source": [
    "## Extract Hate data\n",
    "\n",
    "- Is there a sub-category?\n",
    "- Check first 60 tweets labeled as 1\n",
    "    - Negative sentiment expressed: 6, 8, 9, 11, 12, 14, 17, 20, 22, 23, 24, 26, 27, 28,30**,31, 32, 33, 34, 35, 36, 38, 40, 41, 42, 45, 46, 47, 48, 53, 54, 55, 56, 57, 58, 59, 60\n",
    "    - Hate expressed:the rest\n"
   ]
  },
  {
   "cell_type": "markdown",
   "id": "38899eaa",
   "metadata": {
    "ExecuteTime": {
     "end_time": "2022-01-05T11:35:47.837297Z",
     "start_time": "2022-01-05T11:35:47.830379Z"
    }
   },
   "source": [
    "## External abusive word list"
   ]
  },
  {
   "cell_type": "code",
   "execution_count": 10,
   "id": "d58b9562",
   "metadata": {
    "ExecuteTime": {
     "end_time": "2022-01-05T13:48:31.604358Z",
     "start_time": "2022-01-05T13:48:31.593085Z"
    }
   },
   "outputs": [],
   "source": [
    "abusive_words_df = pd.read_csv('../raw_data/abusive_words_list.txt', delimiter = \"\\t\").iloc[:,0:2]\n",
    "abusive_words_df.columns = [\"word\", \"neg_polarity\"]\n"
   ]
  },
  {
   "cell_type": "code",
   "execution_count": 11,
   "id": "0a2058e3",
   "metadata": {
    "ExecuteTime": {
     "end_time": "2022-01-05T13:48:32.143117Z",
     "start_time": "2022-01-05T13:48:32.131622Z"
    }
   },
   "outputs": [
    {
     "data": {
      "text/plain": [
       "0     horrible_noun\n",
       "1    disgusting_adj\n",
       "2        moron_noun\n",
       "3      bastard_noun\n",
       "4       stupid_noun\n",
       "Name: word, dtype: object"
      ]
     },
     "execution_count": 11,
     "metadata": {},
     "output_type": "execute_result"
    }
   ],
   "source": [
    "test = abusive_words_df.head()\n",
    "test.word"
   ]
  },
  {
   "cell_type": "code",
   "execution_count": 14,
   "id": "ae825852",
   "metadata": {
    "ExecuteTime": {
     "end_time": "2022-01-05T13:49:46.396787Z",
     "start_time": "2022-01-05T13:49:46.328539Z"
    }
   },
   "outputs": [],
   "source": [
    "word2 = [str(x).split(\"_\")[0] for x in abusive_words_df.word]\n",
    "word2 = pd.Series(word2)\n",
    "word2\n",
    "abusive_words_df[\"word2\"] = word2\n",
    "abusive_words_df\n",
    "\n",
    "word3 = abusive_words_df[\"word2\"].unique()\n",
    "len(word3)\n",
    "#'../raw_data/abusive_words_list.txt'\n",
    "df.to_csv('../project_BAN/data/abusive_words.txt',header=\"words\", index=None, sep=' ', mode='a')\n"
   ]
  },
  {
   "cell_type": "code",
   "execution_count": 261,
   "id": "4d0b46b3",
   "metadata": {
    "ExecuteTime": {
     "end_time": "2022-01-05T13:36:27.343073Z",
     "start_time": "2022-01-05T13:36:27.331827Z"
    }
   },
   "outputs": [
    {
     "data": {
      "text/plain": [
       "<bound method DataFrame.value_counts of       category\n",
       "0            0\n",
       "1            0\n",
       "2            0\n",
       "3            1\n",
       "4            0\n",
       "...        ...\n",
       "9995         0\n",
       "9996         0\n",
       "9997         1\n",
       "9998         0\n",
       "9999         0\n",
       "\n",
       "[10000 rows x 1 columns]>"
      ]
     },
     "execution_count": 261,
     "metadata": {},
     "output_type": "execute_result"
    }
   ],
   "source": [
    "df[[\"category\"]].value_counts"
   ]
  },
  {
   "cell_type": "code",
   "execution_count": 4,
   "id": "7c8382cb",
   "metadata": {
    "ExecuteTime": {
     "end_time": "2022-01-05T10:01:16.760712Z",
     "start_time": "2022-01-05T10:01:16.753643Z"
    }
   },
   "outputs": [
    {
     "data": {
      "text/plain": [
       "'Entitled, obnoxious, defensive, lying weasel. This thing is to make decisions that may affect my life? He is a women hater.   '"
      ]
     },
     "execution_count": 4,
     "metadata": {},
     "output_type": "execute_result"
    }
   ],
   "source": [
    "non_hate_text = df[df[\"category\"]==0][\"text\"]\n",
    "non_hate_text.iloc[0]"
   ]
  },
  {
   "cell_type": "code",
   "execution_count": 5,
   "id": "71e6b7bd",
   "metadata": {
    "ExecuteTime": {
     "end_time": "2022-01-05T10:01:16.765998Z",
     "start_time": "2022-01-05T10:01:16.762499Z"
    }
   },
   "outputs": [],
   "source": [
    "hate_text = df[df[\"category\"]==1][\"text\"]"
   ]
  },
  {
   "cell_type": "code",
   "execution_count": 6,
   "id": "e41f6892",
   "metadata": {
    "ExecuteTime": {
     "end_time": "2022-01-05T10:01:16.771234Z",
     "start_time": "2022-01-05T10:01:16.767534Z"
    }
   },
   "outputs": [
    {
     "data": {
      "text/plain": [
       "'Yep just like triffeling women weaponized their poon!! Wonder if Kamala Harris ever extorted Willy Brown after throwing the poon on him, oh yeh, that how she got her first job me too is a JOKE! '"
      ]
     },
     "execution_count": 6,
     "metadata": {},
     "output_type": "execute_result"
    }
   ],
   "source": [
    "hate_text.iloc[0]\n"
   ]
  },
  {
   "cell_type": "code",
   "execution_count": 7,
   "id": "8d0082a3",
   "metadata": {
    "ExecuteTime": {
     "end_time": "2022-01-05T10:01:16.776760Z",
     "start_time": "2022-01-05T10:01:16.772793Z"
    }
   },
   "outputs": [
    {
     "data": {
      "text/plain": [
       "'Save it for Fox Fake News—watched by racists, bigots &amp; other women-hating sexists like yourself. GOP is the party of Putin &amp; the party of Hate—besides women, GOP hates all POC, immigrants, and all ppl not straight. You’re the party of the entitled lying whiny white men.'"
      ]
     },
     "execution_count": 7,
     "metadata": {},
     "output_type": "execute_result"
    }
   ],
   "source": [
    "hate_text.iloc[1]"
   ]
  },
  {
   "cell_type": "code",
   "execution_count": 8,
   "id": "921c0b03",
   "metadata": {
    "ExecuteTime": {
     "end_time": "2022-01-05T10:01:16.782340Z",
     "start_time": "2022-01-05T10:01:16.778278Z"
    }
   },
   "outputs": [
    {
     "data": {
      "text/plain": [
       "\"As a white male in this  era I'm just scared that if I decide to rape or sexually assault a woman, it can be used against me years later. How am I supposed to ask a girl out?!\""
      ]
     },
     "execution_count": 8,
     "metadata": {},
     "output_type": "execute_result"
    }
   ],
   "source": [
    "hate_text.iloc[2]"
   ]
  },
  {
   "cell_type": "code",
   "execution_count": 9,
   "id": "5d9a0828",
   "metadata": {
    "ExecuteTime": {
     "end_time": "2022-01-05T10:01:16.787751Z",
     "start_time": "2022-01-05T10:01:16.784090Z"
    }
   },
   "outputs": [
    {
     "data": {
      "text/plain": [
       "'  I heard that  received some Shush/Slush money to settle rape charges by her aide who said she just could not remember where or when. . .'"
      ]
     },
     "execution_count": 9,
     "metadata": {},
     "output_type": "execute_result"
    }
   ],
   "source": [
    "hate_text.iloc[3]"
   ]
  },
  {
   "cell_type": "code",
   "execution_count": 10,
   "id": "e099526c",
   "metadata": {
    "ExecuteTime": {
     "end_time": "2022-01-05T10:01:16.793400Z",
     "start_time": "2022-01-05T10:01:16.790357Z"
    }
   },
   "outputs": [
    {
     "data": {
      "text/plain": [
       "\"   If she hasn't, it's because of people like you shaming her! How dare you tell her how she is or should be feeling! That is why I HATE  the  movement. Along with all of the other movements! You rape these people to further a political objective! You are despicable!\""
      ]
     },
     "execution_count": 10,
     "metadata": {},
     "output_type": "execute_result"
    }
   ],
   "source": [
    "hate_text.iloc[4]"
   ]
  },
  {
   "cell_type": "code",
   "execution_count": 11,
   "id": "6a2029ff",
   "metadata": {
    "ExecuteTime": {
     "end_time": "2022-01-05T10:01:16.797218Z",
     "start_time": "2022-01-05T10:01:16.794391Z"
    }
   },
   "outputs": [
    {
     "data": {
      "text/plain": [
       "' Oh poor girl. You should have stayed disney star all your life. Because now you are being eaten by the industry. And in few years when your popularity falls, you will come with some  bs like other forgoten women in hollywood.'"
      ]
     },
     "execution_count": 11,
     "metadata": {},
     "output_type": "execute_result"
    }
   ],
   "source": [
    "hate_text.iloc[5]"
   ]
  },
  {
   "cell_type": "code",
   "execution_count": 12,
   "id": "642014c2",
   "metadata": {
    "ExecuteTime": {
     "end_time": "2022-01-05T10:01:16.801240Z",
     "start_time": "2022-01-05T10:01:16.798211Z"
    }
   },
   "outputs": [
    {
     "data": {
      "text/plain": [
       "'When  was just gaining momentum, a female friend of mine who was pregnant with her daughter said “what’s the big deal?  I’ve been raped”.  My response was “ You know I disagree with you 💯 “. How do you respond?  I was shocked!'"
      ]
     },
     "execution_count": 12,
     "metadata": {},
     "output_type": "execute_result"
    }
   ],
   "source": [
    "hate_text.iloc[6]"
   ]
  },
  {
   "cell_type": "code",
   "execution_count": 13,
   "id": "a9f14d3c",
   "metadata": {
    "ExecuteTime": {
     "end_time": "2022-01-05T10:01:16.804896Z",
     "start_time": "2022-01-05T10:01:16.802243Z"
    }
   },
   "outputs": [
    {
     "data": {
      "text/plain": [
       "\"She sounds like one horny bitch! Why it is always men who get blamed and framed for rapes? Am not talking about REAL rapes here but those that are hoaxes like Ford's! Women can rape men too! Just look at the sick  broads! How many look like normal, healthy &amp; happy women?\""
      ]
     },
     "execution_count": 13,
     "metadata": {},
     "output_type": "execute_result"
    }
   ],
   "source": [
    "hate_text.iloc[7]"
   ]
  },
  {
   "cell_type": "code",
   "execution_count": 14,
   "id": "b4334a0a",
   "metadata": {
    "ExecuteTime": {
     "end_time": "2022-01-05T10:01:16.809346Z",
     "start_time": "2022-01-05T10:01:16.805859Z"
    }
   },
   "outputs": [
    {
     "data": {
      "text/plain": [
       "\" Trust me...Not like I did. I'm 61 &amp; to this day I cringe at some of the shit I did. I never sexually assaulted anyone. But, I did things that were flat out wrong under . If I ran into any ladies from 40 years ago, I'd take a knee to apologize. Kavanaugh needs to do same.\""
      ]
     },
     "execution_count": 14,
     "metadata": {},
     "output_type": "execute_result"
    }
   ],
   "source": [
    "hate_text.iloc[8]"
   ]
  },
  {
   "cell_type": "code",
   "execution_count": 15,
   "id": "3377f5e7",
   "metadata": {
    "ExecuteTime": {
     "end_time": "2022-01-05T10:01:16.813104Z",
     "start_time": "2022-01-05T10:01:16.810282Z"
    }
   },
   "outputs": [
    {
     "data": {
      "text/plain": [
       "'.  you say you believe all survivors. \\n\\nWhy have you not made a statement on Keith Ellison’s multiple abuse allegations and stood up for his abused ?  \\n\\nYou SAID you believe all survivors. This is your stateof Minnesota. You need to address this  \\n\\n'"
      ]
     },
     "execution_count": 15,
     "metadata": {},
     "output_type": "execute_result"
    }
   ],
   "source": [
    "hate_text.iloc[9]"
   ]
  },
  {
   "cell_type": "code",
   "execution_count": 16,
   "id": "2ed1e8bc",
   "metadata": {
    "ExecuteTime": {
     "end_time": "2022-01-05T10:01:16.817569Z",
     "start_time": "2022-01-05T10:01:16.814163Z"
    }
   },
   "outputs": [
    {
     "data": {
      "text/plain": [
       "'In all reality the current United States government is traumatizing the fuck out of a lot of American people. We have rapists in the White House. What more of a fucked up message do you want to send? ✌💛🤔🙏   '"
      ]
     },
     "execution_count": 16,
     "metadata": {},
     "output_type": "execute_result"
    }
   ],
   "source": [
    "hate_text.iloc[10]"
   ]
  },
  {
   "cell_type": "code",
   "execution_count": 17,
   "id": "ec476e19",
   "metadata": {
    "ExecuteTime": {
     "end_time": "2022-01-05T10:01:16.821468Z",
     "start_time": "2022-01-05T10:01:16.818627Z"
    }
   },
   "outputs": [
    {
     "data": {
      "text/plain": [
       "\"No, they are not afraid of the truth.  They don't give one rats ass about the truth.  They know he did it and they don't care.  \\n \\n\\n\\n\\n\\n\""
      ]
     },
     "execution_count": 17,
     "metadata": {},
     "output_type": "execute_result"
    }
   ],
   "source": [
    "hate_text.iloc[11]"
   ]
  },
  {
   "cell_type": "code",
   "execution_count": 18,
   "id": "9957381e",
   "metadata": {
    "ExecuteTime": {
     "end_time": "2022-01-05T10:01:16.825787Z",
     "start_time": "2022-01-05T10:01:16.822654Z"
    }
   },
   "outputs": [
    {
     "data": {
      "text/plain": [
       "'\\n\\n14 year old boy had a white woman accuse him of sexually assaulting her.  He was innocent but murdered anyway—because you know—.\\n\\nShe told the truth on her death bed over 60 years later.\\n\\n'"
      ]
     },
     "execution_count": 18,
     "metadata": {},
     "output_type": "execute_result"
    }
   ],
   "source": [
    "hate_text.iloc[12]"
   ]
  },
  {
   "cell_type": "code",
   "execution_count": 19,
   "id": "61ff75af",
   "metadata": {
    "ExecuteTime": {
     "end_time": "2022-01-05T10:01:16.829247Z",
     "start_time": "2022-01-05T10:01:16.826711Z"
    }
   },
   "outputs": [
    {
     "data": {
      "text/plain": [
       "'\\n\\n14 year old boy had a white woman accuse him of sexually assaulting her.  He was innocent but murdered anyway—because you know—.\\n\\nShe told the truth on her death bed over 60 years later.\\n\\n'"
      ]
     },
     "execution_count": 19,
     "metadata": {},
     "output_type": "execute_result"
    }
   ],
   "source": [
    "hate_text.iloc[13]"
   ]
  },
  {
   "cell_type": "code",
   "execution_count": 20,
   "id": "56d717e3",
   "metadata": {
    "ExecuteTime": {
     "end_time": "2022-01-05T10:01:16.833166Z",
     "start_time": "2022-01-05T10:01:16.830150Z"
    }
   },
   "outputs": [
    {
     "data": {
      "text/plain": [
       "\" I suffer from it and fibromyalgia, due to Domestic Violence that occurred since '92.\\n \\n\\n \\n\""
      ]
     },
     "execution_count": 20,
     "metadata": {},
     "output_type": "execute_result"
    }
   ],
   "source": [
    "hate_text.iloc[14]"
   ]
  },
  {
   "cell_type": "code",
   "execution_count": 21,
   "id": "28ad4a88",
   "metadata": {
    "ExecuteTime": {
     "end_time": "2022-01-05T10:01:16.837572Z",
     "start_time": "2022-01-05T10:01:16.834500Z"
    }
   },
   "outputs": [
    {
     "data": {
      "text/plain": [
       "'\\n\\n14 year old boy had a white woman accuse him of sexually assaulting her.  He was innocent but murdered anyway—because you know—.\\n\\nShe told the truth on her death bed over 60 years later.\\n\\n'"
      ]
     },
     "execution_count": 21,
     "metadata": {},
     "output_type": "execute_result"
    }
   ],
   "source": [
    "hate_text.iloc[15]"
   ]
  },
  {
   "cell_type": "code",
   "execution_count": 22,
   "id": "e1e9e3ac",
   "metadata": {
    "ExecuteTime": {
     "end_time": "2022-01-05T10:01:16.841570Z",
     "start_time": "2022-01-05T10:01:16.838634Z"
    }
   },
   "outputs": [
    {
     "data": {
      "text/plain": [
       "'When women stop performing in a provacative way, then talk to me about the  movement!'"
      ]
     },
     "execution_count": 22,
     "metadata": {},
     "output_type": "execute_result"
    }
   ],
   "source": [
    "hate_text.iloc[16]"
   ]
  },
  {
   "cell_type": "code",
   "execution_count": 23,
   "id": "e58e3ff0",
   "metadata": {
    "ExecuteTime": {
     "end_time": "2022-01-05T10:01:16.849273Z",
     "start_time": "2022-01-05T10:01:16.842747Z"
    }
   },
   "outputs": [
    {
     "data": {
      "text/plain": [
       "\"Is god damn scary. \\nVoicing your opinion on the subject, where you're not 100% on the  train will give you loads of scorn and hate. \\nSimply because you have issues with certain parts is ludicrous to say the least. \\nThe risk of losing everything 6/?\""
      ]
     },
     "execution_count": 23,
     "metadata": {},
     "output_type": "execute_result"
    }
   ],
   "source": [
    "hate_text.iloc[17]"
   ]
  },
  {
   "cell_type": "code",
   "execution_count": 24,
   "id": "834e49d6",
   "metadata": {
    "ExecuteTime": {
     "end_time": "2022-01-05T10:01:16.856474Z",
     "start_time": "2022-01-05T10:01:16.853346Z"
    }
   },
   "outputs": [
    {
     "data": {
      "text/plain": [
       "\"Are we really supposed to believe all women all of the time?\\n\\nCertainly that isn't truly what  is all about.\""
      ]
     },
     "execution_count": 24,
     "metadata": {},
     "output_type": "execute_result"
    }
   ],
   "source": [
    "hate_text.iloc[18]"
   ]
  },
  {
   "cell_type": "code",
   "execution_count": 25,
   "id": "ae196c4c",
   "metadata": {
    "ExecuteTime": {
     "end_time": "2022-01-05T10:01:16.860635Z",
     "start_time": "2022-01-05T10:01:16.857578Z"
    }
   },
   "outputs": [
    {
     "data": {
      "text/plain": [
       "'This fucking pisses me off. How dare Cheeto.\\n\\n      '"
      ]
     },
     "execution_count": 25,
     "metadata": {},
     "output_type": "execute_result"
    }
   ],
   "source": [
    "hate_text.iloc[19]"
   ]
  },
  {
   "cell_type": "code",
   "execution_count": 26,
   "id": "aaef134f",
   "metadata": {
    "ExecuteTime": {
     "end_time": "2022-01-05T10:01:16.865048Z",
     "start_time": "2022-01-05T10:01:16.862123Z"
    }
   },
   "outputs": [
    {
     "data": {
      "text/plain": [
       "'This fucking pisses me off. How dare Cheeto.\\n\\n      '"
      ]
     },
     "execution_count": 26,
     "metadata": {},
     "output_type": "execute_result"
    }
   ],
   "source": [
    "hate_text.iloc[19]"
   ]
  },
  {
   "cell_type": "code",
   "execution_count": 27,
   "id": "c51255a8",
   "metadata": {
    "ExecuteTime": {
     "end_time": "2022-01-05T10:01:16.868916Z",
     "start_time": "2022-01-05T10:01:16.866373Z"
    }
   },
   "outputs": [
    {
     "data": {
      "text/plain": [
       "'N.J. politician, 83, enters  movement with sex-assault admission from 70 years ago when she was 13'"
      ]
     },
     "execution_count": 27,
     "metadata": {},
     "output_type": "execute_result"
    }
   ],
   "source": [
    "hate_text.iloc[20]"
   ]
  },
  {
   "cell_type": "code",
   "execution_count": 28,
   "id": "0414125e",
   "metadata": {
    "ExecuteTime": {
     "end_time": "2022-01-05T10:01:16.874934Z",
     "start_time": "2022-01-05T10:01:16.871568Z"
    }
   },
   "outputs": [
    {
     "data": {
      "text/plain": [
       "'at19 i had a bf that was 28.. He wanted kids i didnt so i started birth controll.. My friend got mad at me and told him.. He came home from work early that day and tried to stab me in my vagina with a railroad spike he had on the shelf.. I fought hard and got a black eye'"
      ]
     },
     "execution_count": 28,
     "metadata": {},
     "output_type": "execute_result"
    }
   ],
   "source": [
    "hate_text.iloc[21]"
   ]
  },
  {
   "cell_type": "code",
   "execution_count": 29,
   "id": "3ae57b02",
   "metadata": {
    "ExecuteTime": {
     "end_time": "2022-01-05T10:01:16.880301Z",
     "start_time": "2022-01-05T10:01:16.876578Z"
    }
   },
   "outputs": [
    {
     "data": {
      "text/plain": [
       "'I really wish I would hug Dr. Christine Blasey Ford. It breaks my heart to see her try so hard to maintain her composure. We stand behind you, girl. I look up to you so much.   '"
      ]
     },
     "execution_count": 29,
     "metadata": {},
     "output_type": "execute_result"
    }
   ],
   "source": [
    "hate_text.iloc[22]"
   ]
  },
  {
   "cell_type": "code",
   "execution_count": 30,
   "id": "f3caf05c",
   "metadata": {
    "ExecuteTime": {
     "end_time": "2022-01-05T10:01:16.890593Z",
     "start_time": "2022-01-05T10:01:16.885744Z"
    }
   },
   "outputs": [
    {
     "data": {
      "text/plain": [
       "'       It would cost 100s of thousands to have to mount a legal defense against these types of false allegations. And believe me, there are plenty of nutso parents out there that would see a way to use the  movement to cause harm. That’s its legacy.'"
      ]
     },
     "execution_count": 30,
     "metadata": {},
     "output_type": "execute_result"
    }
   ],
   "source": [
    "hate_text.iloc[23]"
   ]
  },
  {
   "cell_type": "code",
   "execution_count": 31,
   "id": "5ea8c9e7",
   "metadata": {
    "ExecuteTime": {
     "end_time": "2022-01-05T10:01:16.912389Z",
     "start_time": "2022-01-05T10:01:16.908655Z"
    }
   },
   "outputs": [
    {
     "data": {
      "text/plain": [
       "'Does the  work if a man is used/abused by a woman?'"
      ]
     },
     "execution_count": 31,
     "metadata": {},
     "output_type": "execute_result"
    }
   ],
   "source": [
    "hate_text.iloc[24]"
   ]
  },
  {
   "cell_type": "code",
   "execution_count": 32,
   "id": "b539b879",
   "metadata": {
    "ExecuteTime": {
     "end_time": "2022-01-05T10:01:16.934273Z",
     "start_time": "2022-01-05T10:01:16.930774Z"
    }
   },
   "outputs": [
    {
     "data": {
      "text/plain": [
       "'BELIEVE HER!!!!!!!!!!!!!!!!!!!!!!!!!!!!  !!!!!!!!!!!!!!!! BELIEVE BELIEVE BELIEVE!!!!!!!!  \\n\\nYou fucking hypocrite loser '"
      ]
     },
     "execution_count": 32,
     "metadata": {},
     "output_type": "execute_result"
    }
   ],
   "source": [
    "hate_text.iloc[25]"
   ]
  },
  {
   "cell_type": "code",
   "execution_count": 33,
   "id": "388ef7d6",
   "metadata": {
    "ExecuteTime": {
     "end_time": "2022-01-05T10:01:16.956610Z",
     "start_time": "2022-01-05T10:01:16.953119Z"
    }
   },
   "outputs": [
    {
     "data": {
      "text/plain": [
       "'People will stop believing victims of sexual abuse.  is a smear to take down powerful men, has nothing to do with actual  sex harassment or sex abuse.'"
      ]
     },
     "execution_count": 33,
     "metadata": {},
     "output_type": "execute_result"
    }
   ],
   "source": [
    "hate_text.iloc[26]"
   ]
  },
  {
   "cell_type": "code",
   "execution_count": 34,
   "id": "8356426b",
   "metadata": {
    "ExecuteTime": {
     "end_time": "2022-01-05T10:01:16.978389Z",
     "start_time": "2022-01-05T10:01:16.974940Z"
    }
   },
   "outputs": [
    {
     "data": {
      "text/plain": [
       "\"Are you going to fire the porn professor. He's a psychology professor what the hell.He watch's women being abused were is the metoo people at. \""
      ]
     },
     "execution_count": 34,
     "metadata": {},
     "output_type": "execute_result"
    }
   ],
   "source": [
    "hate_text.iloc[27]"
   ]
  },
  {
   "cell_type": "code",
   "execution_count": 35,
   "id": "0df4a832",
   "metadata": {
    "ExecuteTime": {
     "end_time": "2022-01-05T10:01:17.001594Z",
     "start_time": "2022-01-05T10:01:16.996891Z"
    }
   },
   "outputs": [
    {
     "data": {
      "text/plain": [
       "'Good. Then I expect you to stand side by side with Juanita Broaddrick so she may have the long overdue justice she deserves '"
      ]
     },
     "execution_count": 35,
     "metadata": {},
     "output_type": "execute_result"
    }
   ],
   "source": [
    "hate_text.iloc[28]"
   ]
  },
  {
   "cell_type": "code",
   "execution_count": 36,
   "id": "5b3a70c2",
   "metadata": {
    "ExecuteTime": {
     "end_time": "2022-01-05T10:01:17.023962Z",
     "start_time": "2022-01-05T10:01:17.020029Z"
    }
   },
   "outputs": [
    {
     "data": {
      "text/plain": [
       "\"1 assault on a woman is an assault against all women. \\n\\nYou don't get to silence us so you can stay comfortable. \\nYou don't get to decide when we come forward. \\nYou don't get to rewrite our stories. \\nYou don't own the truth. \\nYou weren't there. \\n\\nEnough is enough.\""
      ]
     },
     "execution_count": 36,
     "metadata": {},
     "output_type": "execute_result"
    }
   ],
   "source": [
    "hate_text.iloc[29]"
   ]
  },
  {
   "cell_type": "code",
   "execution_count": 37,
   "id": "78d9522e",
   "metadata": {
    "ExecuteTime": {
     "end_time": "2022-01-05T10:01:17.047944Z",
     "start_time": "2022-01-05T10:01:17.042721Z"
    }
   },
   "outputs": [
    {
     "data": {
      "text/plain": [
       "'I used to dream of marrying a nice man and living happily ever after, like the romance books.\\nNow I dream of having a fantastic job, a lovely home and children. I don’t need a spouse to make me happy, I can learn how to do it on my own.\\n\\nThat’s what my own  events have done'"
      ]
     },
     "execution_count": 37,
     "metadata": {},
     "output_type": "execute_result"
    }
   ],
   "source": [
    "hate_text.iloc[30]"
   ]
  },
  {
   "cell_type": "code",
   "execution_count": 38,
   "id": "44a2140a",
   "metadata": {
    "ExecuteTime": {
     "end_time": "2022-01-05T10:01:17.069110Z",
     "start_time": "2022-01-05T10:01:17.066334Z"
    }
   },
   "outputs": [
    {
     "data": {
      "text/plain": [
       "'She literally starred in a soft porn series where a woman was dominated and degraded by a powerful white man.\\n\\nHolllywood Hypocrite! '"
      ]
     },
     "execution_count": 38,
     "metadata": {},
     "output_type": "execute_result"
    }
   ],
   "source": [
    "hate_text.iloc[31]"
   ]
  },
  {
   "cell_type": "code",
   "execution_count": 39,
   "id": "78ff6728",
   "metadata": {
    "ExecuteTime": {
     "end_time": "2022-01-05T10:01:17.093168Z",
     "start_time": "2022-01-05T10:01:17.089374Z"
    }
   },
   "outputs": [
    {
     "data": {
      "text/plain": [
       "\"Ouch! Wtf! It's not something you want to have a competition in anyways....why would she even suggest that it is? I'm always here if you need someone hun. ❤\""
      ]
     },
     "execution_count": 39,
     "metadata": {},
     "output_type": "execute_result"
    }
   ],
   "source": [
    "hate_text.iloc[32]"
   ]
  },
  {
   "cell_type": "code",
   "execution_count": 40,
   "id": "954fb7a9",
   "metadata": {
    "ExecuteTime": {
     "end_time": "2022-01-05T10:01:17.119221Z",
     "start_time": "2022-01-05T10:01:17.113750Z"
    }
   },
   "outputs": [
    {
     "data": {
      "text/plain": [
       "'If women all stuck together we would be so powerful!    '"
      ]
     },
     "execution_count": 40,
     "metadata": {},
     "output_type": "execute_result"
    }
   ],
   "source": [
    "hate_text.iloc[33]"
   ]
  },
  {
   "cell_type": "code",
   "execution_count": 41,
   "id": "5a2714bf",
   "metadata": {
    "ExecuteTime": {
     "end_time": "2022-01-05T10:01:17.140598Z",
     "start_time": "2022-01-05T10:01:17.137896Z"
    }
   },
   "outputs": [
    {
     "data": {
      "text/plain": [
       "\"Does that sound extreme? My point is that it isn't extreme at all.\""
      ]
     },
     "execution_count": 41,
     "metadata": {},
     "output_type": "execute_result"
    }
   ],
   "source": [
    "hate_text.iloc[34]"
   ]
  },
  {
   "cell_type": "code",
   "execution_count": 42,
   "id": "56004660",
   "metadata": {
    "ExecuteTime": {
     "end_time": "2022-01-05T10:01:17.163889Z",
     "start_time": "2022-01-05T10:01:17.160876Z"
    }
   },
   "outputs": [
    {
     "data": {
      "text/plain": [
       "'  is BULLSHIT'"
      ]
     },
     "execution_count": 42,
     "metadata": {},
     "output_type": "execute_result"
    }
   ],
   "source": [
    "hate_text.iloc[35]"
   ]
  },
  {
   "cell_type": "code",
   "execution_count": 43,
   "id": "4e17f4ac",
   "metadata": {
    "ExecuteTime": {
     "end_time": "2022-01-05T10:01:17.185979Z",
     "start_time": "2022-01-05T10:01:17.183076Z"
    }
   },
   "outputs": [
    {
     "data": {
      "text/plain": [
       "'Beautifully written. Thank you to your wife for sharing her story. My heart is with her'"
      ]
     },
     "execution_count": 43,
     "metadata": {},
     "output_type": "execute_result"
    }
   ],
   "source": [
    "hate_text.iloc[36]"
   ]
  },
  {
   "cell_type": "code",
   "execution_count": 44,
   "id": "d299497c",
   "metadata": {
    "ExecuteTime": {
     "end_time": "2022-01-05T10:01:17.211448Z",
     "start_time": "2022-01-05T10:01:17.206157Z"
    }
   },
   "outputs": [
    {
     "data": {
      "text/plain": [
       "'The outcome has already been decided. This is all a sham.  is already confirmed and hell is coming in November.       '"
      ]
     },
     "execution_count": 44,
     "metadata": {},
     "output_type": "execute_result"
    }
   ],
   "source": [
    "hate_text.iloc[37]"
   ]
  },
  {
   "cell_type": "code",
   "execution_count": 45,
   "id": "c1892b19",
   "metadata": {
    "ExecuteTime": {
     "end_time": "2022-01-05T10:01:17.240208Z",
     "start_time": "2022-01-05T10:01:17.233222Z"
    }
   },
   "outputs": [
    {
     "data": {
      "text/plain": [
       "\"I can't help but wonder if Christine Blasey-Ford is experiencing a secondary trauma at having her name now forever associated with her attacker.\""
      ]
     },
     "execution_count": 45,
     "metadata": {},
     "output_type": "execute_result"
    }
   ],
   "source": [
    "hate_text.iloc[38]"
   ]
  },
  {
   "cell_type": "code",
   "execution_count": 46,
   "id": "7be50ede",
   "metadata": {
    "ExecuteTime": {
     "end_time": "2022-01-05T10:01:17.260935Z",
     "start_time": "2022-01-05T10:01:17.258285Z"
    }
   },
   "outputs": [
    {
     "data": {
      "text/plain": [
       "'I grew up watching her perform.\\n\\nNow I can stand beside her in her action.    '"
      ]
     },
     "execution_count": 46,
     "metadata": {},
     "output_type": "execute_result"
    }
   ],
   "source": [
    "hate_text.iloc[39]"
   ]
  },
  {
   "cell_type": "code",
   "execution_count": 47,
   "id": "95e7525a",
   "metadata": {
    "ExecuteTime": {
     "end_time": "2022-01-05T10:01:17.284865Z",
     "start_time": "2022-01-05T10:01:17.281335Z"
    }
   },
   "outputs": [
    {
     "data": {
      "text/plain": [
       "'She could care less what you say about her. Call her a liar all you want. She listened to the wishes of Dr. Ford.'"
      ]
     },
     "execution_count": 47,
     "metadata": {},
     "output_type": "execute_result"
    }
   ],
   "source": [
    "hate_text.iloc[40]"
   ]
  },
  {
   "cell_type": "code",
   "execution_count": 48,
   "id": "3461c62e",
   "metadata": {
    "ExecuteTime": {
     "end_time": "2022-01-05T10:01:17.308500Z",
     "start_time": "2022-01-05T10:01:17.304968Z"
    }
   },
   "outputs": [
    {
     "data": {
      "text/plain": [
       "\" I believe you.\\nI see you.\\nI'm inspired by you.\\nI am you.\\n\\n\""
      ]
     },
     "execution_count": 48,
     "metadata": {},
     "output_type": "execute_result"
    }
   ],
   "source": [
    "hate_text.iloc[41]"
   ]
  },
  {
   "cell_type": "code",
   "execution_count": 49,
   "id": "67b01f66",
   "metadata": {
    "ExecuteTime": {
     "end_time": "2022-01-05T10:01:17.331205Z",
     "start_time": "2022-01-05T10:01:17.328039Z"
    }
   },
   "outputs": [
    {
     "data": {
      "text/plain": [
       "'This slipped under the radar - while the Kavanaugh hearings were taking place on Thursday, another  story was also being heard on Capitol Hill. A government employee spoke before a House committee about sexual harassment allegations.'"
      ]
     },
     "execution_count": 49,
     "metadata": {},
     "output_type": "execute_result"
    }
   ],
   "source": [
    "hate_text.iloc[42]"
   ]
  },
  {
   "cell_type": "code",
   "execution_count": 50,
   "id": "f7ef1913",
   "metadata": {
    "ExecuteTime": {
     "end_time": "2022-01-05T10:01:17.403299Z",
     "start_time": "2022-01-05T10:01:17.398874Z"
    }
   },
   "outputs": [
    {
     "data": {
      "text/plain": [
       "\"In case you missed our most recent reader-submitted Op-Ed \\nClick, 'This week' on our home page\\n\""
      ]
     },
     "execution_count": 50,
     "metadata": {},
     "output_type": "execute_result"
    }
   ],
   "source": [
    "hate_text.iloc[43]"
   ]
  },
  {
   "cell_type": "code",
   "execution_count": 51,
   "id": "7a248df1",
   "metadata": {
    "ExecuteTime": {
     "end_time": "2022-01-05T10:01:17.443984Z",
     "start_time": "2022-01-05T10:01:17.438046Z"
    }
   },
   "outputs": [
    {
     "data": {
      "text/plain": [
       "'“It’s time to give a damn, let’s work together!”  \\n\\n        …'"
      ]
     },
     "execution_count": 51,
     "metadata": {},
     "output_type": "execute_result"
    }
   ],
   "source": [
    "hate_text.iloc[44]"
   ]
  },
  {
   "cell_type": "code",
   "execution_count": 52,
   "id": "720a83a3",
   "metadata": {
    "ExecuteTime": {
     "end_time": "2022-01-05T10:01:17.499106Z",
     "start_time": "2022-01-05T10:01:17.490584Z"
    }
   },
   "outputs": [
    {
     "data": {
      "text/plain": [
       "\"Because  is true and powerful (thanks,  ❤️), I'm unearthing so much of my past. I just remembered that time a platonic male friend came to my house with a fish bat, repeatedly brandishing it in a threatening manner, and how calm I had to remain to get him out.\""
      ]
     },
     "execution_count": 52,
     "metadata": {},
     "output_type": "execute_result"
    }
   ],
   "source": [
    "hate_text.iloc[45]"
   ]
  },
  {
   "cell_type": "code",
   "execution_count": 53,
   "id": "72595937",
   "metadata": {
    "ExecuteTime": {
     "end_time": "2022-01-05T10:01:17.520164Z",
     "start_time": "2022-01-05T10:01:17.515326Z"
    }
   },
   "outputs": [
    {
     "data": {
      "text/plain": [
       "\"   You're supporting Menenedez... the man that slept with underaged girls? Omg... \""
      ]
     },
     "execution_count": 53,
     "metadata": {},
     "output_type": "execute_result"
    }
   ],
   "source": [
    "hate_text.iloc[46]"
   ]
  },
  {
   "cell_type": "code",
   "execution_count": 54,
   "id": "3796672f",
   "metadata": {
    "ExecuteTime": {
     "end_time": "2022-01-05T10:01:17.545046Z",
     "start_time": "2022-01-05T10:01:17.542386Z"
    }
   },
   "outputs": [
    {
     "data": {
      "text/plain": [
       "'Proof that  and  only apply to alleged accusations against Republicans. What a bunch of fucking hypocrites.\\nKavanaugh Protesters Refuse to Denounce Keith Ellison'"
      ]
     },
     "execution_count": 54,
     "metadata": {},
     "output_type": "execute_result"
    }
   ],
   "source": [
    "hate_text.iloc[47]"
   ]
  },
  {
   "cell_type": "code",
   "execution_count": 55,
   "id": "c8c02b80",
   "metadata": {
    "ExecuteTime": {
     "end_time": "2022-01-05T10:01:17.567137Z",
     "start_time": "2022-01-05T10:01:17.563875Z"
    }
   },
   "outputs": [
    {
     "data": {
      "text/plain": [
       "\"  Yup, there's a huge untapped voter reserve of Old White Guys looking to minimize the threat of present or future  lawsuits + Stepford Wives indignant that they might be permitted to have some say about assaults on their bodies.\""
      ]
     },
     "execution_count": 55,
     "metadata": {},
     "output_type": "execute_result"
    }
   ],
   "source": [
    "hate_text.iloc[48]"
   ]
  },
  {
   "cell_type": "code",
   "execution_count": 56,
   "id": "d1779626",
   "metadata": {
    "ExecuteTime": {
     "end_time": "2022-01-05T10:01:17.588147Z",
     "start_time": "2022-01-05T10:01:17.584803Z"
    }
   },
   "outputs": [
    {
     "data": {
      "text/plain": [
       "'IT’S AS IF  ISN’T REALLY ABOUT FAIRNESS AND EQUALITY AT ALL:\\xa0“If your friend says she wants to cut off every dick in a five mile radius, let her!”\\n\\n'"
      ]
     },
     "execution_count": 56,
     "metadata": {},
     "output_type": "execute_result"
    }
   ],
   "source": [
    "hate_text.iloc[49]"
   ]
  },
  {
   "cell_type": "code",
   "execution_count": 57,
   "id": "18976785",
   "metadata": {
    "ExecuteTime": {
     "end_time": "2022-01-05T10:01:17.609940Z",
     "start_time": "2022-01-05T10:01:17.606791Z"
    }
   },
   "outputs": [
    {
     "data": {
      "text/plain": [
       "'    What parents let 15 year olds out partying? Getting gang raped? Either it’s bullshit or let’s put SOME blame where it belongs. Tired of this  crap. That’s what we have police and courts for.'"
      ]
     },
     "execution_count": 57,
     "metadata": {},
     "output_type": "execute_result"
    }
   ],
   "source": [
    "hate_text.iloc[50]"
   ]
  },
  {
   "cell_type": "code",
   "execution_count": 58,
   "id": "f45fd448",
   "metadata": {
    "ExecuteTime": {
     "end_time": "2022-01-05T10:01:17.630311Z",
     "start_time": "2022-01-05T10:01:17.627425Z"
    }
   },
   "outputs": [
    {
     "data": {
      "text/plain": [
       "\"  lol. he's a thin-skinned mouse ain't he?!\""
      ]
     },
     "execution_count": 58,
     "metadata": {},
     "output_type": "execute_result"
    }
   ],
   "source": [
    "hate_text.iloc[51]"
   ]
  },
  {
   "cell_type": "code",
   "execution_count": 59,
   "id": "f9c074a0",
   "metadata": {
    "ExecuteTime": {
     "end_time": "2022-01-05T10:01:17.652713Z",
     "start_time": "2022-01-05T10:01:17.649867Z"
    }
   },
   "outputs": [
    {
     "data": {
      "text/plain": [
       "\" is so blinded by partisanship she can't see just how desperately twisted she looks bringing this up every time CPC tank in polls. Scandal mongering on BS hasn't worked for three yr.Most Cdns aren't as stupid as she and CPC think and hate her hijacking\""
      ]
     },
     "execution_count": 59,
     "metadata": {},
     "output_type": "execute_result"
    }
   ],
   "source": [
    "hate_text.iloc[52]"
   ]
  },
  {
   "cell_type": "code",
   "execution_count": 60,
   "id": "199a3ebd",
   "metadata": {
    "ExecuteTime": {
     "end_time": "2022-01-05T10:01:17.674592Z",
     "start_time": "2022-01-05T10:01:17.671926Z"
    }
   },
   "outputs": [
    {
     "data": {
      "text/plain": [
       "'I Believe Her -I Stand With Her -'"
      ]
     },
     "execution_count": 60,
     "metadata": {},
     "output_type": "execute_result"
    }
   ],
   "source": [
    "hate_text.iloc[53]"
   ]
  },
  {
   "cell_type": "code",
   "execution_count": 61,
   "id": "02fa1097",
   "metadata": {
    "ExecuteTime": {
     "end_time": "2022-01-05T10:01:17.696336Z",
     "start_time": "2022-01-05T10:01:17.693205Z"
    }
   },
   "outputs": [
    {
     "data": {
      "text/plain": [
       "'           (2) If that was what triggered her memory , then that is not reliable , her lawyers did her a great harm by not producing those therapy notes! On the other side those women who accosted Jeff Flake , they work for an activist group &amp; have cheapened the  movement !'"
      ]
     },
     "execution_count": 61,
     "metadata": {},
     "output_type": "execute_result"
    }
   ],
   "source": [
    "hate_text.iloc[54]"
   ]
  },
  {
   "cell_type": "code",
   "execution_count": 62,
   "id": "3ed1b69c",
   "metadata": {
    "ExecuteTime": {
     "end_time": "2022-01-05T10:01:17.717986Z",
     "start_time": "2022-01-05T10:01:17.715269Z"
    }
   },
   "outputs": [
    {
     "data": {
      "text/plain": [
       "'One Thousand White Women by Jim Fergus - a long published gem I just discovered, resonates in light of  More on Books Can Save a Life '"
      ]
     },
     "execution_count": 62,
     "metadata": {},
     "output_type": "execute_result"
    }
   ],
   "source": [
    "hate_text.iloc[55]"
   ]
  },
  {
   "cell_type": "code",
   "execution_count": 63,
   "id": "5d7212b7",
   "metadata": {
    "ExecuteTime": {
     "end_time": "2022-01-05T10:01:17.739930Z",
     "start_time": "2022-01-05T10:01:17.737410Z"
    }
   },
   "outputs": [
    {
     "data": {
      "text/plain": [
       "'The  movement is going to make dudes sign waivers before they can start fucking 💀'"
      ]
     },
     "execution_count": 63,
     "metadata": {},
     "output_type": "execute_result"
    }
   ],
   "source": [
    "hate_text.iloc[56]"
   ]
  },
  {
   "cell_type": "code",
   "execution_count": 64,
   "id": "4e56ba9a",
   "metadata": {
    "ExecuteTime": {
     "end_time": "2022-01-05T10:01:17.767234Z",
     "start_time": "2022-01-05T10:01:17.764446Z"
    }
   },
   "outputs": [
    {
     "data": {
      "text/plain": [
       "'I am a man; I once was just a boy. The father of one of my jr. high school friends tried to molest me (and others) with me one particular day that I am aware of. He plied us with jack daniels and quaaludes to the point we could barely walk while we believed his lies.'"
      ]
     },
     "execution_count": 64,
     "metadata": {},
     "output_type": "execute_result"
    }
   ],
   "source": [
    "hate_text.iloc[57]"
   ]
  },
  {
   "cell_type": "code",
   "execution_count": 65,
   "id": "2e4a2358",
   "metadata": {
    "ExecuteTime": {
     "end_time": "2022-01-05T10:01:17.789018Z",
     "start_time": "2022-01-05T10:01:17.785865Z"
    }
   },
   "outputs": [
    {
     "data": {
      "text/plain": [
       "'Sadly, many who are worked up about  are the same people who didn’t think twice about supporting  even though she threatened &amp; bullied women who have spoken out about her pervert husband  for years. '"
      ]
     },
     "execution_count": 65,
     "metadata": {},
     "output_type": "execute_result"
    }
   ],
   "source": [
    "hate_text.iloc[58]"
   ]
  },
  {
   "cell_type": "code",
   "execution_count": 66,
   "id": "3b2805be",
   "metadata": {
    "ExecuteTime": {
     "end_time": "2022-01-05T10:01:17.810674Z",
     "start_time": "2022-01-05T10:01:17.807931Z"
    }
   },
   "outputs": [
    {
     "data": {
      "text/plain": [
       "'I get offered sex at work so much it’s disturbing. Girls are not innocent!'"
      ]
     },
     "execution_count": 66,
     "metadata": {},
     "output_type": "execute_result"
    }
   ],
   "source": [
    "hate_text.iloc[59]"
   ]
  },
  {
   "cell_type": "code",
   "execution_count": 67,
   "id": "1c1a2fe4",
   "metadata": {
    "ExecuteTime": {
     "end_time": "2022-01-05T10:01:17.834282Z",
     "start_time": "2022-01-05T10:01:17.829936Z"
    }
   },
   "outputs": [
    {
     "data": {
      "text/plain": [
       "\"careful she's probably not ashamed to slap you with a  allegation if you get too close.  bring measuring tape 👌✌️\""
      ]
     },
     "execution_count": 67,
     "metadata": {},
     "output_type": "execute_result"
    }
   ],
   "source": [
    "hate_text.iloc[60]"
   ]
  },
  {
   "cell_type": "code",
   "execution_count": 199,
   "id": "692f17af",
   "metadata": {
    "ExecuteTime": {
     "end_time": "2022-01-05T12:26:41.922979Z",
     "start_time": "2022-01-05T12:26:41.920773Z"
    }
   },
   "outputs": [],
   "source": [
    "# Labeling"
   ]
  },
  {
   "cell_type": "markdown",
   "id": "d9481629",
   "metadata": {},
   "source": [
    "# Sample data"
   ]
  },
  {
   "cell_type": "code",
   "execution_count": null,
   "id": "acfce94d",
   "metadata": {
    "ExecuteTime": {
     "end_time": "2022-01-05T10:12:17.952404Z",
     "start_time": "2022-01-05T10:12:17.944349Z"
    }
   },
   "outputs": [],
   "source": [
    "df_mini = df[df[\"category\"]==1].iloc[0:61]\n",
    "len(df_mini)"
   ]
  },
  {
   "cell_type": "code",
   "execution_count": 119,
   "id": "37e74df7",
   "metadata": {
    "ExecuteTime": {
     "end_time": "2022-01-05T10:36:11.002690Z",
     "start_time": "2022-01-05T10:36:10.997271Z"
    }
   },
   "outputs": [
    {
     "data": {
      "text/plain": [
       "37"
      ]
     },
     "execution_count": 119,
     "metadata": {},
     "output_type": "execute_result"
    }
   ],
   "source": [
    "len(hate_line)"
   ]
  },
  {
   "cell_type": "code",
   "execution_count": 110,
   "id": "b2a0dc6c",
   "metadata": {
    "ExecuteTime": {
     "end_time": "2022-01-05T10:19:58.121619Z",
     "start_time": "2022-01-05T10:19:58.115183Z"
    }
   },
   "outputs": [],
   "source": [
    "hate_line = [6, 8, 9, 11, 12, 14, 17, 20, 22, 23, 24, 26, 27, 28,30,31, 32, 33, 34, 35, 36, 38, 40, 41, 42, 45, 46, 47, 48, 53, 54, 55, 56, 57, 58, 59, 60]\n",
    "label = [2 if i in hate_line else 1 for i in range(61)]\n",
    "#label"
   ]
  },
  {
   "cell_type": "code",
   "execution_count": 115,
   "id": "3ced8cec",
   "metadata": {
    "ExecuteTime": {
     "end_time": "2022-01-05T10:20:58.947598Z",
     "start_time": "2022-01-05T10:20:58.942610Z"
    }
   },
   "outputs": [],
   "source": [
    "df_mini[\"label\"] = label\n",
    "#df_mini.head(10)"
   ]
  },
  {
   "cell_type": "code",
   "execution_count": 252,
   "id": "37061a52",
   "metadata": {
    "ExecuteTime": {
     "end_time": "2022-01-05T13:35:27.104184Z",
     "start_time": "2022-01-05T13:35:27.074247Z"
    }
   },
   "outputs": [
    {
     "ename": "KeyError",
     "evalue": "'ca'",
     "output_type": "error",
     "traceback": [
      "\u001b[0;31m---------------------------------------------------------------------------\u001b[0m",
      "\u001b[0;31mKeyError\u001b[0m                                  Traceback (most recent call last)",
      "\u001b[0;32m~/.pyenv/versions/3.8.12/envs/project_BAN/lib/python3.8/site-packages/pandas/core/indexes/base.py\u001b[0m in \u001b[0;36mget_loc\u001b[0;34m(self, key, method, tolerance)\u001b[0m\n\u001b[1;32m   3360\u001b[0m             \u001b[0;32mtry\u001b[0m\u001b[0;34m:\u001b[0m\u001b[0;34m\u001b[0m\u001b[0;34m\u001b[0m\u001b[0m\n\u001b[0;32m-> 3361\u001b[0;31m                 \u001b[0;32mreturn\u001b[0m \u001b[0mself\u001b[0m\u001b[0;34m.\u001b[0m\u001b[0m_engine\u001b[0m\u001b[0;34m.\u001b[0m\u001b[0mget_loc\u001b[0m\u001b[0;34m(\u001b[0m\u001b[0mcasted_key\u001b[0m\u001b[0;34m)\u001b[0m\u001b[0;34m\u001b[0m\u001b[0;34m\u001b[0m\u001b[0m\n\u001b[0m\u001b[1;32m   3362\u001b[0m             \u001b[0;32mexcept\u001b[0m \u001b[0mKeyError\u001b[0m \u001b[0;32mas\u001b[0m \u001b[0merr\u001b[0m\u001b[0;34m:\u001b[0m\u001b[0;34m\u001b[0m\u001b[0;34m\u001b[0m\u001b[0m\n",
      "\u001b[0;32m~/.pyenv/versions/3.8.12/envs/project_BAN/lib/python3.8/site-packages/pandas/_libs/index.pyx\u001b[0m in \u001b[0;36mpandas._libs.index.IndexEngine.get_loc\u001b[0;34m()\u001b[0m\n",
      "\u001b[0;32m~/.pyenv/versions/3.8.12/envs/project_BAN/lib/python3.8/site-packages/pandas/_libs/index.pyx\u001b[0m in \u001b[0;36mpandas._libs.index.IndexEngine.get_loc\u001b[0;34m()\u001b[0m\n",
      "\u001b[0;32mpandas/_libs/hashtable_class_helper.pxi\u001b[0m in \u001b[0;36mpandas._libs.hashtable.PyObjectHashTable.get_item\u001b[0;34m()\u001b[0m\n",
      "\u001b[0;32mpandas/_libs/hashtable_class_helper.pxi\u001b[0m in \u001b[0;36mpandas._libs.hashtable.PyObjectHashTable.get_item\u001b[0;34m()\u001b[0m\n",
      "\u001b[0;31mKeyError\u001b[0m: 'ca'",
      "\nThe above exception was the direct cause of the following exception:\n",
      "\u001b[0;31mKeyError\u001b[0m                                  Traceback (most recent call last)",
      "\u001b[0;32m/tmp/ipykernel_9238/1272810686.py\u001b[0m in \u001b[0;36m<module>\u001b[0;34m\u001b[0m\n\u001b[0;32m----> 1\u001b[0;31m \u001b[0mtmp\u001b[0m \u001b[0;34m=\u001b[0m \u001b[0mdf\u001b[0m\u001b[0;34m.\u001b[0m\u001b[0miloc\u001b[0m\u001b[0;34m[\u001b[0m\u001b[0mdf\u001b[0m\u001b[0;34m[\u001b[0m\u001b[0;34m\"ca\"\u001b[0m\u001b[0;34m]\u001b[0m\u001b[0;34m]\u001b[0m\u001b[0;34m[\u001b[0m\u001b[0;36m0\u001b[0m\u001b[0;34m:\u001b[0m\u001b[0;36m40\u001b[0m\u001b[0;34m]\u001b[0m\u001b[0;34m\u001b[0m\u001b[0;34m\u001b[0m\u001b[0m\n\u001b[0m\u001b[1;32m      2\u001b[0m \u001b[0mtmp\u001b[0m\u001b[0;34m[\u001b[0m\u001b[0;34m\"label\"\u001b[0m\u001b[0;34m]\u001b[0m \u001b[0;34m=\u001b[0m \u001b[0;36m1\u001b[0m\u001b[0;34m\u001b[0m\u001b[0;34m\u001b[0m\u001b[0m\n\u001b[1;32m      3\u001b[0m \u001b[0mtmp\u001b[0m\u001b[0;34m\u001b[0m\u001b[0;34m\u001b[0m\u001b[0m\n",
      "\u001b[0;32m~/.pyenv/versions/3.8.12/envs/project_BAN/lib/python3.8/site-packages/pandas/core/frame.py\u001b[0m in \u001b[0;36m__getitem__\u001b[0;34m(self, key)\u001b[0m\n\u001b[1;32m   3456\u001b[0m             \u001b[0;32mif\u001b[0m \u001b[0mself\u001b[0m\u001b[0;34m.\u001b[0m\u001b[0mcolumns\u001b[0m\u001b[0;34m.\u001b[0m\u001b[0mnlevels\u001b[0m \u001b[0;34m>\u001b[0m \u001b[0;36m1\u001b[0m\u001b[0;34m:\u001b[0m\u001b[0;34m\u001b[0m\u001b[0;34m\u001b[0m\u001b[0m\n\u001b[1;32m   3457\u001b[0m                 \u001b[0;32mreturn\u001b[0m \u001b[0mself\u001b[0m\u001b[0;34m.\u001b[0m\u001b[0m_getitem_multilevel\u001b[0m\u001b[0;34m(\u001b[0m\u001b[0mkey\u001b[0m\u001b[0;34m)\u001b[0m\u001b[0;34m\u001b[0m\u001b[0;34m\u001b[0m\u001b[0m\n\u001b[0;32m-> 3458\u001b[0;31m             \u001b[0mindexer\u001b[0m \u001b[0;34m=\u001b[0m \u001b[0mself\u001b[0m\u001b[0;34m.\u001b[0m\u001b[0mcolumns\u001b[0m\u001b[0;34m.\u001b[0m\u001b[0mget_loc\u001b[0m\u001b[0;34m(\u001b[0m\u001b[0mkey\u001b[0m\u001b[0;34m)\u001b[0m\u001b[0;34m\u001b[0m\u001b[0;34m\u001b[0m\u001b[0m\n\u001b[0m\u001b[1;32m   3459\u001b[0m             \u001b[0;32mif\u001b[0m \u001b[0mis_integer\u001b[0m\u001b[0;34m(\u001b[0m\u001b[0mindexer\u001b[0m\u001b[0;34m)\u001b[0m\u001b[0;34m:\u001b[0m\u001b[0;34m\u001b[0m\u001b[0;34m\u001b[0m\u001b[0m\n\u001b[1;32m   3460\u001b[0m                 \u001b[0mindexer\u001b[0m \u001b[0;34m=\u001b[0m \u001b[0;34m[\u001b[0m\u001b[0mindexer\u001b[0m\u001b[0;34m]\u001b[0m\u001b[0;34m\u001b[0m\u001b[0;34m\u001b[0m\u001b[0m\n",
      "\u001b[0;32m~/.pyenv/versions/3.8.12/envs/project_BAN/lib/python3.8/site-packages/pandas/core/indexes/base.py\u001b[0m in \u001b[0;36mget_loc\u001b[0;34m(self, key, method, tolerance)\u001b[0m\n\u001b[1;32m   3361\u001b[0m                 \u001b[0;32mreturn\u001b[0m \u001b[0mself\u001b[0m\u001b[0;34m.\u001b[0m\u001b[0m_engine\u001b[0m\u001b[0;34m.\u001b[0m\u001b[0mget_loc\u001b[0m\u001b[0;34m(\u001b[0m\u001b[0mcasted_key\u001b[0m\u001b[0;34m)\u001b[0m\u001b[0;34m\u001b[0m\u001b[0;34m\u001b[0m\u001b[0m\n\u001b[1;32m   3362\u001b[0m             \u001b[0;32mexcept\u001b[0m \u001b[0mKeyError\u001b[0m \u001b[0;32mas\u001b[0m \u001b[0merr\u001b[0m\u001b[0;34m:\u001b[0m\u001b[0;34m\u001b[0m\u001b[0;34m\u001b[0m\u001b[0m\n\u001b[0;32m-> 3363\u001b[0;31m                 \u001b[0;32mraise\u001b[0m \u001b[0mKeyError\u001b[0m\u001b[0;34m(\u001b[0m\u001b[0mkey\u001b[0m\u001b[0;34m)\u001b[0m \u001b[0;32mfrom\u001b[0m \u001b[0merr\u001b[0m\u001b[0;34m\u001b[0m\u001b[0;34m\u001b[0m\u001b[0m\n\u001b[0m\u001b[1;32m   3364\u001b[0m \u001b[0;34m\u001b[0m\u001b[0m\n\u001b[1;32m   3365\u001b[0m         \u001b[0;32mif\u001b[0m \u001b[0mis_scalar\u001b[0m\u001b[0;34m(\u001b[0m\u001b[0mkey\u001b[0m\u001b[0;34m)\u001b[0m \u001b[0;32mand\u001b[0m \u001b[0misna\u001b[0m\u001b[0;34m(\u001b[0m\u001b[0mkey\u001b[0m\u001b[0;34m)\u001b[0m \u001b[0;32mand\u001b[0m \u001b[0;32mnot\u001b[0m \u001b[0mself\u001b[0m\u001b[0;34m.\u001b[0m\u001b[0mhasnans\u001b[0m\u001b[0;34m:\u001b[0m\u001b[0;34m\u001b[0m\u001b[0;34m\u001b[0m\u001b[0m\n",
      "\u001b[0;31mKeyError\u001b[0m: 'ca'"
     ]
    }
   ],
   "source": [
    "tmp = df.iloc[df[\"ca\"]][0:40]\n",
    "tmp[\"label\"] = 1\n",
    "tmp"
   ]
  },
  {
   "cell_type": "markdown",
   "id": "22c96359",
   "metadata": {
    "ExecuteTime": {
     "end_time": "2022-01-05T12:27:47.523774Z",
     "start_time": "2022-01-05T12:27:47.517494Z"
    }
   },
   "source": [
    "# Re-labeling"
   ]
  },
  {
   "cell_type": "code",
   "execution_count": null,
   "id": "3452c814",
   "metadata": {},
   "outputs": [],
   "source": []
  },
  {
   "cell_type": "markdown",
   "id": "e468080b",
   "metadata": {
    "ExecuteTime": {
     "end_time": "2022-01-04T16:51:52.347216Z",
     "start_time": "2022-01-04T16:51:52.329798Z"
    }
   },
   "source": [
    "# Litterature & github account"
   ]
  },
  {
   "cell_type": "markdown",
   "id": "98dd0cfb",
   "metadata": {
    "ExecuteTime": {
     "end_time": "2022-01-05T10:01:17.868248Z",
     "start_time": "2022-01-05T10:01:17.864586Z"
    }
   },
   "source": [
    "- label propagation:  https://towardsdatascience.com/semi-supervised-learning-how-to-assign-labels-with-label-propagation-algorithm-9f1683f4d0eb\n",
    "- Lexicon of abusive words: https://github.com/uds-lsv/lexicon-of-abusive-words     \n",
    "- Deep learning and clustering"
   ]
  },
  {
   "cell_type": "markdown",
   "id": "71f07db7",
   "metadata": {},
   "source": [
    "# Alternative modeling plans"
   ]
  },
  {
   "cell_type": "markdown",
   "id": "f4393c22",
   "metadata": {},
   "source": [
    " - Manually relabel 2%-5% of tweets in category 1 (hate speech)\n",
    " - Apply label propagation algo to label the remaining tweets\n",
    " - All tweets labeled,  proceed with classification/DL model"
   ]
  },
  {
   "cell_type": "markdown",
   "id": "117964fc",
   "metadata": {},
   "source": [
    "# Data preprocessing\n",
    "\n"
   ]
  },
  {
   "cell_type": "markdown",
   "id": "2caf752b",
   "metadata": {},
   "source": [
    "## Data cleaning"
   ]
  },
  {
   "cell_type": "code",
   "execution_count": 216,
   "id": "baad6db0",
   "metadata": {
    "ExecuteTime": {
     "end_time": "2022-01-05T12:33:46.008478Z",
     "start_time": "2022-01-05T12:33:39.738175Z"
    }
   },
   "outputs": [
    {
     "name": "stderr",
     "output_type": "stream",
     "text": [
      "[nltk_data] Downloading package stopwords to /home/mimi/nltk_data...\n",
      "[nltk_data]   Package stopwords is already up-to-date!\n",
      "[nltk_data] Downloading package punkt to /home/mimi/nltk_data...\n",
      "[nltk_data]   Package punkt is already up-to-date!\n",
      "[nltk_data] Downloading package wordnet to /home/mimi/nltk_data...\n",
      "[nltk_data]   Package wordnet is already up-to-date!\n",
      "[nltk_data] Downloading package omw-1.4 to /home/mimi/nltk_data...\n",
      "[nltk_data]   Unzipping corpora/omw-1.4.zip.\n"
     ]
    },
    {
     "data": {
      "text/plain": [
       "True"
      ]
     },
     "execution_count": 216,
     "metadata": {},
     "output_type": "execute_result"
    }
   ],
   "source": [
    "import nltk\n",
    "nltk.download('stopwords')\n",
    "nltk.download('punkt')\n",
    "nltk.download('wordnet')\n",
    "nltk.download('omw-1.4')"
   ]
  },
  {
   "cell_type": "code",
   "execution_count": 233,
   "id": "e1743d6e",
   "metadata": {
    "ExecuteTime": {
     "end_time": "2022-01-05T13:08:10.689131Z",
     "start_time": "2022-01-05T13:08:10.676082Z"
    }
   },
   "outputs": [],
   "source": [
    "text = hate_text.iloc[59]\n",
    "\n",
    "# lowercase\n",
    "text = text.lower() \n",
    "\n",
    "# remove numbers\n",
    "text = ''.join(word for word in text if not word.isdigit())\n",
    "\n",
    "# punctuation\n",
    "#string.punctuation\n",
    "for punctuation in string.punctuation:\n",
    "    text = text.replace(punctuation, '') \n",
    "    \n",
    "# stopwords\n",
    "stop_words = set(stopwords.words('english'))\n"
   ]
  },
  {
   "cell_type": "code",
   "execution_count": 234,
   "id": "8e189839",
   "metadata": {
    "ExecuteTime": {
     "end_time": "2022-01-05T13:08:11.676346Z",
     "start_time": "2022-01-05T13:08:11.663770Z"
    }
   },
   "outputs": [
    {
     "data": {
      "text/plain": [
       "['get',\n",
       " 'offered',\n",
       " 'sex',\n",
       " 'work',\n",
       " 'much',\n",
       " '’',\n",
       " 'disturbing',\n",
       " 'girls',\n",
       " 'innocent']"
      ]
     },
     "execution_count": 234,
     "metadata": {},
     "output_type": "execute_result"
    }
   ],
   "source": [
    "# tokenizing - transform to list\n",
    "word_tokens = word_tokenize(text) \n",
    "text = [w for w in word_tokens if not w in stop_words] \n",
    "text"
   ]
  },
  {
   "cell_type": "markdown",
   "id": "60484e38",
   "metadata": {},
   "source": [
    "## Lemantizing"
   ]
  },
  {
   "cell_type": "code",
   "execution_count": 235,
   "id": "3388188c",
   "metadata": {
    "ExecuteTime": {
     "end_time": "2022-01-05T13:08:14.252495Z",
     "start_time": "2022-01-05T13:08:14.245514Z"
    }
   },
   "outputs": [
    {
     "data": {
      "text/plain": [
       "['get',\n",
       " 'offered',\n",
       " 'sex',\n",
       " 'work',\n",
       " 'much',\n",
       " '’',\n",
       " 'disturbing',\n",
       " 'girl',\n",
       " 'innocent']"
      ]
     },
     "execution_count": 235,
     "metadata": {},
     "output_type": "execute_result"
    }
   ],
   "source": [
    "# Stemming or Lemmatizing- finding root word\n",
    "# stemmer = PorterStemmer()\n",
    "# stemmed = [stemmer.stem(word) for word in text]\n",
    "lemmatizer = WordNetLemmatizer()\n",
    "lemmatized = [lemmatizer.lemmatize(word) for word in text]\n",
    "text = lemmatized\n",
    "lemmatized\n"
   ]
  },
  {
   "cell_type": "markdown",
   "id": "5d7fa8db",
   "metadata": {},
   "source": [
    "## Vectorizing"
   ]
  },
  {
   "cell_type": "code",
   "execution_count": 221,
   "id": "c436fa76",
   "metadata": {
    "ExecuteTime": {
     "end_time": "2022-01-05T12:34:12.479269Z",
     "start_time": "2022-01-05T12:34:12.467591Z"
    }
   },
   "outputs": [
    {
     "data": {
      "text/plain": [
       "array([[0, 1, 0, 0, 0, 0, 0, 0],\n",
       "       [0, 0, 0, 0, 0, 1, 0, 0],\n",
       "       [0, 0, 0, 0, 0, 0, 1, 0],\n",
       "       [0, 0, 0, 0, 0, 0, 0, 1],\n",
       "       [0, 0, 0, 0, 1, 0, 0, 0],\n",
       "       [0, 0, 0, 0, 0, 0, 0, 0],\n",
       "       [1, 0, 0, 0, 0, 0, 0, 0],\n",
       "       [0, 0, 1, 0, 0, 0, 0, 0],\n",
       "       [0, 0, 0, 1, 0, 0, 0, 0]])"
      ]
     },
     "execution_count": 221,
     "metadata": {},
     "output_type": "execute_result"
    }
   ],
   "source": [
    "# text numerical ----> representation\n",
    "\n",
    "## Bag of words: counting ocuurences of each word (mx with word in col)\n",
    "vectorizer = CountVectorizer()\n",
    "X = vectorizer.fit_transform(text)\n",
    "X.toarray()   \n",
    "#vectorizer.get_feature_names()  \n",
    "#pd.DataFrame(X.toarray(),columns = vectorizer.get_feature_names())  "
   ]
  },
  {
   "cell_type": "code",
   "execution_count": 223,
   "id": "31ada646",
   "metadata": {
    "ExecuteTime": {
     "end_time": "2022-01-05T12:34:31.667296Z",
     "start_time": "2022-01-05T12:34:31.659921Z"
    }
   },
   "outputs": [],
   "source": [
    "## Tf-Idf: Term Frequency - Inverse Document Frequency --> importance of word in document--> frequency\n",
    "# pros: - frequency robust to document length\n",
    "#       - measures importance\n",
    "# cons: doesn't capture context\n",
    "\n",
    "# texts = ['i love football',\n",
    "#          'football is a game i love',\n",
    "#         'football football football']\n",
    "\n",
    "tf_idf_vectorizer = TfidfVectorizer()\n",
    "X = tf_idf_vectorizer.fit_transform(text)\n",
    "#X.toarray()\n",
    "#pd.DataFrame(X.toarray(),columns = tf_idf_vectorizer.get_feature_names())"
   ]
  },
  {
   "cell_type": "code",
   "execution_count": null,
   "id": "810f627b",
   "metadata": {
    "ExecuteTime": {
     "end_time": "2022-01-05T10:01:18.056881Z",
     "start_time": "2022-01-05T10:01:18.056867Z"
    }
   },
   "outputs": [],
   "source": [
    "# Key paramters BOW and Td-Idf :\n",
    "# max_df = exclude \"corpus specific stopwords\", most freq words\n",
    "# min_df = exclude words that are very infrequent in the dataset\n",
    "# max_features = specify the number of features to keep when vectorizing, useful to reduce the dimension of the data"
   ]
  },
  {
   "cell_type": "code",
   "execution_count": 225,
   "id": "6f0be026",
   "metadata": {
    "ExecuteTime": {
     "end_time": "2022-01-05T12:48:34.917633Z",
     "start_time": "2022-01-05T12:48:34.892164Z"
    }
   },
   "outputs": [
    {
     "name": "stderr",
     "output_type": "stream",
     "text": [
      "/home/mimi/.pyenv/versions/3.8.12/envs/project_BAN/lib/python3.8/site-packages/sklearn/utils/deprecation.py:87: FutureWarning: Function get_feature_names is deprecated; get_feature_names is deprecated in 1.0 and will be removed in 1.2. Please use get_feature_names_out instead.\n",
      "  warnings.warn(msg, category=FutureWarning)\n"
     ]
    },
    {
     "data": {
      "text/html": [
       "<div>\n",
       "<style scoped>\n",
       "    .dataframe tbody tr th:only-of-type {\n",
       "        vertical-align: middle;\n",
       "    }\n",
       "\n",
       "    .dataframe tbody tr th {\n",
       "        vertical-align: top;\n",
       "    }\n",
       "\n",
       "    .dataframe thead th {\n",
       "        text-align: right;\n",
       "    }\n",
       "</style>\n",
       "<table border=\"1\" class=\"dataframe\">\n",
       "  <thead>\n",
       "    <tr style=\"text-align: right;\">\n",
       "      <th></th>\n",
       "      <th>do not</th>\n",
       "      <th>football not</th>\n",
       "      <th>love football</th>\n",
       "      <th>not basketball</th>\n",
       "      <th>not love</th>\n",
       "    </tr>\n",
       "  </thead>\n",
       "  <tbody>\n",
       "    <tr>\n",
       "      <th>0</th>\n",
       "      <td>0.631667</td>\n",
       "      <td>0.000000</td>\n",
       "      <td>0.449436</td>\n",
       "      <td>0.000000</td>\n",
       "      <td>0.631667</td>\n",
       "    </tr>\n",
       "    <tr>\n",
       "      <th>1</th>\n",
       "      <td>0.000000</td>\n",
       "      <td>0.631667</td>\n",
       "      <td>0.449436</td>\n",
       "      <td>0.631667</td>\n",
       "      <td>0.000000</td>\n",
       "    </tr>\n",
       "  </tbody>\n",
       "</table>\n",
       "</div>"
      ],
      "text/plain": [
       "     do not  football not  love football  not basketball  not love\n",
       "0  0.631667      0.000000       0.449436        0.000000  0.631667\n",
       "1  0.000000      0.631667       0.449436        0.631667  0.000000"
      ]
     },
     "execution_count": 225,
     "metadata": {},
     "output_type": "execute_result"
    }
   ],
   "source": [
    "### N-grams: Instead of considering individual words, \n",
    "#N-grams consists of considering word sequences. \n",
    "#This representation captures context. N is the number of words to be consiered as a one\n",
    "texts =  ['i do not love football',\n",
    "         'i love football not basketball']\n",
    "tf_idf_vectorizer = TfidfVectorizer(ngram_range = (2,2))\n",
    "\n",
    "X = tf_idf_vectorizer.fit_transform(texts)\n",
    "\n",
    "X.toarray()\n",
    "\n",
    "pd.DataFrame(X.toarray(),columns = tf_idf_vectorizer.get_feature_names())"
   ]
  },
  {
   "cell_type": "markdown",
   "id": "fa7d68c4",
   "metadata": {},
   "source": [
    "# Test label propagation on minimal data"
   ]
  },
  {
   "cell_type": "code",
   "execution_count": 202,
   "id": "494b625a",
   "metadata": {
    "ExecuteTime": {
     "end_time": "2022-01-05T12:29:57.175323Z",
     "start_time": "2022-01-05T12:29:45.572910Z"
    }
   },
   "outputs": [
    {
     "name": "stdout",
     "output_type": "stream",
     "text": [
      "Collecting plotly\n",
      "  Downloading plotly-5.5.0-py2.py3-none-any.whl (26.5 MB)\n",
      "     |████████████████████████████████| 26.5 MB 5.5 MB/s            \n",
      "\u001b[?25hCollecting tenacity>=6.2.0\n",
      "  Using cached tenacity-8.0.1-py3-none-any.whl (24 kB)\n",
      "Requirement already satisfied: six in /home/mimi/.pyenv/versions/3.8.12/envs/project_BAN/lib/python3.8/site-packages (from plotly) (1.16.0)\n",
      "Installing collected packages: tenacity, plotly\n",
      "Successfully installed plotly-5.5.0 tenacity-8.0.1\n"
     ]
    }
   ],
   "source": [
    "! pip install plotly"
   ]
  },
  {
   "cell_type": "code",
   "execution_count": 224,
   "id": "cad9feb7",
   "metadata": {
    "ExecuteTime": {
     "end_time": "2022-01-05T12:34:39.520052Z",
     "start_time": "2022-01-05T12:34:39.512301Z"
    }
   },
   "outputs": [],
   "source": [
    "# Visualization\n",
    "import plotly.express as px # for data visualization\n",
    "import plotly.graph_objects as go # for data visualization\n",
    "import matplotlib.pyplot as plt # for displaying confusion matrix\n",
    "\n",
    "# Skleran\n",
    "from sklearn.metrics import classification_report # for model evaluation metrics\n",
    "from sklearn.metrics import confusion_matrix, ConfusionMatrixDisplay # for showing confusion matrix\n",
    "from sklearn.preprocessing import MinMaxScaler # for feature scaling\n",
    "from sklearn.semi_supervised import LabelPropagation # for assigning labels to unlabeled data\n"
   ]
  },
  {
   "cell_type": "code",
   "execution_count": null,
   "id": "725bc8a5",
   "metadata": {},
   "outputs": [],
   "source": []
  },
  {
   "cell_type": "markdown",
   "id": "3e8bdee0",
   "metadata": {},
   "source": [
    "# Useful notes"
   ]
  },
  {
   "cell_type": "markdown",
   "id": "ff187a38",
   "metadata": {
    "ExecuteTime": {
     "end_time": "2022-01-05T12:49:44.825031Z",
     "start_time": "2022-01-05T12:49:44.819338Z"
    }
   },
   "source": [
    "## Some features are:\n",
    "\n",
    "- Vocabulary Richness\n",
    "- Number of words per tweet\n",
    "- punctuation/Character ratio\n",
    "- emoji/Character ratio\n",
    "- Contains abusive words\n",
    "- Contains Words in Capital letters"
   ]
  },
  {
   "cell_type": "code",
   "execution_count": 229,
   "id": "de7bb4ef",
   "metadata": {
    "ExecuteTime": {
     "end_time": "2022-01-05T12:53:51.862515Z",
     "start_time": "2022-01-05T12:53:51.830705Z"
    }
   },
   "outputs": [
    {
     "data": {
      "text/plain": [
       "3      0.902439\n",
       "7      0.716667\n",
       "49     0.883721\n",
       "57     0.961538\n",
       "60     0.793103\n",
       "         ...   \n",
       "447    1.000000\n",
       "459    0.774194\n",
       "462    0.875000\n",
       "464    1.000000\n",
       "466    0.954545\n",
       "Name: text, Length: 61, dtype: float64"
      ]
     },
     "execution_count": 229,
     "metadata": {},
     "output_type": "execute_result"
    }
   ],
   "source": [
    "def vocab_richness(text):\n",
    "    tokens = word_tokenize(text)\n",
    "    total_length = len(tokens)\n",
    "    unique_words = set(tokens)\n",
    "    unique_word_length = len(unique_words)\n",
    "    return unique_word_length/total_length\n",
    "\n",
    "vocab_richness = df_mini.text.apply(vocab_richness)\n",
    "\n",
    "vocab_richness"
   ]
  },
  {
   "cell_type": "markdown",
   "id": "780987c2",
   "metadata": {
    "ExecuteTime": {
     "end_time": "2022-01-05T12:56:41.814864Z",
     "start_time": "2022-01-05T12:56:41.805881Z"
    }
   },
   "source": [
    "## Machine learning models\n",
    "- Naive base fro classification\n",
    "- LatentDirichletAllocation for clustering"
   ]
  },
  {
   "cell_type": "markdown",
   "id": "82c87c9e",
   "metadata": {
    "ExecuteTime": {
     "end_time": "2022-01-05T13:09:34.903495Z",
     "start_time": "2022-01-05T13:09:34.898285Z"
    }
   },
   "source": [
    "## Deep learning model"
   ]
  },
  {
   "cell_type": "markdown",
   "id": "e2045366",
   "metadata": {
    "ExecuteTime": {
     "end_time": "2022-01-05T13:10:58.064962Z",
     "start_time": "2022-01-05T13:10:58.060060Z"
    }
   },
   "source": [
    "https://kitt.lewagon.com/camps/773/lectures/content/06-DL_05-Natural-Language-Processing.html\n",
    "    \n",
    "X.shape = (n_sentences, max_sentence_length, embedding_dim)"
   ]
  },
  {
   "cell_type": "markdown",
   "id": "840f420b",
   "metadata": {
    "ExecuteTime": {
     "end_time": "2022-01-05T13:16:57.493176Z",
     "start_time": "2022-01-05T13:16:57.486838Z"
    }
   },
   "source": [
    "steps:\n",
    "    - tokenize text: tf.keras.preprocessing.text.Tokenizer\n",
    "    - embedding layer (creating vector representation of each word): https://www.tensorflow.org/api_docs/python/tf/keras/layers/Embedding\n",
    "                - custome embedding : can be done but computationally intensive\n",
    "                - independent embedding woth Word2vec (Gensim) --- transfer learning\n",
    "                \n",
    "Powerful embedding that is very fast and easy to train!\n",
    "\n",
    "✅ you give it a list of sentences\n",
    "✅ it automatically learns a representation - an embedding - for each word it was trained on!"
   ]
  },
  {
   "cell_type": "markdown",
   "id": "160c1716",
   "metadata": {},
   "source": []
  }
 ],
 "metadata": {
  "kernelspec": {
   "display_name": "Python 3 (ipykernel)",
   "language": "python",
   "name": "python3"
  },
  "language_info": {
   "codemirror_mode": {
    "name": "ipython",
    "version": 3
   },
   "file_extension": ".py",
   "mimetype": "text/x-python",
   "name": "python",
   "nbconvert_exporter": "python",
   "pygments_lexer": "ipython3",
   "version": "3.8.12"
  },
  "nbTranslate": {
   "displayLangs": [
    "*"
   ],
   "hotkey": "alt-t",
   "langInMainMenu": true,
   "sourceLang": "en",
   "targetLang": "fr",
   "useGoogleTranslate": true
  },
  "toc": {
   "base_numbering": 1,
   "nav_menu": {},
   "number_sections": true,
   "sideBar": true,
   "skip_h1_title": false,
   "title_cell": "Table of Contents",
   "title_sidebar": "Contents",
   "toc_cell": false,
   "toc_position": {},
   "toc_section_display": true,
   "toc_window_display": true
  }
 },
 "nbformat": 4,
 "nbformat_minor": 5
}
