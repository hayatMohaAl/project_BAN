{
 "cells": [
  {
   "cell_type": "markdown",
   "id": "7e06ad07",
   "metadata": {},
   "source": [
    "# Load libraries"
   ]
  },
  {
   "cell_type": "code",
   "execution_count": 17,
   "id": "cd9352a6",
   "metadata": {
    "ExecuteTime": {
     "end_time": "2022-01-06T09:35:27.969537Z",
     "start_time": "2022-01-06T09:35:27.910533Z"
    }
   },
   "outputs": [],
   "source": [
    "import pandas as pd\n",
    "import numpy  as np\n",
    "import string \n",
    "import re\n",
    "import itertools\n",
    "import matplotlib.pyplot as plt\n",
    "import seaborn as sns\n",
    "from nltk.corpus import stopwords \n",
    "from nltk.tokenize import word_tokenize\n",
    "from nltk.stem.porter import PorterStemmer\n",
    "from nltk.stem import WordNetLemmatizer\n",
    "from sklearn.feature_extraction.text import CountVectorizer\n",
    "from sklearn.feature_extraction.text import TfidfVectorizer"
   ]
  },
  {
   "cell_type": "markdown",
   "id": "4160115a",
   "metadata": {},
   "source": [
    "# Data import"
   ]
  },
  {
   "cell_type": "code",
   "execution_count": 8,
   "id": "01123c62",
   "metadata": {
    "ExecuteTime": {
     "end_time": "2022-01-06T09:34:43.671761Z",
     "start_time": "2022-01-06T09:34:43.593871Z"
    }
   },
   "outputs": [
    {
     "data": {
      "text/plain": [
       "0    8582\n",
       "1    1418\n",
       "Name: category, dtype: int64"
      ]
     },
     "execution_count": 8,
     "metadata": {},
     "output_type": "execute_result"
    }
   ],
   "source": [
    "pd.set_option('max_colwidth', None) \n",
    "df = pd.read_csv(\"~/Downloads/banData/MeTooHate.csv\", nrows = 10000)\n",
    "#df.head()\n",
    "df.category.value_counts()"
   ]
  },
  {
   "cell_type": "markdown",
   "id": "d9481629",
   "metadata": {},
   "source": [
    "# Sample data"
   ]
  },
  {
   "cell_type": "markdown",
   "id": "2cf39189",
   "metadata": {
    "ExecuteTime": {
     "end_time": "2022-01-05T16:25:53.961439Z",
     "start_time": "2022-01-05T16:25:53.955280Z"
    }
   },
   "source": [
    "## Annotation rule\n",
    "\n",
    "- 0: neutral  content or positive sentiment\n",
    "- 1: negative sentiment or negative fact but no abusive wording\n",
    "- 2: Abusive/ hate language"
   ]
  },
  {
   "cell_type": "code",
   "execution_count": 9,
   "id": "50e261b4",
   "metadata": {
    "ExecuteTime": {
     "end_time": "2022-01-06T09:34:44.374716Z",
     "start_time": "2022-01-06T09:34:44.324686Z"
    }
   },
   "outputs": [
    {
     "data": {
      "text/plain": [
       "1    58\n",
       "0    58\n",
       "2    23\n",
       "Name: label, dtype: int64"
      ]
     },
     "execution_count": 9,
     "metadata": {},
     "output_type": "execute_result"
    }
   ],
   "source": [
    "df_mini = df[df[\"category\"]==1].iloc[0:101].head(100)\n",
    "df_mini.reset_index(inplace =True)\n",
    "\n",
    "label=[2, 2, 1,  1, 1, 1,  1, 2,  1, 0,  2,   1,  1,  1,  1,\n",
    "  1, 1, 1,0,2,1,    1,    1,    1,    1,   2,     1,    2,    0,    1,\n",
    "  0,1,2, 0,1,2, 0,1,1,0, \n",
    "  1,0,1,0,1,1,1,2,1,2,\n",
    "  2,2,2,0,1, 0,2,1,1,1,\n",
    "  1,1,1,0,1,2,1,0,1,0,\n",
    "  2,  1,1,   2, 1,2,   1, 1,0,1,1 ,\n",
    "  1,   2,   2,   0,   2,   0,   1,   1,   1,   1,   1,   1,   0,\n",
    "   1,2,1, 0, 1,1]\n",
    "df_mini[\"label\"] = label\n",
    "\n",
    "tmp = df[df[\"category\"]==0].iloc[0:39]\n",
    "tmp.reset_index(inplace =True)\n",
    "tmp[\"label\"] = 0\n",
    "tmp.index = pd.Series(np.array(tmp.index)+100)\n",
    "\n",
    "df_mini = pd.concat([df_mini, tmp],  axis=0 )\n",
    "df_mini.drop(columns = [\"status_id\",'created_at', 'location'], inplace = True)\n",
    "df_mini.reset_index(inplace  = True)\n",
    "\n",
    "df_mini.drop_duplicates(inplace = True)\n",
    "df_mini.label.value_counts()"
   ]
  },
  {
   "cell_type": "markdown",
   "id": "7848ee96",
   "metadata": {
    "ExecuteTime": {
     "end_time": "2022-01-06T07:05:51.413128Z",
     "start_time": "2022-01-06T07:05:51.411129Z"
    }
   },
   "source": [
    "## Compare features between labels"
   ]
  },
  {
   "cell_type": "code",
   "execution_count": 10,
   "id": "9a28d026",
   "metadata": {
    "ExecuteTime": {
     "end_time": "2022-01-06T09:34:45.032153Z",
     "start_time": "2022-01-06T09:34:45.004879Z"
    }
   },
   "outputs": [
    {
     "data": {
      "text/html": [
       "<div>\n",
       "<style scoped>\n",
       "    .dataframe tbody tr th:only-of-type {\n",
       "        vertical-align: middle;\n",
       "    }\n",
       "\n",
       "    .dataframe tbody tr th {\n",
       "        vertical-align: top;\n",
       "    }\n",
       "\n",
       "    .dataframe thead th {\n",
       "        text-align: right;\n",
       "    }\n",
       "</style>\n",
       "<table border=\"1\" class=\"dataframe\">\n",
       "  <thead>\n",
       "    <tr style=\"text-align: right;\">\n",
       "      <th></th>\n",
       "      <th>level_0</th>\n",
       "      <th>index</th>\n",
       "      <th>favorite_count</th>\n",
       "      <th>retweet_count</th>\n",
       "      <th>followers_count</th>\n",
       "      <th>friends_count</th>\n",
       "      <th>statuses_count</th>\n",
       "      <th>category</th>\n",
       "      <th>label</th>\n",
       "    </tr>\n",
       "  </thead>\n",
       "  <tbody>\n",
       "    <tr>\n",
       "      <th>count</th>\n",
       "      <td>139.000000</td>\n",
       "      <td>139.000000</td>\n",
       "      <td>139.000000</td>\n",
       "      <td>139.000000</td>\n",
       "      <td>139.000000</td>\n",
       "      <td>139.000000</td>\n",
       "      <td>139.000000</td>\n",
       "      <td>139.000000</td>\n",
       "      <td>139.000000</td>\n",
       "    </tr>\n",
       "    <tr>\n",
       "      <th>mean</th>\n",
       "      <td>69.000000</td>\n",
       "      <td>277.230216</td>\n",
       "      <td>6.129496</td>\n",
       "      <td>1.582734</td>\n",
       "      <td>4651.712230</td>\n",
       "      <td>2342.258993</td>\n",
       "      <td>38723.151079</td>\n",
       "      <td>0.719424</td>\n",
       "      <td>0.748201</td>\n",
       "    </tr>\n",
       "    <tr>\n",
       "      <th>std</th>\n",
       "      <td>40.269923</td>\n",
       "      <td>246.117985</td>\n",
       "      <td>25.867789</td>\n",
       "      <td>6.204135</td>\n",
       "      <td>17843.557261</td>\n",
       "      <td>6108.417808</td>\n",
       "      <td>84759.515571</td>\n",
       "      <td>0.450905</td>\n",
       "      <td>0.723253</td>\n",
       "    </tr>\n",
       "    <tr>\n",
       "      <th>min</th>\n",
       "      <td>0.000000</td>\n",
       "      <td>0.000000</td>\n",
       "      <td>0.000000</td>\n",
       "      <td>0.000000</td>\n",
       "      <td>1.000000</td>\n",
       "      <td>19.000000</td>\n",
       "      <td>9.000000</td>\n",
       "      <td>0.000000</td>\n",
       "      <td>0.000000</td>\n",
       "    </tr>\n",
       "    <tr>\n",
       "      <th>25%</th>\n",
       "      <td>34.500000</td>\n",
       "      <td>34.500000</td>\n",
       "      <td>0.000000</td>\n",
       "      <td>0.000000</td>\n",
       "      <td>194.500000</td>\n",
       "      <td>298.000000</td>\n",
       "      <td>2924.000000</td>\n",
       "      <td>0.000000</td>\n",
       "      <td>0.000000</td>\n",
       "    </tr>\n",
       "    <tr>\n",
       "      <th>50%</th>\n",
       "      <td>69.000000</td>\n",
       "      <td>233.000000</td>\n",
       "      <td>0.000000</td>\n",
       "      <td>0.000000</td>\n",
       "      <td>718.000000</td>\n",
       "      <td>966.000000</td>\n",
       "      <td>12715.000000</td>\n",
       "      <td>1.000000</td>\n",
       "      <td>1.000000</td>\n",
       "    </tr>\n",
       "    <tr>\n",
       "      <th>75%</th>\n",
       "      <td>103.500000</td>\n",
       "      <td>515.000000</td>\n",
       "      <td>2.000000</td>\n",
       "      <td>1.000000</td>\n",
       "      <td>2660.000000</td>\n",
       "      <td>2401.000000</td>\n",
       "      <td>36861.500000</td>\n",
       "      <td>1.000000</td>\n",
       "      <td>1.000000</td>\n",
       "    </tr>\n",
       "    <tr>\n",
       "      <th>max</th>\n",
       "      <td>138.000000</td>\n",
       "      <td>729.000000</td>\n",
       "      <td>245.000000</td>\n",
       "      <td>53.000000</td>\n",
       "      <td>173338.000000</td>\n",
       "      <td>67661.000000</td>\n",
       "      <td>666916.000000</td>\n",
       "      <td>1.000000</td>\n",
       "      <td>2.000000</td>\n",
       "    </tr>\n",
       "  </tbody>\n",
       "</table>\n",
       "</div>"
      ],
      "text/plain": [
       "          level_0       index  favorite_count  retweet_count  followers_count  \\\n",
       "count  139.000000  139.000000      139.000000     139.000000       139.000000   \n",
       "mean    69.000000  277.230216        6.129496       1.582734      4651.712230   \n",
       "std     40.269923  246.117985       25.867789       6.204135     17843.557261   \n",
       "min      0.000000    0.000000        0.000000       0.000000         1.000000   \n",
       "25%     34.500000   34.500000        0.000000       0.000000       194.500000   \n",
       "50%     69.000000  233.000000        0.000000       0.000000       718.000000   \n",
       "75%    103.500000  515.000000        2.000000       1.000000      2660.000000   \n",
       "max    138.000000  729.000000      245.000000      53.000000    173338.000000   \n",
       "\n",
       "       friends_count  statuses_count    category       label  \n",
       "count     139.000000      139.000000  139.000000  139.000000  \n",
       "mean     2342.258993    38723.151079    0.719424    0.748201  \n",
       "std      6108.417808    84759.515571    0.450905    0.723253  \n",
       "min        19.000000        9.000000    0.000000    0.000000  \n",
       "25%       298.000000     2924.000000    0.000000    0.000000  \n",
       "50%       966.000000    12715.000000    1.000000    1.000000  \n",
       "75%      2401.000000    36861.500000    1.000000    1.000000  \n",
       "max     67661.000000   666916.000000    1.000000    2.000000  "
      ]
     },
     "execution_count": 10,
     "metadata": {},
     "output_type": "execute_result"
    }
   ],
   "source": [
    "df_mini.describe()"
   ]
  },
  {
   "cell_type": "code",
   "execution_count": 11,
   "id": "18c60516",
   "metadata": {
    "ExecuteTime": {
     "end_time": "2022-01-06T09:34:45.481714Z",
     "start_time": "2022-01-06T09:34:45.466651Z"
    }
   },
   "outputs": [
    {
     "data": {
      "text/html": [
       "<div>\n",
       "<style scoped>\n",
       "    .dataframe tbody tr th:only-of-type {\n",
       "        vertical-align: middle;\n",
       "    }\n",
       "\n",
       "    .dataframe tbody tr th {\n",
       "        vertical-align: top;\n",
       "    }\n",
       "\n",
       "    .dataframe thead th {\n",
       "        text-align: right;\n",
       "    }\n",
       "</style>\n",
       "<table border=\"1\" class=\"dataframe\">\n",
       "  <thead>\n",
       "    <tr style=\"text-align: right;\">\n",
       "      <th></th>\n",
       "      <th>text</th>\n",
       "      <th>favorite_count</th>\n",
       "      <th>retweet_count</th>\n",
       "      <th>followers_count</th>\n",
       "      <th>friends_count</th>\n",
       "      <th>statuses_count</th>\n",
       "      <th>label</th>\n",
       "    </tr>\n",
       "  </thead>\n",
       "  <tbody>\n",
       "    <tr>\n",
       "      <th>0</th>\n",
       "      <td>Yep just like triffeling women weaponized their poon!! Wonder if Kamala Harris ever extorted Willy Brown after throwing the poon on him, oh yeh, that how she got her first job me too is a JOKE!</td>\n",
       "      <td>1</td>\n",
       "      <td>0</td>\n",
       "      <td>3573</td>\n",
       "      <td>3732</td>\n",
       "      <td>38361</td>\n",
       "      <td>2</td>\n",
       "    </tr>\n",
       "    <tr>\n",
       "      <th>1</th>\n",
       "      <td>Save it for Fox Fake News—watched by racists, bigots &amp;amp; other women-hating sexists like yourself. GOP is the party of Putin &amp;amp; the party of Hate—besides women, GOP hates all POC, immigrants, and all ppl not straight. You’re the party of the entitled lying whiny white men.</td>\n",
       "      <td>0</td>\n",
       "      <td>0</td>\n",
       "      <td>718</td>\n",
       "      <td>1648</td>\n",
       "      <td>16113</td>\n",
       "      <td>2</td>\n",
       "    </tr>\n",
       "    <tr>\n",
       "      <th>2</th>\n",
       "      <td>As a white male in this  era I'm just scared that if I decide to rape or sexually assault a woman, it can be used against me years later. How am I supposed to ask a girl out?!</td>\n",
       "      <td>0</td>\n",
       "      <td>0</td>\n",
       "      <td>387</td>\n",
       "      <td>203</td>\n",
       "      <td>1670</td>\n",
       "      <td>1</td>\n",
       "    </tr>\n",
       "    <tr>\n",
       "      <th>3</th>\n",
       "      <td>I heard that  received some Shush/Slush money to settle rape charges by her aide who said she just could not remember where or when. . .</td>\n",
       "      <td>0</td>\n",
       "      <td>0</td>\n",
       "      <td>1</td>\n",
       "      <td>28</td>\n",
       "      <td>489</td>\n",
       "      <td>1</td>\n",
       "    </tr>\n",
       "    <tr>\n",
       "      <th>4</th>\n",
       "      <td>If she hasn't, it's because of people like you shaming her! How dare you tell her how she is or should be feeling! That is why I HATE  the  movement. Along with all of the other movements! You rape these people to further a political objective! You are despicable!</td>\n",
       "      <td>0</td>\n",
       "      <td>0</td>\n",
       "      <td>111</td>\n",
       "      <td>224</td>\n",
       "      <td>1719</td>\n",
       "      <td>1</td>\n",
       "    </tr>\n",
       "  </tbody>\n",
       "</table>\n",
       "</div>"
      ],
      "text/plain": [
       "                                                                                                                                                                                                                                                                                     text  \\\n",
       "0                                                                                      Yep just like triffeling women weaponized their poon!! Wonder if Kamala Harris ever extorted Willy Brown after throwing the poon on him, oh yeh, that how she got her first job me too is a JOKE!    \n",
       "1  Save it for Fox Fake News—watched by racists, bigots &amp; other women-hating sexists like yourself. GOP is the party of Putin &amp; the party of Hate—besides women, GOP hates all POC, immigrants, and all ppl not straight. You’re the party of the entitled lying whiny white men.   \n",
       "2                                                                                                         As a white male in this  era I'm just scared that if I decide to rape or sexually assault a woman, it can be used against me years later. How am I supposed to ask a girl out?!   \n",
       "3                                                                                                                                                I heard that  received some Shush/Slush money to settle rape charges by her aide who said she just could not remember where or when. . .   \n",
       "4                If she hasn't, it's because of people like you shaming her! How dare you tell her how she is or should be feeling! That is why I HATE  the  movement. Along with all of the other movements! You rape these people to further a political objective! You are despicable!   \n",
       "\n",
       "   favorite_count  retweet_count  followers_count  friends_count  \\\n",
       "0               1              0             3573           3732   \n",
       "1               0              0              718           1648   \n",
       "2               0              0              387            203   \n",
       "3               0              0                1             28   \n",
       "4               0              0              111            224   \n",
       "\n",
       "   statuses_count  label  \n",
       "0           38361      2  \n",
       "1           16113      2  \n",
       "2            1670      1  \n",
       "3             489      1  \n",
       "4            1719      1  "
      ]
     },
     "execution_count": 11,
     "metadata": {},
     "output_type": "execute_result"
    }
   ],
   "source": [
    "drop_cols = [\"level_0\",\"index\",\"category\"]\n",
    "df_mini.drop(columns = drop_cols, inplace = True)\n",
    "df_mini.head()"
   ]
  },
  {
   "cell_type": "code",
   "execution_count": 12,
   "id": "0444b2a2",
   "metadata": {
    "ExecuteTime": {
     "end_time": "2022-01-06T09:34:46.608548Z",
     "start_time": "2022-01-06T09:34:46.593998Z"
    }
   },
   "outputs": [
    {
     "data": {
      "text/html": [
       "<div>\n",
       "<style scoped>\n",
       "    .dataframe tbody tr th:only-of-type {\n",
       "        vertical-align: middle;\n",
       "    }\n",
       "\n",
       "    .dataframe tbody tr th {\n",
       "        vertical-align: top;\n",
       "    }\n",
       "\n",
       "    .dataframe thead th {\n",
       "        text-align: right;\n",
       "    }\n",
       "</style>\n",
       "<table border=\"1\" class=\"dataframe\">\n",
       "  <thead>\n",
       "    <tr style=\"text-align: right;\">\n",
       "      <th></th>\n",
       "      <th>favorite_count</th>\n",
       "      <th>retweet_count</th>\n",
       "      <th>followers_count</th>\n",
       "      <th>friends_count</th>\n",
       "      <th>statuses_count</th>\n",
       "    </tr>\n",
       "    <tr>\n",
       "      <th>label</th>\n",
       "      <th></th>\n",
       "      <th></th>\n",
       "      <th></th>\n",
       "      <th></th>\n",
       "      <th></th>\n",
       "    </tr>\n",
       "  </thead>\n",
       "  <tbody>\n",
       "    <tr>\n",
       "      <th>0</th>\n",
       "      <td>9.086207</td>\n",
       "      <td>2.137931</td>\n",
       "      <td>4081.862069</td>\n",
       "      <td>2106.137931</td>\n",
       "      <td>40685.172414</td>\n",
       "    </tr>\n",
       "    <tr>\n",
       "      <th>1</th>\n",
       "      <td>4.551724</td>\n",
       "      <td>1.362069</td>\n",
       "      <td>4752.534483</td>\n",
       "      <td>1871.431034</td>\n",
       "      <td>25573.758621</td>\n",
       "    </tr>\n",
       "    <tr>\n",
       "      <th>2</th>\n",
       "      <td>2.652174</td>\n",
       "      <td>0.739130</td>\n",
       "      <td>5834.478261</td>\n",
       "      <td>4125.000000</td>\n",
       "      <td>66934.782609</td>\n",
       "    </tr>\n",
       "  </tbody>\n",
       "</table>\n",
       "</div>"
      ],
      "text/plain": [
       "       favorite_count  retweet_count  followers_count  friends_count  \\\n",
       "label                                                                  \n",
       "0            9.086207       2.137931      4081.862069    2106.137931   \n",
       "1            4.551724       1.362069      4752.534483    1871.431034   \n",
       "2            2.652174       0.739130      5834.478261    4125.000000   \n",
       "\n",
       "       statuses_count  \n",
       "label                  \n",
       "0        40685.172414  \n",
       "1        25573.758621  \n",
       "2        66934.782609  "
      ]
     },
     "execution_count": 12,
     "metadata": {},
     "output_type": "execute_result"
    }
   ],
   "source": [
    "df_mini.groupby('label').mean()"
   ]
  },
  {
   "cell_type": "code",
   "execution_count": 13,
   "id": "32e1e97f",
   "metadata": {
    "ExecuteTime": {
     "end_time": "2022-01-06T09:34:47.948074Z",
     "start_time": "2022-01-06T09:34:47.934304Z"
    }
   },
   "outputs": [
    {
     "name": "stdout",
     "output_type": "stream",
     "text": [
      "<class 'pandas.core.frame.DataFrame'>\n",
      "Int64Index: 139 entries, 0 to 138\n",
      "Data columns (total 7 columns):\n",
      " #   Column           Non-Null Count  Dtype \n",
      "---  ------           --------------  ----- \n",
      " 0   text             139 non-null    object\n",
      " 1   favorite_count   139 non-null    int64 \n",
      " 2   retweet_count    139 non-null    int64 \n",
      " 3   followers_count  139 non-null    int64 \n",
      " 4   friends_count    139 non-null    int64 \n",
      " 5   statuses_count   139 non-null    int64 \n",
      " 6   label            139 non-null    int64 \n",
      "dtypes: int64(6), object(1)\n",
      "memory usage: 8.7+ KB\n"
     ]
    }
   ],
   "source": [
    "df_mini.info()"
   ]
  },
  {
   "cell_type": "code",
   "execution_count": 14,
   "id": "8dd43518",
   "metadata": {
    "ExecuteTime": {
     "end_time": "2022-01-06T09:34:49.082701Z",
     "start_time": "2022-01-06T09:34:49.069549Z"
    }
   },
   "outputs": [
    {
     "data": {
      "text/html": [
       "<div>\n",
       "<style scoped>\n",
       "    .dataframe tbody tr th:only-of-type {\n",
       "        vertical-align: middle;\n",
       "    }\n",
       "\n",
       "    .dataframe tbody tr th {\n",
       "        vertical-align: top;\n",
       "    }\n",
       "\n",
       "    .dataframe thead th {\n",
       "        text-align: right;\n",
       "    }\n",
       "</style>\n",
       "<table border=\"1\" class=\"dataframe\">\n",
       "  <thead>\n",
       "    <tr style=\"text-align: right;\">\n",
       "      <th></th>\n",
       "      <th>favorite_count</th>\n",
       "      <th>retweet_count</th>\n",
       "      <th>followers_count</th>\n",
       "      <th>friends_count</th>\n",
       "      <th>statuses_count</th>\n",
       "      <th>label</th>\n",
       "    </tr>\n",
       "  </thead>\n",
       "  <tbody>\n",
       "    <tr>\n",
       "      <th>0</th>\n",
       "      <td>1</td>\n",
       "      <td>0</td>\n",
       "      <td>3573</td>\n",
       "      <td>3732</td>\n",
       "      <td>38361</td>\n",
       "      <td>2</td>\n",
       "    </tr>\n",
       "    <tr>\n",
       "      <th>1</th>\n",
       "      <td>0</td>\n",
       "      <td>0</td>\n",
       "      <td>718</td>\n",
       "      <td>1648</td>\n",
       "      <td>16113</td>\n",
       "      <td>2</td>\n",
       "    </tr>\n",
       "    <tr>\n",
       "      <th>2</th>\n",
       "      <td>0</td>\n",
       "      <td>0</td>\n",
       "      <td>387</td>\n",
       "      <td>203</td>\n",
       "      <td>1670</td>\n",
       "      <td>1</td>\n",
       "    </tr>\n",
       "    <tr>\n",
       "      <th>3</th>\n",
       "      <td>0</td>\n",
       "      <td>0</td>\n",
       "      <td>1</td>\n",
       "      <td>28</td>\n",
       "      <td>489</td>\n",
       "      <td>1</td>\n",
       "    </tr>\n",
       "    <tr>\n",
       "      <th>4</th>\n",
       "      <td>0</td>\n",
       "      <td>0</td>\n",
       "      <td>111</td>\n",
       "      <td>224</td>\n",
       "      <td>1719</td>\n",
       "      <td>1</td>\n",
       "    </tr>\n",
       "    <tr>\n",
       "      <th>...</th>\n",
       "      <td>...</td>\n",
       "      <td>...</td>\n",
       "      <td>...</td>\n",
       "      <td>...</td>\n",
       "      <td>...</td>\n",
       "      <td>...</td>\n",
       "    </tr>\n",
       "    <tr>\n",
       "      <th>134</th>\n",
       "      <td>1</td>\n",
       "      <td>0</td>\n",
       "      <td>1070</td>\n",
       "      <td>1710</td>\n",
       "      <td>24579</td>\n",
       "      <td>0</td>\n",
       "    </tr>\n",
       "    <tr>\n",
       "      <th>135</th>\n",
       "      <td>0</td>\n",
       "      <td>0</td>\n",
       "      <td>909</td>\n",
       "      <td>869</td>\n",
       "      <td>42870</td>\n",
       "      <td>0</td>\n",
       "    </tr>\n",
       "    <tr>\n",
       "      <th>136</th>\n",
       "      <td>0</td>\n",
       "      <td>0</td>\n",
       "      <td>3164</td>\n",
       "      <td>4995</td>\n",
       "      <td>9278</td>\n",
       "      <td>0</td>\n",
       "    </tr>\n",
       "    <tr>\n",
       "      <th>137</th>\n",
       "      <td>0</td>\n",
       "      <td>0</td>\n",
       "      <td>245</td>\n",
       "      <td>588</td>\n",
       "      <td>12535</td>\n",
       "      <td>0</td>\n",
       "    </tr>\n",
       "    <tr>\n",
       "      <th>138</th>\n",
       "      <td>3</td>\n",
       "      <td>2</td>\n",
       "      <td>4541</td>\n",
       "      <td>5042</td>\n",
       "      <td>27220</td>\n",
       "      <td>0</td>\n",
       "    </tr>\n",
       "  </tbody>\n",
       "</table>\n",
       "<p>139 rows × 6 columns</p>\n",
       "</div>"
      ],
      "text/plain": [
       "     favorite_count  retweet_count  followers_count  friends_count  \\\n",
       "0                 1              0             3573           3732   \n",
       "1                 0              0              718           1648   \n",
       "2                 0              0              387            203   \n",
       "3                 0              0                1             28   \n",
       "4                 0              0              111            224   \n",
       "..              ...            ...              ...            ...   \n",
       "134               1              0             1070           1710   \n",
       "135               0              0              909            869   \n",
       "136               0              0             3164           4995   \n",
       "137               0              0              245            588   \n",
       "138               3              2             4541           5042   \n",
       "\n",
       "     statuses_count  label  \n",
       "0             38361      2  \n",
       "1             16113      2  \n",
       "2              1670      1  \n",
       "3               489      1  \n",
       "4              1719      1  \n",
       "..              ...    ...  \n",
       "134           24579      0  \n",
       "135           42870      0  \n",
       "136            9278      0  \n",
       "137           12535      0  \n",
       "138           27220      0  \n",
       "\n",
       "[139 rows x 6 columns]"
      ]
     },
     "execution_count": 14,
     "metadata": {},
     "output_type": "execute_result"
    }
   ],
   "source": [
    "df_mini_num = df_mini.select_dtypes(include=\"int64\")\n",
    "df_mini_num"
   ]
  },
  {
   "cell_type": "code",
   "execution_count": 42,
   "id": "749500cf",
   "metadata": {
    "ExecuteTime": {
     "end_time": "2022-01-06T09:49:11.476054Z",
     "start_time": "2022-01-06T09:49:11.467558Z"
    }
   },
   "outputs": [
    {
     "data": {
      "text/plain": [
       "[3, 4, 5]"
      ]
     },
     "execution_count": 42,
     "metadata": {},
     "output_type": "execute_result"
    }
   ],
   "source": [
    "list(range(3,6))"
   ]
  },
  {
   "cell_type": "code",
   "execution_count": 56,
   "id": "ec9944b5",
   "metadata": {
    "ExecuteTime": {
     "end_time": "2022-01-06T09:58:39.289379Z",
     "start_time": "2022-01-06T09:58:38.812638Z"
    }
   },
   "outputs": [
    {
     "data": {
      "image/png": "[encoded data removed]",
      "text/plain": [
       "<Figure size 1152x576 with 6 Axes>"
      ]
     },
     "metadata": {
      "needs_background": "light"
     },
     "output_type": "display_data"
    }
   ],
   "source": [
    "fig, axs = plt.subplots(2, 3, figsize=(16,8))  # axs is a (1,2) nd-array\n",
    "ylims = [25,4,15000,8000,200000,2.5]\n",
    "for i in range(6):\n",
    "    if i <3:\n",
    "        name = df_mini_num.columns[i]\n",
    "        sns.boxplot(data=df_mini, x = 'label', y = name, ax = axs[0,i])\n",
    "        axs[0,i].set(ylim=(0,ylims[i]))\n",
    "    elif  i >= 3:\n",
    "        name = df_mini_num.columns[i]\n",
    "        sns.boxplot(data=df_mini, x = 'label', y = name, ax = axs[1,i-3]) \n",
    "        axs[1,i-3].set(ylim=(0,ylims[i]))"
   ]
  },
  {
   "cell_type": "code",
   "execution_count": 68,
   "id": "86dc65e7",
   "metadata": {
    "ExecuteTime": {
     "end_time": "2022-01-06T10:15:19.791483Z",
     "start_time": "2022-01-06T10:15:18.659488Z"
    }
   },
   "outputs": [
    {
     "data": {
      "image/png": "[encoded data removed]",
      "text/plain": [
       "<Figure size 1152x576 with 4 Axes>"
      ]
     },
     "metadata": {
      "needs_background": "light"
     },
     "output_type": "display_data"
    }
   ],
   "source": [
    "fig, axs = plt.subplots(2, 2, figsize=(16,8))  # axs is a (1,2) nd-array\n",
    "data = df_mini_num.drop(columns = \"retweet_count\")\n",
    "for i in range(4):\n",
    "    if i < 2:\n",
    "        name = data.columns[i]\n",
    "        sns.histplot(data=data, x=data[], hue='label', \n",
    "                     stat = \"frequency\", kde = True, ax = axs[0,i]);\n",
    "\n",
    "    elif  i >= 2:\n",
    "        name = data.columns[i]\n",
    "        sns.histplot(data=data, x='statuses_count', hue='label', \n",
    "                     stat = \"frequency\", kde = True, ax = axs[1,i-3]);"
   ]
  },
  {
   "cell_type": "code",
   "execution_count": 66,
   "id": "737db3af",
   "metadata": {
    "ExecuteTime": {
     "end_time": "2022-01-06T10:13:20.090118Z",
     "start_time": "2022-01-06T10:13:20.083885Z"
    }
   },
   "outputs": [
    {
     "data": {
      "text/plain": [
       "[0, 1, 2, 3]"
      ]
     },
     "execution_count": 66,
     "metadata": {},
     "output_type": "execute_result"
    }
   ],
   "source": [
    "list(range(4))"
   ]
  },
  {
   "cell_type": "code",
   "execution_count": 64,
   "id": "e7f5295e",
   "metadata": {
    "ExecuteTime": {
     "end_time": "2022-01-06T10:10:32.527558Z",
     "start_time": "2022-01-06T10:10:32.219632Z"
    }
   },
   "outputs": [
    {
     "data": {
      "text/html": [
       "<div>\n",
       "<style scoped>\n",
       "    .dataframe tbody tr th:only-of-type {\n",
       "        vertical-align: middle;\n",
       "    }\n",
       "\n",
       "    .dataframe tbody tr th {\n",
       "        vertical-align: top;\n",
       "    }\n",
       "\n",
       "    .dataframe thead th {\n",
       "        text-align: right;\n",
       "    }\n",
       "</style>\n",
       "<table border=\"1\" class=\"dataframe\">\n",
       "  <thead>\n",
       "    <tr style=\"text-align: right;\">\n",
       "      <th></th>\n",
       "      <th>favorite_count</th>\n",
       "      <th>followers_count</th>\n",
       "      <th>friends_count</th>\n",
       "      <th>statuses_count</th>\n",
       "      <th>label</th>\n",
       "    </tr>\n",
       "  </thead>\n",
       "  <tbody>\n",
       "    <tr>\n",
       "      <th>0</th>\n",
       "      <td>1</td>\n",
       "      <td>3573</td>\n",
       "      <td>3732</td>\n",
       "      <td>38361</td>\n",
       "      <td>2</td>\n",
       "    </tr>\n",
       "    <tr>\n",
       "      <th>1</th>\n",
       "      <td>0</td>\n",
       "      <td>718</td>\n",
       "      <td>1648</td>\n",
       "      <td>16113</td>\n",
       "      <td>2</td>\n",
       "    </tr>\n",
       "    <tr>\n",
       "      <th>2</th>\n",
       "      <td>0</td>\n",
       "      <td>387</td>\n",
       "      <td>203</td>\n",
       "      <td>1670</td>\n",
       "      <td>1</td>\n",
       "    </tr>\n",
       "    <tr>\n",
       "      <th>3</th>\n",
       "      <td>0</td>\n",
       "      <td>1</td>\n",
       "      <td>28</td>\n",
       "      <td>489</td>\n",
       "      <td>1</td>\n",
       "    </tr>\n",
       "    <tr>\n",
       "      <th>4</th>\n",
       "      <td>0</td>\n",
       "      <td>111</td>\n",
       "      <td>224</td>\n",
       "      <td>1719</td>\n",
       "      <td>1</td>\n",
       "    </tr>\n",
       "    <tr>\n",
       "      <th>...</th>\n",
       "      <td>...</td>\n",
       "      <td>...</td>\n",
       "      <td>...</td>\n",
       "      <td>...</td>\n",
       "      <td>...</td>\n",
       "    </tr>\n",
       "    <tr>\n",
       "      <th>134</th>\n",
       "      <td>1</td>\n",
       "      <td>1070</td>\n",
       "      <td>1710</td>\n",
       "      <td>24579</td>\n",
       "      <td>0</td>\n",
       "    </tr>\n",
       "    <tr>\n",
       "      <th>135</th>\n",
       "      <td>0</td>\n",
       "      <td>909</td>\n",
       "      <td>869</td>\n",
       "      <td>42870</td>\n",
       "      <td>0</td>\n",
       "    </tr>\n",
       "    <tr>\n",
       "      <th>136</th>\n",
       "      <td>0</td>\n",
       "      <td>3164</td>\n",
       "      <td>4995</td>\n",
       "      <td>9278</td>\n",
       "      <td>0</td>\n",
       "    </tr>\n",
       "    <tr>\n",
       "      <th>137</th>\n",
       "      <td>0</td>\n",
       "      <td>245</td>\n",
       "      <td>588</td>\n",
       "      <td>12535</td>\n",
       "      <td>0</td>\n",
       "    </tr>\n",
       "    <tr>\n",
       "      <th>138</th>\n",
       "      <td>3</td>\n",
       "      <td>4541</td>\n",
       "      <td>5042</td>\n",
       "      <td>27220</td>\n",
       "      <td>0</td>\n",
       "    </tr>\n",
       "  </tbody>\n",
       "</table>\n",
       "<p>139 rows × 5 columns</p>\n",
       "</div>"
      ],
      "text/plain": [
       "     favorite_count  followers_count  friends_count  statuses_count  label\n",
       "0                 1             3573           3732           38361      2\n",
       "1                 0              718           1648           16113      2\n",
       "2                 0              387            203            1670      1\n",
       "3                 0                1             28             489      1\n",
       "4                 0              111            224            1719      1\n",
       "..              ...              ...            ...             ...    ...\n",
       "134               1             1070           1710           24579      0\n",
       "135               0              909            869           42870      0\n",
       "136               0             3164           4995            9278      0\n",
       "137               0              245            588           12535      0\n",
       "138               3             4541           5042           27220      0\n",
       "\n",
       "[139 rows x 5 columns]"
      ]
     },
     "execution_count": 64,
     "metadata": {},
     "output_type": "execute_result"
    },
    {
     "data": {
      "image/png": "[encoded data removed]",
      "text/plain": [
       "<Figure size 1152x576 with 4 Axes>"
      ]
     },
     "metadata": {
      "needs_background": "light"
     },
     "output_type": "display_data"
    }
   ],
   "source": [
    "fig, axs = plt.subplots(2, 2, figsize=(16,8))  # axs is a (1,2) nd-array\n"
   ]
  },
  {
   "cell_type": "code",
   "execution_count": 67,
   "id": "3177d093",
   "metadata": {
    "ExecuteTime": {
     "end_time": "2022-01-06T10:13:44.230945Z",
     "start_time": "2022-01-06T10:13:43.697340Z"
    }
   },
   "outputs": [],
   "source": [
    "\n",
    "       "
   ]
  },
  {
   "cell_type": "markdown",
   "id": "e468080b",
   "metadata": {
    "ExecuteTime": {
     "end_time": "2022-01-04T16:51:52.347216Z",
     "start_time": "2022-01-04T16:51:52.329798Z"
    }
   },
   "source": [
    "# Litterature & github account"
   ]
  },
  {
   "cell_type": "markdown",
   "id": "98dd0cfb",
   "metadata": {
    "ExecuteTime": {
     "end_time": "2022-01-05T10:01:17.868248Z",
     "start_time": "2022-01-05T10:01:17.864586Z"
    }
   },
   "source": [
    "- label propagation:  https://towardsdatascience.com/semi-supervised-learning-how-to-assign-labels-with-label-propagation-algorithm-9f1683f4d0eb\n",
    "- Lexicon of abusive words: https://github.com/uds-lsv/lexicon-of-abusive-words     \n",
    "- Deep learning and clustering"
   ]
  },
  {
   "cell_type": "markdown",
   "id": "71f07db7",
   "metadata": {},
   "source": [
    "# Alternative modeling plans"
   ]
  },
  {
   "cell_type": "markdown",
   "id": "f4393c22",
   "metadata": {},
   "source": [
    " - Manually relabel 2%-5% of tweets in category 1 (hate speech)\n",
    " - Apply label propagation algo to label the remaining tweets\n",
    " - All tweets labeled,  proceed with classification/DL model"
   ]
  },
  {
   "cell_type": "markdown",
   "id": "117964fc",
   "metadata": {},
   "source": [
    "# Data preprocessing\n",
    "\n"
   ]
  },
  {
   "cell_type": "markdown",
   "id": "2caf752b",
   "metadata": {},
   "source": [
    "## Data cleaning"
   ]
  },
  {
   "cell_type": "code",
   "execution_count": 4,
   "id": "baad6db0",
   "metadata": {
    "ExecuteTime": {
     "end_time": "2022-01-05T16:26:42.360324Z",
     "start_time": "2022-01-05T16:26:41.484218Z"
    }
   },
   "outputs": [
    {
     "name": "stderr",
     "output_type": "stream",
     "text": [
      "[nltk_data] Downloading package stopwords to /home/mimi/nltk_data...\n",
      "[nltk_data]   Package stopwords is already up-to-date!\n",
      "[nltk_data] Downloading package punkt to /home/mimi/nltk_data...\n",
      "[nltk_data]   Package punkt is already up-to-date!\n",
      "[nltk_data] Downloading package wordnet to /home/mimi/nltk_data...\n",
      "[nltk_data]   Package wordnet is already up-to-date!\n",
      "[nltk_data] Downloading package omw-1.4 to /home/mimi/nltk_data...\n",
      "[nltk_data]   Package omw-1.4 is already up-to-date!\n"
     ]
    },
    {
     "data": {
      "text/plain": [
       "True"
      ]
     },
     "execution_count": 4,
     "metadata": {},
     "output_type": "execute_result"
    }
   ],
   "source": [
    "import nltk\n",
    "nltk.download('stopwords')\n",
    "nltk.download('punkt')\n",
    "nltk.download('wordnet')\n",
    "nltk.download('omw-1.4')"
   ]
  },
  {
   "cell_type": "code",
   "execution_count": null,
   "id": "e1743d6e",
   "metadata": {
    "ExecuteTime": {
     "end_time": "2022-01-05T13:53:26.365143Z",
     "start_time": "2022-01-05T13:53:26.357586Z"
    }
   },
   "outputs": [],
   "source": [
    "text = hate_text.iloc[59]\n",
    "\n",
    "# lowercase\n",
    "text = text.lower() \n",
    "\n",
    "# remove numbers\n",
    "text = ''.join(word for word in text if not word.isdigit())\n",
    "\n",
    "# punctuation\n",
    "#string.punctuation\n",
    "for punctuation in string.punctuation:\n",
    "    text = text.replace(punctuation, '') \n",
    "    \n",
    "# stopwords\n",
    "stop_words = set(stopwords.words('english')) \n",
    "\n",
    "word_tokens = word_tokenize(data) \n",
    "  \n",
    "text = [w for w in word_tokens if not w in stop_words] \n",
    "  \n",
    "text\n"
   ]
  },
  {
   "cell_type": "code",
   "execution_count": null,
   "id": "8e189839",
   "metadata": {
    "ExecuteTime": {
     "end_time": "2022-01-05T13:53:26.611962Z",
     "start_time": "2022-01-05T13:53:26.594983Z"
    }
   },
   "outputs": [],
   "source": [
    "# tokenizing - transform to list\n",
    "word_tokens = word_tokenize(text) \n",
    "text = [w for w in word_tokens if not w in stop_words] \n",
    "text"
   ]
  },
  {
   "cell_type": "markdown",
   "id": "60484e38",
   "metadata": {},
   "source": [
    "## Lemantizing"
   ]
  },
  {
   "cell_type": "code",
   "execution_count": null,
   "id": "3388188c",
   "metadata": {
    "ExecuteTime": {
     "end_time": "2022-01-05T13:53:28.034403Z",
     "start_time": "2022-01-05T13:53:26.997944Z"
    }
   },
   "outputs": [],
   "source": [
    "# Stemming or Lemmatizing- finding root word\n",
    "# stemmer = PorterStemmer()\n",
    "# stemmed = [stemmer.stem(word) for word in text]\n",
    "lemmatizer = WordNetLemmatizer()\n",
    "lemmatized = [lemmatizer.lemmatize(word) for word in text]\n",
    "text = lemmatized\n",
    "lemmatized\n"
   ]
  },
  {
   "cell_type": "markdown",
   "id": "5d7fa8db",
   "metadata": {},
   "source": [
    "## Vectorizing"
   ]
  },
  {
   "cell_type": "code",
   "execution_count": null,
   "id": "c436fa76",
   "metadata": {
    "ExecuteTime": {
     "end_time": "2022-01-05T13:53:28.042403Z",
     "start_time": "2022-01-05T13:53:28.035695Z"
    }
   },
   "outputs": [],
   "source": [
    "# text numerical ----> representation\n",
    "\n",
    "## Bag of words: counting ocuurences of each word (mx with word in col)\n",
    "vectorizer = CountVectorizer()\n",
    "X = vectorizer.fit_transform(text)\n",
    "X.toarray()   \n",
    "#vectorizer.get_feature_names()  \n",
    "#pd.DataFrame(X.toarray(),columns = vectorizer.get_feature_names())  "
   ]
  },
  {
   "cell_type": "code",
   "execution_count": null,
   "id": "31ada646",
   "metadata": {
    "ExecuteTime": {
     "end_time": "2022-01-05T13:53:28.050973Z",
     "start_time": "2022-01-05T13:53:28.044163Z"
    }
   },
   "outputs": [],
   "source": [
    "## Tf-Idf: Term Frequency - Inverse Document Frequency --> importance of word in document--> frequency\n",
    "# pros: - frequency robust to document length\n",
    "#       - measures importance\n",
    "# cons: doesn't capture context\n",
    "\n",
    "# texts = ['i love football',\n",
    "#          'football is a game i love',\n",
    "#         'football football football']\n",
    "\n",
    "tf_idf_vectorizer = TfidfVectorizer()\n",
    "X = tf_idf_vectorizer.fit_transform(text)\n",
    "#X.toarray()\n",
    "#pd.DataFrame(X.toarray(),columns = tf_idf_vectorizer.get_feature_names())"
   ]
  },
  {
   "cell_type": "code",
   "execution_count": null,
   "id": "810f627b",
   "metadata": {
    "ExecuteTime": {
     "end_time": "2022-01-05T13:53:28.286607Z",
     "start_time": "2022-01-05T13:53:28.281395Z"
    }
   },
   "outputs": [],
   "source": [
    "# Key paramters BOW and Td-Idf :\n",
    "# max_df = exclude \"corpus specific stopwords\", most freq words\n",
    "# min_df = exclude words that are very infrequent in the dataset\n",
    "# max_features = specify the number of features to keep when vectorizing, useful to reduce the dimension of the data"
   ]
  },
  {
   "cell_type": "code",
   "execution_count": null,
   "id": "6f0be026",
   "metadata": {
    "ExecuteTime": {
     "end_time": "2022-01-05T13:53:28.939378Z",
     "start_time": "2022-01-05T13:53:28.915342Z"
    }
   },
   "outputs": [],
   "source": [
    "### N-grams: Instead of considering individual words, \n",
    "#N-grams consists of considering word sequences. \n",
    "#This representation captures context. N is the number of words to be consiered as a one\n",
    "texts =  [\n",
    "         'i do not love football',\n",
    "         'i love football not basketball']\n",
    "tf_idf_vectorizer = TfidfVectorizer(ngram_range = (2,2))\n",
    "\n",
    "X = tf_idf_vectorizer.fit_transform(texts)\n",
    "\n",
    "X.toarray()\n",
    "\n",
    "pd.DataFrame(X.toarray(),columns = tf_idf_vectorizer.get_feature_names())"
   ]
  },
  {
   "cell_type": "markdown",
   "id": "fa7d68c4",
   "metadata": {},
   "source": [
    "# Test label propagation on minimal data"
   ]
  },
  {
   "cell_type": "code",
   "execution_count": null,
   "id": "494b625a",
   "metadata": {
    "ExecuteTime": {
     "end_time": "2022-01-05T13:53:30.425798Z",
     "start_time": "2022-01-05T13:53:29.394170Z"
    }
   },
   "outputs": [],
   "source": [
    "! pip install plotly"
   ]
  },
  {
   "cell_type": "code",
   "execution_count": null,
   "id": "cad9feb7",
   "metadata": {
    "ExecuteTime": {
     "end_time": "2022-01-05T13:53:31.423796Z",
     "start_time": "2022-01-05T13:53:30.429283Z"
    }
   },
   "outputs": [],
   "source": [
    "# Visualization\n",
    "import plotly.express as px # for data visualization\n",
    "import plotly.graph_objects as go # for data visualization\n",
    "import matplotlib.pyplot as plt # for displaying confusion matrix\n",
    "\n",
    "# Skleran\n",
    "from sklearn.metrics import classification_report # for model evaluation metrics\n",
    "from sklearn.metrics import confusion_matrix, ConfusionMatrixDisplay # for showing confusion matrix\n",
    "from sklearn.preprocessing import MinMaxScaler # for feature scaling\n",
    "from sklearn.semi_supervised import LabelPropagation # for assigning labels to unlabeled data\n"
   ]
  },
  {
   "cell_type": "markdown",
   "id": "82045e73",
   "metadata": {
    "ExecuteTime": {
     "end_time": "2022-01-05T16:27:59.463076Z",
     "start_time": "2022-01-05T16:27:59.456694Z"
    }
   },
   "source": [
    "## Data preprocessing"
   ]
  },
  {
   "cell_type": "code",
   "execution_count": null,
   "id": "94a0cf4d",
   "metadata": {},
   "outputs": [],
   "source": [
    "# lowercase\n",
    "text = text.lower() \n",
    "\n",
    "# remove numbers\n",
    "text = ''.join(word for word in text if not word.isdigit())\n",
    "\n",
    "# punctuation\n",
    "#string.punctuation\n",
    "for punctuation in string.punctuation:\n",
    "    text = text.replace(punctuation, '') \n",
    "    \n",
    "# stopwords\n",
    "stop_words = set(stopwords.words('english'))\n",
    "\n",
    "lemmatizer = WordNetLemmatizer()\n",
    "lemmatized = [lemmatizer.lemmatize(word) for word in text]\n",
    "text = lemmatized\n",
    "lemmatized\n",
    "tf_idf_vectorizer = TfidfVectorizer()\n",
    "X = tf_idf_vectorizer.fit_transform(text)\n",
    "#X.toarray()\n",
    "#pd.DataFrame(X.toarray(),columns = tf_idf_vectorizer.get_feature_names())"
   ]
  },
  {
   "cell_type": "markdown",
   "id": "48337cba",
   "metadata": {},
   "source": [
    "# External abusive words list\n"
   ]
  },
  {
   "cell_type": "code",
   "execution_count": null,
   "id": "34f289c3",
   "metadata": {},
   "outputs": [],
   "source": [
    "abusive_words_df = pd.read_csv('../raw_data/abusive_words_list.txt', delimiter = \"\\t\").iloc[:,0:2]\n",
    "abusive_words_df.columns = [\"word\", \"neg_polarity\"]\n",
    "word2 = [str(x).split(\"_\")[0] for x in abusive_words_df.word]\n",
    "word2 = pd.Series(word2)\n",
    "word2\n",
    "abusive_words_df[\"word2\"] = word2\n",
    "abusive_words_df\n",
    "\n",
    "word3 = pd.DataFrame(abusive_words_df[\"word2\"].unique())\n",
    "len(word3)\n",
    "#'../raw_data/abusive_words_list.txt'\n",
    "word3.to_csv('../project_BAN/data/abusive_words.txt',header=\"words\", index=None, sep=' ', mode='a')\n"
   ]
  },
  {
   "cell_type": "markdown",
   "id": "3e8bdee0",
   "metadata": {},
   "source": [
    "# Useful notes"
   ]
  },
  {
   "cell_type": "markdown",
   "id": "13653315",
   "metadata": {},
   "source": [
    "imoji heart in negative comment \n",
    "Because is true and powerful (thanks, ❤️), I'm unearthing so much of my past. I just remembered that time a platonic male friend came to my house with a fish bat, repeatedly brandishing it in a threatening manner, and how calm I had to remain to get him ou"
   ]
  },
  {
   "cell_type": "markdown",
   "id": "ff187a38",
   "metadata": {
    "ExecuteTime": {
     "end_time": "2022-01-05T12:49:44.825031Z",
     "start_time": "2022-01-05T12:49:44.819338Z"
    }
   },
   "source": [
    "## Some features are:\n",
    "\n",
    "- Vocabulary Richness\n",
    "- Number of words per tweet\n",
    "- punctuation/Character ratio\n",
    "- emoji/Character ratio\n",
    "- Contains abusive words\n",
    "- Contains Words in Capital letters"
   ]
  },
  {
   "cell_type": "code",
   "execution_count": null,
   "id": "de7bb4ef",
   "metadata": {
    "ExecuteTime": {
     "end_time": "2022-01-05T12:53:51.862515Z",
     "start_time": "2022-01-05T12:53:51.830705Z"
    }
   },
   "outputs": [],
   "source": [
    "def vocab_richness(text):\n",
    "    tokens = word_tokenize(text)\n",
    "    total_length = len(tokens)\n",
    "    unique_words = set(tokens)\n",
    "    unique_word_length = len(unique_words)\n",
    "    return unique_word_length/total_length\n",
    "\n",
    "vocab_richness = df_mini.text.apply(vocab_richness)\n",
    "\n",
    "vocab_richness"
   ]
  },
  {
   "cell_type": "markdown",
   "id": "780987c2",
   "metadata": {
    "ExecuteTime": {
     "end_time": "2022-01-05T12:56:41.814864Z",
     "start_time": "2022-01-05T12:56:41.805881Z"
    }
   },
   "source": [
    "## Machine learning models\n",
    "- Naive base fro classification\n",
    "- LatentDirichletAllocation for clustering"
   ]
  },
  {
   "cell_type": "markdown",
   "id": "82c87c9e",
   "metadata": {
    "ExecuteTime": {
     "end_time": "2022-01-05T13:09:34.903495Z",
     "start_time": "2022-01-05T13:09:34.898285Z"
    }
   },
   "source": [
    "## Deep learning model"
   ]
  },
  {
   "cell_type": "markdown",
   "id": "e2045366",
   "metadata": {
    "ExecuteTime": {
     "end_time": "2022-01-05T13:10:58.064962Z",
     "start_time": "2022-01-05T13:10:58.060060Z"
    }
   },
   "source": [
    "https://kitt.lewagon.com/camps/773/lectures/content/06-DL_05-Natural-Language-Processing.html\n",
    "    \n",
    "X.shape = (n_sentences, max_sentence_length, embedding_dim)"
   ]
  },
  {
   "cell_type": "markdown",
   "id": "840f420b",
   "metadata": {
    "ExecuteTime": {
     "end_time": "2022-01-05T13:16:57.493176Z",
     "start_time": "2022-01-05T13:16:57.486838Z"
    }
   },
   "source": [
    "steps:\n",
    "    - tokenize text: tf.keras.preprocessing.text.Tokenizer\n",
    "    - embedding layer (creating vector representation of each word): https://www.tensorflow.org/api_docs/python/tf/keras/layers/Embedding\n",
    "                - custome embedding : can be done but computationally intensive\n",
    "                - independent embedding woth Word2vec (Gensim) --- transfer learning\n",
    "                \n",
    "Powerful embedding that is very fast and easy to train!\n",
    "\n",
    "✅ you give it a list of sentences\n",
    "✅ it automatically learns a representation - an embedding - for each word it was trained on!"
   ]
  },
  {
   "cell_type": "markdown",
   "id": "ae7050d1",
   "metadata": {},
   "source": [
    "## Doc on twitter API"
   ]
  },
  {
   "cell_type": "markdown",
   "id": "35b6b294",
   "metadata": {
    "ExecuteTime": {
     "end_time": "2022-01-06T08:13:56.328050Z",
     "start_time": "2022-01-06T08:13:56.244307Z"
    }
   },
   "source": [
    "https://developer.twitter.com/en/docs/twitter-api/v1/data-dictionary/object-model/user"
   ]
  },
  {
   "cell_type": "markdown",
   "id": "d0f1e2c7",
   "metadata": {},
   "source": [
    "# extras"
   ]
  },
  {
   "cell_type": "code",
   "execution_count": 343,
   "id": "d9907d52",
   "metadata": {
    "ExecuteTime": {
     "end_time": "2022-01-06T13:35:25.872390Z",
     "start_time": "2022-01-06T13:35:25.855056Z"
    }
   },
   "outputs": [],
   "source": [
    "def create_filter_mask(df, text ,_filter,_filter_name = \"\"): \n",
    "    \"\"\"\n",
    "       df: dataframe\n",
    "       text: name of the column containing text, on which filter is applied\n",
    "       _filter : list, filter to be applied\n",
    "       _filter_name: optional, suffix for the new column to be created\n",
    "    \"\"\"\n",
    "    delete_row = [] # empty list to populate true/false\n",
    "    for i in range(df.shape[0]):\n",
    "        \n",
    "        # Define temporary variable \n",
    "        tmp = df[f'text'].iloc[i]\n",
    "        tmp_tokenize = re.split('\\s+', tmp) \n",
    "\n",
    "        # Define intersection/common elements with _filter\n",
    "        int = set.intersection(set(tmp_tokenize), set(filtre1))\n",
    "        delete_row.append(len(int)!=0) \n",
    "        \n",
    "        # Create a new column in df\n",
    "    df[f'delete_row_{_filter_name}'] = delete_row\n",
    "    return df\n"
   ]
  },
  {
   "cell_type": "code",
   "execution_count": 344,
   "id": "067c8232",
   "metadata": {
    "ExecuteTime": {
     "end_time": "2022-01-06T13:35:26.469429Z",
     "start_time": "2022-01-06T13:35:26.461011Z"
    }
   },
   "outputs": [],
   "source": [
    "def apply_filter(df, filterBy, remove_or_relabel = True):\n",
    "    \"\"\"\n",
    "       df: dataframe, an output of create_filter_mask(df, text ,_filter,_filter_name = \"\")\n",
    "       filterBy:  column name to use for filtering. Coumn has to be boolean\n",
    "       remove_or_relabel: if True, deletes rows where  filterBy are True and returns subset of original df\n",
    "       If False, no rows are deleted but a new label column is added. Label is set to 2 for \n",
    "       rows not passing the filter, NaN for the rest.\n",
    "       \n",
    "    \"\"\"\n",
    "    \n",
    "    \n",
    "    if remove_or_relabel == True:\n",
    "        new_df = df[df[f'{filterBy}']== False]\n",
    "        new_df.drop(columns = f'{filterBy}', inplace = True)\n",
    "\n",
    "    else :\n",
    "        new_df = df.copy()\n",
    "        new_df[\"label\"] = np.nan\n",
    "        new_df.loc[new_df[f'{filterBy}']== True, \"label\"] = 2\n",
    "        new_df.drop(columns = f'{filterBy}', inplace = True)\n",
    "    return new_df\n",
    "    \n",
    "        "
   ]
  },
  {
   "cell_type": "code",
   "execution_count": 8,
   "id": "cc39bcab",
   "metadata": {
    "ExecuteTime": {
     "end_time": "2022-01-06T19:55:50.748849Z",
     "start_time": "2022-01-06T19:55:50.523714Z"
    }
   },
   "outputs": [
    {
     "data": {
      "text/html": [
       "<div>\n",
       "<style scoped>\n",
       "    .dataframe tbody tr th:only-of-type {\n",
       "        vertical-align: middle;\n",
       "    }\n",
       "\n",
       "    .dataframe tbody tr th {\n",
       "        vertical-align: top;\n",
       "    }\n",
       "\n",
       "    .dataframe thead th {\n",
       "        text-align: right;\n",
       "    }\n",
       "</style>\n",
       "<table border=\"1\" class=\"dataframe\">\n",
       "  <thead>\n",
       "    <tr style=\"text-align: right;\">\n",
       "      <th></th>\n",
       "      <th>0</th>\n",
       "      <th>1</th>\n",
       "    </tr>\n",
       "  </thead>\n",
       "  <tbody>\n",
       "    <tr>\n",
       "      <th>0</th>\n",
       "      <td>0</td>\n",
       "      <td>1</td>\n",
       "    </tr>\n",
       "    <tr>\n",
       "      <th>1</th>\n",
       "      <td>2</td>\n",
       "      <td>3</td>\n",
       "    </tr>\n",
       "    <tr>\n",
       "      <th>2</th>\n",
       "      <td>4</td>\n",
       "      <td>5</td>\n",
       "    </tr>\n",
       "    <tr>\n",
       "      <th>3</th>\n",
       "      <td>6</td>\n",
       "      <td>7</td>\n",
       "    </tr>\n",
       "    <tr>\n",
       "      <th>4</th>\n",
       "      <td>8</td>\n",
       "      <td>9</td>\n",
       "    </tr>\n",
       "  </tbody>\n",
       "</table>\n",
       "</div>"
      ],
      "text/plain": [
       "   0  1\n",
       "0  0  1\n",
       "1  2  3\n",
       "2  4  5\n",
       "3  6  7\n",
       "4  8  9"
      ]
     },
     "execution_count": 8,
     "metadata": {},
     "output_type": "execute_result"
    }
   ],
   "source": [
    "import numpy as np\n",
    "import pandas as pd\n",
    "from sklearn.model_selection import train_test_split\n",
    "X, y = pd.DataFrame(np.arange(10).reshape((5, 2))), pd.Series(range(5))\n",
    "X"
   ]
  },
  {
   "cell_type": "code",
   "execution_count": 9,
   "id": "faa5d232",
   "metadata": {
    "ExecuteTime": {
     "end_time": "2022-01-06T19:56:04.141076Z",
     "start_time": "2022-01-06T19:56:04.133299Z"
    }
   },
   "outputs": [],
   "source": [
    "X_train, X_test, y_train, y_test = train_test_split(X, y, test_size=0.33, random_state=42)"
   ]
  },
  {
   "cell_type": "code",
   "execution_count": 10,
   "id": "a8e292d5",
   "metadata": {
    "ExecuteTime": {
     "end_time": "2022-01-06T19:56:05.286008Z",
     "start_time": "2022-01-06T19:56:05.277577Z"
    }
   },
   "outputs": [
    {
     "data": {
      "text/html": [
       "<div>\n",
       "<style scoped>\n",
       "    .dataframe tbody tr th:only-of-type {\n",
       "        vertical-align: middle;\n",
       "    }\n",
       "\n",
       "    .dataframe tbody tr th {\n",
       "        vertical-align: top;\n",
       "    }\n",
       "\n",
       "    .dataframe thead th {\n",
       "        text-align: right;\n",
       "    }\n",
       "</style>\n",
       "<table border=\"1\" class=\"dataframe\">\n",
       "  <thead>\n",
       "    <tr style=\"text-align: right;\">\n",
       "      <th></th>\n",
       "      <th>0</th>\n",
       "      <th>1</th>\n",
       "    </tr>\n",
       "  </thead>\n",
       "  <tbody>\n",
       "    <tr>\n",
       "      <th>2</th>\n",
       "      <td>4</td>\n",
       "      <td>5</td>\n",
       "    </tr>\n",
       "    <tr>\n",
       "      <th>0</th>\n",
       "      <td>0</td>\n",
       "      <td>1</td>\n",
       "    </tr>\n",
       "    <tr>\n",
       "      <th>3</th>\n",
       "      <td>6</td>\n",
       "      <td>7</td>\n",
       "    </tr>\n",
       "  </tbody>\n",
       "</table>\n",
       "</div>"
      ],
      "text/plain": [
       "   0  1\n",
       "2  4  5\n",
       "0  0  1\n",
       "3  6  7"
      ]
     },
     "execution_count": 10,
     "metadata": {},
     "output_type": "execute_result"
    }
   ],
   "source": [
    "X_train"
   ]
  },
  {
   "cell_type": "code",
   "execution_count": 11,
   "id": "84cc3304",
   "metadata": {
    "ExecuteTime": {
     "end_time": "2022-01-06T19:56:10.077581Z",
     "start_time": "2022-01-06T19:56:10.069510Z"
    }
   },
   "outputs": [
    {
     "data": {
      "text/plain": [
       "2    2\n",
       "0    0\n",
       "3    3\n",
       "dtype: int64"
      ]
     },
     "execution_count": 11,
     "metadata": {},
     "output_type": "execute_result"
    }
   ],
   "source": [
    "y_train"
   ]
  },
  {
   "cell_type": "code",
   "execution_count": null,
   "id": "d78e8607",
   "metadata": {},
   "outputs": [],
   "source": []
  }
 ],
 "metadata": {
  "kernelspec": {
   "display_name": "Python 3 (ipykernel)",
   "language": "python",
   "name": "python3"
  },
  "language_info": {
   "codemirror_mode": {
    "name": "ipython",
    "version": 3
   },
   "file_extension": ".py",
   "mimetype": "text/x-python",
   "name": "python",
   "nbconvert_exporter": "python",
   "pygments_lexer": "ipython3",
   "version": "3.8.12"
  },
  "nbTranslate": {
   "displayLangs": [
    "*"
   ],
   "hotkey": "alt-t",
   "langInMainMenu": true,
   "sourceLang": "en",
   "targetLang": "fr",
   "useGoogleTranslate": true
  },
  "toc": {
   "base_numbering": 1,
   "nav_menu": {},
   "number_sections": true,
   "sideBar": true,
   "skip_h1_title": false,
   "title_cell": "Table of Contents",
   "title_sidebar": "Contents",
   "toc_cell": false,
   "toc_position": {
    "height": "calc(100% - 180px)",
    "left": "10px",
    "top": "150px",
    "width": "393.135px"
   },
   "toc_section_display": true,
   "toc_window_display": true
  }
 },
 "nbformat": 4,
 "nbformat_minor": 5
}
