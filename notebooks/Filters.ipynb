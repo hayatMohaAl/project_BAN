{
 "cells": [
  {
   "cell_type": "code",
   "execution_count": null,
   "id": "247f88c9",
   "metadata": {},
   "outputs": [],
   "source": [
    "import pandas as pd\n",
    "import numpy  as np\n",
    "import string \n",
    "import re"
   ]
  },
  {
   "cell_type": "code",
   "execution_count": null,
   "id": "6f6e8d58",
   "metadata": {},
   "outputs": [],
   "source": [
    "def create_filter_mask(df, text ,_filter,_filter_name = \"\"): \n",
    "    \"\"\"\n",
    "       df: dataframe\n",
    "       text: name of the column containing text, on which filter is applied\n",
    "       _filter : list, filter to be applied\n",
    "       _filter_name: optional, suffix for the new column to be created\n",
    "    \"\"\"\n",
    "    delete_row = [] # empty list to populate true/false\n",
    "    for i in range(df.shape[0]):\n",
    "        \n",
    "        # Define temporary variable \n",
    "        tmp = df[f'text'].iloc[i]\n",
    "        tmp_tokenize = re.split('\\s+', tmp) \n",
    "\n",
    "        # Define intersection/common elements with _filter\n",
    "        int = set.intersection(set(tmp_tokenize), set(filtre1))\n",
    "        delete_row.append(len(int)!=0) \n",
    "        \n",
    "        # Create a new column in df\n",
    "    df[f'delete_row_{_filter_name}'] = delete_row\n",
    "    return df"
   ]
  },
  {
   "cell_type": "code",
   "execution_count": null,
   "id": "023f5270",
   "metadata": {},
   "outputs": [],
   "source": [
    "def apply_filter(df, filterBy, remove_or_relabel = True):\n",
    "    \"\"\"\n",
    "       df: dataframe, an output of create_filter_mask(df, text ,_filter,_filter_name = \"\")\n",
    "       filterBy:  column name to use for filtering. Coumn has to be boolean\n",
    "       remove_or_relabel: if True, deletes rows where  filterBy are True and returns subset of original df\n",
    "       If False, no rows are deleted but a new label column is added. Label is set to 2 for \n",
    "       rows not passing the filter, NaN for the rest.\n",
    "       \n",
    "    \"\"\"\n",
    "    \n",
    "    \n",
    "    if remove_or_relabel == True:\n",
    "        new_df = df[df[f'{filterBy}']== False]\n",
    "        new_df.drop(columns = f'{filterBy}', inplace = True)\n",
    "\n",
    "    else :\n",
    "        new_df = df.copy()\n",
    "        new_df[\"label\"] = np.nan\n",
    "        new_df.loc[new_df[f'{filterBy}']== True, \"label\"] = 2\n",
    "        new_df.drop(columns = f'{filterBy}', inplace = True)\n",
    "    return new_df\n",
    "    \n",
    "        "
   ]
  },
  {
   "cell_type": "code",
   "execution_count": null,
   "id": "32edf3ba",
   "metadata": {},
   "outputs": [],
   "source": [
    "## exemple \n",
    "\n",
    "df = pd.DataFrame([\n",
    "           \"I hate aa !!!\",\n",
    "           \"my name is Paul  :)\",\n",
    "           \"I am ok ccc\",\n",
    "           \"ggg and ccc\"], columns = [\"text\"])\n",
    "\n",
    "\n",
    "filtre1 = [\"!!!\", \":)\"]"
   ]
  },
  {
   "cell_type": "code",
   "execution_count": null,
   "id": "f392aafc",
   "metadata": {},
   "outputs": [],
   "source": [
    "df_mask = create_filter_mask(df = df, text = \"text\" ,_filter = filtre1, _filter_name = \"1\")\n",
    "df_mask"
   ]
  },
  {
   "cell_type": "code",
   "execution_count": null,
   "id": "f00f8d89",
   "metadata": {},
   "outputs": [],
   "source": [
    "df_new = apply_filter(df_mask, filterBy = \"delete_row_1\", remove_or_relabel = True)\n",
    "df_new"
   ]
  }
 ],
 "metadata": {
  "kernelspec": {
   "display_name": "Python 3 (ipykernel)",
   "language": "python",
   "name": "python3"
  },
  "language_info": {
   "codemirror_mode": {
    "name": "ipython",
    "version": 3
   },
   "file_extension": ".py",
   "mimetype": "text/x-python",
   "name": "python",
   "nbconvert_exporter": "python",
   "pygments_lexer": "ipython3",
   "version": "3.8.12"
  },
  "nbTranslate": {
   "displayLangs": [
    "*"
   ],
   "hotkey": "alt-t",
   "langInMainMenu": true,
   "sourceLang": "en",
   "targetLang": "fr",
   "useGoogleTranslate": true
  },
  "toc": {
   "base_numbering": 1,
   "nav_menu": {},
   "number_sections": true,
   "sideBar": true,
   "skip_h1_title": false,
   "title_cell": "Table of Contents",
   "title_sidebar": "Contents",
   "toc_cell": false,
   "toc_position": {},
   "toc_section_display": true,
   "toc_window_display": false
  }
 },
 "nbformat": 4,
 "nbformat_minor": 5
}
