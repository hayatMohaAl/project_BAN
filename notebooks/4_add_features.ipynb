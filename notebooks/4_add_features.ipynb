{
 "cells": [
  {
   "cell_type": "markdown",
   "id": "7976a70b",
   "metadata": {},
   "source": [
    "# Libraries"
   ]
  },
  {
   "cell_type": "code",
   "execution_count": null,
   "id": "b9ddb60e",
   "metadata": {},
   "outputs": [],
   "source": [
    "#pd.__version__\n",
    "#1.3.5\n",
    "!pip install pandas==1.3.5\n",
    "import pandas as pd\n",
    "import numpy  as np\n",
    "# import string \n",
    "# import re\n",
    "# import itertools\n",
    "# import matplotlib.pyplot as plt\n",
    "# %matplotlib inline\n",
    "# import seaborn as sns\n",
    "\n",
    "# from collections import Counter\n",
    "# from wordcloud import WordCloud\n",
    "# from nltk.corpus import stopwords\n",
    "# import nltk\n",
    "# from nltk.corpus import wordnet\n",
    "# from nltk.stem import WordNetLemmatizer\n",
    "# #from nltk.tokenize.treebank import TreebankWordDetokenizer\n",
    "                                                                                                                                                                                                                                                                                                                                                                                                                                                                                                                                                                                                                                                                                                                                                                                                                                                                                                                                                                                                                                                                                                                                                                                                                                                                                                                                                                                                                                                                                                                                                                                                                                                                                                                                            \n",
    "#from nltk.corpus import stopwords\n",
    "\n",
    "# from gensim.utils import simple_preprocess\n",
    "# from gensim.models import Word2Vec\n",
    "# import gensim.downloader as api\n",
    "\n",
    "# from sklearn.model_selection import train_test_split\n",
    "# from sklearn.metrics import confusion_matrix\n",
    "# from sklearn.metrics import accuracy_score\n",
    "\n",
    "# import spacy\n",
    "import pickle\n",
    "# import warnings\n",
    "# warnings.filterwarnings('ignore')\n",
    "\n",
    "# from tensorflow.keras.preprocessing.text import text_to_word_sequence\n",
    "#from tensorflow.keras.preprocessing.sequence import pad_sequences\n",
    "# from tensorflow.keras.preprocessing.text import Tokenizer\n",
    "\n",
    "# from tensorflow.keras import Sequential, layers\n",
    "# from tensorflow.keras.callbacks import EarlyStopping\n",
    "# from tensorflow.keras import models\n",
    "\n",
    "# from sklearn.utils import resample\n",
    "print('Done')"
   ]
  },
  {
   "cell_type": "markdown",
   "id": "eb46555d",
   "metadata": {},
   "source": [
    "# Help function"
   ]
  },
  {
   "cell_type": "code",
   "execution_count": 1,
   "id": "3aa17dfc",
   "metadata": {
    "ExecuteTime": {
     "end_time": "2022-01-13T13:50:29.673665Z",
     "start_time": "2022-01-13T13:50:29.666092Z"
    }
   },
   "outputs": [],
   "source": [
    "def append_features_to_tensor(X_text, X_feature, _max ):\n",
    "\n",
    "    tmp = np.empty(shape=(X_text.shape[0],X_text.shape[1]+2, X_text.shape[2] ))\n",
    "    tmp[:,0:X_text.shape[1],:] = X_text\n",
    "\n",
    "    first_indices = X_text.shape[0] ## # of twitts \n",
    "    tmp_punct =  np.zeros(shape = (1,X_text.shape[2]))\n",
    "    tmp_cap = np.zeros(shape = (1,X_text.shape[2]))\n",
    "\n",
    "    for i in range(first_indices):\n",
    "        if X_feature.iloc[i,0] == 1:\n",
    "            tmp_punct =  tmp_punct*(_max+0.5)\n",
    "\n",
    "        if X_feature.iloc[i,1] == 1:\n",
    "            tmp_cap = tmp_cap*(_max+1)   \n",
    "\n",
    "        tmp[i,200,:] = tmp_punct\n",
    "        tmp[i,201,:] = tmp_cap\n",
    "\n",
    "    \n",
    "    return tmp"
   ]
  },
  {
   "cell_type": "markdown",
   "id": "725017d4",
   "metadata": {},
   "source": [
    "# load pickle"
   ]
  },
  {
   "cell_type": "code",
   "execution_count": null,
   "id": "46f50d9e",
   "metadata": {},
   "outputs": [],
   "source": [
    "with open('drive/MyDrive/project_BAN/raw_data/X_train_features', 'rb') as f1:\n",
    "    X_train_features = pickle.load(f1)\n",
    "with open('drive/MyDrive/project_BAN/raw_data/X_train_pad', 'rb') as f1:\n",
    "    X_train_pad = pickle.load(f1)   \n",
    "assert(X_train_pad.shape[0]== X_train_features.shape[0])\n",
    "X_train_pad = append_features_to_tensor(X_train_pad, \\\n",
    "                                                       X_feature = X_train_features, \\\n",
    "                                                       _max = X_train_pad.max())"
   ]
  },
  {
   "cell_type": "markdown",
   "id": "37bd92cc",
   "metadata": {},
   "source": [
    "# Save pickle"
   ]
  },
  {
   "cell_type": "code",
   "execution_count": null,
   "id": "9321f9cd",
   "metadata": {},
   "outputs": [],
   "source": [
    "# X_train\n",
    "with open('drive/MyDrive/project_BAN/raw_data/X_train_pad', 'wb') as f1:\n",
    "    pickle.dump(X_train_pad, f1)"
   ]
  }
 ],
 "metadata": {
  "kernelspec": {
   "display_name": "Python 3 (ipykernel)",
   "language": "python",
   "name": "python3"
  },
  "language_info": {
   "codemirror_mode": {
    "name": "ipython",
    "version": 3
   },
   "file_extension": ".py",
   "mimetype": "text/x-python",
   "name": "python",
   "nbconvert_exporter": "python",
   "pygments_lexer": "ipython3",
   "version": "3.8.12"
  },
  "nbTranslate": {
   "displayLangs": [
    "*"
   ],
   "hotkey": "alt-t",
   "langInMainMenu": true,
   "sourceLang": "en",
   "targetLang": "fr",
   "useGoogleTranslate": true
  },
  "toc": {
   "base_numbering": 1,
   "nav_menu": {},
   "number_sections": true,
   "sideBar": true,
   "skip_h1_title": false,
   "title_cell": "Table of Contents",
   "title_sidebar": "Contents",
   "toc_cell": false,
   "toc_position": {},
   "toc_section_display": true,
   "toc_window_display": false
  }
 },
 "nbformat": 4,
 "nbformat_minor": 5
}
