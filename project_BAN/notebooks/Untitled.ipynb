{
 "cells": [
  {
   "cell_type": "code",
   "execution_count": 1,
   "id": "01e8351d",
   "metadata": {},
   "outputs": [
    {
     "name": "stdout",
     "output_type": "stream",
     "text": [
      "Requirement already satisfied: emoji in /home/vruccio/.pyenv/versions/3.8.12/envs/project_BAN/lib/python3.8/site-packages (1.6.1)\n",
      "Note: you may need to restart the kernel to use updated packages.\n"
     ]
    },
    {
     "name": "stderr",
     "output_type": "stream",
     "text": [
      "/home/vruccio/.pyenv/versions/3.8.12/envs/project_BAN/lib/python3.8/site-packages/IPython/core/pylabtools.py:151: UserWarning: Glyph 129326 (\\N{FACE WITH OPEN MOUTH VOMITING}) missing from current font.\n",
      "  fig.canvas.print_figure(bytes_io, **kw)\n",
      "/home/vruccio/.pyenv/versions/3.8.12/envs/project_BAN/lib/python3.8/site-packages/IPython/core/pylabtools.py:151: UserWarning: Glyph 129324 (\\N{SERIOUS FACE WITH SYMBOLS COVERING MOUTH}) missing from current font.\n",
      "  fig.canvas.print_figure(bytes_io, **kw)\n",
      "/home/vruccio/.pyenv/versions/3.8.12/envs/project_BAN/lib/python3.8/site-packages/IPython/core/pylabtools.py:151: UserWarning: Glyph 128169 (\\N{PILE OF POO}) missing from current font.\n",
      "  fig.canvas.print_figure(bytes_io, **kw)\n",
      "/home/vruccio/.pyenv/versions/3.8.12/envs/project_BAN/lib/python3.8/site-packages/IPython/core/pylabtools.py:151: UserWarning: Glyph 128150 (\\N{SPARKLING HEART}) missing from current font.\n",
      "  fig.canvas.print_figure(bytes_io, **kw)\n",
      "/home/vruccio/.pyenv/versions/3.8.12/envs/project_BAN/lib/python3.8/site-packages/IPython/core/pylabtools.py:151: UserWarning: Glyph 128149 (\\N{TWO HEARTS}) missing from current font.\n",
      "  fig.canvas.print_figure(bytes_io, **kw)\n",
      "/home/vruccio/.pyenv/versions/3.8.12/envs/project_BAN/lib/python3.8/site-packages/IPython/core/pylabtools.py:151: UserWarning: Glyph 128148 (\\N{BROKEN HEART}) missing from current font.\n",
      "  fig.canvas.print_figure(bytes_io, **kw)\n",
      "/home/vruccio/.pyenv/versions/3.8.12/envs/project_BAN/lib/python3.8/site-packages/IPython/core/pylabtools.py:151: UserWarning: Glyph 128153 (\\N{BLUE HEART}) missing from current font.\n",
      "  fig.canvas.print_figure(bytes_io, **kw)\n",
      "/home/vruccio/.pyenv/versions/3.8.12/envs/project_BAN/lib/python3.8/site-packages/IPython/core/pylabtools.py:151: UserWarning: Glyph 128156 (\\N{PURPLE HEART}) missing from current font.\n",
      "  fig.canvas.print_figure(bytes_io, **kw)\n",
      "/home/vruccio/.pyenv/versions/3.8.12/envs/project_BAN/lib/python3.8/site-packages/IPython/core/pylabtools.py:151: UserWarning: Glyph 128175 (\\N{HUNDRED POINTS SYMBOL}) missing from current font.\n",
      "  fig.canvas.print_figure(bytes_io, **kw)\n",
      "/home/vruccio/.pyenv/versions/3.8.12/envs/project_BAN/lib/python3.8/site-packages/IPython/core/pylabtools.py:151: UserWarning: Glyph 128073 (\\N{WHITE RIGHT POINTING BACKHAND INDEX}) missing from current font.\n",
      "  fig.canvas.print_figure(bytes_io, **kw)\n",
      "/home/vruccio/.pyenv/versions/3.8.12/envs/project_BAN/lib/python3.8/site-packages/IPython/core/pylabtools.py:151: UserWarning: Glyph 128405 (\\N{REVERSED HAND WITH MIDDLE FINGER EXTENDED}) missing from current font.\n",
      "  fig.canvas.print_figure(bytes_io, **kw)\n",
      "/home/vruccio/.pyenv/versions/3.8.12/envs/project_BAN/lib/python3.8/site-packages/IPython/core/pylabtools.py:151: UserWarning: Glyph 128077 (\\N{THUMBS UP SIGN}) missing from current font.\n",
      "  fig.canvas.print_figure(bytes_io, **kw)\n",
      "/home/vruccio/.pyenv/versions/3.8.12/envs/project_BAN/lib/python3.8/site-packages/IPython/core/pylabtools.py:151: UserWarning: Glyph 128078 (\\N{THUMBS DOWN SIGN}) missing from current font.\n",
      "  fig.canvas.print_figure(bytes_io, **kw)\n",
      "/home/vruccio/.pyenv/versions/3.8.12/envs/project_BAN/lib/python3.8/site-packages/IPython/core/pylabtools.py:151: UserWarning: Glyph 9994 (\\N{RAISED FIST}) missing from current font.\n",
      "  fig.canvas.print_figure(bytes_io, **kw)\n",
      "/home/vruccio/.pyenv/versions/3.8.12/envs/project_BAN/lib/python3.8/site-packages/IPython/core/pylabtools.py:151: UserWarning: Glyph 128079 (\\N{CLAPPING HANDS SIGN}) missing from current font.\n",
      "  fig.canvas.print_figure(bytes_io, **kw)\n",
      "/home/vruccio/.pyenv/versions/3.8.12/envs/project_BAN/lib/python3.8/site-packages/IPython/core/pylabtools.py:151: UserWarning: Glyph 127996 (\\N{EMOJI MODIFIER FITZPATRICK TYPE-3}) missing from current font.\n",
      "  fig.canvas.print_figure(bytes_io, **kw)\n",
      "/home/vruccio/.pyenv/versions/3.8.12/envs/project_BAN/lib/python3.8/site-packages/IPython/core/pylabtools.py:151: UserWarning: Glyph 128588 (\\N{PERSON RAISING BOTH HANDS IN CELEBRATION}) missing from current font.\n",
      "  fig.canvas.print_figure(bytes_io, **kw)\n",
      "/home/vruccio/.pyenv/versions/3.8.12/envs/project_BAN/lib/python3.8/site-packages/IPython/core/pylabtools.py:151: UserWarning: Glyph 128170 (\\N{FLEXED BICEPS}) missing from current font.\n",
      "  fig.canvas.print_figure(bytes_io, **kw)\n",
      "/home/vruccio/.pyenv/versions/3.8.12/envs/project_BAN/lib/python3.8/site-packages/IPython/core/pylabtools.py:151: UserWarning: Glyph 127752 (\\N{RAINBOW}) missing from current font.\n",
      "  fig.canvas.print_figure(bytes_io, **kw)\n",
      "/home/vruccio/.pyenv/versions/3.8.12/envs/project_BAN/lib/python3.8/site-packages/IPython/core/pylabtools.py:151: UserWarning: Glyph 128293 (\\N{FIRE}) missing from current font.\n",
      "  fig.canvas.print_figure(bytes_io, **kw)\n"
     ]
    },
    {
     "data": {
      "image/png": "[encoded data removed]",
      "text/plain": [
       "<Figure size 432x288 with 1 Axes>"
      ]
     },
     "metadata": {
      "needs_background": "light"
     },
     "output_type": "display_data"
    },
    {
     "name": "stdout",
     "output_type": "stream",
     "text": [
      "Requirement already satisfied: emoji in /home/vruccio/.pyenv/versions/3.8.12/envs/project_BAN/lib/python3.8/site-packages (1.6.1)\n",
      "Note: you may need to restart the kernel to use updated packages.\n"
     ]
    },
    {
     "name": "stderr",
     "output_type": "stream",
     "text": [
      "/home/vruccio/.pyenv/versions/3.8.12/envs/project_BAN/lib/python3.8/site-packages/seaborn/_decorators.py:36: FutureWarning: Pass the following variables as keyword args: x, y. From version 0.12, the only valid positional argument will be `data`, and passing other arguments without an explicit keyword will result in an error or misinterpretation.\n",
      "  warnings.warn(\n",
      "/home/vruccio/.pyenv/versions/3.8.12/envs/project_BAN/lib/python3.8/site-packages/IPython/core/pylabtools.py:151: UserWarning: Glyph 129326 (\\N{FACE WITH OPEN MOUTH VOMITING}) missing from current font.\n",
      "  fig.canvas.print_figure(bytes_io, **kw)\n",
      "/home/vruccio/.pyenv/versions/3.8.12/envs/project_BAN/lib/python3.8/site-packages/IPython/core/pylabtools.py:151: UserWarning: Glyph 129324 (\\N{SERIOUS FACE WITH SYMBOLS COVERING MOUTH}) missing from current font.\n",
      "  fig.canvas.print_figure(bytes_io, **kw)\n",
      "/home/vruccio/.pyenv/versions/3.8.12/envs/project_BAN/lib/python3.8/site-packages/IPython/core/pylabtools.py:151: UserWarning: Glyph 128169 (\\N{PILE OF POO}) missing from current font.\n",
      "  fig.canvas.print_figure(bytes_io, **kw)\n",
      "/home/vruccio/.pyenv/versions/3.8.12/envs/project_BAN/lib/python3.8/site-packages/IPython/core/pylabtools.py:151: UserWarning: Glyph 128150 (\\N{SPARKLING HEART}) missing from current font.\n",
      "  fig.canvas.print_figure(bytes_io, **kw)\n",
      "/home/vruccio/.pyenv/versions/3.8.12/envs/project_BAN/lib/python3.8/site-packages/IPython/core/pylabtools.py:151: UserWarning: Glyph 128149 (\\N{TWO HEARTS}) missing from current font.\n",
      "  fig.canvas.print_figure(bytes_io, **kw)\n",
      "/home/vruccio/.pyenv/versions/3.8.12/envs/project_BAN/lib/python3.8/site-packages/IPython/core/pylabtools.py:151: UserWarning: Glyph 128148 (\\N{BROKEN HEART}) missing from current font.\n",
      "  fig.canvas.print_figure(bytes_io, **kw)\n",
      "/home/vruccio/.pyenv/versions/3.8.12/envs/project_BAN/lib/python3.8/site-packages/IPython/core/pylabtools.py:151: UserWarning: Glyph 128153 (\\N{BLUE HEART}) missing from current font.\n",
      "  fig.canvas.print_figure(bytes_io, **kw)\n",
      "/home/vruccio/.pyenv/versions/3.8.12/envs/project_BAN/lib/python3.8/site-packages/IPython/core/pylabtools.py:151: UserWarning: Glyph 128156 (\\N{PURPLE HEART}) missing from current font.\n",
      "  fig.canvas.print_figure(bytes_io, **kw)\n",
      "/home/vruccio/.pyenv/versions/3.8.12/envs/project_BAN/lib/python3.8/site-packages/IPython/core/pylabtools.py:151: UserWarning: Glyph 128175 (\\N{HUNDRED POINTS SYMBOL}) missing from current font.\n",
      "  fig.canvas.print_figure(bytes_io, **kw)\n",
      "/home/vruccio/.pyenv/versions/3.8.12/envs/project_BAN/lib/python3.8/site-packages/IPython/core/pylabtools.py:151: UserWarning: Glyph 128073 (\\N{WHITE RIGHT POINTING BACKHAND INDEX}) missing from current font.\n",
      "  fig.canvas.print_figure(bytes_io, **kw)\n",
      "/home/vruccio/.pyenv/versions/3.8.12/envs/project_BAN/lib/python3.8/site-packages/IPython/core/pylabtools.py:151: UserWarning: Glyph 128405 (\\N{REVERSED HAND WITH MIDDLE FINGER EXTENDED}) missing from current font.\n",
      "  fig.canvas.print_figure(bytes_io, **kw)\n",
      "/home/vruccio/.pyenv/versions/3.8.12/envs/project_BAN/lib/python3.8/site-packages/IPython/core/pylabtools.py:151: UserWarning: Glyph 128077 (\\N{THUMBS UP SIGN}) missing from current font.\n",
      "  fig.canvas.print_figure(bytes_io, **kw)\n",
      "/home/vruccio/.pyenv/versions/3.8.12/envs/project_BAN/lib/python3.8/site-packages/IPython/core/pylabtools.py:151: UserWarning: Glyph 128078 (\\N{THUMBS DOWN SIGN}) missing from current font.\n",
      "  fig.canvas.print_figure(bytes_io, **kw)\n",
      "/home/vruccio/.pyenv/versions/3.8.12/envs/project_BAN/lib/python3.8/site-packages/IPython/core/pylabtools.py:151: UserWarning: Glyph 9994 (\\N{RAISED FIST}) missing from current font.\n",
      "  fig.canvas.print_figure(bytes_io, **kw)\n",
      "/home/vruccio/.pyenv/versions/3.8.12/envs/project_BAN/lib/python3.8/site-packages/IPython/core/pylabtools.py:151: UserWarning: Glyph 128079 (\\N{CLAPPING HANDS SIGN}) missing from current font.\n",
      "  fig.canvas.print_figure(bytes_io, **kw)\n",
      "/home/vruccio/.pyenv/versions/3.8.12/envs/project_BAN/lib/python3.8/site-packages/IPython/core/pylabtools.py:151: UserWarning: Glyph 127996 (\\N{EMOJI MODIFIER FITZPATRICK TYPE-3}) missing from current font.\n",
      "  fig.canvas.print_figure(bytes_io, **kw)\n",
      "/home/vruccio/.pyenv/versions/3.8.12/envs/project_BAN/lib/python3.8/site-packages/IPython/core/pylabtools.py:151: UserWarning: Glyph 128588 (\\N{PERSON RAISING BOTH HANDS IN CELEBRATION}) missing from current font.\n",
      "  fig.canvas.print_figure(bytes_io, **kw)\n",
      "/home/vruccio/.pyenv/versions/3.8.12/envs/project_BAN/lib/python3.8/site-packages/IPython/core/pylabtools.py:151: UserWarning: Glyph 128170 (\\N{FLEXED BICEPS}) missing from current font.\n",
      "  fig.canvas.print_figure(bytes_io, **kw)\n",
      "/home/vruccio/.pyenv/versions/3.8.12/envs/project_BAN/lib/python3.8/site-packages/IPython/core/pylabtools.py:151: UserWarning: Glyph 127752 (\\N{RAINBOW}) missing from current font.\n",
      "  fig.canvas.print_figure(bytes_io, **kw)\n",
      "/home/vruccio/.pyenv/versions/3.8.12/envs/project_BAN/lib/python3.8/site-packages/IPython/core/pylabtools.py:151: UserWarning: Glyph 128293 (\\N{FIRE}) missing from current font.\n",
      "  fig.canvas.print_figure(bytes_io, **kw)\n"
     ]
    },
    {
     "data": {
      "image/png": "[encoded data removed]",
      "text/plain": [
       "<Figure size 432x288 with 1 Axes>"
      ]
     },
     "metadata": {
      "needs_background": "light"
     },
     "output_type": "display_data"
    }
   ],
   "source": [
    "%run explo_emoji_cat_1.ipynb"
   ]
  }
 ],
 "metadata": {
  "kernelspec": {
   "display_name": "Python 3 (ipykernel)",
   "language": "python",
   "name": "python3"
  },
  "language_info": {
   "codemirror_mode": {
    "name": "ipython",
    "version": 3
   },
   "file_extension": ".py",
   "mimetype": "text/x-python",
   "name": "python",
   "nbconvert_exporter": "python",
   "pygments_lexer": "ipython3",
   "version": "3.8.12"
  },
  "toc": {
   "base_numbering": 1,
   "nav_menu": {},
   "number_sections": true,
   "sideBar": true,
   "skip_h1_title": false,
   "title_cell": "Table of Contents",
   "title_sidebar": "Contents",
   "toc_cell": false,
   "toc_position": {},
   "toc_section_display": true,
   "toc_window_display": false
  }
 },
 "nbformat": 4,
 "nbformat_minor": 5
}
