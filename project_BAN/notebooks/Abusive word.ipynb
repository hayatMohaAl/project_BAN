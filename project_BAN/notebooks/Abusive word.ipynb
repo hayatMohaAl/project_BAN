{
 "cells": [
  {
   "cell_type": "code",
   "execution_count": 8,
   "id": "c87111cc",
   "metadata": {},
   "outputs": [
    {
     "data": {
      "text/plain": [
       "95334"
      ]
     },
     "execution_count": 8,
     "metadata": {},
     "output_type": "execute_result"
    }
   ],
   "source": [
    "data = pd.read_csv(\"MeTooHate.csv\")\n",
    "df = data.copy()\n",
    "df_cat_1 = []\n",
    "df_cat_1 = df.loc[df['category'] == 1]\n",
    "len(df_cat_1)"
   ]
  },
  {
   "cell_type": "code",
   "execution_count": 7,
   "id": "8a28e194",
   "metadata": {
    "scrolled": true
   },
   "outputs": [
    {
     "data": {
      "text/plain": [
       "14102"
      ]
     },
     "execution_count": 7,
     "metadata": {},
     "output_type": "execute_result"
    }
   ],
   "source": [
    "import pandas as pd\n",
    "list_abusive_words = pd.read_csv('list_abusive_words.txt', sep=\" \", header=None)\n",
    "list_abusive_words = list_abusive_words[0].tolist()\n",
    "len(list_abusive_words)"
   ]
  },
  {
   "cell_type": "code",
   "execution_count": 9,
   "id": "c194eae9",
   "metadata": {},
   "outputs": [],
   "source": [
    "def abusive_word_check(tweet):\n",
    "    score = 0\n",
    "    for abusive_word in list_abusive_words:\n",
    "        for word  in tweet.lower().split():\n",
    "            if word == abusive_word:\n",
    "                score += 5\n",
    "    return score"
   ]
  },
  {
   "cell_type": "code",
   "execution_count": 16,
   "id": "3df8b079",
   "metadata": {},
   "outputs": [
    {
     "data": {
      "text/plain": [
       "[0,\n",
       " 20,\n",
       " 10,\n",
       " 0,\n",
       " 10,\n",
       " 10,\n",
       " 10,\n",
       " 10,\n",
       " 50,\n",
       " 20,\n",
       " 35,\n",
       " 20,\n",
       " 40,\n",
       " 40,\n",
       " 20,\n",
       " 40,\n",
       " 0,\n",
       " 60,\n",
       " 0,\n",
       " 15,\n",
       " 0,\n",
       " 40,\n",
       " 20,\n",
       " 30,\n",
       " 0,\n",
       " 25,\n",
       " 20,\n",
       " 30,\n",
       " 10,\n",
       " 10,\n",
       " 10,\n",
       " 10,\n",
       " 10,\n",
       " 10,\n",
       " 10,\n",
       " 10,\n",
       " 0,\n",
       " 0,\n",
       " 10,\n",
       " 0,\n",
       " 10,\n",
       " 0,\n",
       " 10,\n",
       " 0,\n",
       " 0,\n",
       " 20,\n",
       " 0,\n",
       " 35,\n",
       " 20,\n",
       " 10,\n",
       " 30,\n",
       " 0,\n",
       " 40,\n",
       " 0,\n",
       " 10,\n",
       " 10,\n",
       " 15,\n",
       " 10,\n",
       " 10,\n",
       " 0,\n",
       " 20,\n",
       " 20,\n",
       " 10,\n",
       " 0,\n",
       " 20,\n",
       " 20,\n",
       " 20,\n",
       " 0,\n",
       " 30,\n",
       " 20,\n",
       " 20,\n",
       " 30,\n",
       " 10,\n",
       " 45,\n",
       " 30,\n",
       " 20,\n",
       " 50,\n",
       " 20,\n",
       " 0,\n",
       " 0,\n",
       " 40,\n",
       " 30,\n",
       " 15,\n",
       " 0,\n",
       " 0,\n",
       " 60,\n",
       " 0,\n",
       " 10,\n",
       " 0,\n",
       " 0,\n",
       " 10,\n",
       " 20,\n",
       " 0,\n",
       " 20,\n",
       " 20,\n",
       " 20,\n",
       " 20,\n",
       " 0,\n",
       " 50,\n",
       " 10]"
      ]
     },
     "execution_count": 16,
     "metadata": {},
     "output_type": "execute_result"
    }
   ],
   "source": [
    "list_score_abusive_word = []\n",
    "\n",
    "for tweet in df_cat_1.text.head(100):\n",
    "    list_score_abusive_word.append(abusive_word_check(tweet))\n",
    "    \n",
    "list_score_abusive_word\n"
   ]
  }
 ],
 "metadata": {
  "kernelspec": {
   "display_name": "Python 3 (ipykernel)",
   "language": "python",
   "name": "python3"
  },
  "language_info": {
   "codemirror_mode": {
    "name": "ipython",
    "version": 3
   },
   "file_extension": ".py",
   "mimetype": "text/x-python",
   "name": "python",
   "nbconvert_exporter": "python",
   "pygments_lexer": "ipython3",
   "version": "3.8.12"
  },
  "toc": {
   "base_numbering": 1,
   "nav_menu": {},
   "number_sections": true,
   "sideBar": true,
   "skip_h1_title": false,
   "title_cell": "Table of Contents",
   "title_sidebar": "Contents",
   "toc_cell": false,
   "toc_position": {},
   "toc_section_display": true,
   "toc_window_display": false
  }
 },
 "nbformat": 4,
 "nbformat_minor": 5
}
