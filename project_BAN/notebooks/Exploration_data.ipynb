{
 "cells": [
  {
   "cell_type": "markdown",
   "id": "48c467c0",
   "metadata": {},
   "source": [
    "# PROJET BAN IS THE NEW NO"
   ]
  },
  {
   "cell_type": "markdown",
   "id": "eeb2b494",
   "metadata": {},
   "source": [
    "data disponible sur kaggle : \n",
    "https://www.kaggle.com/rahulgoel1106/hatred-on-twitter-during-metoo-movement"
   ]
  },
  {
   "cell_type": "code",
   "execution_count": 1,
   "id": "ac6a4ac4",
   "metadata": {},
   "outputs": [],
   "source": [
    "import pandas as pd\n",
    "import numpy as np\n",
    "import matplotlib.pyplot as plt"
   ]
  },
  {
   "cell_type": "code",
   "execution_count": 2,
   "id": "e59035d5",
   "metadata": {
    "scrolled": true
   },
   "outputs": [
    {
     "name": "stdout",
     "output_type": "stream",
     "text": [
      "Requirement already satisfied: emoji in /home/vruccio/.pyenv/versions/3.8.12/envs/project_BAN/lib/python3.8/site-packages (1.6.1)\n",
      "Note: you may need to restart the kernel to use updated packages.\n"
     ]
    }
   ],
   "source": [
    "pip install emoji --upgrade"
   ]
  },
  {
   "cell_type": "code",
   "execution_count": 3,
   "id": "542913c4",
   "metadata": {},
   "outputs": [],
   "source": [
    "data = pd.read_csv(\"MeTooHate.csv\")\n",
    "df = data.copy()"
   ]
  },
  {
   "cell_type": "code",
   "execution_count": 4,
   "id": "94b84f88",
   "metadata": {},
   "outputs": [
    {
     "name": "stdout",
     "output_type": "stream",
     "text": [
      "(807174, 10)\n"
     ]
    }
   ],
   "source": [
    "print(data.shape)"
   ]
  },
  {
   "cell_type": "code",
   "execution_count": 5,
   "id": "9977b3a2",
   "metadata": {
    "scrolled": true
   },
   "outputs": [
    {
     "data": {
      "text/html": [
       "<div>\n",
       "<style scoped>\n",
       "    .dataframe tbody tr th:only-of-type {\n",
       "        vertical-align: middle;\n",
       "    }\n",
       "\n",
       "    .dataframe tbody tr th {\n",
       "        vertical-align: top;\n",
       "    }\n",
       "\n",
       "    .dataframe thead th {\n",
       "        text-align: right;\n",
       "    }\n",
       "</style>\n",
       "<table border=\"1\" class=\"dataframe\">\n",
       "  <thead>\n",
       "    <tr style=\"text-align: right;\">\n",
       "      <th></th>\n",
       "      <th>status_id</th>\n",
       "      <th>text</th>\n",
       "      <th>created_at</th>\n",
       "      <th>favorite_count</th>\n",
       "      <th>retweet_count</th>\n",
       "      <th>location</th>\n",
       "      <th>followers_count</th>\n",
       "      <th>friends_count</th>\n",
       "      <th>statuses_count</th>\n",
       "      <th>category</th>\n",
       "    </tr>\n",
       "  </thead>\n",
       "  <tbody>\n",
       "    <tr>\n",
       "      <th>0</th>\n",
       "      <td>1046207313588236290</td>\n",
       "      <td>Entitled, obnoxious, defensive, lying weasel. ...</td>\n",
       "      <td>2018-09-30T01:17:15Z</td>\n",
       "      <td>5</td>\n",
       "      <td>1</td>\n",
       "      <td>McAllen, TX</td>\n",
       "      <td>2253</td>\n",
       "      <td>2303</td>\n",
       "      <td>23856</td>\n",
       "      <td>0</td>\n",
       "    </tr>\n",
       "    <tr>\n",
       "      <th>1</th>\n",
       "      <td>1046207328113086464</td>\n",
       "      <td>Thank you  and  for what you did for the women...</td>\n",
       "      <td>2018-09-30T01:17:19Z</td>\n",
       "      <td>5</td>\n",
       "      <td>2</td>\n",
       "      <td>Tampa, FL</td>\n",
       "      <td>2559</td>\n",
       "      <td>4989</td>\n",
       "      <td>19889</td>\n",
       "      <td>0</td>\n",
       "    </tr>\n",
       "    <tr>\n",
       "      <th>2</th>\n",
       "      <td>1046207329589493760</td>\n",
       "      <td>Knitting (s) &amp;amp; getting ready for January 1...</td>\n",
       "      <td>2018-09-30T01:17:19Z</td>\n",
       "      <td>0</td>\n",
       "      <td>0</td>\n",
       "      <td>St Cloud, MN</td>\n",
       "      <td>16</td>\n",
       "      <td>300</td>\n",
       "      <td>9</td>\n",
       "      <td>0</td>\n",
       "    </tr>\n",
       "    <tr>\n",
       "      <th>3</th>\n",
       "      <td>1046207341283168256</td>\n",
       "      <td>Yep just like triffeling women weaponized thei...</td>\n",
       "      <td>2018-09-30T01:17:22Z</td>\n",
       "      <td>1</td>\n",
       "      <td>0</td>\n",
       "      <td>flyover country</td>\n",
       "      <td>3573</td>\n",
       "      <td>3732</td>\n",
       "      <td>38361</td>\n",
       "      <td>1</td>\n",
       "    </tr>\n",
       "    <tr>\n",
       "      <th>4</th>\n",
       "      <td>1046207347016826880</td>\n",
       "      <td>No, the President wants to end  movement posin...</td>\n",
       "      <td>2018-09-30T01:17:23Z</td>\n",
       "      <td>0</td>\n",
       "      <td>0</td>\n",
       "      <td>World</td>\n",
       "      <td>294</td>\n",
       "      <td>312</td>\n",
       "      <td>7635</td>\n",
       "      <td>0</td>\n",
       "    </tr>\n",
       "  </tbody>\n",
       "</table>\n",
       "</div>"
      ],
      "text/plain": [
       "             status_id                                               text  \\\n",
       "0  1046207313588236290  Entitled, obnoxious, defensive, lying weasel. ...   \n",
       "1  1046207328113086464  Thank you  and  for what you did for the women...   \n",
       "2  1046207329589493760  Knitting (s) &amp; getting ready for January 1...   \n",
       "3  1046207341283168256  Yep just like triffeling women weaponized thei...   \n",
       "4  1046207347016826880  No, the President wants to end  movement posin...   \n",
       "\n",
       "             created_at  favorite_count  retweet_count         location  \\\n",
       "0  2018-09-30T01:17:15Z               5              1      McAllen, TX   \n",
       "1  2018-09-30T01:17:19Z               5              2        Tampa, FL   \n",
       "2  2018-09-30T01:17:19Z               0              0     St Cloud, MN   \n",
       "3  2018-09-30T01:17:22Z               1              0  flyover country   \n",
       "4  2018-09-30T01:17:23Z               0              0            World   \n",
       "\n",
       "   followers_count  friends_count  statuses_count  category  \n",
       "0             2253           2303           23856         0  \n",
       "1             2559           4989           19889         0  \n",
       "2               16            300               9         0  \n",
       "3             3573           3732           38361         1  \n",
       "4              294            312            7635         0  "
      ]
     },
     "execution_count": 5,
     "metadata": {},
     "output_type": "execute_result"
    }
   ],
   "source": [
    "df.head()"
   ]
  },
  {
   "cell_type": "markdown",
   "id": "950a3510",
   "metadata": {},
   "source": [
    "# Data preparation"
   ]
  },
  {
   "cell_type": "code",
   "execution_count": 6,
   "id": "d7232ff4",
   "metadata": {},
   "outputs": [
    {
     "name": "stdout",
     "output_type": "stream",
     "text": [
      "(807174, 10)\n"
     ]
    }
   ],
   "source": [
    "print(df.shape)"
   ]
  },
  {
   "cell_type": "code",
   "execution_count": 7,
   "id": "530e4c6b",
   "metadata": {},
   "outputs": [
    {
     "data": {
      "text/plain": [
       "0         False\n",
       "1         False\n",
       "2         False\n",
       "3         False\n",
       "4         False\n",
       "          ...  \n",
       "807169    False\n",
       "807170    False\n",
       "807171    False\n",
       "807172    False\n",
       "807173    False\n",
       "Length: 807174, dtype: bool"
      ]
     },
     "execution_count": 7,
     "metadata": {},
     "output_type": "execute_result"
    }
   ],
   "source": [
    "#duplicated data\n",
    "df.duplicated()"
   ]
  },
  {
   "cell_type": "code",
   "execution_count": 8,
   "id": "cd7614ca",
   "metadata": {
    "scrolled": true
   },
   "outputs": [
    {
     "data": {
      "text/plain": [
       "location           23.634062\n",
       "text                0.438072\n",
       "status_id           0.000000\n",
       "created_at          0.000000\n",
       "favorite_count      0.000000\n",
       "retweet_count       0.000000\n",
       "followers_count     0.000000\n",
       "friends_count       0.000000\n",
       "statuses_count      0.000000\n",
       "category            0.000000\n",
       "dtype: float64"
      ]
     },
     "execution_count": 8,
     "metadata": {},
     "output_type": "execute_result"
    }
   ],
   "source": [
    "#missing data\n",
    "df.isnull().sum().sort_values(ascending=False)/len(data)*100"
   ]
  },
  {
   "cell_type": "code",
   "execution_count": 9,
   "id": "e63937c9",
   "metadata": {},
   "outputs": [
    {
     "name": "stdout",
     "output_type": "stream",
     "text": [
      "3536\n",
      "190768\n"
     ]
    }
   ],
   "source": [
    "print(df['text'].isna().sum())\n",
    "print(df['location'].isna().sum())"
   ]
  },
  {
   "cell_type": "markdown",
   "id": "54258baf",
   "metadata": {},
   "source": [
    "# Investigate classification"
   ]
  },
  {
   "cell_type": "code",
   "execution_count": 10,
   "id": "8730d298",
   "metadata": {},
   "outputs": [
    {
     "data": {
      "text/plain": [
       "(95334, 10)"
      ]
     },
     "execution_count": 10,
     "metadata": {},
     "output_type": "execute_result"
    }
   ],
   "source": [
    "tp_df = []\n",
    "tp_df = df.loc[df['category'] == 1]\n",
    "tp_df.shape"
   ]
  },
  {
   "cell_type": "code",
   "execution_count": 11,
   "id": "21bd5a60",
   "metadata": {
    "scrolled": false
   },
   "outputs": [
    {
     "data": {
      "text/html": [
       "<div>\n",
       "<style scoped>\n",
       "    .dataframe tbody tr th:only-of-type {\n",
       "        vertical-align: middle;\n",
       "    }\n",
       "\n",
       "    .dataframe tbody tr th {\n",
       "        vertical-align: top;\n",
       "    }\n",
       "\n",
       "    .dataframe thead th {\n",
       "        text-align: right;\n",
       "    }\n",
       "</style>\n",
       "<table border=\"1\" class=\"dataframe\">\n",
       "  <thead>\n",
       "    <tr style=\"text-align: right;\">\n",
       "      <th></th>\n",
       "      <th>status_id</th>\n",
       "      <th>text</th>\n",
       "      <th>created_at</th>\n",
       "      <th>favorite_count</th>\n",
       "      <th>retweet_count</th>\n",
       "      <th>location</th>\n",
       "      <th>followers_count</th>\n",
       "      <th>friends_count</th>\n",
       "      <th>statuses_count</th>\n",
       "      <th>category</th>\n",
       "    </tr>\n",
       "  </thead>\n",
       "  <tbody>\n",
       "    <tr>\n",
       "      <th>3</th>\n",
       "      <td>1046207341283168256</td>\n",
       "      <td>Yep just like triffeling women weaponized thei...</td>\n",
       "      <td>2018-09-30T01:17:22Z</td>\n",
       "      <td>1</td>\n",
       "      <td>0</td>\n",
       "      <td>flyover country</td>\n",
       "      <td>3573</td>\n",
       "      <td>3732</td>\n",
       "      <td>38361</td>\n",
       "      <td>1</td>\n",
       "    </tr>\n",
       "    <tr>\n",
       "      <th>7</th>\n",
       "      <td>1046207412246478848</td>\n",
       "      <td>Save it for Fox Fake News—watched by racists, ...</td>\n",
       "      <td>2018-09-30T01:17:39Z</td>\n",
       "      <td>0</td>\n",
       "      <td>0</td>\n",
       "      <td>NaN</td>\n",
       "      <td>718</td>\n",
       "      <td>1648</td>\n",
       "      <td>16113</td>\n",
       "      <td>1</td>\n",
       "    </tr>\n",
       "    <tr>\n",
       "      <th>49</th>\n",
       "      <td>1046208365624344577</td>\n",
       "      <td>As a white male in this  era I'm just scared t...</td>\n",
       "      <td>2018-09-30T01:21:26Z</td>\n",
       "      <td>0</td>\n",
       "      <td>0</td>\n",
       "      <td>Santa Monica, CA</td>\n",
       "      <td>387</td>\n",
       "      <td>203</td>\n",
       "      <td>1670</td>\n",
       "      <td>1</td>\n",
       "    </tr>\n",
       "    <tr>\n",
       "      <th>57</th>\n",
       "      <td>1046208497723949056</td>\n",
       "      <td>I heard that  received some Shush/Slush mone...</td>\n",
       "      <td>2018-09-30T01:21:58Z</td>\n",
       "      <td>0</td>\n",
       "      <td>0</td>\n",
       "      <td>NaN</td>\n",
       "      <td>1</td>\n",
       "      <td>28</td>\n",
       "      <td>489</td>\n",
       "      <td>1</td>\n",
       "    </tr>\n",
       "    <tr>\n",
       "      <th>60</th>\n",
       "      <td>1046208589277343744</td>\n",
       "      <td>If she hasn't, it's because of people like ...</td>\n",
       "      <td>2018-09-30T01:22:19Z</td>\n",
       "      <td>0</td>\n",
       "      <td>0</td>\n",
       "      <td>Georgia, USA</td>\n",
       "      <td>111</td>\n",
       "      <td>224</td>\n",
       "      <td>1719</td>\n",
       "      <td>1</td>\n",
       "    </tr>\n",
       "    <tr>\n",
       "      <th>...</th>\n",
       "      <td>...</td>\n",
       "      <td>...</td>\n",
       "      <td>...</td>\n",
       "      <td>...</td>\n",
       "      <td>...</td>\n",
       "      <td>...</td>\n",
       "      <td>...</td>\n",
       "      <td>...</td>\n",
       "      <td>...</td>\n",
       "      <td>...</td>\n",
       "    </tr>\n",
       "    <tr>\n",
       "      <th>712</th>\n",
       "      <td>1046227020164694016</td>\n",
       "      <td>Im so tired of the shit show  and the  have tu...</td>\n",
       "      <td>2018-09-30T02:35:34Z</td>\n",
       "      <td>0</td>\n",
       "      <td>0</td>\n",
       "      <td>United States</td>\n",
       "      <td>390</td>\n",
       "      <td>448</td>\n",
       "      <td>14060</td>\n",
       "      <td>1</td>\n",
       "    </tr>\n",
       "    <tr>\n",
       "      <th>715</th>\n",
       "      <td>1046227052762984448</td>\n",
       "      <td>We are all trying to break the  movement. So s...</td>\n",
       "      <td>2018-09-30T02:35:41Z</td>\n",
       "      <td>0</td>\n",
       "      <td>0</td>\n",
       "      <td>Spring, TX</td>\n",
       "      <td>303</td>\n",
       "      <td>197</td>\n",
       "      <td>15698</td>\n",
       "      <td>1</td>\n",
       "    </tr>\n",
       "    <tr>\n",
       "      <th>718</th>\n",
       "      <td>1046227132697972736</td>\n",
       "      <td>Album:</td>\n",
       "      <td>2018-09-30T02:36:01Z</td>\n",
       "      <td>0</td>\n",
       "      <td>0</td>\n",
       "      <td>New Jersey, USA</td>\n",
       "      <td>42496</td>\n",
       "      <td>2122</td>\n",
       "      <td>68909</td>\n",
       "      <td>1</td>\n",
       "    </tr>\n",
       "    <tr>\n",
       "      <th>724</th>\n",
       "      <td>1046227255741964290</td>\n",
       "      <td>How would evangelicals and FOX react if instea...</td>\n",
       "      <td>2018-09-30T02:36:30Z</td>\n",
       "      <td>1</td>\n",
       "      <td>1</td>\n",
       "      <td>NaN</td>\n",
       "      <td>2142</td>\n",
       "      <td>3950</td>\n",
       "      <td>20538</td>\n",
       "      <td>1</td>\n",
       "    </tr>\n",
       "    <tr>\n",
       "      <th>729</th>\n",
       "      <td>1046227486449664000</td>\n",
       "      <td>Wait wut?\\n\\n &amp;amp;  want to damn author/profe...</td>\n",
       "      <td>2018-09-30T02:37:25Z</td>\n",
       "      <td>1</td>\n",
       "      <td>1</td>\n",
       "      <td>Paradise Valley, AZ</td>\n",
       "      <td>23</td>\n",
       "      <td>102</td>\n",
       "      <td>617</td>\n",
       "      <td>1</td>\n",
       "    </tr>\n",
       "  </tbody>\n",
       "</table>\n",
       "<p>100 rows × 10 columns</p>\n",
       "</div>"
      ],
      "text/plain": [
       "               status_id                                               text  \\\n",
       "3    1046207341283168256  Yep just like triffeling women weaponized thei...   \n",
       "7    1046207412246478848  Save it for Fox Fake News—watched by racists, ...   \n",
       "49   1046208365624344577  As a white male in this  era I'm just scared t...   \n",
       "57   1046208497723949056    I heard that  received some Shush/Slush mone...   \n",
       "60   1046208589277343744     If she hasn't, it's because of people like ...   \n",
       "..                   ...                                                ...   \n",
       "712  1046227020164694016  Im so tired of the shit show  and the  have tu...   \n",
       "715  1046227052762984448  We are all trying to break the  movement. So s...   \n",
       "718  1046227132697972736                                             Album:   \n",
       "724  1046227255741964290  How would evangelicals and FOX react if instea...   \n",
       "729  1046227486449664000  Wait wut?\\n\\n &amp;  want to damn author/profe...   \n",
       "\n",
       "               created_at  favorite_count  retweet_count             location  \\\n",
       "3    2018-09-30T01:17:22Z               1              0      flyover country   \n",
       "7    2018-09-30T01:17:39Z               0              0                  NaN   \n",
       "49   2018-09-30T01:21:26Z               0              0     Santa Monica, CA   \n",
       "57   2018-09-30T01:21:58Z               0              0                  NaN   \n",
       "60   2018-09-30T01:22:19Z               0              0         Georgia, USA   \n",
       "..                    ...             ...            ...                  ...   \n",
       "712  2018-09-30T02:35:34Z               0              0        United States   \n",
       "715  2018-09-30T02:35:41Z               0              0           Spring, TX   \n",
       "718  2018-09-30T02:36:01Z               0              0      New Jersey, USA   \n",
       "724  2018-09-30T02:36:30Z               1              1                  NaN   \n",
       "729  2018-09-30T02:37:25Z               1              1  Paradise Valley, AZ   \n",
       "\n",
       "     followers_count  friends_count  statuses_count  category  \n",
       "3               3573           3732           38361         1  \n",
       "7                718           1648           16113         1  \n",
       "49               387            203            1670         1  \n",
       "57                 1             28             489         1  \n",
       "60               111            224            1719         1  \n",
       "..               ...            ...             ...       ...  \n",
       "712              390            448           14060         1  \n",
       "715              303            197           15698         1  \n",
       "718            42496           2122           68909         1  \n",
       "724             2142           3950           20538         1  \n",
       "729               23            102             617         1  \n",
       "\n",
       "[100 rows x 10 columns]"
      ]
     },
     "execution_count": 11,
     "metadata": {},
     "output_type": "execute_result"
    }
   ],
   "source": [
    "tp_df.head(100)"
   ]
  },
  {
   "cell_type": "code",
   "execution_count": 12,
   "id": "53e693cb",
   "metadata": {},
   "outputs": [
    {
     "data": {
      "text/html": [
       "<div>\n",
       "<style scoped>\n",
       "    .dataframe tbody tr th:only-of-type {\n",
       "        vertical-align: middle;\n",
       "    }\n",
       "\n",
       "    .dataframe tbody tr th {\n",
       "        vertical-align: top;\n",
       "    }\n",
       "\n",
       "    .dataframe thead th {\n",
       "        text-align: right;\n",
       "    }\n",
       "</style>\n",
       "<table border=\"1\" class=\"dataframe\">\n",
       "  <thead>\n",
       "    <tr style=\"text-align: right;\">\n",
       "      <th></th>\n",
       "      <th>text</th>\n",
       "    </tr>\n",
       "  </thead>\n",
       "  <tbody>\n",
       "    <tr>\n",
       "      <th>3</th>\n",
       "      <td>Yep just like triffeling women weaponized their poon!! Wonder if Kamala Harris ever extorted Willy Brown after throwing the poon on him, oh yeh, that how she got her first job me too is a JOKE!</td>\n",
       "    </tr>\n",
       "  </tbody>\n",
       "</table>\n",
       "</div>"
      ],
      "text/plain": [
       "                                                                                                                                                                                                 text\n",
       "3  Yep just like triffeling women weaponized their poon!! Wonder if Kamala Harris ever extorted Willy Brown after throwing the poon on him, oh yeh, that how she got her first job me too is a JOKE! "
      ]
     },
     "execution_count": 12,
     "metadata": {},
     "output_type": "execute_result"
    }
   ],
   "source": [
    "pd.set_option('max_colwidth', None)\n",
    "tp_df.iloc[[0],[1]]"
   ]
  },
  {
   "cell_type": "code",
   "execution_count": 13,
   "id": "dd48faf9",
   "metadata": {},
   "outputs": [
    {
     "data": {
      "text/html": [
       "<div>\n",
       "<style scoped>\n",
       "    .dataframe tbody tr th:only-of-type {\n",
       "        vertical-align: middle;\n",
       "    }\n",
       "\n",
       "    .dataframe tbody tr th {\n",
       "        vertical-align: top;\n",
       "    }\n",
       "\n",
       "    .dataframe thead th {\n",
       "        text-align: right;\n",
       "    }\n",
       "</style>\n",
       "<table border=\"1\" class=\"dataframe\">\n",
       "  <thead>\n",
       "    <tr style=\"text-align: right;\">\n",
       "      <th></th>\n",
       "      <th>text</th>\n",
       "    </tr>\n",
       "  </thead>\n",
       "  <tbody>\n",
       "    <tr>\n",
       "      <th>7</th>\n",
       "      <td>Save it for Fox Fake News—watched by racists, bigots &amp;amp; other women-hating sexists like yourself. GOP is the party of Putin &amp;amp; the party of Hate—besides women, GOP hates all POC, immigrants, and all ppl not straight. You’re the party of the entitled lying whiny white men.</td>\n",
       "    </tr>\n",
       "  </tbody>\n",
       "</table>\n",
       "</div>"
      ],
      "text/plain": [
       "                                                                                                                                                                                                                                                                                     text\n",
       "7  Save it for Fox Fake News—watched by racists, bigots &amp; other women-hating sexists like yourself. GOP is the party of Putin &amp; the party of Hate—besides women, GOP hates all POC, immigrants, and all ppl not straight. You’re the party of the entitled lying whiny white men."
      ]
     },
     "execution_count": 13,
     "metadata": {},
     "output_type": "execute_result"
    }
   ],
   "source": [
    "tp_df.iloc[[1],[1]]"
   ]
  },
  {
   "cell_type": "code",
   "execution_count": 14,
   "id": "e6c7e728",
   "metadata": {
    "scrolled": true
   },
   "outputs": [
    {
     "data": {
      "text/html": [
       "<div>\n",
       "<style scoped>\n",
       "    .dataframe tbody tr th:only-of-type {\n",
       "        vertical-align: middle;\n",
       "    }\n",
       "\n",
       "    .dataframe tbody tr th {\n",
       "        vertical-align: top;\n",
       "    }\n",
       "\n",
       "    .dataframe thead th {\n",
       "        text-align: right;\n",
       "    }\n",
       "</style>\n",
       "<table border=\"1\" class=\"dataframe\">\n",
       "  <thead>\n",
       "    <tr style=\"text-align: right;\">\n",
       "      <th></th>\n",
       "      <th>text</th>\n",
       "    </tr>\n",
       "  </thead>\n",
       "  <tbody>\n",
       "    <tr>\n",
       "      <th>49</th>\n",
       "      <td>As a white male in this  era I'm just scared that if I decide to rape or sexually assault a woman, it can be used against me years later. How am I supposed to ask a girl out?!</td>\n",
       "    </tr>\n",
       "  </tbody>\n",
       "</table>\n",
       "</div>"
      ],
      "text/plain": [
       "                                                                                                                                                                               text\n",
       "49  As a white male in this  era I'm just scared that if I decide to rape or sexually assault a woman, it can be used against me years later. How am I supposed to ask a girl out?!"
      ]
     },
     "execution_count": 14,
     "metadata": {},
     "output_type": "execute_result"
    }
   ],
   "source": [
    "tp_df.iloc[[2],[1]]"
   ]
  },
  {
   "cell_type": "code",
   "execution_count": 15,
   "id": "4e8e7f52",
   "metadata": {
    "scrolled": true
   },
   "outputs": [
    {
     "data": {
      "text/html": [
       "<div>\n",
       "<style scoped>\n",
       "    .dataframe tbody tr th:only-of-type {\n",
       "        vertical-align: middle;\n",
       "    }\n",
       "\n",
       "    .dataframe tbody tr th {\n",
       "        vertical-align: top;\n",
       "    }\n",
       "\n",
       "    .dataframe thead th {\n",
       "        text-align: right;\n",
       "    }\n",
       "</style>\n",
       "<table border=\"1\" class=\"dataframe\">\n",
       "  <thead>\n",
       "    <tr style=\"text-align: right;\">\n",
       "      <th></th>\n",
       "      <th>text</th>\n",
       "    </tr>\n",
       "  </thead>\n",
       "  <tbody>\n",
       "    <tr>\n",
       "      <th>57</th>\n",
       "      <td>I heard that  received some Shush/Slush money to settle rape charges by her aide who said she just could not remember where or when. . .</td>\n",
       "    </tr>\n",
       "  </tbody>\n",
       "</table>\n",
       "</div>"
      ],
      "text/plain": [
       "                                                                                                                                          text\n",
       "57    I heard that  received some Shush/Slush money to settle rape charges by her aide who said she just could not remember where or when. . ."
      ]
     },
     "execution_count": 15,
     "metadata": {},
     "output_type": "execute_result"
    }
   ],
   "source": [
    "tp_df.iloc[[3],[1]]"
   ]
  },
  {
   "cell_type": "code",
   "execution_count": 16,
   "id": "e5eb86a2",
   "metadata": {
    "scrolled": true
   },
   "outputs": [
    {
     "data": {
      "text/html": [
       "<div>\n",
       "<style scoped>\n",
       "    .dataframe tbody tr th:only-of-type {\n",
       "        vertical-align: middle;\n",
       "    }\n",
       "\n",
       "    .dataframe tbody tr th {\n",
       "        vertical-align: top;\n",
       "    }\n",
       "\n",
       "    .dataframe thead th {\n",
       "        text-align: right;\n",
       "    }\n",
       "</style>\n",
       "<table border=\"1\" class=\"dataframe\">\n",
       "  <thead>\n",
       "    <tr style=\"text-align: right;\">\n",
       "      <th></th>\n",
       "      <th>text</th>\n",
       "    </tr>\n",
       "  </thead>\n",
       "  <tbody>\n",
       "    <tr>\n",
       "      <th>60</th>\n",
       "      <td>If she hasn't, it's because of people like you shaming her! How dare you tell her how she is or should be feeling! That is why I HATE  the  movement. Along with all of the other movements! You rape these people to further a political objective! You are despicable!</td>\n",
       "    </tr>\n",
       "  </tbody>\n",
       "</table>\n",
       "</div>"
      ],
      "text/plain": [
       "                                                                                                                                                                                                                                                                           text\n",
       "60     If she hasn't, it's because of people like you shaming her! How dare you tell her how she is or should be feeling! That is why I HATE  the  movement. Along with all of the other movements! You rape these people to further a political objective! You are despicable!"
      ]
     },
     "execution_count": 16,
     "metadata": {},
     "output_type": "execute_result"
    }
   ],
   "source": [
    "tp_df.iloc[[4],[1]]"
   ]
  },
  {
   "cell_type": "code",
   "execution_count": 17,
   "id": "1657346d",
   "metadata": {
    "scrolled": true
   },
   "outputs": [
    {
     "data": {
      "text/html": [
       "<div>\n",
       "<style scoped>\n",
       "    .dataframe tbody tr th:only-of-type {\n",
       "        vertical-align: middle;\n",
       "    }\n",
       "\n",
       "    .dataframe tbody tr th {\n",
       "        vertical-align: top;\n",
       "    }\n",
       "\n",
       "    .dataframe thead th {\n",
       "        text-align: right;\n",
       "    }\n",
       "</style>\n",
       "<table border=\"1\" class=\"dataframe\">\n",
       "  <thead>\n",
       "    <tr style=\"text-align: right;\">\n",
       "      <th></th>\n",
       "      <th>text</th>\n",
       "    </tr>\n",
       "  </thead>\n",
       "  <tbody>\n",
       "    <tr>\n",
       "      <th>63</th>\n",
       "      <td>Oh poor girl. You should have stayed disney star all your life. Because now you are being eaten by the industry. And in few years when your popularity falls, you will come with some  bs like other forgoten women in hollywood.</td>\n",
       "    </tr>\n",
       "  </tbody>\n",
       "</table>\n",
       "</div>"
      ],
      "text/plain": [
       "                                                                                                                                                                                                                                  text\n",
       "63   Oh poor girl. You should have stayed disney star all your life. Because now you are being eaten by the industry. And in few years when your popularity falls, you will come with some  bs like other forgoten women in hollywood."
      ]
     },
     "execution_count": 17,
     "metadata": {},
     "output_type": "execute_result"
    }
   ],
   "source": [
    "tp_df.iloc[[5],[1]]"
   ]
  },
  {
   "cell_type": "code",
   "execution_count": 18,
   "id": "d89d1504",
   "metadata": {
    "scrolled": true
   },
   "outputs": [
    {
     "data": {
      "text/html": [
       "<div>\n",
       "<style scoped>\n",
       "    .dataframe tbody tr th:only-of-type {\n",
       "        vertical-align: middle;\n",
       "    }\n",
       "\n",
       "    .dataframe tbody tr th {\n",
       "        vertical-align: top;\n",
       "    }\n",
       "\n",
       "    .dataframe thead th {\n",
       "        text-align: right;\n",
       "    }\n",
       "</style>\n",
       "<table border=\"1\" class=\"dataframe\">\n",
       "  <thead>\n",
       "    <tr style=\"text-align: right;\">\n",
       "      <th></th>\n",
       "      <th>text</th>\n",
       "    </tr>\n",
       "  </thead>\n",
       "  <tbody>\n",
       "    <tr>\n",
       "      <th>64</th>\n",
       "      <td>When  was just gaining momentum, a female friend of mine who was pregnant with her daughter said “what’s the big deal?  I’ve been raped”.  My response was “ You know I disagree with you 💯 “. How do you respond?  I was shocked!</td>\n",
       "    </tr>\n",
       "  </tbody>\n",
       "</table>\n",
       "</div>"
      ],
      "text/plain": [
       "                                                                                                                                                                                                                                  text\n",
       "64  When  was just gaining momentum, a female friend of mine who was pregnant with her daughter said “what’s the big deal?  I’ve been raped”.  My response was “ You know I disagree with you 💯 “. How do you respond?  I was shocked!"
      ]
     },
     "execution_count": 18,
     "metadata": {},
     "output_type": "execute_result"
    }
   ],
   "source": [
    "tp_df.iloc[[6],[1]]"
   ]
  },
  {
   "cell_type": "code",
   "execution_count": 19,
   "id": "52297cc3",
   "metadata": {},
   "outputs": [],
   "source": [
    "# df catégorie 1 - cleaning\n",
    "new_df = tp_df[['text']].dropna()"
   ]
  },
  {
   "cell_type": "markdown",
   "id": "72067e1d",
   "metadata": {},
   "source": [
    "# EXPLORATION DE FILTRES"
   ]
  },
  {
   "cell_type": "raw",
   "id": "e3ac5a27",
   "metadata": {},
   "source": [
    "Trouver des filtres à appliquer sur la catégorie 1.  \n",
    "*specific Emojis \n",
    "*\"!!!\" répétés - voir aussi \"????\" et \"..........\" et aussi '?!?!?!\" \n",
    "*Majuscules sur plusieurs mots\n",
    "\n",
    "Autre piste : \n",
    "*Insultes\n",
    "*des expressions définies comme \"Rot in HELL\"\n",
    "*tailles des texts + longs sont constructifs ? vs haineux + court ?\n",
    "\n",
    "==> cumuler l'ensemble peut permettre d'identifier les texts vraiments haineux et non que négatifs\n",
    "rappel : \"GRRRRRR\" c'est utilisé en anglais ? "
   ]
  },
  {
   "cell_type": "markdown",
   "id": "93bca984",
   "metadata": {},
   "source": [
    "## EMOJIS"
   ]
  },
  {
   "cell_type": "code",
   "execution_count": 20,
   "id": "0c2bc64e",
   "metadata": {},
   "outputs": [
    {
     "data": {
      "text/plain": [
       "623                                                                                                                                                                                                                   FUCK YEAH!!! TY !!! WE LOVE U!!! 💙😙🤗💙😙🤗💙😙🤗     \n",
       "887                                                                                                      A FUCK'N SHAM &amp; UNACCEPTABLE 🤬\\n\\nTHIS SHOULD BE REJECTED AUTOMATICALLY BY THE COMPLETE DEMOCRATIC CAUCUS!\\nPERIOD.\\nFULL STOP!!\\n\\n\\n\\n\\n\\n\\n\\n\\n\\n\\n\\n\n",
       "1103                                                                                                                                              If you’re worried about anything like this when sexual assault’s are brought to light. Stay the FUCK away from me. \n",
       "1255                                                                                                                            AMERICANS     (Still Part=   Moles)?  A YOUNG MAN, Who Raped     Nightly entertainment  young Girls?   them?  NO FUCKING WAY=    Yeal\n",
       "1923                                                                                                                                                                                                                               I AM IN A MOOD DONT FUCK WITH ME  \n",
       "                                                                                                                                     ...                                                                                                                             \n",
       "793744                                        AND JESUS FUCKING CHRIST. FILTHY SCUMBAG MEN FINALLY BEING HELD ACCOUNTABLE (to some extent) FOR THEIR DISGUSTING PREDATORY BEHAVIOUR IS. A. GOOD. THING. Idc HOW many companies use  in ad campaigns to make a profit.\n",
       "795137                                                                                                     Hollywood’s answer to a question NO ONE FUCKING ASKED!\\n\\n“Should we reboot a classic comedy, yet make it edgy by tailoring it for today’s  movement?”\\n\\n\n",
       "795810    dont believe in music/acting/directing/governing “geniuses” or “gurus” or “masters” most will b shown 4 what they r: manipulators of power &amp; glorified abusers that our systems hav allowed 2 put down any1 who didnt bow 2 their sexual demands   FUCK\n",
       "797752                                                                                                                                                                                FUCK THESE ASSHOLES TOO \\n\\nRETWEET, BRING FURTHER AWARENESS, SIGNAL BOOST \\n\\n\n",
       "800187              we are seeing you on Sunday -  steer clear of the shrieking  ‘s -  I seriously wonder who the FUCK  pissed off.  Throwing an underground pop artist under the bus like this? I mean Jesus Lizard can go untouched but RYAN ADAMS gets popped off?\n",
       "Name: text, Length: 598, dtype: object"
      ]
     },
     "execution_count": 20,
     "metadata": {},
     "output_type": "execute_result"
    }
   ],
   "source": [
    "#Checker le contenu des texts pr sélectionner les émojis les + impactants - voir methodo dans explo_emoji_cat_1\n",
    "\n",
    "rslt_emo_1 = tp_df.loc[(tp_df['text'].str.count('FUCK')>= 1)]\n",
    "rslt_emo_1['text']"
   ]
  },
  {
   "cell_type": "markdown",
   "id": "d2ca9364",
   "metadata": {},
   "source": [
    "# Ticket"
   ]
  },
  {
   "cell_type": "code",
   "execution_count": 21,
   "id": "88ff37fa",
   "metadata": {
    "scrolled": false
   },
   "outputs": [
    {
     "ename": "NameError",
     "evalue": "name 'emoji_df' is not defined",
     "output_type": "error",
     "traceback": [
      "\u001b[0;31m---------------------------------------------------------------------------\u001b[0m",
      "\u001b[0;31mNameError\u001b[0m                                 Traceback (most recent call last)",
      "\u001b[0;32m/tmp/ipykernel_2327/2051707914.py\u001b[0m in \u001b[0;36m<module>\u001b[0;34m\u001b[0m\n\u001b[0;32m----> 1\u001b[0;31m \u001b[0memoji_df\u001b[0m\u001b[0;34m.\u001b[0m\u001b[0mhead\u001b[0m\u001b[0;34m(\u001b[0m\u001b[0;34m)\u001b[0m\u001b[0;34m\u001b[0m\u001b[0;34m\u001b[0m\u001b[0m\n\u001b[0m",
      "\u001b[0;31mNameError\u001b[0m: name 'emoji_df' is not defined"
     ]
    }
   ],
   "source": [
    "emoji_df.head()"
   ]
  },
  {
   "cell_type": "code",
   "execution_count": null,
   "id": "0ef2fff0",
   "metadata": {
    "scrolled": false
   },
   "outputs": [],
   "source": [
    "tp_df.head(1)"
   ]
  },
  {
   "cell_type": "code",
   "execution_count": null,
   "id": "fdf473a5",
   "metadata": {
    "scrolled": true
   },
   "outputs": [],
   "source": [
    "col_summury_emoji = []\n",
    "col_summury_emoji_plot = [] #pr faire le plot\n",
    "\n",
    "for index, tweet in enumerate(new_df.text):\n",
    "    summury_emoji = []\n",
    "    summury_emoji_plot = [] #pr faire le plot\n",
    "    \n",
    "    for emoji in list(emoji_df.emoji):\n",
    "        summury_emoji_plot.append(tweet.count(emoji)) #quoi qu'il arrive ajout du count mm à zero\n",
    "    \n",
    "        if tweet.count(emoji) > 0 :\n",
    "            tuple_emoji = (emoji, tweet.count(emoji))\n",
    "            summury_emoji.append(tuple_emoji)\n",
    "            \n",
    "    col_summury_emoji.append(summury_emoji)\n",
    "    col_summury_emoji_plot.append(summury_emoji_plot)"
   ]
  },
  {
   "cell_type": "code",
   "execution_count": null,
   "id": "720af397",
   "metadata": {
    "scrolled": true
   },
   "outputs": [],
   "source": [
    "new_df['emoji_check'] = col_summury_emoji\n",
    "new_df['emoji_check_plot'] = col_summury_emoji_plot\n",
    "\n",
    "new_df"
   ]
  },
  {
   "cell_type": "code",
   "execution_count": null,
   "id": "0d4e65a0",
   "metadata": {},
   "outputs": [],
   "source": [
    "new_df['emoji_check']"
   ]
  },
  {
   "cell_type": "code",
   "execution_count": null,
   "id": "909eef7d",
   "metadata": {},
   "outputs": [],
   "source": [
    "sum_emoji = new_df['emoji_check_plot'].sum(axis=0)\n",
    "sum_emoji"
   ]
  },
  {
   "cell_type": "code",
   "execution_count": null,
   "id": "57320e96",
   "metadata": {},
   "outputs": [],
   "source": [
    "from matplotlib import pyplot as plt\n",
    "emoji_list = list(emoji_df.emoji)\n",
    "plt.bar(feature_list, sum_emoji)\n",
    "plt.show()"
   ]
  },
  {
   "cell_type": "code",
   "execution_count": null,
   "id": "78903f8c",
   "metadata": {},
   "outputs": [],
   "source": [
    "list_test = [('💚', 1), ('🌱', 1), ('🗺️', 1), ('🗺', 1)]"
   ]
  },
  {
   "cell_type": "code",
   "execution_count": null,
   "id": "2ead4372",
   "metadata": {
    "scrolled": false
   },
   "outputs": [],
   "source": [
    "[i[0] for i in list_test]"
   ]
  },
  {
   "cell_type": "code",
   "execution_count": null,
   "id": "358539b3",
   "metadata": {},
   "outputs": [],
   "source": [
    "list(emoji_df.emoji)"
   ]
  },
  {
   "cell_type": "code",
   "execution_count": null,
   "id": "1f9a7b69",
   "metadata": {},
   "outputs": [],
   "source": [
    "emoji_test_1 = tp_df.loc[(tp_df['text'].str.count('😡😡') >= 1)]\n",
    "emoji_test_1.text.count()"
   ]
  },
  {
   "cell_type": "code",
   "execution_count": null,
   "id": "f06b9a73",
   "metadata": {
    "scrolled": true
   },
   "outputs": [],
   "source": [
    "#emoji_test_1.text pr verifier le contenu si besoin"
   ]
  },
  {
   "cell_type": "code",
   "execution_count": null,
   "id": "1078fba6",
   "metadata": {},
   "outputs": [],
   "source": [
    "emoji_test_2 = tp_df.loc[(tp_df['text'].str.count('🤬') >= 1)]\n",
    "emoji_test_2.text.count()"
   ]
  },
  {
   "cell_type": "code",
   "execution_count": null,
   "id": "0fdb863e",
   "metadata": {
    "scrolled": false
   },
   "outputs": [],
   "source": [
    "#emoji_test_2.text pr vérifier le contenu si besoin"
   ]
  },
  {
   "cell_type": "code",
   "execution_count": null,
   "id": "dff80c0d",
   "metadata": {},
   "outputs": [],
   "source": [
    "emoji_test_3 = tp_df.loc[(tp_df['text'].str.count('🖕') >= 1)]\n",
    "emoji_test_3.text.count()"
   ]
  },
  {
   "cell_type": "code",
   "execution_count": null,
   "id": "bc89d6db",
   "metadata": {},
   "outputs": [],
   "source": [
    "#emoji_test_3.text pour vérifier le contenu si besoin"
   ]
  },
  {
   "cell_type": "code",
   "execution_count": null,
   "id": "f46e2451",
   "metadata": {},
   "outputs": [],
   "source": [
    "emoji_test_3 = tp_df.loc[(tp_df['text'].str.count('😡') >= 1)]\n",
    "emoji_test_3.text.count()"
   ]
  },
  {
   "cell_type": "markdown",
   "id": "2a2571b7",
   "metadata": {},
   "source": [
    "## PONCTUATION"
   ]
  },
  {
   "cell_type": "code",
   "execution_count": 22,
   "id": "dcd669a3",
   "metadata": {
    "scrolled": false
   },
   "outputs": [
    {
     "data": {
      "text/plain": [
       "0.0      78612\n",
       "1.0       8959\n",
       "2.0       3628\n",
       "3.0       1816\n",
       "4.0        901\n",
       "5.0        485\n",
       "6.0        290\n",
       "7.0        130\n",
       "8.0         85\n",
       "9.0         57\n",
       "10.0        38\n",
       "11.0        37\n",
       "12.0        17\n",
       "13.0        13\n",
       "16.0         6\n",
       "14.0         6\n",
       "17.0         4\n",
       "23.0         3\n",
       "15.0         3\n",
       "18.0         3\n",
       "22.0         3\n",
       "24.0         2\n",
       "34.0         1\n",
       "52.0         1\n",
       "115.0        1\n",
       "61.0         1\n",
       "Name: text, dtype: int64"
      ]
     },
     "execution_count": 22,
     "metadata": {},
     "output_type": "execute_result"
    }
   ],
   "source": [
    "tp_df['text'].str.count('!').value_counts()"
   ]
  },
  {
   "cell_type": "code",
   "execution_count": 23,
   "id": "35a86c3d",
   "metadata": {
    "scrolled": true
   },
   "outputs": [
    {
     "data": {
      "text/plain": [
       "status_id          34\n",
       "text               34\n",
       "created_at         34\n",
       "favorite_count     34\n",
       "retweet_count      34\n",
       "location           25\n",
       "followers_count    34\n",
       "friends_count      34\n",
       "statuses_count     34\n",
       "category           34\n",
       "dtype: int64"
      ]
     },
     "execution_count": 23,
     "metadata": {},
     "output_type": "execute_result"
    }
   ],
   "source": [
    "#présence !! = supérieur à 13 fois dans un text. \n",
    "rslt_df = tp_df.loc[(tp_df['text'].str.count('!') > 13)]\n",
    "rslt_df.count()\n",
    "# ça traduit de l'agressivité sans forcément etre systématiquement irrespectueux"
   ]
  },
  {
   "cell_type": "code",
   "execution_count": null,
   "id": "a413fb2b",
   "metadata": {},
   "outputs": [],
   "source": [
    "rslt_df"
   ]
  },
  {
   "cell_type": "code",
   "execution_count": null,
   "id": "3a8ae42d",
   "metadata": {
    "scrolled": true
   },
   "outputs": [],
   "source": [
    "rslt_df_10 = tp_df.loc[(tp_df['text'].str.count('!!') == 5)]\n",
    "rslt_df_10.count()"
   ]
  },
  {
   "cell_type": "code",
   "execution_count": null,
   "id": "1c7767d7",
   "metadata": {},
   "outputs": [],
   "source": [
    "rslt_df_10"
   ]
  },
  {
   "cell_type": "code",
   "execution_count": null,
   "id": "c47e24de",
   "metadata": {},
   "outputs": [],
   "source": [
    "# Exemple à discuter ensemble : \n",
    "# More power to you, girl!!!!!!! Always with you!!!! 👌💪👍👊💥🕶    \n",
    "# Going to sleep in a couple of hours so I can be at the polls 1st thing in the am!! Hee hee...\\nI'm stoked my fellow sane Americans!!!! \\nThis is IT...!!!!\\nFuck the polls, I am feeling really good vibes 💙💙🌊\\n\\n       \n",
    "# is was a bomb ass day!! Spiritually, financially and mentally!! 🍾🎊🥂 manifestation is REAL!!!! 12-21💫 BY FAR THE BEST DAY OF 2018!! 2019 LEGGO💃🏽💃🏽📿        💫   "
   ]
  },
  {
   "cell_type": "code",
   "execution_count": 24,
   "id": "76b89206",
   "metadata": {
    "scrolled": true
   },
   "outputs": [
    {
     "data": {
      "text/plain": [
       "status_id          247\n",
       "text               247\n",
       "created_at         247\n",
       "favorite_count     247\n",
       "retweet_count      247\n",
       "location           177\n",
       "followers_count    247\n",
       "friends_count      247\n",
       "statuses_count     247\n",
       "category           247\n",
       "dtype: int64"
      ]
     },
     "execution_count": 24,
     "metadata": {},
     "output_type": "execute_result"
    }
   ],
   "source": [
    "rslt_df_5= tp_df.loc[(tp_df['text'].str.count('!!!!!') >= 1)]\n",
    "rslt_df_5.count()"
   ]
  },
  {
   "cell_type": "code",
   "execution_count": 25,
   "id": "58e51a4d",
   "metadata": {
    "scrolled": false
   },
   "outputs": [
    {
     "data": {
      "text/plain": [
       "200                                                                                                                                                      BELIEVE HER!!!!!!!!!!!!!!!!!!!!!!!!!!!!  !!!!!!!!!!!!!!!! BELIEVE BELIEVE BELIEVE!!!!!!!!  \\n\\nYou fucking hypocrite loser \n",
       "12662                                                                                    This should tell every Victim and Women...The “ Good Ole (White) Boys Club” needs to go!  Is Women you don’t have “time” for wile rule your old ass come November!  We will be heard!!!!!  \n",
       "13577                                                                                                                                                                     Watching  and some windbag is suggesting goes against  movement?! *shakes head* For FUCK'S SAKE!!!!! X x x\n",
       "18770                                                                                                                                                                                                                                                   Souless bitch!!!!!\\n        \n",
       "22800                                                                                                                                                  Um, this man should not be a judge period!!!!!!   Kavanaugh College Visit to Bar Erupted in Fight, Classmate Says - Bloomberg\n",
       "28025                                                                                                                                                                                                                I DEMAND THIS PIG OUT OF OFFICE!!!!!   Where ya at  I'll wait..\n",
       "32360                                                                                                                                                                                                                                                   where are you for her!!!!!!😡\n",
       "33768                                                                                                                      I hate all the women who look at my bulge in my sweatpants. I feel so eye molested. Just thinking about it makes me want to go shower. So disgusting!!!!!\n",
       "35337                                                                                                                                                                                      I don't know about anybody else but I'm getting sick of this shit!!!!!\\n\\n \\n \\n \\n \\n \\n\n",
       "35777              This is why we don't tell!!!!! It took me 20yrs to tell my mom what happened when I was 7yrs old, then when I told his parents and my gma, they didn't believe me my grandma blamed me said I seduced my cousin and her husband how does a 7yr old even do that. \n",
       "39897                                                                                                                                                                                         i'm!!!!! fucking!!!!! pissed!!!!! off!!!!!!!!! I HAVE SO MUCH FUCKING RAGE!!!!!!!!!!  \n",
       "40698                                                                                                                                                                                                                            THIS IS WHY NOONE SPEAKS UP YOU FUCKING PRICK!!!!! \n",
       "41343                                                                                                                                                                      STOP LETTING HIM DO COCAINE BEFORE RALLIES AND HE WON'T SAY SUCH STUPID SHIT!!!!! Jk... he still would.  \n",
       "47881                            Former TV News journalist Connie Chung comes forward as a victim of sexual assault! Like Prof. Blasey Ford, she too can’t remember certain details of the assault but she will never forgot who did it &amp; the scar it left on her life!!!!!     \n",
       "48206                                                                                                                                                                           Jesus fucking christ. Vote those fucking liver spotted assholes out!!!!!!!!!!!!!!!!!!!!!!!!😡😡😡😡😡😡😡😡 \n",
       "50037                                                   I AM GOING TO PRAY FOR THEM ALL!!!!!  BECAUSE THEY ARE IN A CULT....I PRAY THAT THESE WOMEN NEVER HAVE TO GO THROUGH THE DRAMA AND PAIN WITH THEIR DAUGHTER,MOTHER SISTER, NIECE OR SONS. THAT DR. FORD AND OTHERS  ENDURED.\n",
       "51885                                                                                                                    should stop talking and vote NO. Your words are hollow. Be a man and a patriot. Do your damn job. You’re putting party and a grifter over people!     !!!!!\n",
       "52030    I STAND WITH JUDGE KAVANAUGH. BUT HEAR ME OUT. \\n\\nJust because one woman falsely accuses, DOESN’T mean all women are lying!!!!  \\nBut me siding with Judge K over the facts, does NOT MEAN I’m against women’s movement. PERIOD!!!!!!! NO ONE can tell me MY own feelings!\n",
       "54181                                                                                                                                                                                                                                   I cried.  Thank you for ALL that you do!!!!!\n",
       "57211                                                                 WTF I’m APPALLED!!!!! Like this is the filth that’s supposed to be representing the US????? I’m ashamed for our country, I’m ashamed for all those people cheering at someone else’s misery, it’s a DAMN SHAME\n",
       "Name: text, dtype: object"
      ]
     },
     "execution_count": 25,
     "metadata": {},
     "output_type": "execute_result"
    }
   ],
   "source": [
    "rslt_df_5['text'].head(20)"
   ]
  },
  {
   "cell_type": "code",
   "execution_count": null,
   "id": "767284ab",
   "metadata": {},
   "outputs": [],
   "source": [
    "# pk ça ne prend pas en compte ... et ???\n",
    "rslt_df_10= tp_df.loc[(tp_df['text'].str.count('grrr') >= 1)]\n",
    "rslt_df_10.text"
   ]
  }
 ],
 "metadata": {
  "kernelspec": {
   "display_name": "Python 3 (ipykernel)",
   "language": "python",
   "name": "python3"
  },
  "language_info": {
   "codemirror_mode": {
    "name": "ipython",
    "version": 3
   },
   "file_extension": ".py",
   "mimetype": "text/x-python",
   "name": "python",
   "nbconvert_exporter": "python",
   "pygments_lexer": "ipython3",
   "version": "3.8.12"
  },
  "toc": {
   "base_numbering": 1,
   "nav_menu": {},
   "number_sections": true,
   "sideBar": true,
   "skip_h1_title": false,
   "title_cell": "Table of Contents",
   "title_sidebar": "Contents",
   "toc_cell": false,
   "toc_position": {},
   "toc_section_display": true,
   "toc_window_display": false
  }
 },
 "nbformat": 4,
 "nbformat_minor": 5
}
